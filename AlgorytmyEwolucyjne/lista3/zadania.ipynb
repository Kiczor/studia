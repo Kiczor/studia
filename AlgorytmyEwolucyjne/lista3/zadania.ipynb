{
 "cells": [
  {
   "cell_type": "markdown",
   "metadata": {},
   "source": [
    "Lista 3"
   ]
  },
  {
   "cell_type": "code",
   "execution_count": 367,
   "metadata": {},
   "outputs": [],
   "source": [
    "import numpy as np\n",
    "import matplotlib.pyplot as plt\n",
    "import time"
   ]
  },
  {
   "cell_type": "code",
   "execution_count": 368,
   "metadata": {},
   "outputs": [],
   "source": [
    "def random_individual(d, a, b):\n",
    "    return np.array( [np.random.uniform(a, b, d), np.abs(np.random.randn(d)) ] ) #xi, sigmai\n",
    "\n",
    "def random_population(d, n, begrange, endrange):\n",
    "    P = np.zeros( (n,2,d) )\n",
    "    for i in range(n):\n",
    "        P[i] = random_individual(d, begrange, endrange)\n",
    "    return P\n",
    "\n",
    "def population_evaluation(P, F):\n",
    "    res = np.zeros(P.shape[0])\n",
    "    for i in range(len(P)):\n",
    "        res[i] = F(P[i][0])\n",
    "    return res\n",
    "\n",
    "def parentselection(P, E, n):\n",
    "    return P[np.argsort(E)[:n]]\n",
    "\n",
    "def mutation(P, t, t0, d):\n",
    "    newP = np.zeros(P.shape)\n",
    "    for i in range(len(P)):\n",
    "        newP[i][1] = P[i][1] * np.exp( t * np.random.randn(d) + t0 * np.random.randn() )\n",
    "        newP[i][0] = P[i][0] + ( newP[i][1] * np.random.randn(d) )\n",
    "    return newP\n",
    "\n",
    "def mutation2(P, offspringcount, t, t0, d):\n",
    "    newP = np.zeros( (offspringcount,2,d) )\n",
    "    for i in range(offspringcount):\n",
    "        idx = np.random.choice( P.shape[0] )\n",
    "        newP[i][1] = P[idx][1] * np.exp( t * np.random.randn(d) + t0 * np.random.randn() )\n",
    "        newP[i][0] = P[idx][0] + ( newP[i][1] * np.random.randn(d) )\n",
    "    return newP\n",
    "\n",
    "def replacement(A, B, evalfunc, n):\n",
    "    C = np.concatenate((A, B), axis=0)\n",
    "    evalsortarg = np.argsort(population_evaluation(C, evalfunc))\n",
    "    return C[evalsortarg[:n]]\n",
    "\n",
    "def replacement2(A, evalfunc, n):\n",
    "    evalsortarg = np.argsort(population_evaluation(A, evalfunc))\n",
    "    return A[evalsortarg[:n]]\n",
    "\n",
    "def restrictdomain(P, beg, end):\n",
    "    newP = P.copy()\n",
    "    for i in range(P.shape[0]):\n",
    "        newP[i][0] = np.clip( P[i][0], beg, end )\n",
    "    return newP"
   ]
  },
  {
   "cell_type": "code",
   "execution_count": 369,
   "metadata": {},
   "outputs": [],
   "source": [
    "def griewank(v):\n",
    "    n = v.shape[0]\n",
    "    res = 1\n",
    "    res += 0.00025 * np.sum(v * v)\n",
    "    res -= np.prod( np.cos( v / np.sqrt( np.fromiter( (i + 1 for i in range(n)), dtype=np.float64 ) ) ) )\n",
    "    return res\n",
    "\n",
    "def rastrigin(v):\n",
    "    n = v.shape[0]\n",
    "    A = 10\n",
    "    res = A * n + np.sum( v * v ) - np.sum( A * np.cos( 2 * np.pi * v ) )\n",
    "    return res\n",
    "\n",
    "def schwefel(v):\n",
    "    n = v.shape[0]\n",
    "    res = 418.9820 * n - np.sum( v * np.sin( np.sqrt( np.abs( v ) ) ) )\n",
    "    return res\n",
    "\n",
    "def zakharov(v):\n",
    "    n = v.shape[0]\n",
    "    s = np.sum(0.5 * v * np.fromiter( (i + 1 for i in range(n)), dtype=np.float64 ))\n",
    "    return np.sum(v ** 2) + s ** 2 + s ** 4\n",
    "\n",
    "def trid(v):\n",
    "    n = v.shape[0]\n",
    "    res = np.sum( (v - 1) ** 2 )\n",
    "    for i in range(1, n):\n",
    "        res -= v[i] * v[i-1]\n",
    "    return res\n",
    "\n",
    "def sumsquares(v):\n",
    "    n = v.shape[0]\n",
    "    return np.sum( (v ** 2)*  np.fromiter( (i + 1 for i in range(n)), dtype=np.float64 ) )\n",
    "\n",
    "def sphere(v):\n",
    "    return np.sum( v ** 2 )\n"
   ]
  },
  {
   "cell_type": "code",
   "execution_count": 370,
   "metadata": {},
   "outputs": [],
   "source": [
    "def ES(d, evalfunc, parentcount, offspringcount, tau, tau0, begrange, endrange, iterations = 1000):\n",
    "    POP = random_population(d, parentcount, begrange, endrange)\n",
    "    iterationcounter = 0\n",
    "    bestreshist = np.zeros( (3, iterations) )\n",
    "    while iterationcounter < iterations:\n",
    "        E = population_evaluation(POP, evalfunc)\n",
    "        bestidx = E.argmin()\n",
    "        bestind = POP[bestidx]\n",
    "        bestres = E[bestidx]\n",
    "        bestreshist[0][iterationcounter] = bestres\n",
    "        bestreshist[1][iterationcounter] = E.mean()\n",
    "        bestreshist[2][iterationcounter] = E.max()\n",
    "        \n",
    "        OFF = parentselection(POP, E, offspringcount) #parents\n",
    "        OFF = mutation2(OFF, offspringcount, tau, tau0, d)\n",
    "        OFF = restrictdomain(OFF, begrange, endrange)\n",
    "        POP = replacement(POP, OFF, evalfunc, parentcount)\n",
    "\n",
    "        if iterationcounter % 100 == 0:\n",
    "            print(iterationcounter)\n",
    "            print(\"best result: \", bestres)\n",
    "        \n",
    "        iterationcounter += 1\n",
    "\n",
    "    return bestind, bestres, bestreshist\n",
    "\n",
    "def ES2(d, evalfunc, parentcount, offspringcount, tau, tau0, begrange, endrange, iterations = 1000):\n",
    "    POP = random_population(d, parentcount, begrange, endrange)\n",
    "    iterationcounter = 0\n",
    "    bestreshist = np.zeros( (3, iterations) )\n",
    "    while iterationcounter < iterations:\n",
    "        E = population_evaluation(POP, evalfunc)\n",
    "        bestidx = E.argmin()\n",
    "        bestind = POP[bestidx]\n",
    "        bestres = E[bestidx]\n",
    "        bestreshist[0][iterationcounter] = bestres\n",
    "        bestreshist[1][iterationcounter] = E.mean()\n",
    "        bestreshist[2][iterationcounter] = E.max()\n",
    "        \n",
    "        #OFF = parentselection(POP, E, offspringcount) #parents\n",
    "        OFF = mutation2(POP, offspringcount, tau, tau0, d)\n",
    "        OFF = restrictdomain(OFF, begrange, endrange)\n",
    "        POP = replacement2(OFF, evalfunc, parentcount)\n",
    "\n",
    "        if iterationcounter % 50 == 0:\n",
    "            print(iterationcounter)\n",
    "            #print(\"best individualL \", bestind)\n",
    "            print(\"best result: \", bestres)\n",
    "        \n",
    "        iterationcounter += 1\n",
    "\n",
    "    return bestind, bestres, bestreshist\n",
    "\n",
    "\n",
    "    "
   ]
  },
  {
   "cell_type": "code",
   "execution_count": 371,
   "metadata": {},
   "outputs": [],
   "source": [
    "def makeplots(plotdata):\n",
    "    plt.plot(plotdata[0], label='min')\n",
    "    plt.plot(plotdata[1], label='mean')\n",
    "    plt.plot(plotdata[2], label='max')\n",
    "    plt.yscale('log')\n",
    "    plt.legend()\n",
    "    plt.show()"
   ]
  },
  {
   "cell_type": "code",
   "execution_count": 372,
   "metadata": {},
   "outputs": [
    {
     "name": "stdout",
     "output_type": "stream",
     "text": [
      "0\n",
      "best result:  2255.7107936553593\n",
      "100\n",
      "best result:  1960.3419605135025\n",
      "200\n",
      "best result:  1333.8084303453634\n",
      "300\n",
      "best result:  713.8393987131873\n",
      "400\n",
      "best result:  452.1877351985615\n",
      "500\n",
      "best result:  294.50558585557235\n",
      "600\n",
      "best result:  209.63795412858116\n",
      "700\n",
      "best result:  167.45129393787394\n",
      "800\n",
      "best result:  139.46260780769987\n",
      "900\n",
      "best result:  120.44096962827136\n",
      "1000\n",
      "best result:  107.43410313108132\n",
      "1100\n",
      "best result:  99.0811792698339\n",
      "1200\n",
      "best result:  93.52522756416526\n",
      "1300\n",
      "best result:  89.13315358978281\n",
      "1400\n",
      "best result:  85.78612684861122\n"
     ]
    },
    {
     "data": {
      "image/png": "[encoded data removed]",
      "text/plain": [
       "<Figure size 432x288 with 1 Axes>"
      ]
     },
     "metadata": {
      "needs_background": "light"
     },
     "output_type": "display_data"
    },
    {
     "name": "stdout",
     "output_type": "stream",
     "text": [
      "best result: 82.11591766175191\n"
     ]
    }
   ],
   "source": [
    "dimgriewank = 100\n",
    "learngriewank = 0.1\n",
    "taugriewank = learngriewank / np.sqrt( 2 * dimgriewank )\n",
    "tau0griewank = learngriewank / np.sqrt( 2 * np.sqrt( dimgriewank ) )\n",
    "bestindgriewank, bestresgriewank, bestreshistgriewank = ES( dimgriewank, griewank, 1000, 2000, taugriewank, tau0griewank, -600, 600, iterations=1500 )\n",
    "\n",
    "makeplots( bestreshistgriewank )\n",
    "print(\"best result:\", bestresgriewank)\n"
   ]
  },
  {
   "cell_type": "code",
   "execution_count": 399,
   "metadata": {},
   "outputs": [
    {
     "name": "stdout",
     "output_type": "stream",
     "text": [
      "0\n",
      "best result:  87.97922403726699\n",
      "100\n",
      "best result:  18.42780770440314\n",
      "200\n",
      "best result:  0.48321857966753023\n",
      "300\n",
      "best result:  0.3510015625330404\n",
      "400\n",
      "best result:  0.2070352115090648\n",
      "500\n",
      "best result:  0.2070352115090648\n",
      "600\n",
      "best result:  0.2070352115090648\n",
      "700\n",
      "best result:  0.1307993113351691\n",
      "800\n",
      "best result:  0.03211727657988772\n",
      "900\n",
      "best result:  0.024926255718384693\n",
      "1000\n",
      "best result:  0.02460165768822775\n",
      "1100\n",
      "best result:  0.024591647152729212\n",
      "1200\n",
      "best result:  0.02459052433002984\n",
      "1300\n",
      "best result:  0.024590451621272602\n",
      "1400\n",
      "best result:  0.024590439244296824\n"
     ]
    },
    {
     "data": {
      "image/png": "[encoded data removed]",
      "text/plain": [
       "<Figure size 432x288 with 1 Axes>"
      ]
     },
     "metadata": {
      "needs_background": "light"
     },
     "output_type": "display_data"
    },
    {
     "name": "stdout",
     "output_type": "stream",
     "text": [
      "best result: 0.024590437602695192\n"
     ]
    }
   ],
   "source": [
    "dimgriewank = 10\n",
    "learngriewank = 0.1\n",
    "taugriewank = learngriewank / np.sqrt( 2 * dimgriewank )\n",
    "tau0griewank = learngriewank / np.sqrt( 2 * np.sqrt( dimgriewank ) )\n",
    "bestindgriewank, bestresgriewank, bestreshistgriewank = ES( dimgriewank, griewank, 1000, 2000, taugriewank, tau0griewank, -600, 600, iterations=1500 )\n",
    "\n",
    "makeplots( bestreshistgriewank )\n",
    "print(\"best result:\", bestresgriewank)"
   ]
  },
  {
   "cell_type": "code",
   "execution_count": 373,
   "metadata": {},
   "outputs": [
    {
     "name": "stdout",
     "output_type": "stream",
     "text": [
      "0\n",
      "best result:  86.82643701013981\n",
      "50\n",
      "best result:  24.449077567553545\n",
      "100\n",
      "best result:  11.50882615334416\n",
      "150\n",
      "best result:  11.12972760059398\n",
      "200\n",
      "best result:  11.078455750101213\n",
      "250\n",
      "best result:  11.037168186809424\n",
      "300\n",
      "best result:  10.98285697947459\n",
      "350\n",
      "best result:  10.945029915679939\n",
      "400\n",
      "best result:  10.94454149860151\n",
      "450\n",
      "best result:  10.94453960629005\n",
      "500\n",
      "best result:  10.944539553231749\n",
      "550\n",
      "best result:  10.944539552398993\n",
      "600\n",
      "best result:  10.94453955238815\n",
      "650\n",
      "best result:  10.944539552388036\n",
      "700\n",
      "best result:  10.944539552388022\n",
      "750\n",
      "best result:  10.944539552388022\n",
      "800\n",
      "best result:  10.944539552388022\n",
      "850\n",
      "best result:  10.944539552388022\n",
      "900\n",
      "best result:  10.944539552388022\n",
      "950\n",
      "best result:  10.944539552388022\n",
      "1000\n",
      "best result:  10.944539552388022\n",
      "1050\n",
      "best result:  10.944539552388022\n",
      "1100\n",
      "best result:  10.944539552388022\n",
      "1150\n",
      "best result:  10.944539552388022\n",
      "1200\n",
      "best result:  10.944539552388022\n",
      "1250\n",
      "best result:  10.944539552388022\n",
      "1300\n",
      "best result:  10.944539552388022\n",
      "1350\n",
      "best result:  10.944539552388022\n",
      "1400\n",
      "best result:  10.944539552388022\n",
      "1450\n",
      "best result:  10.944539552388022\n"
     ]
    },
    {
     "data": {
      "image/png": "[encoded data removed]",
      "text/plain": [
       "<Figure size 432x288 with 1 Axes>"
      ]
     },
     "metadata": {
      "needs_background": "light"
     },
     "output_type": "display_data"
    },
    {
     "name": "stdout",
     "output_type": "stream",
     "text": [
      "best result: 10.944539552388022\n"
     ]
    }
   ],
   "source": [
    "dimrastrigin = 10\n",
    "learnrastrigin = 0.2\n",
    "taurastrigin = learnrastrigin / np.sqrt( 2 * dimrastrigin )\n",
    "tau0rastrigin = learnrastrigin / np.sqrt( 2 * np.sqrt( dimrastrigin ) )\n",
    "bestindrastrigin, bestresrastrigin, bestreshistrastrigin = ES2( dimrastrigin, rastrigin, 1000, 2000, taurastrigin, tau0rastrigin, -5.12, 5.12, iterations=1500 )\n",
    "\n",
    "makeplots( bestreshistrastrigin )\n",
    "print(\"best result:\", bestresrastrigin)"
   ]
  },
  {
   "cell_type": "code",
   "execution_count": 374,
   "metadata": {},
   "outputs": [
    {
     "name": "stdout",
     "output_type": "stream",
     "text": [
      "0\n",
      "best result:  128.5577354683753\n",
      "100\n",
      "best result:  0.9493954684053166\n",
      "200\n",
      "best result:  0.29304319997710004\n",
      "300\n",
      "best result:  0.13727964159969552\n",
      "400\n",
      "best result:  0.06937621891207067\n",
      "500\n",
      "best result:  0.04528683760891635\n",
      "600\n",
      "best result:  0.015707559915764984\n",
      "700\n",
      "best result:  0.0027707540997553683\n",
      "800\n",
      "best result:  0.00028797156215142473\n",
      "900\n",
      "best result:  3.910167147057606e-05\n"
     ]
    },
    {
     "data": {
      "image/png": "[encoded data removed]",
      "text/plain": [
       "<Figure size 432x288 with 1 Axes>"
      ]
     },
     "metadata": {
      "needs_background": "light"
     },
     "output_type": "display_data"
    },
    {
     "name": "stdout",
     "output_type": "stream",
     "text": [
      "best result: 2.3520011321649617e-05\n"
     ]
    }
   ],
   "source": [
    "dimzakharov = 10\n",
    "learnzakharov = 0.1\n",
    "tauzakharov = learnzakharov / np.sqrt( 2 * dimzakharov )\n",
    "tau0zakharov = learnzakharov / np.sqrt( 2 * np.sqrt( dimzakharov ) )\n",
    "bestindzakharov, bestreszakharov, bestreshistzakharov = ES( dimzakharov, zakharov, 1000, 2000, tauzakharov, tau0zakharov, -5, 10, iterations=1000 )\n",
    "\n",
    "makeplots( bestreshistzakharov )\n",
    "print(\"best result:\", bestreszakharov)"
   ]
  },
  {
   "cell_type": "code",
   "execution_count": 375,
   "metadata": {},
   "outputs": [
    {
     "name": "stdout",
     "output_type": "stream",
     "text": [
      "0\n",
      "best result:  4650.411002944355\n",
      "50\n",
      "best result:  674.7823421078016\n",
      "100\n",
      "best result:  118.97736917724609\n",
      "150\n",
      "best result:  -106.62870634828553\n",
      "200\n",
      "best result:  -152.19650807265302\n",
      "250\n",
      "best result:  -171.3734091133635\n",
      "300\n",
      "best result:  -189.23969286593265\n",
      "350\n",
      "best result:  -202.00263761358678\n",
      "400\n",
      "best result:  -208.13561033043908\n",
      "450\n",
      "best result:  -209.57174871063347\n",
      "500\n",
      "best result:  -209.88756786474772\n",
      "550\n",
      "best result:  -209.96553708851212\n",
      "600\n",
      "best result:  -209.98421448408754\n",
      "650\n",
      "best result:  -209.99407857988507\n",
      "700\n",
      "best result:  -209.99832168645207\n",
      "750\n",
      "best result:  -209.9996038055867\n",
      "800\n",
      "best result:  -209.99997214191376\n",
      "850\n",
      "best result:  -209.99999458555405\n",
      "900\n",
      "best result:  -209.99999914778246\n",
      "950\n",
      "best result:  -209.99999988601198\n"
     ]
    },
    {
     "data": {
      "image/png": "[encoded data removed]",
      "text/plain": [
       "<Figure size 432x288 with 1 Axes>"
      ]
     },
     "metadata": {
      "needs_background": "light"
     },
     "output_type": "display_data"
    },
    {
     "name": "stdout",
     "output_type": "stream",
     "text": [
      "best result: -209.99999998758057\n"
     ]
    }
   ],
   "source": [
    "dimtrid = 10\n",
    "learntrid = 0.1\n",
    "tautrid = learntrid / np.sqrt( 2 * dimtrid )\n",
    "tau0trid = learntrid / np.sqrt( 2 * np.sqrt( dimtrid ) )\n",
    "bestindtrid, bestrestrid, bestreshisttrid = ES2( dimtrid, trid, 1000, 2000, tautrid, tau0trid, -(dimtrid ** 2), dimtrid ** 2, iterations=1000 )\n",
    "\n",
    "makeplots( bestreshisttrid )\n",
    "print(\"best result:\", bestrestrid)"
   ]
  },
  {
   "cell_type": "code",
   "execution_count": 376,
   "metadata": {},
   "outputs": [
    {
     "name": "stdout",
     "output_type": "stream",
     "text": [
      "0\n",
      "best result:  503.86812819064414\n",
      "100\n",
      "best result:  1.2005665494232853\n",
      "200\n",
      "best result:  0.6279114923675461\n",
      "300\n",
      "best result:  0.3739409876616606\n",
      "400\n",
      "best result:  0.18911914718680228\n",
      "500\n",
      "best result:  0.06333384332374095\n",
      "600\n",
      "best result:  0.004174595698316495\n",
      "700\n",
      "best result:  1.6868082093592722e-05\n",
      "800\n",
      "best result:  5.481196676587237e-07\n",
      "900\n",
      "best result:  1.4472605757054143e-07\n",
      "1000\n",
      "best result:  5.51363375603855e-09\n",
      "1100\n",
      "best result:  6.079446678263399e-10\n",
      "1200\n",
      "best result:  1.1160247560575646e-10\n",
      "1300\n",
      "best result:  1.3147284305860935e-11\n",
      "1400\n",
      "best result:  1.2000381754244072e-12\n"
     ]
    },
    {
     "data": {
      "image/png": "[encoded data removed]",
      "text/plain": [
       "<Figure size 432x288 with 1 Axes>"
      ]
     },
     "metadata": {
      "needs_background": "light"
     },
     "output_type": "display_data"
    },
    {
     "name": "stdout",
     "output_type": "stream",
     "text": [
      "best result: 7.525112984505915e-14\n"
     ]
    }
   ],
   "source": [
    "dimsumsquares = 10\n",
    "learnsumsquares = 0.1\n",
    "tausumsquares = learnsumsquares / np.sqrt( 2 * dimsumsquares )\n",
    "tau0sumsquares = learnsumsquares / np.sqrt( 2 * np.sqrt( dimsumsquares ) )\n",
    "bestindsumsquares, bestressumsquares, bestreshistsumsquares = ES( dimsumsquares, sumsquares, 1000, 2000, tausumsquares, tau0sumsquares, -10, 10, iterations=1500 )\n",
    "\n",
    "makeplots( bestreshistsumsquares )\n",
    "print(\"best result:\", bestressumsquares)"
   ]
  },
  {
   "cell_type": "code",
   "execution_count": 377,
   "metadata": {},
   "outputs": [
    {
     "name": "stdout",
     "output_type": "stream",
     "text": [
      "0\n",
      "best result:  25.44126890308412\n",
      "100\n",
      "best result:  0.03483523108195341\n",
      "200\n",
      "best result:  0.006718760140928234\n",
      "300\n",
      "best result:  0.00087712025266407\n",
      "400\n",
      "best result:  0.00023573854375816074\n",
      "500\n",
      "best result:  3.365047039177578e-05\n",
      "600\n",
      "best result:  3.1488783268385537e-06\n",
      "700\n",
      "best result:  2.7985248543247133e-07\n",
      "800\n",
      "best result:  1.4646268484278379e-08\n",
      "900\n",
      "best result:  1.4091891530002483e-09\n"
     ]
    },
    {
     "data": {
      "image/png": "[encoded data removed]",
      "text/plain": [
       "<Figure size 432x288 with 1 Axes>"
      ]
     },
     "metadata": {
      "needs_background": "light"
     },
     "output_type": "display_data"
    },
    {
     "name": "stdout",
     "output_type": "stream",
     "text": [
      "best result: 4.8453534310664645e-11\n"
     ]
    }
   ],
   "source": [
    "dimsphere = 10\n",
    "learnsphere = 0.1\n",
    "tausphere = learnsphere / np.sqrt( 2 * dimsphere )\n",
    "tau0sphere = learnsphere / np.sqrt( 2 * np.sqrt( dimsphere ) )\n",
    "bestindsphere, bestressphere, bestreshistsphere = ES( dimsphere, sphere, 1000, 2000, tausphere, tau0sphere, -5.12, 5.12, iterations=1000 )\n",
    "\n",
    "makeplots( bestreshistsphere )\n",
    "print(\"best result:\", bestressphere)"
   ]
  },
  {
   "cell_type": "code",
   "execution_count": 395,
   "metadata": {},
   "outputs": [],
   "source": [
    "INF = 1000000\n",
    "\n",
    "def ESconstrained(d, evalfunc, parentcount, offspringcount, tau, tau0, begrange, endrange, iterations = 1000):\n",
    "    POP = random_population(d, parentcount, begrange, endrange)\n",
    "    iterationcounter = 0\n",
    "    bestreshist = np.zeros( (3, iterations) )\n",
    "    while iterationcounter < iterations:\n",
    "        E = population_evaluation(POP, evalfunc)\n",
    "        bestidx = E.argmin()\n",
    "        bestind = POP[bestidx]\n",
    "        bestres = E[bestidx]\n",
    "        bestreshist[0][iterationcounter] = bestres\n",
    "        bestreshist[1][iterationcounter] = E.mean()\n",
    "        bestreshist[2][iterationcounter] = E.max()\n",
    "        \n",
    "        OFF = parentselection(POP, E, offspringcount) #parents\n",
    "        OFF = mutation2(OFF, offspringcount, tau, tau0, d)\n",
    "        OFF = restrictdomain(OFF, begrange, endrange)\n",
    "        POP = replacement(POP, OFF, evalfunc, parentcount)\n",
    "\n",
    "        if iterationcounter % 10 == 0:\n",
    "            print(iterationcounter)\n",
    "            print(\"best individual \", bestind)\n",
    "            print(\"best result: \", bestres)\n",
    "        \n",
    "        iterationcounter += 1\n",
    "\n",
    "    return bestind, bestres, bestreshist\n",
    "\n",
    "def ES2constrained(d, evalfunc, parentcount, offspringcount, tau, tau0, begrange, endrange, iterations = 1000):\n",
    "    POP = random_population(d, parentcount, begrange, endrange)\n",
    "    iterationcounter = 0\n",
    "    bestreshist = np.zeros( (3, iterations) )\n",
    "    while iterationcounter < iterations:\n",
    "        E = population_evaluation(POP, evalfunc)\n",
    "        bestidx = E.argmin()\n",
    "        bestind = POP[bestidx]\n",
    "        bestres = E[bestidx]\n",
    "        bestreshist[0][iterationcounter] = bestres\n",
    "        bestreshist[1][iterationcounter] = E.mean()\n",
    "        bestreshist[2][iterationcounter] = E.max()\n",
    "        \n",
    "        #OFF = parentselection(POP, E, offspringcount) #parents\n",
    "        OFF = mutation2(POP, offspringcount, tau, tau0, d)\n",
    "        OFF = restrictdomain(OFF, begrange, endrange)\n",
    "        POP = replacement2(OFF, evalfunc, parentcount)\n",
    "\n",
    "        if iterationcounter % 50 == 0:\n",
    "            print(iterationcounter)\n",
    "            print(\"best individualL \", bestind)\n",
    "            print(\"best result: \", bestres)\n",
    "        \n",
    "        iterationcounter += 1\n",
    "\n",
    "    return bestind, bestres, bestreshist"
   ]
  },
  {
   "cell_type": "code",
   "execution_count": 405,
   "metadata": {},
   "outputs": [],
   "source": [
    "def g10(v):\n",
    "    return v[0] + v[1] + v[2]\n",
    "\n",
    "def g10constraint1(v):\n",
    "    return (-1 + 0.0025*(v[3] + v[5])) <= 0\n",
    "def g10constraint2(v):\n",
    "    return (-1 + 0.0025*(-v[3] + v[4] + v[6])) <= 0\n",
    "def g10constraint3(v):\n",
    "    return (-1 + 0.01*(-v[4] + v[7])) <= 0\n",
    "def g10constraint4(v):\n",
    "    return (100 * v[0] - v[0] * v[5] + 833.33252 * v[3] - 83333.333) <= 0\n",
    "def g10constraint5(v):\n",
    "    return (v[1] * v[3] - v[1] * v[6] - 1250 * v[3] + 1250 * v[4]) <= 0\n",
    "def g10constraint6(v):\n",
    "    return (v[2] * v[4] - v[2] * v[7] - 2500 * v[4] + 1250000) <= 0\n",
    "\n",
    "def g1(v):\n",
    "    res = 5 * np.sum( v[0:3] ) - 5 * np.sum( v[0:3] ** 2 ) - np.sum( v[4:12] )\n",
    "    if( 2 * v[0] + 2 * v[1] + v[9] + v[10] - 10 > 0 ):\n",
    "        res = INF\n",
    "    if( 2 * v[0] + 2 * v[2] + v[9] + v[11] - 10 > 0 ):\n",
    "        res = INF\n",
    "    if( 2 * v[1] + 2 * v[2] + v[10] + v[12] - 10 > 0 ):\n",
    "        res = INF\n",
    "    if( -8 * v[0] + v[9] > 0 ):\n",
    "        res = INF\n",
    "    if( -8 * v[1] + v[10] > 0 ):\n",
    "        res = INF\n",
    "    if( -8 * v[2] + v[11] > 0 ):\n",
    "        res = INF\n",
    "    if( -2 * v[3] - v[4] + v[9] > 0):\n",
    "        res = INF\n",
    "    if( -2 * v[5] - v[6] + v[10] > 0):\n",
    "        res = INF\n",
    "    if( -2 * v[7] - v[8] + v[11] > 0):\n",
    "        res = INF\n",
    "    for i in range(1, 13):\n",
    "        if( v[i] < 0 ):\n",
    "            res = INF\n",
    "    for i in range(1, 9):\n",
    "        if( v[i] > 1 ):\n",
    "            res = INF\n",
    "    if( v[12] > 1 ):\n",
    "        res = INF\n",
    "    return res\n",
    "\n",
    "def g2(v):\n",
    "    n = v.shape[0]\n",
    "    g = np.sum( np.cos( v ) ** 4 ) - 2 * np.prod( np.cos( v ) ** 2 )\n",
    "    d = np.sum( (v ** 2) * np.fromiter( (i + 1 for i in range(n)), dtype=np.float64 ) )\n",
    "    res = np.abs( g / d )\n",
    "    if( - np.prod(v) + 0.75 > 0 ):\n",
    "        res = INF\n",
    "    if( np.sum(v) - 7.5 * n > 0 ):\n",
    "        res = INF\n",
    "    return INF\n",
    "\n",
    "def g6(v):\n",
    "    res = (v[0] - 10) ** 3 + (v[1] - 20) ** 3\n",
    "    if( (v[0] - 5) ** 2 + (v[1] - 5) ** 2 + 100 > 0 ):\n",
    "        res = INF\n",
    "    if( (v[0] - 5) ** 2 + (v[1] - 5) ** 2 - 82.81 > 0):\n",
    "        res = INF\n",
    "    return res\n",
    "\n",
    "def g12(v):\n",
    "    res = 1 - 0.01*( (v[0] - 5) ** 2 + (v[1] - 5) ** 2 + (v[2] - 5) ** 2 )\n",
    "    for i in range(1, 10):\n",
    "        for j in range(1, 10):\n",
    "            for k in range(1, 10):\n",
    "                if( (v[0] - i) ** 2 + (v[1] - j) ** 2 + (v[2] - k) ** 2 - 0.0625 > 0 ):\n",
    "                    res = INF\n",
    "    return res"
   ]
  },
  {
   "cell_type": "code",
   "execution_count": 401,
   "metadata": {},
   "outputs": [
    {
     "name": "stdout",
     "output_type": "stream",
     "text": [
      "0\n",
      "best individualL  [[9.94052149e+00 8.10590700e+01 2.88226582e+00 4.47738443e+01\n",
      "  2.78541048e+01 4.75529912e+01 8.30271526e+01 6.38642730e+01\n",
      "  1.84659316e+00 3.45682398e+01 2.32686142e+01 5.85348778e+01\n",
      "  8.03725319e+01]\n",
      " [4.50873861e-01 6.68469148e-01 1.13640413e+00 3.26380141e-01\n",
      "  5.57989988e-02 4.54088836e-02 1.23525301e+00 7.20594183e-01\n",
      "  3.43484157e-01 1.71082898e+00 2.54783796e-01 9.40259083e-02\n",
      "  5.76532532e-02]]\n",
      "best result:  1000000.0\n",
      "50\n",
      "best individualL  [[75.73252448 72.82845566 70.94314658 52.31969796 69.32109335 23.45641077\n",
      "   8.63860772 51.88226074 43.9777897  19.98599039  1.         88.45000836\n",
      "  65.5873137 ]\n",
      " [ 0.59484931  1.27197696  1.16251624  0.97166638  0.74880915  0.69173003\n",
      "   0.6412621   1.63510581  0.22506547  0.13717125  1.90201474  0.1809115\n",
      "   0.52781519]]\n",
      "best result:  1000000.0\n",
      "100\n",
      "best individualL  [[80.32331279  6.8315343  39.42310228 90.85367928 28.37400923 71.99454523\n",
      "  71.30609195  5.78001033 97.06894707  3.91661749  9.18758879 57.09041666\n",
      "  63.87114923]\n",
      " [ 0.2732874   0.43186608  1.78834002  0.39013517  2.36435374  0.51760441\n",
      "   0.86650964  2.65804722  0.51904762  0.67611369  1.80879544  0.15712481\n",
      "   1.2368992 ]]\n",
      "best result:  1000000.0\n",
      "150\n",
      "best individualL  [[1.23700969e+01 4.65495973e+01 4.43770252e+01 9.62929149e+01\n",
      "  5.91415101e+00 4.03829831e+01 1.41056250e+01 5.66348702e+01\n",
      "  5.91018791e+01 7.06289289e+01 4.40380707e+01 7.40718045e+01\n",
      "  1.53332588e+01]\n",
      " [4.81874058e-01 2.65049469e+00 1.24251411e+00 5.72761071e-02\n",
      "  5.37749450e-01 1.32905621e+00 1.15172232e+00 1.28035613e+00\n",
      "  2.23407491e-01 7.90004198e-03 8.51781842e-01 5.13349747e-01\n",
      "  3.16261245e+00]]\n",
      "best result:  1000000.0\n",
      "200\n",
      "best individualL  [[9.02605135e+01 4.57279668e+01 1.66474481e+01 8.21318250e+01\n",
      "  1.25080980e+01 7.69965113e+01 6.93061287e+01 2.82805615e+00\n",
      "  6.51946886e+01 2.92796496e+01 5.58137190e+01 3.29550159e+01\n",
      "  8.64239311e+00]\n",
      " [1.29232200e+00 1.19065351e+00 2.56435565e+00 5.19815462e-01\n",
      "  1.25666705e+00 1.63229660e+00 3.17412935e-01 2.25123254e+00\n",
      "  1.90031158e+00 1.14095701e+00 2.07137230e-01 2.37576657e-02\n",
      "  1.13544448e-01]]\n",
      "best result:  1000000.0\n",
      "250\n",
      "best individualL  [[50.44594897 82.01616136 56.83060389 67.114015   25.33547728 78.57304498\n",
      "  19.33069061 44.43088352 25.22642169 29.18008175 36.10677884  2.40727428\n",
      "  91.54781427]\n",
      " [ 0.2210072   0.93149036  0.37635915  0.76565986  3.19401614  0.83313003\n",
      "   1.01260871  0.6896917   1.10048835  0.77893339  0.63409589  0.48093292\n",
      "   0.72439483]]\n",
      "best result:  1000000.0\n",
      "300\n",
      "best individualL  [[1.57691398e+01 5.42302302e+01 3.61765504e+01 9.52665309e+01\n",
      "  1.27131012e+01 4.79482915e+01 2.48926613e+01 3.92182354e+01\n",
      "  5.81907350e+01 7.06450075e+01 4.53241972e+01 7.65614278e+01\n",
      "  2.19506460e+01]\n",
      " [3.12739035e-01 1.55930469e+00 1.32395667e+00 3.39434741e-02\n",
      "  3.58169453e-01 7.14442363e-01 1.28462850e+00 9.31101456e-01\n",
      "  1.70486732e-01 5.05646353e-03 6.83195274e-01 2.78344715e-01\n",
      "  1.80296759e+00]]\n",
      "best result:  1000000.0\n",
      "350\n",
      "best individualL  [[6.51275684e+00 7.00267411e+01 4.26872069e+01 4.81463956e+01\n",
      "  1.29451079e+00 8.85371010e+01 8.61784879e+01 4.90876954e+01\n",
      "  8.86911588e+01 1.09419332e+01 7.78845517e+01 5.74734955e+01\n",
      "  7.12100908e+01]\n",
      " [6.31420620e-02 3.91109334e-01 7.11076435e-01 2.67678666e+00\n",
      "  2.78958215e-01 2.38658605e+00 7.59624712e-01 1.22249066e+00\n",
      "  3.66108911e+00 3.45579225e-01 1.65252429e+00 1.93436352e+00\n",
      "  2.29011675e+00]]\n",
      "best result:  1000000.0\n",
      "400\n",
      "best individualL  [[2.29904546e+00 2.68133973e+01 6.01313341e+01 5.73998166e+01\n",
      "  9.80116630e+01 9.61465032e+01 3.89551652e+01 8.30870026e+01\n",
      "  7.03169528e+01 8.47409641e+01 2.52637742e+01 6.73403231e+01\n",
      "  4.45769375e+01]\n",
      " [1.50983866e-02 2.55846140e-01 1.14385289e+00 7.10115094e-01\n",
      "  9.14797215e-01 4.37506511e-01 7.13567550e-01 7.29724055e-02\n",
      "  3.67775776e-01 2.35859046e-01 1.77306598e+00 8.69014923e-02\n",
      "  2.35164126e-02]]\n",
      "best result:  1000000.0\n",
      "450\n",
      "best individualL  [[8.56684054e+01 3.59814313e+00 4.61430335e+01 2.54796155e+01\n",
      "  7.28635410e+01 1.12114718e+01 6.12292700e+01 5.49029842e+01\n",
      "  8.06228260e+00 9.36314271e+01 7.72070232e+01 7.03559260e+01\n",
      "  9.33975271e+01]\n",
      " [3.20144037e-01 4.87278348e-01 9.20229198e-01 3.01906661e+00\n",
      "  3.34846884e-01 7.61266804e-01 6.35041635e+00 3.58533234e-01\n",
      "  8.69240390e-02 3.76215121e-01 2.85420699e+00 3.75854427e-01\n",
      "  2.33734486e-03]]\n",
      "best result:  1000000.0\n"
     ]
    },
    {
     "data": {
      "image/png": "[encoded data removed]",
      "text/plain": [
       "<Figure size 432x288 with 1 Axes>"
      ]
     },
     "metadata": {
      "needs_background": "light"
     },
     "output_type": "display_data"
    }
   ],
   "source": [
    "dimg1 = 13\n",
    "learng1 = 0.1\n",
    "taug1 = learng1 / np.sqrt( 2 * dimg1 )\n",
    "tau0g1 = learng1 / np.sqrt( 2 * np.sqrt( dimg1 ) )\n",
    "bestindg1, bestresg1, bestreshistg1 = ES2constrained( dimg1, g1, 3000, 3000, taug1, tau0g1, 1, 100, iterations=500 )\n",
    "\n",
    "makeplots( bestreshistg1 )"
   ]
  },
  {
   "cell_type": "code",
   "execution_count": 402,
   "metadata": {},
   "outputs": [
    {
     "name": "stdout",
     "output_type": "stream",
     "text": [
      "0\n",
      "best individualL  [[2.50050006e+00 6.98407387e+00 4.63683535e+00 4.03073594e-02\n",
      "  2.12093848e+00 3.91830278e+00 5.10300091e+00 9.59047624e+00\n",
      "  4.27809195e+00 9.91618919e-01]\n",
      " [6.79501152e-01 6.62739672e-03 2.53754200e-01 2.46867070e+00\n",
      "  9.62821452e-01 4.65420753e-02 9.34475026e-01 5.95627433e-01\n",
      "  1.14672938e+00 4.92792261e-02]]\n",
      "best result:  1000000.0\n",
      "50\n",
      "best individualL  [[ 7.70458588  5.05452424 10.          7.23908699  8.33165747  9.7049236\n",
      "   1.9746567   8.7258254   7.23341564  0.86307279]\n",
      " [ 1.28660202  0.43092876  3.40581805  1.01499559  0.24329354  2.04504672\n",
      "   0.6644788   0.17087035  0.82684559  0.16080575]]\n",
      "best result:  1000000.0\n",
      "100\n",
      "best individualL  [[4.62226578 5.1532892  5.81950584 7.41008002 1.49089663 1.31054957\n",
      "  4.97644865 2.4307024  6.94777414 8.92330709]\n",
      " [0.44654983 0.7607969  0.49416159 0.80481759 1.7076131  2.61441983\n",
      "  0.78244827 0.01012755 1.25142545 0.45774948]]\n",
      "best result:  1000000.0\n",
      "150\n",
      "best individualL  [[3.31263664 4.17154975 2.01002197 7.39018883 6.58056368 5.74622745\n",
      "  3.76464832 2.86347225 9.64730762 3.8886493 ]\n",
      " [0.2765319  0.79940857 0.36543004 0.9658145  0.14910445 0.96350088\n",
      "  0.76157225 0.67794075 0.86845832 0.10774124]]\n",
      "best result:  1000000.0\n",
      "200\n",
      "best individualL  [[ 9.78011126  8.65551033  7.20869637  1.6101021   4.06261056  6.66027912\n",
      "   7.95255616  1.76712867  6.71117206 10.        ]\n",
      " [ 1.06276561  0.68818602  0.79252766  0.11333552  0.08250629  0.74996675\n",
      "   0.29510227  0.57853365  0.74003522  0.59695193]]\n",
      "best result:  1000000.0\n",
      "250\n",
      "best individualL  [[6.02472552 0.67500639 0.81770619 4.78064065 3.18520971 4.94529288\n",
      "  2.82656465 8.4277085  9.03434377 9.0684835 ]\n",
      " [1.04615208 1.44502737 1.22395435 0.3330464  0.35726482 0.11763771\n",
      "  0.51550697 2.13038319 1.01471547 0.35661049]]\n",
      "best result:  1000000.0\n",
      "300\n",
      "best individualL  [[ 6.02991737 10.          6.52790706  7.07533702  6.12384036  1.07379767\n",
      "   6.51700834  3.39621458  6.34519312  0.        ]\n",
      " [ 1.88088298  1.29674936  1.24215055  1.03035761  0.37199589  2.20827363\n",
      "   1.10317084  0.20284144  0.53808191  1.00726829]]\n",
      "best result:  1000000.0\n",
      "350\n",
      "best individualL  [[ 8.25926181  6.12126899  0.85079277  0.          0.          6.54244051\n",
      "  10.          3.00261407  2.94680697  4.08708552]\n",
      " [ 2.02493183  0.24119954  2.96942345  8.45963559  4.86667745 12.0251346\n",
      "   6.46662723  3.71791148  3.04484342  0.26836136]]\n",
      "best result:  1000000.0\n",
      "400\n",
      "best individualL  [[2.62329116 7.03618697 2.43387272 0.         7.90132669 8.91013255\n",
      "  2.1959906  7.71111871 0.         1.7822046 ]\n",
      " [1.31640224 0.90732428 1.34968642 0.73689186 0.28258256 1.42299307\n",
      "  0.6742516  0.1507593  0.52224808 1.150073  ]]\n",
      "best result:  1000000.0\n",
      "450\n",
      "best individualL  [[4.51898833 9.33883898 0.46685587 0.89616697 0.86869084 0.2618386\n",
      "  6.18610621 6.48551551 6.87216388 3.90415853]\n",
      " [0.05512323 0.02784587 0.35796907 0.14837054 0.73802801 0.35294242\n",
      "  0.21069178 0.11375552 0.49606701 0.06805015]]\n",
      "best result:  1000000.0\n"
     ]
    },
    {
     "data": {
      "image/png": "[encoded data removed]",
      "text/plain": [
       "<Figure size 432x288 with 1 Axes>"
      ]
     },
     "metadata": {
      "needs_background": "light"
     },
     "output_type": "display_data"
    }
   ],
   "source": [
    "dimg2 = 10\n",
    "learng2 = 0.1\n",
    "taug2 = learng2 / np.sqrt( 2 * dimg2 )\n",
    "tau0g2 = learng2 / np.sqrt( 2 * np.sqrt( dimg2 ) )\n",
    "bestindg2, bestresg2, bestreshistg2 = ES2constrained( dimg2, g2, 3000, 3000, taug2, tau0g2, 0, 10, iterations=500 )\n",
    "\n",
    "makeplots( bestreshistg2 )"
   ]
  },
  {
   "cell_type": "code",
   "execution_count": 403,
   "metadata": {},
   "outputs": [
    {
     "name": "stdout",
     "output_type": "stream",
     "text": [
      "0\n",
      "best individualL  [[31.10310189 72.27639477]\n",
      " [ 1.18728667  0.36914144]]\n",
      "best result:  1000000.0\n",
      "50\n",
      "best individualL  [[55.58033233  3.55393837]\n",
      " [ 1.9940595   0.97141709]]\n",
      "best result:  1000000.0\n",
      "100\n",
      "best individualL  [[ 5.30954154 33.93996436]\n",
      " [ 0.21905129  0.17551734]]\n",
      "best result:  1000000.0\n",
      "150\n",
      "best individualL  [[33.04926499 22.20478175]\n",
      " [ 1.40228066  5.5948143 ]]\n",
      "best result:  1000000.0\n",
      "200\n",
      "best individualL  [[27.35413676 61.9100649 ]\n",
      " [ 0.51391212  1.06362631]]\n",
      "best result:  1000000.0\n",
      "250\n",
      "best individualL  [[43.83886174 29.68386168]\n",
      " [ 1.00525011  0.51231975]]\n",
      "best result:  1000000.0\n",
      "300\n",
      "best individualL  [[31.48780659 53.05621231]\n",
      " [ 1.14361021  1.68235544]]\n",
      "best result:  1000000.0\n",
      "350\n",
      "best individualL  [[ 8.57924015 65.83511409]\n",
      " [ 2.68554286  2.59046471]]\n",
      "best result:  1000000.0\n",
      "400\n",
      "best individualL  [[ 7.02442601 53.62399293]\n",
      " [ 0.51526304  0.14299725]]\n",
      "best result:  1000000.0\n",
      "450\n",
      "best individualL  [[7.80397575e+01 4.83353579e+01]\n",
      " [2.51734889e-02 1.11379699e+00]]\n",
      "best result:  1000000.0\n",
      "500\n",
      "best individualL  [[7.83712167e+01 1.99172404e+01]\n",
      " [7.33073837e-02 5.90512780e+00]]\n",
      "best result:  1000000.0\n",
      "550\n",
      "best individualL  [[30.36369978 44.67530901]\n",
      " [ 0.28394177  0.75694038]]\n",
      "best result:  1000000.0\n"
     ]
    },
    {
     "data": {
      "image/png": "[encoded data removed]",
      "text/plain": [
       "<Figure size 432x288 with 1 Axes>"
      ]
     },
     "metadata": {
      "needs_background": "light"
     },
     "output_type": "display_data"
    }
   ],
   "source": [
    "dimg6 = 2\n",
    "learng6 = 0.1\n",
    "taug6 = learng6 / np.sqrt( 2 * dimg6 )\n",
    "tau0g6 = learng6 / np.sqrt( 2 * np.sqrt( dimg6 ) )\n",
    "bestindg6, bestresg6, bestreshistg6 = ES2constrained( dimg6, g6, 2000, 3000, taug6, tau0g6, 0, 100, iterations=600 )\n",
    "\n",
    "makeplots( bestreshistg6 )"
   ]
  },
  {
   "cell_type": "code",
   "execution_count": 407,
   "metadata": {},
   "outputs": [
    {
     "name": "stdout",
     "output_type": "stream",
     "text": [
      "0\n",
      "best individualL  [[5.1027448  4.38945374 8.45541547]\n",
      " [0.69509782 0.36235768 0.49209974]]\n",
      "best result:  1000000.0\n"
     ]
    },
    {
     "ename": "KeyboardInterrupt",
     "evalue": "",
     "output_type": "error",
     "traceback": [
      "\u001b[0;31m---------------------------------------------------------------------------\u001b[0m",
      "\u001b[0;31mKeyboardInterrupt\u001b[0m                         Traceback (most recent call last)",
      "\u001b[0;32m<ipython-input-407-19594bc8e753>\u001b[0m in \u001b[0;36m<module>\u001b[0;34m\u001b[0m\n\u001b[1;32m      3\u001b[0m \u001b[0mtaug12\u001b[0m \u001b[0;34m=\u001b[0m \u001b[0mlearng12\u001b[0m \u001b[0;34m/\u001b[0m \u001b[0mnp\u001b[0m\u001b[0;34m.\u001b[0m\u001b[0msqrt\u001b[0m\u001b[0;34m(\u001b[0m \u001b[0;36m2\u001b[0m \u001b[0;34m*\u001b[0m \u001b[0mdimg12\u001b[0m \u001b[0;34m)\u001b[0m\u001b[0;34m\u001b[0m\u001b[0;34m\u001b[0m\u001b[0m\n\u001b[1;32m      4\u001b[0m \u001b[0mtau0g12\u001b[0m \u001b[0;34m=\u001b[0m \u001b[0mlearng12\u001b[0m \u001b[0;34m/\u001b[0m \u001b[0mnp\u001b[0m\u001b[0;34m.\u001b[0m\u001b[0msqrt\u001b[0m\u001b[0;34m(\u001b[0m \u001b[0;36m2\u001b[0m \u001b[0;34m*\u001b[0m \u001b[0mnp\u001b[0m\u001b[0;34m.\u001b[0m\u001b[0msqrt\u001b[0m\u001b[0;34m(\u001b[0m \u001b[0mdimg12\u001b[0m \u001b[0;34m)\u001b[0m \u001b[0;34m)\u001b[0m\u001b[0;34m\u001b[0m\u001b[0;34m\u001b[0m\u001b[0m\n\u001b[0;32m----> 5\u001b[0;31m \u001b[0mbestindg12\u001b[0m\u001b[0;34m,\u001b[0m \u001b[0mbestresg12\u001b[0m\u001b[0;34m,\u001b[0m \u001b[0mbestreshistg12\u001b[0m \u001b[0;34m=\u001b[0m \u001b[0mES2constrained\u001b[0m\u001b[0;34m(\u001b[0m \u001b[0mdimg12\u001b[0m\u001b[0;34m,\u001b[0m \u001b[0mg12\u001b[0m\u001b[0;34m,\u001b[0m \u001b[0;36m3000\u001b[0m\u001b[0;34m,\u001b[0m \u001b[0;36m3000\u001b[0m\u001b[0;34m,\u001b[0m \u001b[0mtaug12\u001b[0m\u001b[0;34m,\u001b[0m \u001b[0mtau0g12\u001b[0m\u001b[0;34m,\u001b[0m \u001b[0;36m0\u001b[0m\u001b[0;34m,\u001b[0m \u001b[0;36m10\u001b[0m\u001b[0;34m,\u001b[0m \u001b[0miterations\u001b[0m\u001b[0;34m=\u001b[0m\u001b[0;36m100\u001b[0m \u001b[0;34m)\u001b[0m\u001b[0;34m\u001b[0m\u001b[0;34m\u001b[0m\u001b[0m\n\u001b[0m\u001b[1;32m      6\u001b[0m \u001b[0;34m\u001b[0m\u001b[0m\n\u001b[1;32m      7\u001b[0m \u001b[0mmakeplots\u001b[0m\u001b[0;34m(\u001b[0m \u001b[0mbestreshistg12\u001b[0m \u001b[0;34m)\u001b[0m\u001b[0;34m\u001b[0m\u001b[0;34m\u001b[0m\u001b[0m\n",
      "\u001b[0;32m<ipython-input-395-89e63b0b99d8>\u001b[0m in \u001b[0;36mES2constrained\u001b[0;34m(d, evalfunc, parentcount, offspringcount, tau, tau0, begrange, endrange, iterations)\u001b[0m\n\u001b[1;32m     44\u001b[0m         \u001b[0mOFF\u001b[0m \u001b[0;34m=\u001b[0m \u001b[0mmutation2\u001b[0m\u001b[0;34m(\u001b[0m\u001b[0mPOP\u001b[0m\u001b[0;34m,\u001b[0m \u001b[0moffspringcount\u001b[0m\u001b[0;34m,\u001b[0m \u001b[0mtau\u001b[0m\u001b[0;34m,\u001b[0m \u001b[0mtau0\u001b[0m\u001b[0;34m,\u001b[0m \u001b[0md\u001b[0m\u001b[0;34m)\u001b[0m\u001b[0;34m\u001b[0m\u001b[0;34m\u001b[0m\u001b[0m\n\u001b[1;32m     45\u001b[0m         \u001b[0mOFF\u001b[0m \u001b[0;34m=\u001b[0m \u001b[0mrestrictdomain\u001b[0m\u001b[0;34m(\u001b[0m\u001b[0mOFF\u001b[0m\u001b[0;34m,\u001b[0m \u001b[0mbegrange\u001b[0m\u001b[0;34m,\u001b[0m \u001b[0mendrange\u001b[0m\u001b[0;34m)\u001b[0m\u001b[0;34m\u001b[0m\u001b[0;34m\u001b[0m\u001b[0m\n\u001b[0;32m---> 46\u001b[0;31m         \u001b[0mPOP\u001b[0m \u001b[0;34m=\u001b[0m \u001b[0mreplacement2\u001b[0m\u001b[0;34m(\u001b[0m\u001b[0mOFF\u001b[0m\u001b[0;34m,\u001b[0m \u001b[0mevalfunc\u001b[0m\u001b[0;34m,\u001b[0m \u001b[0mparentcount\u001b[0m\u001b[0;34m)\u001b[0m\u001b[0;34m\u001b[0m\u001b[0;34m\u001b[0m\u001b[0m\n\u001b[0m\u001b[1;32m     47\u001b[0m \u001b[0;34m\u001b[0m\u001b[0m\n\u001b[1;32m     48\u001b[0m         \u001b[0;32mif\u001b[0m \u001b[0miterationcounter\u001b[0m \u001b[0;34m%\u001b[0m \u001b[0;36m50\u001b[0m \u001b[0;34m==\u001b[0m \u001b[0;36m0\u001b[0m\u001b[0;34m:\u001b[0m\u001b[0;34m\u001b[0m\u001b[0;34m\u001b[0m\u001b[0m\n",
      "\u001b[0;32m<ipython-input-368-90b7cbaf2646>\u001b[0m in \u001b[0;36mreplacement2\u001b[0;34m(A, evalfunc, n)\u001b[0m\n\u001b[1;32m     38\u001b[0m \u001b[0;34m\u001b[0m\u001b[0m\n\u001b[1;32m     39\u001b[0m \u001b[0;32mdef\u001b[0m \u001b[0mreplacement2\u001b[0m\u001b[0;34m(\u001b[0m\u001b[0mA\u001b[0m\u001b[0;34m,\u001b[0m \u001b[0mevalfunc\u001b[0m\u001b[0;34m,\u001b[0m \u001b[0mn\u001b[0m\u001b[0;34m)\u001b[0m\u001b[0;34m:\u001b[0m\u001b[0;34m\u001b[0m\u001b[0;34m\u001b[0m\u001b[0m\n\u001b[0;32m---> 40\u001b[0;31m     \u001b[0mevalsortarg\u001b[0m \u001b[0;34m=\u001b[0m \u001b[0mnp\u001b[0m\u001b[0;34m.\u001b[0m\u001b[0margsort\u001b[0m\u001b[0;34m(\u001b[0m\u001b[0mpopulation_evaluation\u001b[0m\u001b[0;34m(\u001b[0m\u001b[0mA\u001b[0m\u001b[0;34m,\u001b[0m \u001b[0mevalfunc\u001b[0m\u001b[0;34m)\u001b[0m\u001b[0;34m)\u001b[0m\u001b[0;34m\u001b[0m\u001b[0;34m\u001b[0m\u001b[0m\n\u001b[0m\u001b[1;32m     41\u001b[0m     \u001b[0;32mreturn\u001b[0m \u001b[0mA\u001b[0m\u001b[0;34m[\u001b[0m\u001b[0mevalsortarg\u001b[0m\u001b[0;34m[\u001b[0m\u001b[0;34m:\u001b[0m\u001b[0mn\u001b[0m\u001b[0;34m]\u001b[0m\u001b[0;34m]\u001b[0m\u001b[0;34m\u001b[0m\u001b[0;34m\u001b[0m\u001b[0m\n\u001b[1;32m     42\u001b[0m \u001b[0;34m\u001b[0m\u001b[0m\n",
      "\u001b[0;32m<ipython-input-368-90b7cbaf2646>\u001b[0m in \u001b[0;36mpopulation_evaluation\u001b[0;34m(P, F)\u001b[0m\n\u001b[1;32m     11\u001b[0m     \u001b[0mres\u001b[0m \u001b[0;34m=\u001b[0m \u001b[0mnp\u001b[0m\u001b[0;34m.\u001b[0m\u001b[0mzeros\u001b[0m\u001b[0;34m(\u001b[0m\u001b[0mP\u001b[0m\u001b[0;34m.\u001b[0m\u001b[0mshape\u001b[0m\u001b[0;34m[\u001b[0m\u001b[0;36m0\u001b[0m\u001b[0;34m]\u001b[0m\u001b[0;34m)\u001b[0m\u001b[0;34m\u001b[0m\u001b[0;34m\u001b[0m\u001b[0m\n\u001b[1;32m     12\u001b[0m     \u001b[0;32mfor\u001b[0m \u001b[0mi\u001b[0m \u001b[0;32min\u001b[0m \u001b[0mrange\u001b[0m\u001b[0;34m(\u001b[0m\u001b[0mlen\u001b[0m\u001b[0;34m(\u001b[0m\u001b[0mP\u001b[0m\u001b[0;34m)\u001b[0m\u001b[0;34m)\u001b[0m\u001b[0;34m:\u001b[0m\u001b[0;34m\u001b[0m\u001b[0;34m\u001b[0m\u001b[0m\n\u001b[0;32m---> 13\u001b[0;31m         \u001b[0mres\u001b[0m\u001b[0;34m[\u001b[0m\u001b[0mi\u001b[0m\u001b[0;34m]\u001b[0m \u001b[0;34m=\u001b[0m \u001b[0mF\u001b[0m\u001b[0;34m(\u001b[0m\u001b[0mP\u001b[0m\u001b[0;34m[\u001b[0m\u001b[0mi\u001b[0m\u001b[0;34m]\u001b[0m\u001b[0;34m[\u001b[0m\u001b[0;36m0\u001b[0m\u001b[0;34m]\u001b[0m\u001b[0;34m)\u001b[0m\u001b[0;34m\u001b[0m\u001b[0;34m\u001b[0m\u001b[0m\n\u001b[0m\u001b[1;32m     14\u001b[0m     \u001b[0;32mreturn\u001b[0m \u001b[0mres\u001b[0m\u001b[0;34m\u001b[0m\u001b[0;34m\u001b[0m\u001b[0m\n\u001b[1;32m     15\u001b[0m \u001b[0;34m\u001b[0m\u001b[0m\n",
      "\u001b[0;32m<ipython-input-405-c10c98032d62>\u001b[0m in \u001b[0;36mg12\u001b[0;34m(v)\u001b[0m\n\u001b[1;32m     68\u001b[0m     \u001b[0;32mfor\u001b[0m \u001b[0mi\u001b[0m \u001b[0;32min\u001b[0m \u001b[0mrange\u001b[0m\u001b[0;34m(\u001b[0m\u001b[0;36m1\u001b[0m\u001b[0;34m,\u001b[0m \u001b[0;36m10\u001b[0m\u001b[0;34m)\u001b[0m\u001b[0;34m:\u001b[0m\u001b[0;34m\u001b[0m\u001b[0;34m\u001b[0m\u001b[0m\n\u001b[1;32m     69\u001b[0m         \u001b[0;32mfor\u001b[0m \u001b[0mj\u001b[0m \u001b[0;32min\u001b[0m \u001b[0mrange\u001b[0m\u001b[0;34m(\u001b[0m\u001b[0;36m1\u001b[0m\u001b[0;34m,\u001b[0m \u001b[0;36m10\u001b[0m\u001b[0;34m)\u001b[0m\u001b[0;34m:\u001b[0m\u001b[0;34m\u001b[0m\u001b[0;34m\u001b[0m\u001b[0m\n\u001b[0;32m---> 70\u001b[0;31m             \u001b[0;32mfor\u001b[0m \u001b[0mk\u001b[0m \u001b[0;32min\u001b[0m \u001b[0mrange\u001b[0m\u001b[0;34m(\u001b[0m\u001b[0;36m1\u001b[0m\u001b[0;34m,\u001b[0m \u001b[0;36m10\u001b[0m\u001b[0;34m)\u001b[0m\u001b[0;34m:\u001b[0m\u001b[0;34m\u001b[0m\u001b[0;34m\u001b[0m\u001b[0m\n\u001b[0m\u001b[1;32m     71\u001b[0m                 \u001b[0;32mif\u001b[0m\u001b[0;34m(\u001b[0m \u001b[0;34m(\u001b[0m\u001b[0mv\u001b[0m\u001b[0;34m[\u001b[0m\u001b[0;36m0\u001b[0m\u001b[0;34m]\u001b[0m \u001b[0;34m-\u001b[0m \u001b[0mi\u001b[0m\u001b[0;34m)\u001b[0m \u001b[0;34m**\u001b[0m \u001b[0;36m2\u001b[0m \u001b[0;34m+\u001b[0m \u001b[0;34m(\u001b[0m\u001b[0mv\u001b[0m\u001b[0;34m[\u001b[0m\u001b[0;36m1\u001b[0m\u001b[0;34m]\u001b[0m \u001b[0;34m-\u001b[0m \u001b[0mj\u001b[0m\u001b[0;34m)\u001b[0m \u001b[0;34m**\u001b[0m \u001b[0;36m2\u001b[0m \u001b[0;34m+\u001b[0m \u001b[0;34m(\u001b[0m\u001b[0mv\u001b[0m\u001b[0;34m[\u001b[0m\u001b[0;36m2\u001b[0m\u001b[0;34m]\u001b[0m \u001b[0;34m-\u001b[0m \u001b[0mk\u001b[0m\u001b[0;34m)\u001b[0m \u001b[0;34m**\u001b[0m \u001b[0;36m2\u001b[0m \u001b[0;34m-\u001b[0m \u001b[0;36m0.0625\u001b[0m \u001b[0;34m>\u001b[0m \u001b[0;36m0\u001b[0m \u001b[0;34m)\u001b[0m\u001b[0;34m:\u001b[0m\u001b[0;34m\u001b[0m\u001b[0;34m\u001b[0m\u001b[0m\n\u001b[1;32m     72\u001b[0m                     \u001b[0mres\u001b[0m \u001b[0;34m=\u001b[0m \u001b[0mINF\u001b[0m\u001b[0;34m\u001b[0m\u001b[0;34m\u001b[0m\u001b[0m\n",
      "\u001b[0;31mKeyboardInterrupt\u001b[0m: "
     ]
    }
   ],
   "source": [
    "dimg12 = 3\n",
    "learng12 = 0.1\n",
    "taug12 = learng12 / np.sqrt( 2 * dimg12 )\n",
    "tau0g12 = learng12 / np.sqrt( 2 * np.sqrt( dimg12 ) )\n",
    "bestindg12, bestresg12, bestreshistg12 = ES2constrained( dimg12, g12, 3000, 3000, taug12, tau0g12, 0, 10, iterations=100 )\n",
    "\n",
    "makeplots( bestreshistg12 )"
   ]
  },
  {
   "cell_type": "code",
   "execution_count": null,
   "metadata": {},
   "outputs": [],
   "source": []
  }
 ],
 "metadata": {
  "kernelspec": {
   "display_name": "Python 3.7.3 64-bit",
   "language": "python",
   "name": "python3"
  },
  "language_info": {
   "codemirror_mode": {
    "name": "ipython",
    "version": 3
   },
   "file_extension": ".py",
   "mimetype": "text/x-python",
   "name": "python",
   "nbconvert_exporter": "python",
   "pygments_lexer": "ipython3",
   "version": "3.7.3"
  },
  "orig_nbformat": 4,
  "vscode": {
   "interpreter": {
    "hash": "916dbcbb3f70747c44a77c7bcd40155683ae19c65e1c03b4aa3499c5328201f1"
   }
  }
 },
 "nbformat": 4,
 "nbformat_minor": 2
}
