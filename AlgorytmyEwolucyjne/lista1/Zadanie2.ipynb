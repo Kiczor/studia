{
 "cells": [
  {
   "cell_type": "code",
   "execution_count": 30,
   "metadata": {},
   "outputs": [],
   "source": [
    "import numpy as np\n",
    "import matplotlib.pyplot as plt\n",
    "import time\n",
    "\n",
    "def initial_probability_vector(d):\n",
    "    return np.ones(d) * 0.5\n",
    "\n",
    "def binary_random(p):\n",
    "    if np.random.random() < p:\n",
    "        return 1\n",
    "    return 0\n",
    "\n",
    "def random_individual(p, d):\n",
    "    x = np.zeros(d)\n",
    "    for i in range(d):\n",
    "        x[i] = binary_random(p[i])\n",
    "    return x\n",
    "\n",
    "def random_population(p, d, n):\n",
    "    P = np.zeros((n, d))\n",
    "    for i in range(n):\n",
    "        P[i] = random_individual(p, d)\n",
    "    return P\n",
    "\n",
    "def population_evaluation(P, F, n):\n",
    "    res = np.zeros(n)\n",
    "    for i in range(n):\n",
    "        res[i] = F(P[i])\n",
    "    return res"
   ]
  },
  {
   "cell_type": "code",
   "execution_count": 112,
   "metadata": {},
   "outputs": [],
   "source": [
    "def pbil( F, n, d, theta1, theta2, theta3 ):\n",
    "    VP = initial_probability_vector(d)\n",
    "    POP = random_population(VP, d, n)\n",
    "    reschange = np.zeros(3000)\n",
    "    for i in range(3000):\n",
    "        E = population_evaluation(POP, F, n)\n",
    "        bi = E.argmax() #best individual\n",
    "        VP = VP * (1.0 - theta1) + POP[bi] * theta1\n",
    "        \n",
    "        reschange[i] = E[bi]\n",
    "        #if i % 1000 == 0:\n",
    "        #    print(\"best individual:\", bi, \", E[bi]:\", POP[bi])\n",
    "        #    print(\"prob vector:{}\", VP)\n",
    "        \n",
    "        for k in range(d):\n",
    "            if np.random.random() < theta2:\n",
    "                VP[k] = VP[k] * (1.0 - theta3) + binary_random(0.5) * theta3\n",
    "        POP = random_population(VP, d, n)\n",
    "        #if i % 1000 == 0:\n",
    "        #    print( i )\n",
    "        #    print( VP )\n",
    "        #    print( POP )\n",
    "    return VP, reschange\n",
    "        "
   ]
  },
  {
   "cell_type": "code",
   "execution_count": 134,
   "metadata": {},
   "outputs": [],
   "source": [
    "def onemax(V):\n",
    "    return np.count_nonzero(V == 1)\n",
    "\n",
    "def deceptiveonemax(V):\n",
    "    if np.count_nonzero(V == 0) == V.shape[0]:\n",
    "        return V.shape[0] + 1\n",
    "    return np.count_nonzero(V == 1)\n",
    "\n",
    "def kdeceptiveonemax(V):\n",
    "    k = 10\n",
    "    res = 0\n",
    "    for i in range(int(V.shape[0] / k)):\n",
    "        #print(i*k, (i+1) * k)\n",
    "        res += deceptiveonemax(V[i*k:(i+1) * k])\n",
    "    return res"
   ]
  },
  {
   "cell_type": "code",
   "execution_count": 119,
   "metadata": {},
   "outputs": [
    {
     "name": "stdout",
     "output_type": "stream",
     "text": [
      "DECEPTIVE ONE MAX:\n",
      "[1.         0.98640553 0.99834166 0.99969567 0.96125712 0.97175705\n",
      " 1.         0.99998034 0.99999436 0.9999667  0.99912717 0.99958055\n",
      " 1.         1.         0.99998555 1.         0.88656031 0.99999999\n",
      " 1.         1.         0.97458134 1.         1.         0.9991272\n",
      " 0.9999996  0.99969567 1.         0.9972187  1.         1.\n",
      " 1.         0.99962429 0.99999998 1.         0.99999955 0.99866972\n",
      " 0.99999995 0.99966186 0.99741949 1.         0.99999445 0.97458134\n",
      " 0.99576087 1.         1.         1.         1.         1.\n",
      " 0.99769077 1.         0.99991405 1.         1.         0.99999999\n",
      " 0.99999855 1.         1.         0.99690968 1.         0.9666047\n",
      " 1.         0.96513208 0.99958253 0.9998821  0.99999998 0.99994361\n",
      " 1.         0.90993038 0.99993038 1.         0.99998515 0.99999636\n",
      " 0.99797244 1.         1.         0.9767475  0.99999826 0.99999996\n",
      " 1.         0.99921399 1.         0.98494486 0.99999992 1.\n",
      " 0.99999968 0.99983816 0.99999998 1.         1.         0.99999982\n",
      " 1.         0.99992264 0.99999985 1.         1.         1.\n",
      " 1.         1.         0.97458134 0.99998697 1.         0.99656631\n",
      " 0.99835768 0.95210069 1.         0.99999705 0.99999996 0.97457684\n",
      " 1.         0.91       1.         0.99999886 1.         0.99999998\n",
      " 0.99353677 0.99999999 0.99861277 0.99999999 1.         1.\n",
      " 1.         1.         0.9998203  0.99903023 0.99972611 0.96231908\n",
      " 1.         0.9468559  1.         1.         0.97712318 0.99977815\n",
      " 0.99733618 1.         0.99476612 0.99991405 0.99975922 1.\n",
      " 0.99999986 0.99997761 0.99999999 1.         1.         0.99897947\n",
      " 0.99999932 1.         1.         1.         0.99953616 0.96125795\n",
      " 0.95695326 1.         0.99999998 1.         1.         0.99999785\n",
      " 0.99999785 0.99999705 1.         0.99999636 0.99999996 1.\n",
      " 1.         1.         0.99992264 0.99852191 0.99999995 0.99999989\n",
      " 0.99088011 0.99999951 1.         1.         0.99999998 0.99999048\n",
      " 1.         1.         0.99576088 1.         0.999963   1.\n",
      " 0.99999851 1.         0.99999999 1.         0.940951   0.99999945\n",
      " 0.99852147 1.         0.9271     1.         0.99999996 0.99999993\n",
      " 1.         1.         0.99999994 0.99616052 0.99998954 1.\n",
      " 1.         1.        ]\n"
     ]
    },
    {
     "data": {
      "image/png": "[encoded data removed]",
      "text/plain": [
       "<Figure size 432x288 with 1 Axes>"
      ]
     },
     "metadata": {
      "needs_background": "light"
     },
     "output_type": "display_data"
    }
   ],
   "source": [
    "print(\"DECEPTIVE ONE MAX:\")\n",
    "vdeceptive, resdeceptive = pbil( deceptiveonemax, 100, 200, 0.1, 0.01, 0.1)\n",
    "print(vdeceptive)\n",
    "\n",
    "plt.plot(resdeceptive)\n",
    "plt.show()"
   ]
  },
  {
   "cell_type": "code",
   "execution_count": 125,
   "metadata": {
    "scrolled": false
   },
   "outputs": [
    {
     "name": "stdout",
     "output_type": "stream",
     "text": [
      "[0.99999999 0.994184   0.999995   1.         1.         0.99113565\n",
      " 1.         1.         0.99797244 0.99999985 0.99989384 1.\n",
      " 0.9995912  0.99999991 1.         1.         1.         1.\n",
      " 1.         1.        ]\n"
     ]
    },
    {
     "data": {
      "image/png": "[encoded data removed]",
      "text/plain": [
       "<Figure size 432x288 with 1 Axes>"
      ]
     },
     "metadata": {
      "needs_background": "light"
     },
     "output_type": "display_data"
    }
   ],
   "source": [
    "vponemax, resonemax = pbil( onemax, 100, 20, 0.1, 0.01, 0.1)\n",
    "print( vponemax )\n",
    "\n",
    "plt.plot(resonemax)\n",
    "plt.show()"
   ]
  },
  {
   "cell_type": "code",
   "execution_count": 135,
   "metadata": {
    "scrolled": true
   },
   "outputs": [
    {
     "name": "stdout",
     "output_type": "stream",
     "text": [
      "[0.99999999 0.95150707 1.         1.         1.         1.\n",
      " 0.9999823  1.         0.99995417 0.91674716 1.         0.99953616\n",
      " 0.99999238 0.99999999 0.99866972 0.99690968 0.98973433 1.\n",
      " 0.99999985 1.         0.9468559  1.         0.88175705 0.99999993\n",
      " 1.         0.99985444 0.99999999 1.         0.99678988 0.99979615\n",
      " 1.         0.99999989 1.         0.9771232  0.99999595 0.96125795\n",
      " 1.         0.99999998 1.         1.         1.         0.97458134\n",
      " 1.         0.9812901  1.         0.99936368 0.99973757 0.9999795\n",
      " 0.97458134 1.        ]\n"
     ]
    },
    {
     "data": {
      "image/png": "[encoded data removed]",
      "text/plain": [
       "<Figure size 432x288 with 1 Axes>"
      ]
     },
     "metadata": {
      "needs_background": "light"
     },
     "output_type": "display_data"
    }
   ],
   "source": [
    "vkdeceptive, reskdeceptive = pbil( kdeceptiveonemax, 100, 50, 0.1, 0.01, 0.1)\n",
    "print(vkdeceptive)\n",
    "\n",
    "plt.plot(reskdeceptive)\n",
    "plt.show()"
   ]
  },
  {
   "cell_type": "code",
   "execution_count": null,
   "metadata": {},
   "outputs": [],
   "source": []
  }
 ],
 "metadata": {
  "kernelspec": {
   "display_name": "Python 3",
   "language": "python",
   "name": "python3"
  },
  "language_info": {
   "codemirror_mode": {
    "name": "ipython",
    "version": 3
   },
   "file_extension": ".py",
   "mimetype": "text/x-python",
   "name": "python",
   "nbconvert_exporter": "python",
   "pygments_lexer": "ipython3",
   "version": "3.7.3"
  }
 },
 "nbformat": 4,
 "nbformat_minor": 4
}
