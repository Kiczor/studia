{
 "cells": [
  {
   "attachments": {},
   "cell_type": "markdown",
   "metadata": {},
   "source": [
    "Zadanie 1.\n"
   ]
  },
  {
   "cell_type": "code",
   "execution_count": 27,
   "metadata": {},
   "outputs": [],
   "source": [
    "import numpy as np\n",
    "import matplotlib.pyplot as plt\n",
    "import time\n",
    "\n",
    "def initial_probability_vector(d):\n",
    "    return np.ones(d) * 0.5\n",
    "\n",
    "def binary_random(p):\n",
    "    if np.random.random() < p:\n",
    "        return 1\n",
    "    return 0\n",
    "\n",
    "def random_individual(p, d):\n",
    "    x = np.zeros(d)\n",
    "    for i in range(d):\n",
    "        x[i] = binary_random(p[i])\n",
    "    return x\n",
    "\n",
    "def random_population(p, d, n):\n",
    "    P = np.zeros((n, d))\n",
    "    for i in range(n):\n",
    "        P[i] = random_individual(p, d)\n",
    "    return P\n",
    "\n",
    "def population_evaluation(P, F, n):\n",
    "    res = np.zeros(n)\n",
    "    for i in range(n):\n",
    "        res[i] = F(P[i])\n",
    "    return res"
   ]
  },
  {
   "cell_type": "code",
   "execution_count": 28,
   "metadata": {},
   "outputs": [],
   "source": [
    "def pbil( F, n, d, theta1, theta2, theta3, iterations = 3000 ):\n",
    "    VP = initial_probability_vector(d)\n",
    "    POP = random_population(VP, d, n)\n",
    "    reschange = np.zeros(iterations)\n",
    "    for i in range(iterations):\n",
    "        E = population_evaluation(POP, F, n)\n",
    "        bi = E.argmax() #best individual\n",
    "        VP = VP * (1.0 - theta1) + POP[bi] * theta1\n",
    "        \n",
    "        reschange[i] = E[bi]\n",
    "        #if i % 1000 == 0:\n",
    "        #    print(\"best individual:\", bi, \", E[bi]:\", POP[bi])\n",
    "        #    print(\"prob vector:{}\", VP)\n",
    "        \n",
    "        for k in range(d):\n",
    "            if np.random.random() < theta2:\n",
    "                VP[k] = VP[k] * (1.0 - theta3) + binary_random(0.5) * theta3\n",
    "        POP = random_population(VP, d, n)\n",
    "        #if i % 1000 == 0:\n",
    "        #    print( i )\n",
    "        #    print( VP )\n",
    "        #    print( POP )\n",
    "    return VP, reschange\n",
    "        \n",
    "def CGA( F, d, theta, iterations = 3000 ):\n",
    "    VP = initial_probability_vector(d)\n",
    "    reschange = np.zeros(iterations)\n",
    "    for i in range(iterations):\n",
    "        x1 = random_individual(VP, d)\n",
    "        x2 = random_individual(VP, d)\n",
    "        e1 = F( x1 )\n",
    "        e2 = F( x2 )\n",
    "        if e2 > e1: # x1 - best individual\n",
    "            x1, x2 = x2, x1\n",
    "        \n",
    "        for k in range( d ):\n",
    "            if x1[k] == 1 and x2[k] == 0:\n",
    "                VP[k] = VP[k] + theta\n",
    "            if x1[k] == 0 and x2[k] == 1:\n",
    "                VP[k] = VP[k] - theta\n",
    "\n",
    "        reschange[i] = max(e1, e2)\n",
    "            \n",
    "    return VP, reschange\n",
    "\n",
    "def model_estimation( PS ):\n",
    "    m = PS.shape[0]\n",
    "    return ( 1.0 / m ) * np.sum( PS, axis = 0 )\n",
    "\n",
    "def UMDA( F, n, d, m, iterations = 3000 ):\n",
    "    VP = initial_probability_vector(d)\n",
    "    reschange = np.zeros(iterations)\n",
    "    for i in range(iterations):\n",
    "        POP = random_population(VP, d, n)\n",
    "        E = population_evaluation(POP, F, n)\n",
    "        PS = POP[ (np.argsort(E)[::-1])[:m] ] # best m individuals from population\n",
    "        reschange[i] = F( PS[0] )\n",
    "        VP = model_estimation( PS )\n",
    "    return VP, reschange\n"
   ]
  },
  {
   "cell_type": "code",
   "execution_count": 29,
   "metadata": {},
   "outputs": [],
   "source": [
    "def onemax(V):\n",
    "    return np.count_nonzero(V == 1)\n",
    "\n",
    "def deceptiveonemax(V):\n",
    "    if np.count_nonzero(V == 0) == V.shape[0]:\n",
    "        return V.shape[0] + 1\n",
    "    return np.count_nonzero(V == 1)\n",
    "\n",
    "def kdeceptiveonemax(V):\n",
    "    k = 10\n",
    "    res = 0\n",
    "    for i in range(int(V.shape[0] / k)):\n",
    "        #print(i*k, (i+1) * k)\n",
    "        res += deceptiveonemax(V[i*k:(i+1) * k])\n",
    "    return res"
   ]
  },
  {
   "cell_type": "code",
   "execution_count": 35,
   "metadata": {},
   "outputs": [
    {
     "name": "stdout",
     "output_type": "stream",
     "text": [
      "[1. 1. 1. 1. 1. 1. 1. 1. 1. 1. 1. 1. 1. 1. 1. 1. 1. 1. 1. 1. 1. 1. 1. 1.\n",
      " 1. 1. 1. 1. 1. 1. 1. 1. 1. 1. 1. 1. 1. 1. 1. 1. 1. 1. 1. 1. 1. 1. 1. 1.\n",
      " 1. 1. 1. 1. 1. 1. 1. 1. 1. 1. 1. 1. 1. 1. 1. 1. 1. 1. 1. 1. 1. 1. 1. 1.\n",
      " 1. 1. 1. 1. 1. 1. 1. 1. 1. 1. 1. 1. 1. 1. 1. 1. 1. 1. 1. 1. 1. 1. 1. 1.\n",
      " 1. 1. 1. 1.]\n",
      "[1.   1.   1.   1.   1.   1.   1.   1.   1.   1.   1.   1.   1.   1.\n",
      " 1.   1.   1.   1.   1.   1.   1.   1.   1.   1.   1.   0.99 1.   1.\n",
      " 1.   0.99 1.   1.   1.   1.   1.   1.   1.   1.   1.   1.   1.   1.\n",
      " 1.   1.   1.   1.   1.   1.   1.   1.   1.   1.   1.   1.   1.   1.\n",
      " 1.   1.   1.   1.   1.   1.   1.   1.   1.   0.99 1.   1.   1.   1.\n",
      " 1.   1.   1.   1.   1.   1.   1.   1.   1.   1.   1.   1.   1.   1.\n",
      " 1.   1.   1.   1.   1.   1.   1.   1.   1.   0.99 1.   1.   1.   1.\n",
      " 1.   1.  ]\n",
      "[0.999963   1.         1.         1.         1.         0.99999981\n",
      " 0.99998567 1.         0.99831197 1.         0.99999989 0.99999445\n",
      " 1.         0.99999999 0.99998953 0.99999734 1.         0.99999999\n",
      " 0.99113692 0.99999999 0.93431264 1.         1.         0.99997303\n",
      " 0.96513216 1.         0.96861894 1.         0.99999999 0.9981752\n",
      " 0.97712292 0.99993155 0.99999989 0.9999906  0.99997572 1.\n",
      " 0.99999785 1.         0.9991272  1.         0.99999993 0.99999968\n",
      " 0.99999932 1.         0.99999673 1.         1.         1.\n",
      " 1.         0.99528987 1.         1.         0.9999999  0.99981791\n",
      " 1.         0.91899999 1.         0.90999999 0.99418503 1.\n",
      " 1.         1.         1.         0.96349118 1.         1.\n",
      " 1.         1.         1.         1.         0.99999971 1.\n",
      " 1.         0.99476652 0.99983827 1.         0.99721872 0.9997535\n",
      " 1.         1.         0.9980438  1.         0.9991272  0.99999939\n",
      " 1.         0.99988627 1.         1.         1.         0.98784233\n",
      " 0.999995   0.99994492 0.99656632 1.         1.         1.\n",
      " 0.919      0.97172005 0.99999843 1.        ]\n"
     ]
    },
    {
     "data": {
      "image/png": "[encoded data removed]",
      "text/plain": [
       "<Figure size 432x288 with 1 Axes>"
      ]
     },
     "metadata": {
      "needs_background": "light"
     },
     "output_type": "display_data"
    }
   ],
   "source": [
    "umdavponemax, umdaresonemax = UMDA( onemax, 200, 100, 100, iterations = 1500 )\n",
    "print( umdavponemax )\n",
    "\n",
    "cgavponemax, cgaresonemax = CGA( onemax, 100, 0.01, iterations = 1500 )\n",
    "print( cgavponemax )\n",
    "\n",
    "pbilvponemax, pbilresonemax = pbil( onemax, 200, 100, 0.1, 0.01, 0.1, iterations = 1500)\n",
    "print( pbilvponemax )\n",
    "\n",
    "plt.plot(pbilresonemax, label='pbil')\n",
    "plt.plot(cgaresonemax, label='cga')\n",
    "plt.plot(umdaresonemax, label='umda')\n",
    "plt.legend()\n",
    "plt.show()"
   ]
  },
  {
   "cell_type": "code",
   "execution_count": 36,
   "metadata": {},
   "outputs": [
    {
     "name": "stdout",
     "output_type": "stream",
     "text": [
      "[1. 1. 1. 1. 1. 1. 1. 1. 1. 1. 1. 1. 1. 1. 1. 1. 1. 1. 1. 1. 1. 1. 1. 1.\n",
      " 1. 1. 1. 1. 1. 1. 1. 1. 1. 1. 1. 1. 1. 1. 1. 1. 1. 1. 1. 1. 1. 1. 1. 1.\n",
      " 1. 1. 1. 1. 1. 1. 1. 1. 1. 1. 1. 1. 1. 1. 1. 1. 1. 1. 1. 1. 1. 1. 1. 1.\n",
      " 1. 1. 1. 1. 1. 1. 1. 1. 1. 1. 1. 1. 1. 1. 1. 1. 1. 1. 1. 1. 1. 1. 1. 1.\n",
      " 1. 1. 1. 1.]\n",
      "umda time 91.40259552001953\n",
      "[1. 1. 1. 1. 1. 1. 1. 1. 1. 1. 1. 1. 1. 1. 1. 1. 1. 1. 1. 1. 1. 1. 1. 1.\n",
      " 1. 1. 1. 1. 1. 1. 1. 1. 1. 1. 1. 1. 1. 1. 1. 1. 1. 1. 1. 1. 1. 1. 1. 1.\n",
      " 1. 1. 1. 1. 1. 1. 1. 1. 1. 1. 1. 1. 1. 1. 1. 1. 1. 1. 1. 1. 1. 1. 1. 1.\n",
      " 1. 1. 1. 1. 1. 1. 1. 1. 1. 1. 1. 1. 1. 1. 1. 1. 1. 1. 1. 1. 1. 1. 1. 1.\n",
      " 1. 1. 1. 1.]\n",
      "cga time 1.4400355815887451\n",
      "[1.         1.         1.         0.99282102 0.99962429 1.\n",
      " 0.99797234 0.99999968 1.         1.         1.         0.99999998\n",
      " 0.9961848  0.99816965 0.99835768 1.         1.         0.99998955\n",
      " 0.99418503 0.99999997 0.99999784 0.97175703 1.         0.99997295\n",
      " 0.99999569 0.91       1.         0.99934141 1.         0.99999154\n",
      " 0.99903023 0.99982886 1.         0.99627101 1.         1.\n",
      " 0.99942736 1.         0.99999963 1.         1.         0.99296628\n",
      " 0.99999998 0.9999667  0.99999995 1.         0.99202336 1.\n",
      " 1.         1.         1.         0.99958254 1.         0.91\n",
      " 1.         0.99998839 0.99282102 0.9999906  0.99113706 1.\n",
      " 0.91892264 1.         1.         0.99999761 0.99929303 1.\n",
      " 0.99997303 1.         0.97105008 0.99999154 0.99993734 1.\n",
      " 1.         0.99929303 0.99891301 1.         1.         0.99999055\n",
      " 1.         1.         1.         0.99999993 1.         0.9999996\n",
      " 0.97941089 1.         1.         0.99690959 0.99999999 0.99998955\n",
      " 0.96594207 0.99999873 1.         1.         0.99999927 1.\n",
      " 0.99014068 1.         1.         0.99999999]\n",
      "pbil time 41.16681146621704\n"
     ]
    },
    {
     "data": {
      "image/png": "[encoded data removed]",
      "text/plain": [
       "<Figure size 432x288 with 1 Axes>"
      ]
     },
     "metadata": {
      "needs_background": "light"
     },
     "output_type": "display_data"
    }
   ],
   "source": [
    "t0 = time.time()\n",
    "umdavpdeceptive, umdaresdeceptive = UMDA( deceptiveonemax, 200, 100, 100 )\n",
    "print( umdavpdeceptive )\n",
    "print(f\"umda time {time.time() - t0}\")\n",
    "\n",
    "t0 = time.time()\n",
    "cgavpdeceptive, cgaresdeceptive = CGA( deceptiveonemax, 100, 0.01 )\n",
    "print( cgavpdeceptive )\n",
    "print(f\"cga time {time.time() - t0}\")\n",
    "\n",
    "t0 = time.time()\n",
    "pbilvpdeceptive, pbilresdeceptive = pbil( deceptiveonemax, 100, 100, 0.1, 0.01, 0.1 )\n",
    "print( pbilvpdeceptive )\n",
    "print(f\"pbil time {time.time() - t0}\")\n",
    "\n",
    "plt.plot(pbilresdeceptive, label='pbil')\n",
    "plt.plot(cgaresdeceptive, label='cga')\n",
    "plt.plot(umdaresdeceptive, label='umda')\n",
    "plt.legend()\n",
    "plt.show()"
   ]
  },
  {
   "cell_type": "code",
   "execution_count": 33,
   "metadata": {},
   "outputs": [
    {
     "name": "stdout",
     "output_type": "stream",
     "text": [
      "[1. 1. 1. 1. 1. 1. 1. 1. 1. 1. 1. 1. 1. 1. 1. 1. 1. 1. 1. 1. 1. 1. 1. 1.\n",
      " 1. 1. 1. 1. 1. 1. 1. 1. 1. 1. 1. 1. 1. 1. 1. 1. 1. 1. 1. 1. 1. 1. 1. 1.\n",
      " 1. 1. 1. 1. 1. 1. 1. 1. 1. 1. 1. 1. 1. 1. 1. 1. 1. 1. 1. 1. 1. 1. 1. 1.\n",
      " 1. 1. 1. 1. 1. 1. 1. 1. 1. 1. 1. 1. 1. 1. 1. 1. 1. 1. 1. 1. 1. 1. 1. 1.\n",
      " 1. 1. 1. 1.]\n",
      "[1. 1. 1. 1. 1. 1. 1. 1. 1. 1. 1. 1. 1. 1. 1. 1. 1. 1. 1. 1. 1. 1. 1. 1.\n",
      " 1. 1. 1. 1. 1. 1. 1. 1. 1. 1. 1. 1. 1. 1. 1. 1. 1. 1. 1. 1. 1. 1. 1. 1.\n",
      " 1. 1. 1. 1. 1. 1. 1. 1. 1. 1. 1. 1. 1. 1. 1. 1. 1. 1. 1. 1. 1. 1. 1. 1.\n",
      " 1. 1. 1. 1. 1. 1. 1. 1. 1. 1. 1. 1. 1. 1. 1. 1. 1. 1. 1. 1. 1. 1. 1. 1.\n",
      " 1. 1. 1. 1.]\n",
      "[1.         0.99997282 0.99576088 1.         0.99690283 1.\n",
      " 0.98961485 1.         1.         0.99999997 0.99998034 0.99999994\n",
      " 0.99985287 0.99999999 0.99656632 1.         1.         1.\n",
      " 0.99880182 0.92709907 0.99999964 1.         0.91       1.\n",
      " 1.         0.99957699 1.         1.         0.97712146 0.940951\n",
      " 1.         0.99999998 0.91823706 1.         0.99980033 1.\n",
      " 0.99999899 0.98332282 1.         1.         0.99998839 0.99852155\n",
      " 1.         1.         0.99999859 1.         1.         0.99996085\n",
      " 1.         0.99999987 1.         0.99528987 1.         1.\n",
      " 0.99997003 0.98328171 1.         0.99015228 1.         0.99902695\n",
      " 0.99999999 0.99721872 0.98827246 0.99202336 1.         0.99999445\n",
      " 1.         0.99966186 0.99986458 0.99995889 1.         0.99995432\n",
      " 0.99999144 0.94080239 0.99983827 0.99999983 1.         1.\n",
      " 0.99989389 1.         1.         1.         0.99997573 0.99998955\n",
      " 1.         1.         1.         1.         1.         1.\n",
      " 1.         1.         1.         1.         1.         1.\n",
      " 1.         1.         0.99993038 0.9999999 ]\n"
     ]
    },
    {
     "data": {
      "image/png": "[encoded data removed]",
      "text/plain": [
       "<Figure size 432x288 with 1 Axes>"
      ]
     },
     "metadata": {
      "needs_background": "light"
     },
     "output_type": "display_data"
    }
   ],
   "source": [
    "umdavpkdeceptive, umdareskdeceptive = UMDA( kdeceptiveonemax, 200, 100, 100 )\n",
    "print( umdavpkdeceptive )\n",
    "\n",
    "cgavpkdeceptive, cgareskdeceptive = CGA( kdeceptiveonemax, 100, 0.01 )\n",
    "print( cgavpkdeceptive )\n",
    "\n",
    "pbilvpkdeceptive, pbilreskdeceptive = pbil( kdeceptiveonemax, 100, 100, 0.1, 0.01, 0.1 )\n",
    "print( pbilvpkdeceptive )\n",
    "\n",
    "plt.plot(pbilreskdeceptive, label='pbil')\n",
    "plt.plot(cgareskdeceptive, label='cga')\n",
    "plt.plot(umdareskdeceptive, label='umda')\n",
    "plt.legend()\n",
    "plt.show()"
   ]
  },
  {
   "attachments": {},
   "cell_type": "markdown",
   "metadata": {},
   "source": [
    "Zadanie 2."
   ]
  },
  {
   "cell_type": "code",
   "execution_count": null,
   "metadata": {},
   "outputs": [],
   "source": []
  }
 ],
 "metadata": {
  "kernelspec": {
   "display_name": "Python 3",
   "language": "python",
   "name": "python3"
  },
  "language_info": {
   "codemirror_mode": {
    "name": "ipython",
    "version": 3
   },
   "file_extension": ".py",
   "mimetype": "text/x-python",
   "name": "python",
   "nbconvert_exporter": "python",
   "pygments_lexer": "ipython3",
   "version": "3.7.3"
  },
  "orig_nbformat": 4,
  "vscode": {
   "interpreter": {
    "hash": "916dbcbb3f70747c44a77c7bcd40155683ae19c65e1c03b4aa3499c5328201f1"
   }
  }
 },
 "nbformat": 4,
 "nbformat_minor": 2
}
