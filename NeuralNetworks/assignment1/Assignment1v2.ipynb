{
 "cells": [
  {
   "cell_type": "markdown",
   "metadata": {
    "cell_id": "00001-caefeb56-f9c5-4f9e-a096-b89246dc63d7",
    "deepnote_app_coordinates": {
     "h": 5,
     "w": 12,
     "x": 0,
     "y": 6
    },
    "deepnote_cell_type": "markdown",
    "id": "CGXgWugfJ0Vl"
   },
   "source": [
    "## Assignment 1\n",
    "\n",
    "**Submission deadlines:** \n",
    "- get at least **2** points by Tuesday, 27.02.2024\n",
    "- remaining points: last lab session before or on Tuesday, 05.03.2023\n",
    "\n",
    "**Points:** Aim to get 8 out of 14 possible points\n",
    "\n",
    "## Submission instructions\n",
    "The class is held on-site in lab rooms. Please prepare you notebook on your computer or anywhere in the cloud (try using DeepNote or Google Colab).\n",
    "\n",
    "Make sure you know all the questions and asnwers, and that the notebook contains results; before presentation do `Runtime -> Restart and run all`\n",
    "![Picture title](image-20220302-183151.png)\n",
    "\n",
    "We provide starter code, however you are not required to use it as long as you properly solve the tasks.\n"
   ]
  },
  {
   "cell_type": "markdown",
   "metadata": {
    "cell_id": "00002-c92cc86e-f65f-4e16-9124-9ca4d4265c88",
    "deepnote_app_coordinates": {
     "h": 5,
     "w": 12,
     "x": 0,
     "y": 12
    },
    "deepnote_cell_type": "markdown",
    "id": "5S8iRaCPyO2a"
   },
   "source": [
    "# Task description\n",
    "\n",
    "## TLDR\n",
    "Implement and train a neural network using pure `torch`."
   ]
  },
  {
   "cell_type": "markdown",
   "metadata": {
    "cell_id": "00003-1893a0a0-4515-4960-bce8-37f660543eea",
    "deepnote_app_coordinates": {
     "h": 5,
     "w": 12,
     "x": 0,
     "y": 18
    },
    "deepnote_cell_type": "markdown",
    "id": "JHcz7I2V-bVM"
   },
   "source": [
    "\n",
    "## Problem 1 [2p]\n",
    "Implement a two-layer network, manually set weights and biases to solve the XOR task.\n",
    "\n",
    "A two-layer neural network implementes a function $f: \\mathbb{R}^D \\rightarrow \\mathbb{R}^O$ where $D$ is the input dimensionality and $O$ is the output dinemsionality. The output goes through an intermediate representation (the hidden layer) with dimensionality $H$. \n",
    "\n",
    "The computations are as follows:\n",
    "$$\n",
    "\\begin{aligned}\n",
    "A_1 &= x W_1^T + b_1  & \\qquad\\text{Total input to neurons in the hidden layer (network's first layer)} \\\\\n",
    "O_1 &= \\sigma_1(A_1)  & \\qquad\\text{Output of the hidden layer} \\\\\n",
    "A_2 &= O_1 W_2^T + b_2 & \\qquad\\text{Total input to neurons in the output layer (network's second layer)}\\\\\n",
    "O_2 &= \\sigma_2(A_2)  & \\qquad\\text{Output of the network}\n",
    "\\end{aligned}\n",
    "$$\n",
    "\n",
    "Where $W$ are weight matrices, $b$ are bias vectors, $\\sigma$ are non-linear activation functions (e.g. the logistic sigmoid applied element-wise, or softmax).\n",
    "\n",
    "For the 2D xor problem the network will:\n",
    "- have 2 inputs, 2 hidden neurons, one output\n",
    "- use the logistic sigmoid everywhere (that way we, when hand-designig the weights, we can assume that neurons' outputs are binary).\n",
    "\n",
    "Therrefore the shapes of the data flowing through the network will be:\n",
    "- input: $x\\in\\mathbb{}R^{2}$\n",
    "- hidden layer parameters: $W_1\\in\\mathbb{}R^{2\\times 2}$ and $b_1\\in\\mathbb{}R^{2}$\n",
    "- representations in the hidden layer: $A_1\\in\\mathbb{}R^{2}$ and $O_1\\in\\mathbb{}R^{2}$\n",
    "- output layer parameters: $W_2\\in\\mathbb{}R^{1\\times 2}$ and $b_2\\in\\mathbb{}R^{1}$\n",
    "- representations in the output layer: $A_2\\in\\mathbb{}R^{1}$ and $O_2\\in\\mathbb{}R^{1}$\n",
    "\n",
    "The network can be seen as a logistic regression model, prefixed by a nonlinear transformation of the data.\n",
    "\n",
    "The first tasks consists of:\n",
    "- implementing the network\n",
    "- selecting parametwrs ($W_1, b_1, W_2, b_2$) such that $f(x)\\approx XOR(x_1, x_2)$ where the approximation is die to the sigmoids - the output may be close to 0 or 1, but doesn't need to saturate at 0 or 1.\n",
    "\n",
    "NB: the convention on weight matrix shapes follows linear [layers in PyTorch](https://pytorch.org/docs/stable/generated/torch.nn.Linear.html).\n"
   ]
  },
  {
   "cell_type": "markdown",
   "metadata": {
    "cell_id": "00004-0d502510-cfd1-44da-b88c-da6aaf275617",
    "deepnote_app_coordinates": {
     "h": 5,
     "w": 12,
     "x": 0,
     "y": 24
    },
    "deepnote_cell_type": "markdown",
    "id": "0QSpZxuH-bLe"
   },
   "source": [
    "## Problem 2 [2p]\n",
    "1. Add a backward pass.\n",
    "2. Use a sensible random initialization for weights and biases.\n",
    "3. Numerically check the correctness of your gradient computation.\n",
    "\n",
    "There is nice article about taking derivative over vectors and vector chain rule: https://explained.ai/matrix-calculus/ if someone don't have experience with such calculus.\n"
   ]
  },
  {
   "cell_type": "markdown",
   "metadata": {
    "cell_id": "00005-96083315-f850-4103-946e-cc9b11377543",
    "deepnote_app_coordinates": {
     "h": 5,
     "w": 12,
     "x": 0,
     "y": 30
    },
    "deepnote_cell_type": "markdown",
    "id": "s1Tn8j0m-bAy"
   },
   "source": [
    "## Problem 3 [2p]\n",
    "1. Implement gradient descent\n",
    "2. Train your network to solve 3D XOR\n",
    "3. Try several hidden layer sizes, for each size record the fracton of successful trainings. Then answer:\n",
    "    - What is the minimal hidden size required to solve 3D XOR (even with low reliability, when the training has to be repeated multiple times)\n",
    "    - What is the minimal hidden size required to reliably solve 3D XOR\n",
    "    - Which networks are easier to train - small or large ones? Why?\n"
   ]
  },
  {
   "cell_type": "markdown",
   "metadata": {
    "cell_id": "00006-94cc4eb9-0202-4308-9a9e-007db44a6a98",
    "deepnote_app_coordinates": {
     "h": 5,
     "w": 12,
     "x": 0,
     "y": 36
    },
    "deepnote_cell_type": "markdown",
    "id": "RP9Pvpmf-a2A"
   },
   "source": [
    "## Problem 4 [1p]\n",
    "Replace the first nonlinearity with the [ReLU](https://en.wikipedia.org/wiki/Rectifier_(neural_networks)) activation function. Find a network architecture which reliably learns the 3D XOR problem.\n"
   ]
  },
  {
   "cell_type": "markdown",
   "metadata": {
    "cell_id": "00007-9e6e984c-5131-4333-837b-7e57c4bfb650",
    "deepnote_app_coordinates": {
     "h": 5,
     "w": 12,
     "x": 0,
     "y": 42
    },
    "deepnote_cell_type": "markdown",
    "id": "cGgtpe-w-asB"
   },
   "source": [
    "## Problem 5 [1p]\n",
    "Add a second hidden layer to your network, implement the forward and backward pass, then demonstrate training.\n"
   ]
  },
  {
   "cell_type": "markdown",
   "metadata": {
    "cell_id": "00008-86ea4bdd-83dc-4197-baad-d216fbacc786",
    "deepnote_app_coordinates": {
     "h": 5,
     "w": 12,
     "x": 0,
     "y": 48
    },
    "deepnote_cell_type": "markdown",
    "id": "Pe-pcFeO-aiE"
   },
   "source": [
    "## Problem 6 [2p]\n",
    "Implement a way to have a _variable number_ of hidden layers. Check how deep sigmoid or ReLU networks you  can train. For simplicity you can assume that all hidden layers have the same number of neurons, and use the same activation function.\n"
   ]
  },
  {
   "cell_type": "markdown",
   "metadata": {},
   "source": [
    "## Problem 7 [2p]\n",
    "Consider the following function $\\boldsymbol f: \\mathbb R^n \\to \\mathbb R^k$:\n",
    "$$ \\hat{\\boldsymbol y} := \\boldsymbol f(\\boldsymbol x\\,;\\,\\,W, \\boldsymbol b) = \\mathrm{softmax}(\\boldsymbol z) \\qquad (\\boldsymbol x \\in \\mathbb R^{n}, \\, W \\in\\mathbb R^{k\\times n}, \\, \\boldsymbol b \\in \\mathbb R^k), $$\n",
    "where $$ \\boldsymbol z = W  \\boldsymbol x + \\boldsymbol b $$\n",
    "and $W, \\boldsymbol b$ are the parameters.\n",
    "\n",
    "Analytically derive the form of the following gradients:\n",
    "\n",
    "$$ \\frac{\\partial \\hat{\\boldsymbol y}}{\\boldsymbol z} = \\ldots $$\n",
    "\n",
    "$$ \\frac{\\partial \\hat{\\boldsymbol y}}{W_{ij}} = \\ldots $$\n",
    "\n",
    "$$ \\frac{\\partial \\hat{\\boldsymbol y}}{\\boldsymbol b} = \\ldots $$"
   ]
  },
  {
   "cell_type": "markdown",
   "metadata": {
    "cell_id": "00010-954fd65b-4d81-4bbc-bf6b-4d10d50be9b8",
    "deepnote_app_coordinates": {
     "h": 5,
     "w": 12,
     "x": 0,
     "y": 60
    },
    "deepnote_cell_type": "markdown",
    "id": "rXJaoHSH0DZO"
   },
   "source": [
    "# Solutions and starter code"
   ]
  },
  {
   "cell_type": "code",
   "execution_count": 1,
   "metadata": {
    "ExecuteTime": {
     "end_time": "2024-02-17T11:44:28.263962Z",
     "start_time": "2024-02-17T11:44:27.307173Z"
    },
    "cell_id": "00011-97f2c7fe-a3d5-4a6b-bc12-8a96bfeed475",
    "deepnote_app_coordinates": {
     "h": 5,
     "w": 12,
     "x": 0,
     "y": 66
    },
    "deepnote_cell_type": "code",
    "id": "YiTEWD2oqW0Y"
   },
   "outputs": [],
   "source": [
    "import matplotlib.pyplot as plt\n",
    "import torch"
   ]
  },
  {
   "cell_type": "markdown",
   "metadata": {
    "cell_id": "00012-8bc44e88-e665-483d-89fc-c866879ad335",
    "deepnote_app_coordinates": {
     "h": 5,
     "w": 12,
     "x": 0,
     "y": 72
    },
    "deepnote_cell_type": "markdown",
    "id": "eqtfJKR40J3x"
   },
   "source": [
    "XOR dataset creation"
   ]
  },
  {
   "cell_type": "code",
   "execution_count": 2,
   "metadata": {
    "ExecuteTime": {
     "end_time": "2024-02-17T11:46:08.448211Z",
     "start_time": "2024-02-17T11:46:08.287486Z"
    }
   },
   "outputs": [
    {
     "data": {
      "text/plain": [
       "(-0.05, 1.05, -0.05, 1.05)"
      ]
     },
     "execution_count": 2,
     "metadata": {},
     "output_type": "execute_result"
    },
    {
     "data": {
      "image/png": "[encoded data removed]",
      "text/plain": [
       "<Figure size 640x480 with 1 Axes>"
      ]
     },
     "metadata": {},
     "output_type": "display_data"
    }
   ],
   "source": [
    "# Let's define a XOR dataset\n",
    "\n",
    "# X will be matrix of N 2-dimensional inputs\n",
    "X = torch.tensor([[0, 0], [0, 1], [1, 0], [1, 1],], dtype=torch.float64)\n",
    "# Y is a matrix of N numners - answers\n",
    "Y = torch.tensor([[0], [1], [1], [0],], dtype=torch.float64)\n",
    "\n",
    "plt.scatter(\n",
    "    X[:, 0], X[:, 1], c=Y[:, 0],\n",
    ")\n",
    "plt.xlabel(\"X[0]\")\n",
    "plt.ylabel(\"X[1]\")\n",
    "plt.axis(\"square\")"
   ]
  },
  {
   "cell_type": "markdown",
   "metadata": {
    "cell_id": "00014-fe501b87-4247-497d-a7c7-f528483d31cc",
    "deepnote_app_coordinates": {
     "h": 5,
     "w": 12,
     "x": 0,
     "y": 84
    },
    "deepnote_cell_type": "markdown",
    "id": "Rb3azMn929_I"
   },
   "source": [
    "## Problem 1"
   ]
  },
  {
   "cell_type": "markdown",
   "metadata": {
    "cell_id": "00015-97a3483d-0ae6-4bee-afd5-6226abc622a5",
    "deepnote_app_coordinates": {
     "h": 5,
     "w": 12,
     "x": 0,
     "y": 90
    },
    "deepnote_cell_type": "markdown",
    "id": "RZCM_hdELE04"
   },
   "source": [
    "The code below contains a mock-up of a two-layer neural network. Fill in the code and manually set weights to solve the XOR problem.\n",
    "\n",
    "Please note: the shapes are set to be compatible with PyTorch's conventions:\n",
    "* a batch containing $N$ $D$-dimensional examples has shape $N\\times D$ (each example is a row!)\n",
    "* a weight matrix in a linear layer with $I$ inputs and $O$ outputs has shape $O \\times I$\n",
    "* a bias vector is a 1D vector. Please note that [broadcasting rules](https://docs.scipy.org/doc/numpy/user/basics.broadcasting.html) allow us to think about it as a $1 \\times D$ matrix."
   ]
  },
  {
   "cell_type": "code",
   "execution_count": 3,
   "metadata": {
    "cell_id": "00016-87dd53c6-4f21-4286-8a85-61c2a92fa819",
    "deepnote_app_coordinates": {
     "h": 5,
     "w": 12,
     "x": 0,
     "y": 96
    },
    "deepnote_cell_type": "code",
    "id": "lrrRuk6zLiF0"
   },
   "outputs": [],
   "source": [
    "def sigmoid(x):\n",
    "    return 1.0 / (1.0 + torch.exp(-x))\n",
    "\n",
    "class SmallNet:\n",
    "    def __init__(self, in_features: int, num_hidden: int, dtype=torch.float64):\n",
    "        self.W1 = torch.zeros((num_hidden, in_features), dtype=dtype)\n",
    "        self.b1 = torch.zeros((num_hidden,), dtype=dtype)\n",
    "        self.W2 = torch.zeros((1, num_hidden), dtype=dtype)\n",
    "        self.b2 = torch.zeros((1,), dtype=dtype)\n",
    "\n",
    "        self.init_params()\n",
    "\n",
    "    def init_params(self):\n",
    "        # set all parameters to small random values, e.g. from N(0, 0.5)\n",
    "        torch.nn.init.normal_(self.W1, 0, 0.5)\n",
    "        torch.nn.init.normal_(self.b1, 0, 0.5)\n",
    "        torch.nn.init.normal_(self.W2, 0, 0.5)\n",
    "        torch.nn.init.normal_(self.b2, 0, 0.5)\n",
    "\n",
    "    def forward(self, X, Y=None, do_backward=False):\n",
    "        #print(f\"X:{X}, Y:{Y}, W1.T:{self.W1.T}, b1:{self.b1}, W2.T:{self.W2.T}, b2:{self.b2}\")\n",
    "\n",
    "        # Input to neurons in 1st layer\n",
    "        A1 = X @ self.W1.T + self.b1\n",
    "\n",
    "        # Outputs after the sigmoid non-linearity\n",
    "        O1 = sigmoid(A1)\n",
    "\n",
    "        #print(f\"A1:{A1}, O1:{O1}\")\n",
    "\n",
    "        # Inputs to neuron in the second layer\n",
    "        A2 = O1 @ self.W2.T + self.b2\n",
    "\n",
    "        # Outputs after the sigmoid non-linearity\n",
    "        O2 = sigmoid(A2)\n",
    "\n",
    "        #print(f\"A2:{A2}, O2:{O2}\")\n",
    "\n",
    "        # When Y is none, simply return the predictions. Else compute the loss\n",
    "        if Y is not None:\n",
    "            loss = -Y * torch.log(O2) - (1.0 - Y) * torch.log(1.0 - O2) # cross-entropy loss\n",
    "            # normalize loss by batch size\n",
    "            #print(f\"loss:{loss}\")\n",
    "            loss = loss.sum() / X.shape[0]\n",
    "        else:\n",
    "            loss = torch.nan\n",
    "\n",
    "        if do_backward:\n",
    "            # TODO in Problem 2:\n",
    "            # fill in the gradient computation\n",
    "            # Please note, that there is a correspondance between\n",
    "            # the forward and backward pass: with backward computations happening\n",
    "            # in reverse order.\n",
    "            # We save the gradients with respect to the parameters as fields of self.\n",
    "            # It is not very elegant, but simplifies training code later on.\n",
    "\n",
    "            # A2_grad is the gradient of loss with respect to A2\n",
    "            # Hint: there is a concise formula for the gradient\n",
    "            # of logistic sigmoid and cross-entropy loss\n",
    "            A2_grad = (O2 - Y) / X.shape[0]\n",
    "            #print(f\"O2:{O2}, \\nY:{Y}\")\n",
    "            #print(f\"a2grad:{A2_grad}, \\nO1:{O1}, \\nW2:{self.W2}\\n\")\n",
    "            self.b2_grad = A2_grad.sum(0)\n",
    "            self.W2_grad = A2_grad.T @ O1\n",
    "            #print(f\"w2grad:{self.W2_grad}, O1.T@A2_grad ).T:{(O1.T@A2_grad ).T}\")\n",
    "\n",
    "            #O1_grad = - (Y/O1) + (1 - Y)/(1 - O1)\n",
    "            #A1_grad = O1 - Y\n",
    "            O1_grad = A2_grad @ self.W2\n",
    "            A1_grad = O1_grad * (1 - O1) * O1\n",
    "\n",
    "            self.b1_grad = A1_grad.sum(0)\n",
    "            self.W1_grad = A1_grad.T @ X\n",
    "\n",
    "        return O2, loss"
   ]
  },
  {
   "cell_type": "code",
   "execution_count": 4,
   "metadata": {
    "cell_id": "00017-32ce9293-0a37-4397-aeac-25eef428e8d4",
    "colab": {
     "base_uri": "https://localhost:8080/"
    },
    "deepnote_app_coordinates": {
     "h": 5,
     "w": 12,
     "x": 0,
     "y": 102
    },
    "deepnote_cell_type": "code",
    "id": "jJswvBk0oiIY",
    "outputId": "e6559317-7afa-4509-fbac-4880e73b91cc"
   },
   "outputs": [
    {
     "name": "stdout",
     "output_type": "stream",
     "text": [
      "tensor([[0., 0.],\n",
      "        [0., 1.],\n",
      "        [1., 0.],\n",
      "        [1., 1.]], dtype=torch.float64) tensor([7.1246e-218,  1.0000e+00,  1.0000e+00, 7.1246e-218],\n",
      "       dtype=torch.float64) tensor(nan, dtype=torch.float64)\n",
      "XORnet(tensor([0., 0.], dtype=torch.float64)) = 7.124576406741285e-218\n",
      "XORnet(tensor([0., 1.], dtype=torch.float64)) = 1.0\n",
      "XORnet(tensor([1., 0.], dtype=torch.float64)) = 1.0\n",
      "XORnet(tensor([1., 1.], dtype=torch.float64)) = 7.124576406741285e-218\n"
     ]
    },
    {
     "name": "stderr",
     "output_type": "stream",
     "text": [
      "/tmp/ipykernel_6209/3564111960.py:32: UserWarning: The use of `x.T` on tensors of dimension other than 2 to reverse their shape is deprecated and it will throw an error in a future release. Consider `x.mT` to transpose batches of matrices or `x.permute(*torch.arange(x.ndim - 1, -1, -1))` to reverse the dimensions of a tensor. (Triggered internally at ../aten/src/ATen/native/TensorShape.cpp:3675.)\n",
      "  A2 = O1 @ self.W2.T + self.b2\n"
     ]
    }
   ],
   "source": [
    "# TODO Problem 1:\n",
    "# Set by hand the weight values to solve the XOR problem\n",
    "\n",
    "net = SmallNet(2, 2, dtype=torch.float64)\n",
    "net.W1 = torch.tensor([[1, 1],[-1, -1]], dtype=torch.float64) * 1000\n",
    "net.b1 = torch.tensor([-0.5, 1.5], dtype=torch.float64) * 1000\n",
    "net.W2 = torch.tensor([1, 1], dtype=torch.float64) * 1000\n",
    "net.b2 = torch.tensor([-1.5], dtype=torch.float64) * 1000\n",
    "\n",
    "# Hint: since we use the logistic sigmoid activation, the weights may need to\n",
    "# be fairly large\n",
    "\n",
    "predictions, loss = net.forward(X, Y, do_backward=False)\n",
    "print(X, predictions, loss)\n",
    "for x, p in zip(X, predictions):\n",
    "    print(f\"XORnet({x}) = {p}\")"
   ]
  },
  {
   "cell_type": "markdown",
   "metadata": {
    "cell_id": "00018-9f8740d2-90e7-4d20-a535-002df8547aba",
    "deepnote_app_coordinates": {
     "h": 5,
     "w": 12,
     "x": 0,
     "y": 108
    },
    "deepnote_cell_type": "markdown",
    "id": "wmxCi5Vl6_xB"
   },
   "source": [
    "## Problem 2"
   ]
  },
  {
   "cell_type": "code",
   "execution_count": 5,
   "metadata": {
    "cell_id": "00019-8f804996-a00a-4bb5-a524-ad056659e023",
    "deepnote_app_coordinates": {
     "h": 5,
     "w": 12,
     "x": 0,
     "y": 114
    },
    "deepnote_cell_type": "code",
    "id": "eSM5hgJ1mrhY"
   },
   "outputs": [],
   "source": [
    "def check_grad(net, param_name, X, Y, eps=1e-5):\n",
    "\n",
    "    \"\"\"A gradient checking routine\"\"\"\n",
    "\n",
    "    param = getattr(net, param_name)\n",
    "    param_flat_accessor = param.reshape(-1)\n",
    "\n",
    "    grad = torch.empty_like(param)\n",
    "    grad_flat_accessor = grad.reshape(-1)\n",
    "\n",
    "    net.forward(X, Y, do_backward=True)\n",
    "    orig_grad = getattr(net, param_name + \"_grad\")\n",
    "    assert param.shape == orig_grad.shape\n",
    "\n",
    "    for i in range(param_flat_accessor.shape[0]):\n",
    "        orig_val = param_flat_accessor[i].item()\n",
    "        param_flat_accessor[i] = orig_val + eps\n",
    "        _, loss_positive = net.forward(X, Y)\n",
    "        param_flat_accessor[i] = orig_val - eps\n",
    "        _, loss_negative = net.forward(X, Y)\n",
    "        param_flat_accessor[i] = orig_val\n",
    "        grad_flat_accessor[i] = (loss_positive - loss_negative) / (2 * eps)\n",
    "\n",
    "    print(f\"param: {param_name} grad:{grad}, origgrad:{orig_grad}\")\n",
    "    assert torch.allclose(grad, orig_grad)\n",
    "    return grad, orig_grad\n"
   ]
  },
  {
   "cell_type": "code",
   "execution_count": 6,
   "metadata": {
    "cell_id": "00020-1c4174cf-f129-4cad-adad-4734810a8ce1",
    "deepnote_app_coordinates": {
     "h": 5,
     "w": 12,
     "x": 0,
     "y": 120
    },
    "deepnote_cell_type": "code",
    "id": "TTZu0jFEvgXF"
   },
   "outputs": [
    {
     "name": "stdout",
     "output_type": "stream",
     "text": [
      "param: W1 grad:tensor([[-0.0059, -0.0093],\n",
      "        [ 0.0047,  0.0036]], dtype=torch.float64), origgrad:tensor([[-0.0059, -0.0093],\n",
      "        [ 0.0047,  0.0036]], dtype=torch.float64)\n",
      "param: b1 grad:tensor([-0.0121,  0.0081], dtype=torch.float64), origgrad:tensor([-0.0121,  0.0081], dtype=torch.float64)\n",
      "param: W2 grad:tensor([[-0.0515, -0.0757]], dtype=torch.float64), origgrad:tensor([[-0.0515, -0.0757]], dtype=torch.float64)\n",
      "param: b2 grad:tensor([-0.1424], dtype=torch.float64), origgrad:tensor([-0.1424], dtype=torch.float64)\n"
     ]
    }
   ],
   "source": [
    "# Hint: use float64 for checking the correctness of the gradient\n",
    "net = SmallNet(2, 2, dtype=torch.float64)\n",
    "\n",
    "for param_name in [\"W1\", \"b1\", \"W2\", \"b2\"]:\n",
    "    check_grad(net, param_name, X, Y)"
   ]
  },
  {
   "cell_type": "markdown",
   "metadata": {
    "cell_id": "00021-145837f8-c83f-4aab-8e62-0114e59f30fe",
    "deepnote_app_coordinates": {
     "h": 5,
     "w": 12,
     "x": 0,
     "y": 126
    },
    "deepnote_cell_type": "markdown",
    "id": "8mUOs3cVvjM2"
   },
   "source": [
    "## Problem 3"
   ]
  },
  {
   "cell_type": "code",
   "execution_count": 7,
   "metadata": {
    "cell_id": "00022-91b3eba0-6025-4839-847c-f5cb275fad07",
    "colab": {
     "base_uri": "https://localhost:8080/"
    },
    "deepnote_app_coordinates": {
     "h": 5,
     "w": 12,
     "x": 0,
     "y": 132
    },
    "deepnote_cell_type": "code",
    "id": "nn2AAoZo0vjU",
    "outputId": "7b6b5a9a-dea5-4357-e8c1-36a34c7c272a"
   },
   "outputs": [
    {
     "name": "stdout",
     "output_type": "stream",
     "text": [
      "after 0 steps \tloss=0.7462357836015503\n",
      "after 5000 steps \tloss=0.027442663394993017\n",
      "after 10000 steps \tloss=0.009414873896172718\n",
      "after 15000 steps \tloss=0.005446743276715779\n",
      "after 20000 steps \tloss=0.003765765663174518\n",
      "after 25000 steps \tloss=0.00284996105278325\n",
      "after 30000 steps \tloss=0.0022782805280825756\n",
      "after 35000 steps \tloss=0.0018894428955133964\n",
      "after 40000 steps \tloss=0.0016088453088195476\n",
      "after 45000 steps \tloss=0.001397390378081643\n",
      "after 50000 steps \tloss=0.0012326747027560994\n",
      "after 55000 steps \tloss=0.0011009681248613963\n",
      "after 60000 steps \tloss=0.000993402079009688\n",
      "after 65000 steps \tloss=0.0009040010833570566\n",
      "after 70000 steps \tloss=0.0008285967416441166\n",
      "after 75000 steps \tloss=0.0007641955276166403\n",
      "after 80000 steps \tloss=0.000708593924598132\n",
      "after 85000 steps \tloss=0.0006601351293226813\n",
      "after 90000 steps \tloss=0.000617550193287177\n",
      "after 95000 steps \tloss=0.0005798513492136121\n"
     ]
    }
   ],
   "source": [
    "net = SmallNet(2, 10, dtype=torch.float64)\n",
    "\n",
    "alpha = 0.1  # set a learning rate\n",
    "\n",
    "for i in range(100000):\n",
    "    _, loss = net.forward(X, Y, do_backward=True)\n",
    "    if (i % 5000) == 0:\n",
    "        print(f\"after {i} steps \\tloss={loss}\")\n",
    "    for param_name in [\"W1\", \"b1\", \"W2\", \"b2\"]:\n",
    "        param = getattr(net, param_name)\n",
    "        # Hint: use the construct `param[:]` to change the contents of the array!\n",
    "        # Doing instead `param = new_val` simply changes to what the variable\n",
    "        # param points to, without affecting the network!\n",
    "        # alternatively, you could do setattr(net, param_name, new_value)\n",
    "        #print(f\"param: {param}\")\n",
    "        param[:] = param[:] - alpha * getattr(net, param_name + \"_grad\")"
   ]
  },
  {
   "cell_type": "code",
   "execution_count": 8,
   "metadata": {
    "cell_id": "00023-c92941a8-24d1-46e8-a410-d189c1d87b08",
    "colab": {
     "base_uri": "https://localhost:8080/"
    },
    "deepnote_app_coordinates": {
     "h": 5,
     "w": 12,
     "x": 0,
     "y": 138
    },
    "deepnote_cell_type": "code",
    "id": "TwpEjpkU1JvK",
    "outputId": "dc044de9-81c1-4944-d9a2-5dcc72bf9a57"
   },
   "outputs": [
    {
     "name": "stdout",
     "output_type": "stream",
     "text": [
      "XORnet(tensor([0., 0.], dtype=torch.float64)) = 0.0004110284911761391\n",
      "XORnet(tensor([0., 1.], dtype=torch.float64)) = 0.9994436437454616\n",
      "XORnet(tensor([1., 0.], dtype=torch.float64)) = 0.9994494092044136\n",
      "XORnet(tensor([1., 1.], dtype=torch.float64)) = 0.000666445740085386\n"
     ]
    }
   ],
   "source": [
    "predictions, loss = net.forward(X, Y, do_backward=True)\n",
    "for x, p in zip(X, predictions):\n",
    "    print(f\"XORnet({x}) = {p[0]}\")"
   ]
  },
  {
   "cell_type": "code",
   "execution_count": 9,
   "metadata": {
    "cell_id": "00024-e09655a3-84e1-4a43-9b61-00edb56c6054",
    "deepnote_app_coordinates": {
     "h": 5,
     "w": 12,
     "x": 0,
     "y": 144
    },
    "deepnote_cell_type": "code",
    "id": "U0ZMyHqz8xrC"
   },
   "outputs": [
    {
     "name": "stdout",
     "output_type": "stream",
     "text": [
      "run for 2 hidden\n",
      "after 0 steps \tloss=0.6998536731123869\n",
      "after 5000 steps \tloss=0.6927375886853283\n",
      "after 10000 steps \tloss=0.6308109626674524\n",
      "after 15000 steps \tloss=0.38034628836278117\n",
      "after 20000 steps \tloss=0.36022404969547867\n",
      "after 25000 steps \tloss=0.3548977643419758\n",
      "after 30000 steps \tloss=0.3525074849254562\n",
      "after 35000 steps \tloss=0.35116353438345393\n",
      "after 40000 steps \tloss=0.35030644055096166\n",
      "after 45000 steps \tloss=0.3497139198291881\n",
      "after 50000 steps \tloss=0.34928065504653555\n",
      "after 55000 steps \tloss=0.3489504759554279\n",
      "after 60000 steps \tloss=0.34869075162660157\n",
      "after 65000 steps \tloss=0.3484812577073723\n",
      "after 70000 steps \tloss=0.3483088057255846\n",
      "after 75000 steps \tloss=0.3481644354766344\n",
      "after 80000 steps \tloss=0.3480418502748094\n",
      "after 85000 steps \tloss=0.34793649805654214\n",
      "after 90000 steps \tloss=0.3478450077215961\n",
      "after 95000 steps \tloss=0.34776483038294487\n",
      "X3: tensor([0., 0., 0.], dtype=torch.float64), Y3: tensor([0.], dtype=torch.float64), prediction: tensor([0.0011], dtype=torch.float64)\n",
      "X3: tensor([0., 0., 1.], dtype=torch.float64), Y3: tensor([1.], dtype=torch.float64), prediction: tensor([0.4992], dtype=torch.float64)\n",
      "X3: tensor([0., 1., 0.], dtype=torch.float64), Y3: tensor([1.], dtype=torch.float64), prediction: tensor([0.9990], dtype=torch.float64)\n",
      "X3: tensor([0., 1., 1.], dtype=torch.float64), Y3: tensor([0.], dtype=torch.float64), prediction: tensor([0.5004], dtype=torch.float64)\n",
      "X3: tensor([1., 0., 0.], dtype=torch.float64), Y3: tensor([1.], dtype=torch.float64), prediction: tensor([0.4991], dtype=torch.float64)\n",
      "X3: tensor([1., 0., 1.], dtype=torch.float64), Y3: tensor([0.], dtype=torch.float64), prediction: tensor([0.0011], dtype=torch.float64)\n",
      "X3: tensor([1., 1., 0.], dtype=torch.float64), Y3: tensor([0.], dtype=torch.float64), prediction: tensor([0.5003], dtype=torch.float64)\n",
      "X3: tensor([1., 1., 1.], dtype=torch.float64), Y3: tensor([1.], dtype=torch.float64), prediction: tensor([0.9989], dtype=torch.float64)\n",
      "for 2 hidden neurons success rate is: 0.5\n",
      "run for 3 hidden\n",
      "after 0 steps \tloss=0.864307657275867\n",
      "after 5000 steps \tloss=0.6927891983717781\n",
      "after 10000 steps \tloss=0.6601760353925468\n",
      "after 15000 steps \tloss=0.24181886182051127\n",
      "after 20000 steps \tloss=0.053640382521600825\n",
      "after 25000 steps \tloss=0.013439207853502496\n",
      "after 30000 steps \tloss=0.00712750597974059\n",
      "after 35000 steps \tloss=0.004871403250182013\n",
      "after 40000 steps \tloss=0.003729712554604644\n",
      "after 45000 steps \tloss=0.003041152397368956\n",
      "after 50000 steps \tloss=0.002579896278590565\n",
      "after 55000 steps \tloss=0.002248583955798716\n",
      "after 60000 steps \tloss=0.0019984988568768065\n",
      "after 65000 steps \tloss=0.0018025987499003446\n",
      "after 70000 steps \tloss=0.001644677063180125\n",
      "after 75000 steps \tloss=0.0015144307303534784\n",
      "after 80000 steps \tloss=0.0014049953160833642\n",
      "after 85000 steps \tloss=0.0013116193711506042\n",
      "after 90000 steps \tloss=0.0012309080453070222\n",
      "after 95000 steps \tloss=0.0011603699542220322\n",
      "X3: tensor([0., 0., 0.], dtype=torch.float64), Y3: tensor([0.], dtype=torch.float64), prediction: tensor([0.0001], dtype=torch.float64)\n",
      "X3: tensor([0., 0., 1.], dtype=torch.float64), Y3: tensor([1.], dtype=torch.float64), prediction: tensor([0.9990], dtype=torch.float64)\n",
      "X3: tensor([0., 1., 0.], dtype=torch.float64), Y3: tensor([1.], dtype=torch.float64), prediction: tensor([0.9988], dtype=torch.float64)\n",
      "X3: tensor([0., 1., 1.], dtype=torch.float64), Y3: tensor([0.], dtype=torch.float64), prediction: tensor([0.0021], dtype=torch.float64)\n",
      "X3: tensor([1., 0., 0.], dtype=torch.float64), Y3: tensor([1.], dtype=torch.float64), prediction: tensor([0.9983], dtype=torch.float64)\n",
      "X3: tensor([1., 0., 1.], dtype=torch.float64), Y3: tensor([0.], dtype=torch.float64), prediction: tensor([0.0015], dtype=torch.float64)\n",
      "X3: tensor([1., 1., 0.], dtype=torch.float64), Y3: tensor([0.], dtype=torch.float64), prediction: tensor([0.0011], dtype=torch.float64)\n",
      "X3: tensor([1., 1., 1.], dtype=torch.float64), Y3: tensor([1.], dtype=torch.float64), prediction: tensor([0.9998], dtype=torch.float64)\n",
      "for 3 hidden neurons success rate is: 1.0\n",
      "run for 5 hidden\n",
      "after 0 steps \tloss=0.7695156271251828\n",
      "after 5000 steps \tloss=0.6289621921570256\n",
      "after 10000 steps \tloss=0.04300055100737677\n",
      "after 15000 steps \tloss=0.012292544897188968\n",
      "after 20000 steps \tloss=0.006543740421070275\n",
      "after 25000 steps \tloss=0.004264998570581769\n",
      "after 30000 steps \tloss=0.003080451120393923\n",
      "after 35000 steps \tloss=0.002373526981860468\n",
      "after 40000 steps \tloss=0.0019127176199005228\n",
      "after 45000 steps \tloss=0.0015925655510422242\n",
      "after 50000 steps \tloss=0.0013590762780808106\n",
      "after 55000 steps \tloss=0.0011821994147760621\n",
      "after 60000 steps \tloss=0.0010440807902543992\n",
      "after 65000 steps \tloss=0.0009335325534934127\n",
      "after 70000 steps \tloss=0.0008432277665535623\n",
      "after 75000 steps \tloss=0.0007681868793312886\n",
      "after 80000 steps \tloss=0.0007049176015712747\n",
      "after 85000 steps \tloss=0.0006509038336363161\n",
      "after 90000 steps \tloss=0.0006042900834348265\n",
      "after 95000 steps \tloss=0.0005636799536119218\n",
      "X3: tensor([0., 0., 0.], dtype=torch.float64), Y3: tensor([0.], dtype=torch.float64), prediction: tensor([0.0003], dtype=torch.float64)\n",
      "X3: tensor([0., 0., 1.], dtype=torch.float64), Y3: tensor([1.], dtype=torch.float64), prediction: tensor([0.9993], dtype=torch.float64)\n",
      "X3: tensor([0., 1., 0.], dtype=torch.float64), Y3: tensor([1.], dtype=torch.float64), prediction: tensor([0.9995], dtype=torch.float64)\n",
      "X3: tensor([0., 1., 1.], dtype=torch.float64), Y3: tensor([0.], dtype=torch.float64), prediction: tensor([0.0007], dtype=torch.float64)\n",
      "X3: tensor([1., 0., 0.], dtype=torch.float64), Y3: tensor([1.], dtype=torch.float64), prediction: tensor([0.9993], dtype=torch.float64)\n",
      "X3: tensor([1., 0., 1.], dtype=torch.float64), Y3: tensor([0.], dtype=torch.float64), prediction: tensor([0.0003], dtype=torch.float64)\n",
      "X3: tensor([1., 1., 0.], dtype=torch.float64), Y3: tensor([0.], dtype=torch.float64), prediction: tensor([0.0007], dtype=torch.float64)\n",
      "X3: tensor([1., 1., 1.], dtype=torch.float64), Y3: tensor([1.], dtype=torch.float64), prediction: tensor([0.9998], dtype=torch.float64)\n",
      "for 5 hidden neurons success rate is: 1.0\n",
      "run for 10 hidden\n",
      "after 0 steps \tloss=0.7007924431910915\n",
      "after 5000 steps \tloss=0.14463214955658746\n",
      "after 10000 steps \tloss=0.018987599418425524\n",
      "after 15000 steps \tloss=0.009116405728745515\n",
      "after 20000 steps \tloss=0.005838687048959144\n",
      "after 25000 steps \tloss=0.004241019040208813\n",
      "after 30000 steps \tloss=0.003305529515675509\n",
      "after 35000 steps \tloss=0.002695125866774671\n",
      "after 40000 steps \tloss=0.0022672567552205983\n",
      "after 45000 steps \tloss=0.0019516547782870253\n",
      "after 50000 steps \tloss=0.0017098129366876205\n",
      "after 55000 steps \tloss=0.0015189203352700465\n",
      "after 60000 steps \tloss=0.001364632031249062\n",
      "after 65000 steps \tloss=0.001237489468159933\n",
      "after 70000 steps \tloss=0.001131011285837447\n",
      "after 75000 steps \tloss=0.001040612199008589\n",
      "after 80000 steps \tloss=0.0009629598724751631\n",
      "after 85000 steps \tloss=0.0008955762257683655\n",
      "after 90000 steps \tloss=0.0008365814382032478\n",
      "after 95000 steps \tloss=0.0007845245344460912\n",
      "X3: tensor([0., 0., 0.], dtype=torch.float64), Y3: tensor([0.], dtype=torch.float64), prediction: tensor([0.0008], dtype=torch.float64)\n",
      "X3: tensor([0., 0., 1.], dtype=torch.float64), Y3: tensor([1.], dtype=torch.float64), prediction: tensor([0.9991], dtype=torch.float64)\n",
      "X3: tensor([0., 1., 0.], dtype=torch.float64), Y3: tensor([1.], dtype=torch.float64), prediction: tensor([0.9992], dtype=torch.float64)\n",
      "X3: tensor([0., 1., 1.], dtype=torch.float64), Y3: tensor([0.], dtype=torch.float64), prediction: tensor([0.0008], dtype=torch.float64)\n",
      "X3: tensor([1., 0., 0.], dtype=torch.float64), Y3: tensor([1.], dtype=torch.float64), prediction: tensor([0.9992], dtype=torch.float64)\n",
      "X3: tensor([1., 0., 1.], dtype=torch.float64), Y3: tensor([0.], dtype=torch.float64), prediction: tensor([0.0008], dtype=torch.float64)\n",
      "X3: tensor([1., 1., 0.], dtype=torch.float64), Y3: tensor([0.], dtype=torch.float64), prediction: tensor([0.0006], dtype=torch.float64)\n",
      "X3: tensor([1., 1., 1.], dtype=torch.float64), Y3: tensor([1.], dtype=torch.float64), prediction: tensor([0.9997], dtype=torch.float64)\n",
      "for 10 hidden neurons success rate is: 1.0\n",
      "run for 20 hidden\n",
      "after 0 steps \tloss=0.742361593192143\n",
      "after 5000 steps \tloss=0.12384400112287189\n",
      "after 10000 steps \tloss=0.018195174049542972\n",
      "after 15000 steps \tloss=0.008089774872177\n",
      "after 20000 steps \tloss=0.004936538389656466\n",
      "after 25000 steps \tloss=0.003472179023095458\n",
      "after 30000 steps \tloss=0.0026450079252734867\n",
      "after 35000 steps \tloss=0.002119956437343618\n",
      "after 40000 steps \tloss=0.001759860120758185\n",
      "after 45000 steps \tloss=0.0014989130965739825\n",
      "after 50000 steps \tloss=0.0013018679232117423\n",
      "after 55000 steps \tloss=0.0011482486645747495\n",
      "after 60000 steps \tloss=0.0010253946114994533\n",
      "after 65000 steps \tloss=0.0009250801180993532\n",
      "after 70000 steps \tloss=0.0008417415125822039\n",
      "after 75000 steps \tloss=0.0007714879056134899\n",
      "after 80000 steps \tloss=0.0007115206088822231\n",
      "after 85000 steps \tloss=0.0006597775701013941\n",
      "after 90000 steps \tloss=0.000614707587957075\n",
      "after 95000 steps \tloss=0.0005751223955474201\n",
      "X3: tensor([0., 0., 0.], dtype=torch.float64), Y3: tensor([0.], dtype=torch.float64), prediction: tensor([0.0005], dtype=torch.float64)\n",
      "X3: tensor([0., 0., 1.], dtype=torch.float64), Y3: tensor([1.], dtype=torch.float64), prediction: tensor([0.9992], dtype=torch.float64)\n",
      "X3: tensor([0., 1., 0.], dtype=torch.float64), Y3: tensor([1.], dtype=torch.float64), prediction: tensor([0.9996], dtype=torch.float64)\n",
      "X3: tensor([0., 1., 1.], dtype=torch.float64), Y3: tensor([0.], dtype=torch.float64), prediction: tensor([0.0004], dtype=torch.float64)\n",
      "X3: tensor([1., 0., 0.], dtype=torch.float64), Y3: tensor([1.], dtype=torch.float64), prediction: tensor([0.9994], dtype=torch.float64)\n",
      "X3: tensor([1., 0., 1.], dtype=torch.float64), Y3: tensor([0.], dtype=torch.float64), prediction: tensor([0.0007], dtype=torch.float64)\n",
      "X3: tensor([1., 1., 0.], dtype=torch.float64), Y3: tensor([0.], dtype=torch.float64), prediction: tensor([0.0004], dtype=torch.float64)\n",
      "X3: tensor([1., 1., 1.], dtype=torch.float64), Y3: tensor([1.], dtype=torch.float64), prediction: tensor([0.9996], dtype=torch.float64)\n",
      "for 20 hidden neurons success rate is: 1.0\n"
     ]
    }
   ],
   "source": [
    "# TODO:\n",
    "# Generate data for a 3D XOR task\n",
    "# Then estimate the success rate of training the network with diferent\n",
    "# hidden sizes.\n",
    "\n",
    "X3 = torch.tensor([[0, 0, 0], [0, 0, 1], [0, 1, 0], [0, 1, 1], [1, 0, 0], [1, 0, 1], [1, 1, 0], [1, 1, 1],], dtype=torch.float64)\n",
    "Y3 = torch.tensor([[0], [1], [1], [0], [1], [0], [0], [1],], dtype=torch.float64)\n",
    "\n",
    "for hidden_dim in [2, 3, 5, 10, 20]:\n",
    "    # run a few trainings and record the fraction of successful ones\n",
    "    net = SmallNet(3, hidden_dim, dtype=torch.float64)\n",
    "\n",
    "    alpha = 0.1  # set a learning rate\n",
    "\n",
    "    print(f\"run for {hidden_dim} hidden\")\n",
    "    for i in range(100000):\n",
    "        _, loss = net.forward(X3, Y3, do_backward=True)\n",
    "        if (i % 5000) == 0:\n",
    "            print(f\"after {i} steps \\tloss={loss}\")\n",
    "        for param_name in [\"W1\", \"b1\", \"W2\", \"b2\"]:\n",
    "            param = getattr(net, param_name)\n",
    "            param[:] = param[:] - alpha * getattr(net, param_name + \"_grad\")\n",
    "        \n",
    "    predictions, _ = net.forward(X3, Y3, do_backward=False)\n",
    "    epsilon = 0.01\n",
    "    success = 0\n",
    "    for i in range(Y3.shape[0]):\n",
    "        print(f\"X3: {X3[i]}, Y3: {Y3[i]}, prediction: {predictions[i]}\")\n",
    "        if abs(predictions[i] - Y3[i]) < epsilon:\n",
    "            success += 1\n",
    "\n",
    "    print(f\"for {hidden_dim} hidden neurons success rate is: {success / Y3.shape[0]}\")\n",
    "    "
   ]
  },
  {
   "cell_type": "markdown",
   "metadata": {
    "cell_id": "00025-9703bd09-6aae-4830-8221-09b53a623e4b",
    "deepnote_app_coordinates": {
     "h": 5,
     "w": 12,
     "x": 0,
     "y": 150
    },
    "deepnote_cell_type": "markdown",
    "id": "UuaLEoV-9DLG"
   },
   "source": [
    "## Problem 4\n"
   ]
  },
  {
   "cell_type": "code",
   "execution_count": 10,
   "metadata": {
    "cell_id": "00026-1a2be430-91e0-4209-ab3f-9ef84c39513b",
    "deepnote_app_coordinates": {
     "h": 5,
     "w": 12,
     "x": 0,
     "y": 156
    },
    "deepnote_cell_type": "code",
    "id": "w3lk9_TM-MvK"
   },
   "outputs": [],
   "source": [
    "def ReLU(x):\n",
    "    return torch.maximum(x, torch.zeros(x.shape))\n",
    "\n",
    "def ReLUderivative(x):\n",
    "    return torch.gt(x, 0.0).double()\n",
    "\n",
    "class ReluNet:\n",
    "    def __init__(self, in_features: int, num_hidden: int, dtype=torch.float64):\n",
    "        self.W1 = torch.zeros((num_hidden, in_features), dtype=dtype)\n",
    "        self.b1 = torch.zeros((num_hidden,), dtype=dtype)\n",
    "        self.W2 = torch.zeros((1, num_hidden), dtype=dtype)\n",
    "        self.b2 = torch.zeros((1,), dtype=dtype)\n",
    "\n",
    "        self.init_params()\n",
    "\n",
    "    def init_params(self):\n",
    "        # set all parameters to small random values, e.g. from N(0, 0.5)\n",
    "        torch.nn.init.normal_(self.W1, 0, 0.5)\n",
    "        torch.nn.init.normal_(self.b1, 0, 0.5)\n",
    "        torch.nn.init.normal_(self.W2, 0, 0.5)\n",
    "        torch.nn.init.normal_(self.b2, 0, 0.5)\n",
    "\n",
    "    def forward(self, X, Y=None, do_backward=False):\n",
    "        #print(f\"X:{X}, Y:{Y}, W1.T:{self.W1.T}, b1:{self.b1}, W2.T:{self.W2.T}, b2:{self.b2}\")\n",
    "\n",
    "        A1 = X @ self.W1.T + self.b1\n",
    "        O1 = ReLU(A1)\n",
    "\n",
    "        #print(f\"A1:{A1}, O1:{O1}\")\n",
    "\n",
    "        A2 = O1 @ self.W2.T + self.b2\n",
    "        O2 = ReLU(A2)\n",
    "\n",
    "        #print(f\"A2:{A2}, O2:{O2}\")\n",
    "\n",
    "        # When Y is none, simply return the predictions. Else compute the loss\n",
    "        if Y is not None:\n",
    "            loss = -Y * torch.log(O2) - (1.0 - Y) * torch.log(1.0 - O2) # cross-entropy loss\n",
    "            # normalize loss by batch size\n",
    "            #print(f\"loss:{loss}\")\n",
    "            loss = loss.sum() / X.shape[0]\n",
    "        else:\n",
    "            loss = torch.nan\n",
    "\n",
    "        if do_backward:\n",
    "            A2_grad = (O2 - Y) / X.shape[0]\n",
    "            #print(f\"O2:{O2}, \\nY:{Y}\")\n",
    "            #print(f\"a2grad:{A2_grad}, \\nO1:{O1}, \\nW2:{self.W2}\\n\")\n",
    "            self.b2_grad = A2_grad.sum(0)\n",
    "            self.W2_grad = A2_grad.T @ O1\n",
    "            #print(f\"w2grad:{self.W2_grad}, O1.T@A2_grad ).T:{(O1.T@A2_grad ).T}\")\n",
    "\n",
    "            O1_grad = A2_grad @ self.W2\n",
    "            A1_grad = O1_grad * ReLUderivative(A1)\n",
    "\n",
    "            self.b1_grad = A1_grad.sum(0)\n",
    "            self.W1_grad = A1_grad.T @ X\n",
    "\n",
    "        return O2, loss"
   ]
  },
  {
   "cell_type": "code",
   "execution_count": 11,
   "metadata": {},
   "outputs": [
    {
     "name": "stdout",
     "output_type": "stream",
     "text": [
      "run for 10 hidden\n",
      "after 0 steps \tloss=nan\n",
      "after 5000 steps \tloss=1.4696155284189557e-08\n",
      "after 10000 steps \tloss=3.5388358909926975e-15\n",
      "after 15000 steps \tloss=3.5388358909926975e-15\n",
      "after 20000 steps \tloss=3.5388358909926975e-15\n",
      "after 25000 steps \tloss=3.5388358909926975e-15\n",
      "after 30000 steps \tloss=3.5388358909926975e-15\n",
      "after 35000 steps \tloss=3.5388358909926975e-15\n",
      "after 40000 steps \tloss=3.5388358909926975e-15\n",
      "after 45000 steps \tloss=3.5388358909926975e-15\n",
      "after 50000 steps \tloss=3.5388358909926975e-15\n",
      "after 55000 steps \tloss=3.5388358909926975e-15\n",
      "after 60000 steps \tloss=3.5388358909926975e-15\n",
      "after 65000 steps \tloss=3.5388358909926975e-15\n",
      "after 70000 steps \tloss=3.5388358909926975e-15\n",
      "after 75000 steps \tloss=3.5388358909926975e-15\n",
      "after 80000 steps \tloss=3.5388358909926975e-15\n",
      "after 85000 steps \tloss=3.5388358909926975e-15\n",
      "after 90000 steps \tloss=3.5388358909926975e-15\n",
      "after 95000 steps \tloss=3.5388358909926975e-15\n",
      "X3: tensor([0., 0., 0.], dtype=torch.float64), Y3: tensor([0.], dtype=torch.float64), prediction: tensor([2.3315e-15], dtype=torch.float64)\n",
      "X3: tensor([0., 0., 1.], dtype=torch.float64), Y3: tensor([1.], dtype=torch.float64), prediction: tensor([1.0000], dtype=torch.float64)\n",
      "X3: tensor([0., 1., 0.], dtype=torch.float64), Y3: tensor([1.], dtype=torch.float64), prediction: tensor([1.0000], dtype=torch.float64)\n",
      "X3: tensor([0., 1., 1.], dtype=torch.float64), Y3: tensor([0.], dtype=torch.float64), prediction: tensor([5.1070e-15], dtype=torch.float64)\n",
      "X3: tensor([1., 0., 0.], dtype=torch.float64), Y3: tensor([1.], dtype=torch.float64), prediction: tensor([1.0000], dtype=torch.float64)\n",
      "X3: tensor([1., 0., 1.], dtype=torch.float64), Y3: tensor([0.], dtype=torch.float64), prediction: tensor([1.1102e-16], dtype=torch.float64)\n",
      "X3: tensor([1., 1., 0.], dtype=torch.float64), Y3: tensor([0.], dtype=torch.float64), prediction: tensor([6.5503e-15], dtype=torch.float64)\n",
      "X3: tensor([1., 1., 1.], dtype=torch.float64), Y3: tensor([1.], dtype=torch.float64), prediction: tensor([1.0000], dtype=torch.float64)\n",
      "for 10 hidden neurons success rate is: 1.0\n"
     ]
    }
   ],
   "source": [
    "for hidden_dim in [10]:\n",
    "    # run a few trainings and record the fraction of successful ones\n",
    "    net = ReluNet(3, hidden_dim, dtype=torch.float64)\n",
    "\n",
    "    alpha = 0.1  # set a learning rate\n",
    "\n",
    "    print(f\"run for {hidden_dim} hidden\")\n",
    "    for i in range(100000):\n",
    "        _, loss = net.forward(X3, Y3, do_backward=True)\n",
    "        if (i % 5000) == 0:\n",
    "            print(f\"after {i} steps \\tloss={loss}\")\n",
    "        for param_name in [\"W1\", \"b1\", \"W2\", \"b2\"]:\n",
    "            param = getattr(net, param_name)\n",
    "            param[:] = param[:] - alpha * getattr(net, param_name + \"_grad\")\n",
    "        \n",
    "    predictions, _ = net.forward(X3, Y3, do_backward=False)\n",
    "    epsilon = 0.01\n",
    "    success = 0\n",
    "    for i in range(Y3.shape[0]):\n",
    "        print(f\"X3: {X3[i]}, Y3: {Y3[i]}, prediction: {predictions[i]}\")\n",
    "        if abs(predictions[i] - Y3[i]) < epsilon:\n",
    "            success += 1\n",
    "\n",
    "    print(f\"for {hidden_dim} hidden neurons success rate is: {success / Y3.shape[0]}\")"
   ]
  },
  {
   "cell_type": "markdown",
   "metadata": {
    "cell_id": "00027-de8a387d-3b6a-48d5-b6c8-fddf13637e38",
    "deepnote_app_coordinates": {
     "h": 5,
     "w": 12,
     "x": 0,
     "y": 162
    },
    "deepnote_cell_type": "markdown",
    "id": "_Hr_iAKX-ND1"
   },
   "source": [
    "## Problem 5"
   ]
  },
  {
   "cell_type": "code",
   "execution_count": 12,
   "metadata": {
    "cell_id": "00028-0aa6ea62-907d-44bf-9ba4-71870d3dd547",
    "deepnote_app_coordinates": {
     "h": 5,
     "w": 12,
     "x": 0,
     "y": 168
    },
    "deepnote_cell_type": "code",
    "id": "rnz6CndQ-NRI"
   },
   "outputs": [],
   "source": [
    "def sigmoid(x):\n",
    "    return 1.0 / (1.0 + torch.exp(-x))\n",
    "\n",
    "class SmallNet3:\n",
    "    def __init__(self, in_features: int, num_hidden: int, dtype=torch.float64):\n",
    "        self.W1 = torch.zeros((num_hidden, in_features), dtype=dtype)\n",
    "        self.b1 = torch.zeros((num_hidden,), dtype=dtype)\n",
    "        self.W2 = torch.zeros((num_hidden, num_hidden), dtype=dtype)\n",
    "        self.b2 = torch.zeros((num_hidden,), dtype=dtype)\n",
    "        self.W3 = torch.zeros((1, num_hidden), dtype=dtype)\n",
    "        self.b3 = torch.zeros((1,), dtype=dtype)\n",
    "\n",
    "        self.init_params()\n",
    "\n",
    "    def init_params(self):\n",
    "        # set all parameters to small random values, e.g. from N(0, 0.5)\n",
    "        torch.nn.init.normal_(self.W1, 0, 0.5)\n",
    "        torch.nn.init.normal_(self.b1, 0, 0.5)\n",
    "        torch.nn.init.normal_(self.W2, 0, 0.5)\n",
    "        torch.nn.init.normal_(self.b2, 0, 0.5)\n",
    "        torch.nn.init.normal_(self.W3, 0, 0.5)\n",
    "        torch.nn.init.normal_(self.b3, 0, 0.5)\n",
    "\n",
    "    def forward(self, X, Y=None, do_backward=False):\n",
    "        #print(f\"X:{X}, Y:{Y}, W1.T:{self.W1.T}, b1:{self.b1}, W2.T:{self.W2.T}, b2:{self.b2}\")\n",
    "\n",
    "        A1 = X @ self.W1.T + self.b1\n",
    "        O1 = sigmoid(A1)\n",
    "\n",
    "        #print(f\"A1:{A1}, O1:{O1}\")\n",
    "\n",
    "        A2 = O1 @ self.W2.T + self.b2\n",
    "        O2 = sigmoid(A2)\n",
    "\n",
    "        A3 = O2 @ self.W3.T + self.b3\n",
    "        O3 = sigmoid(A3)\n",
    "\n",
    "        # When Y is none, simply return the predictions. Else compute the loss\n",
    "        if Y is not None:\n",
    "            loss = -Y * torch.log(O3) - (1.0 - Y) * torch.log(1.0 - O3) # cross-entropy loss\n",
    "            # normalize loss by batch size\n",
    "            #print(f\"loss:{loss}\")\n",
    "            loss = loss.sum() / X.shape[0]\n",
    "        else:\n",
    "            loss = torch.nan\n",
    "\n",
    "        if do_backward:\n",
    "            A3_grad = (O3 - Y) / X.shape[0]\n",
    "\n",
    "            self.b3_grad = A3_grad.sum(0)\n",
    "            self.W3_grad = A3_grad.T @ O2\n",
    "\n",
    "            O2_grad = A3_grad @ self.W3\n",
    "            A2_grad = O2_grad * (1 - O2) * O2\n",
    "\n",
    "            self.b2_grad = A2_grad.sum(0)\n",
    "            self.W2_grad = A2_grad.T @ O1\n",
    "\n",
    "            O1_grad = A2_grad @ self.W2\n",
    "            A1_grad = O1_grad * (1 - O1) * O1\n",
    "\n",
    "            self.b1_grad = A1_grad.sum(0)\n",
    "            self.W1_grad = A1_grad.T @ X\n",
    "\n",
    "        return O3, loss"
   ]
  },
  {
   "cell_type": "code",
   "execution_count": 13,
   "metadata": {},
   "outputs": [
    {
     "name": "stdout",
     "output_type": "stream",
     "text": [
      "param: W1 grad:tensor([[-1.0931e-03, -1.0379e-03, -8.7650e-04],\n",
      "        [ 2.5483e-05,  2.5664e-05,  3.4214e-05],\n",
      "        [-6.1097e-04, -7.5635e-04, -5.7819e-04]], dtype=torch.float64), origgrad:tensor([[-1.0931e-03, -1.0379e-03, -8.7650e-04],\n",
      "        [ 2.5483e-05,  2.5664e-05,  3.4214e-05],\n",
      "        [-6.1097e-04, -7.5635e-04, -5.7819e-04]], dtype=torch.float64)\n",
      "param: b1 grad:tensor([-2.0467e-03,  9.0060e-05, -1.2957e-03], dtype=torch.float64), origgrad:tensor([-2.0467e-03,  9.0060e-05, -1.2957e-03], dtype=torch.float64)\n",
      "param: W2 grad:tensor([[0.0016, 0.0015, 0.0047],\n",
      "        [0.0017, 0.0016, 0.0047],\n",
      "        [0.0005, 0.0005, 0.0014]], dtype=torch.float64), origgrad:tensor([[0.0016, 0.0015, 0.0047],\n",
      "        [0.0017, 0.0016, 0.0047],\n",
      "        [0.0005, 0.0005, 0.0014]], dtype=torch.float64)\n",
      "param: b2 grad:tensor([0.0081, 0.0083, 0.0024], dtype=torch.float64), origgrad:tensor([0.0081, 0.0083, 0.0024], dtype=torch.float64)\n",
      "param: W3 grad:tensor([[0.0147, 0.0205, 0.0342]], dtype=torch.float64), origgrad:tensor([[0.0147, 0.0205, 0.0342]], dtype=torch.float64)\n",
      "param: b3 grad:tensor([0.0537], dtype=torch.float64), origgrad:tensor([0.0537], dtype=torch.float64)\n"
     ]
    }
   ],
   "source": [
    "net = SmallNet3(3, 3, dtype=torch.float64)\n",
    "\n",
    "for param_name in [\"W1\", \"b1\", \"W2\", \"b2\", \"W3\", \"b3\"]:\n",
    "    check_grad(net, param_name, X3, Y3)"
   ]
  },
  {
   "cell_type": "code",
   "execution_count": 14,
   "metadata": {},
   "outputs": [
    {
     "name": "stdout",
     "output_type": "stream",
     "text": [
      "run for 10 hidden\n",
      "after 0 steps \tloss=0.7744361126186956\n",
      "after 30000 steps \tloss=0.0008769303294631394\n",
      "after 60000 steps \tloss=0.0002921399988585113\n",
      "after 90000 steps \tloss=0.00016823622554747378\n",
      "tensor([[1.0901e-04],\n",
      "        [9.9986e-01],\n",
      "        [9.9988e-01],\n",
      "        [1.8499e-04],\n",
      "        [9.9987e-01],\n",
      "        [8.6538e-05],\n",
      "        [7.1908e-05],\n",
      "        [9.9991e-01]], dtype=torch.float64)\n",
      "X3: tensor([0., 0., 0.], dtype=torch.float64), Y3: tensor([0.], dtype=torch.float64), prediction: tensor([0.0001], dtype=torch.float64)\n",
      "X3: tensor([0., 0., 1.], dtype=torch.float64), Y3: tensor([1.], dtype=torch.float64), prediction: tensor([0.9999], dtype=torch.float64)\n",
      "X3: tensor([0., 1., 0.], dtype=torch.float64), Y3: tensor([1.], dtype=torch.float64), prediction: tensor([0.9999], dtype=torch.float64)\n",
      "X3: tensor([0., 1., 1.], dtype=torch.float64), Y3: tensor([0.], dtype=torch.float64), prediction: tensor([0.0002], dtype=torch.float64)\n",
      "X3: tensor([1., 0., 0.], dtype=torch.float64), Y3: tensor([1.], dtype=torch.float64), prediction: tensor([0.9999], dtype=torch.float64)\n",
      "X3: tensor([1., 0., 1.], dtype=torch.float64), Y3: tensor([0.], dtype=torch.float64), prediction: tensor([8.6538e-05], dtype=torch.float64)\n",
      "X3: tensor([1., 1., 0.], dtype=torch.float64), Y3: tensor([0.], dtype=torch.float64), prediction: tensor([7.1908e-05], dtype=torch.float64)\n",
      "X3: tensor([1., 1., 1.], dtype=torch.float64), Y3: tensor([1.], dtype=torch.float64), prediction: tensor([0.9999], dtype=torch.float64)\n",
      "for 10 hidden neurons success rate is: 1.0\n"
     ]
    }
   ],
   "source": [
    "for hidden_dim in [10]:\n",
    "    # run a few trainings and record the fraction of successful ones\n",
    "    net = SmallNet3(3, hidden_dim, dtype=torch.float64)\n",
    "\n",
    "    alpha = 0.1  # set a learning rate\n",
    "\n",
    "    print(f\"run for {hidden_dim} hidden\")\n",
    "    for i in range(120000):\n",
    "        _, loss = net.forward(X3, Y3, do_backward=True)\n",
    "        if (i % 30000) == 0:\n",
    "            print(f\"after {i} steps \\tloss={loss}\")\n",
    "        for param_name in [\"W1\", \"b1\", \"W2\", \"b2\", \"W3\", \"b3\"]:\n",
    "            param = getattr(net, param_name)\n",
    "            param[:] = param[:] - alpha * getattr(net, param_name + \"_grad\")\n",
    "        \n",
    "    predictions, _ = net.forward(X3, Y3, do_backward=False)\n",
    "    epsilon = 0.01\n",
    "    success = 0\n",
    "    print(predictions)\n",
    "    for i in range(Y3.shape[0]):\n",
    "        print(f\"X3: {X3[i]}, Y3: {Y3[i]}, prediction: {predictions[i]}\")\n",
    "        if abs(predictions[i] - Y3[i]) < epsilon:\n",
    "            success += 1\n",
    "\n",
    "    print(f\"for {hidden_dim} hidden neurons success rate is: {success / Y3.shape[0]}\")"
   ]
  },
  {
   "cell_type": "markdown",
   "metadata": {
    "cell_id": "00029-1de44bc6-5f35-4df3-af9a-408291ccc867",
    "deepnote_app_coordinates": {
     "h": 5,
     "w": 12,
     "x": 0,
     "y": 174
    },
    "deepnote_cell_type": "markdown",
    "id": "4PcNxrCt-NcN"
   },
   "source": [
    "## Problem 6"
   ]
  },
  {
   "cell_type": "code",
   "execution_count": 15,
   "metadata": {
    "cell_id": "00030-fdaced74-34ab-4cfc-8fa2-f3a0b012fbf2",
    "deepnote_app_coordinates": {
     "h": 5,
     "w": 12,
     "x": 0,
     "y": 180
    },
    "deepnote_cell_type": "code",
    "id": "6Brepirl-Nln"
   },
   "outputs": [],
   "source": [
    "def sigmoid(x):\n",
    "    return 1.0 / (1.0 + torch.exp(-x))\n",
    "\n",
    "class CustomNet:\n",
    "    def __init__(self, in_features: int, num_hidden: int, num_layers: int, dtype=torch.float64):\n",
    "\n",
    "        self.Ws = []\n",
    "        self.bs = []\n",
    "\n",
    "        self.Ws.append(torch.zeros((num_hidden, in_features), dtype=dtype))\n",
    "        self.bs.append(torch.zeros((num_hidden,), dtype=dtype))\n",
    "        \n",
    "        for i in range(num_layers):\n",
    "            self.Ws.append(torch.zeros((num_hidden, num_hidden), dtype=dtype))\n",
    "            self.bs.append(torch.zeros((num_hidden,), dtype=dtype))\n",
    "        \n",
    "        self.Ws.append(torch.zeros((1, num_hidden), dtype=dtype))\n",
    "        self.bs.append(torch.zeros((1,), dtype=dtype))\n",
    "\n",
    "        self.init_params()\n",
    "\n",
    "    def init_params(self):\n",
    "        # set all parameters to small random values, e.g. from N(0, 0.5)\n",
    "        for i in range( len(self.Ws) ):\n",
    "            torch.nn.init.normal_(self.Ws[i], 0, 0.5)\n",
    "            torch.nn.init.normal_(self.bs[i], 0, 0.5)\n",
    "\n",
    "    def forward(self, X, Y=None, do_backward=False):\n",
    "        As = []\n",
    "        Os = []\n",
    "\n",
    "        layercount = len(self.Ws)\n",
    "\n",
    "        As.append( X @ self.Ws[0].T + self.bs[0] )\n",
    "        Os.append( sigmoid(As[0]) )\n",
    "        for i in range( 1, layercount ):\n",
    "            As.append( Os[i - 1] @ self.Ws[i].T + self.bs[i] )\n",
    "            Os.append( sigmoid(As[i]) )\n",
    "\n",
    "        # When Y is none, simply return the predictions. Else compute the loss\n",
    "        if Y is not None:\n",
    "            loss = -Y * torch.log(Os[layercount - 1]) - (1.0 - Y) * torch.log(1.0 - Os[layercount - 1]) # cross-entropy loss\n",
    "            # normalize loss by batch size\n",
    "            #print(f\"loss:{loss}\")\n",
    "            loss = loss.sum() / X.shape[0]\n",
    "        else:\n",
    "            loss = torch.nan\n",
    "\n",
    "        if do_backward:\n",
    "            A_grads = []\n",
    "            O_grads = []\n",
    "            self.W_grads = []\n",
    "            self.b_grads = []\n",
    "\n",
    "            backiter = layercount - 1\n",
    "\n",
    "            O_grads.append( 0 )\n",
    "            A_grads.append( (Os[backiter] - Y) / X.shape[0] )\n",
    "\n",
    "            backiter -= 1\n",
    "\n",
    "            for i in range( 0, layercount - 1 ):\n",
    "                self.b_grads.append(A_grads[i].sum(0))\n",
    "                self.W_grads.append(A_grads[i].T @ Os[backiter])\n",
    "\n",
    "                O_grads.append(A_grads[i] @ self.W_grads[i])\n",
    "                A_grads.append(O_grads[i + 1] * (1 - Os[backiter]) * Os[backiter])\n",
    "\n",
    "                backiter -= 1\n",
    "\n",
    "            self.b_grads.append(A_grads[layercount - 1].sum(0))\n",
    "            self.W_grads.append(A_grads[layercount - 1].T @ X)\n",
    "\n",
    "            self.W_grads = self.W_grads[::-1]\n",
    "            self.b_grads = self.b_grads[::-1]\n",
    "\n",
    "        return Os[layercount - 1], loss"
   ]
  },
  {
   "cell_type": "code",
   "execution_count": 16,
   "metadata": {},
   "outputs": [
    {
     "name": "stdout",
     "output_type": "stream",
     "text": [
      "run for 10 hidden\n",
      "after 0 steps \tloss=0.7619917760375082\n",
      "after 30000 steps \tloss=0.6931426385875296\n",
      "after 60000 steps \tloss=0.6930848863996129\n",
      "after 90000 steps \tloss=0.6930320208998166\n",
      "X3: tensor([0., 0., 0.], dtype=torch.float64), Y3: tensor([0.], dtype=torch.float64), prediction: tensor([0.4976], dtype=torch.float64)\n",
      "X3: tensor([0., 0., 1.], dtype=torch.float64), Y3: tensor([1.], dtype=torch.float64), prediction: tensor([0.4964], dtype=torch.float64)\n",
      "X3: tensor([0., 1., 0.], dtype=torch.float64), Y3: tensor([1.], dtype=torch.float64), prediction: tensor([0.5001], dtype=torch.float64)\n",
      "X3: tensor([0., 1., 1.], dtype=torch.float64), Y3: tensor([0.], dtype=torch.float64), prediction: tensor([0.4980], dtype=torch.float64)\n",
      "X3: tensor([1., 0., 0.], dtype=torch.float64), Y3: tensor([1.], dtype=torch.float64), prediction: tensor([0.5018], dtype=torch.float64)\n",
      "X3: tensor([1., 0., 1.], dtype=torch.float64), Y3: tensor([0.], dtype=torch.float64), prediction: tensor([0.5000], dtype=torch.float64)\n",
      "X3: tensor([1., 1., 0.], dtype=torch.float64), Y3: tensor([0.], dtype=torch.float64), prediction: tensor([0.5040], dtype=torch.float64)\n",
      "X3: tensor([1., 1., 1.], dtype=torch.float64), Y3: tensor([1.], dtype=torch.float64), prediction: tensor([0.5021], dtype=torch.float64)\n",
      "for 10 hidden neurons success rate is: 0.0\n"
     ]
    }
   ],
   "source": [
    "for hidden_dim in [10]:\n",
    "    # run a few trainings and record the fraction of successful ones\n",
    "    net = CustomNet(3, hidden_dim, 2, dtype=torch.float64)\n",
    "\n",
    "    alpha = 0.1  # set a learning rate\n",
    "\n",
    "    print(f\"run for {hidden_dim} hidden\")\n",
    "    for i in range(120000):\n",
    "        _, loss = net.forward(X3, Y3, do_backward=True)\n",
    "        if (i % 30000) == 0:\n",
    "            print(f\"after {i} steps \\tloss={loss}\")\n",
    "\n",
    "        Ws = getattr(net, \"Ws\")\n",
    "        bs = getattr(net, \"bs\")\n",
    "        W_grads = getattr(net, \"W_grads\")\n",
    "        b_grads = getattr(net, \"b_grads\")\n",
    "\n",
    "        #print(f\"Ws: {Ws},\\n bs: {bs},\\n W_grads: {W_grads},\\n b_grads: {b_grads} \\n\")\n",
    "\n",
    "        for i in range( 0, len(Ws) ):\n",
    "            Ws[i][:] = Ws[i][:] - alpha * W_grads[i]\n",
    "            bs[i][:] = bs[i][:] - alpha * b_grads[i]\n",
    "        \n",
    "    predictions, _ = net.forward(X3, Y3, do_backward=False)\n",
    "    epsilon = 0.01\n",
    "    success = 0\n",
    "    for i in range(Y3.shape[0]):\n",
    "        print(f\"X3: {X3[i]}, Y3: {Y3[i]}, prediction: {predictions[i]}\")\n",
    "        if abs(predictions[i] - Y3[i]) < epsilon:\n",
    "            success += 1\n",
    "\n",
    "    print(f\"for {hidden_dim} hidden neurons success rate is: {success / Y3.shape[0]}\")"
   ]
  },
  {
   "cell_type": "markdown",
   "metadata": {
    "cell_id": "00031-032edb86-1c56-46e7-8ea3-3e011d72bf5f",
    "deepnote_app_coordinates": {
     "h": 5,
     "w": 12,
     "x": 0,
     "y": 186
    },
    "deepnote_cell_type": "markdown",
    "id": "nWuv7Q77-Nut"
   },
   "source": [
    "## Problem 7"
   ]
  },
  {
   "cell_type": "code",
   "execution_count": null,
   "metadata": {
    "cell_id": "00032-2eab2b1a-f83b-409c-a066-1642cd2ab2d8",
    "deepnote_app_coordinates": {
     "h": 5,
     "w": 12,
     "x": 0,
     "y": 192
    },
    "deepnote_cell_type": "code",
    "id": "avuvSoWY-N4Z"
   },
   "outputs": [],
   "source": []
  }
 ],
 "metadata": {
  "colab": {
   "collapsed_sections": [],
   "include_colab_link": true,
   "name": "Assignment1.ipynb",
   "provenance": []
  },
  "deepnote": {},
  "deepnote_app_layout": "article",
  "deepnote_execution_queue": [],
  "deepnote_notebook_id": "1f038069-bae5-44e5-92ba-67bdff2c54a6",
  "kernelspec": {
   "display_name": "Python 3 (ipykernel)",
   "language": "python",
   "name": "python3"
  },
  "language_info": {
   "codemirror_mode": {
    "name": "ipython",
    "version": 3
   },
   "file_extension": ".py",
   "mimetype": "text/x-python",
   "name": "python",
   "nbconvert_exporter": "python",
   "pygments_lexer": "ipython3",
   "version": "3.11.8"
  }
 },
 "nbformat": 4,
 "nbformat_minor": 4
}
