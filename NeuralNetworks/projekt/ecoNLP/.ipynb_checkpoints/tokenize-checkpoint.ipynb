{
 "cells": [
  {
   "cell_type": "code",
   "execution_count": 1,
   "metadata": {},
   "outputs": [],
   "source": [
    "import numpy as np\n",
    "import pandas as pd\n",
    "import matplotlib.pyplot as plt\n",
    "import re\n",
    "from tqdm import tqdm"
   ]
  },
  {
   "cell_type": "code",
   "execution_count": 13,
   "metadata": {},
   "outputs": [],
   "source": [
    "df=pd.read_csv('./data/data.csv', names=['index', 'title', 'genre','summary']).drop(columns='index')"
   ]
  },
  {
   "cell_type": "code",
   "execution_count": 14,
   "metadata": {},
   "outputs": [
    {
     "data": {
      "text/html": [
       "<div>\n",
       "<style scoped>\n",
       "    .dataframe tbody tr th:only-of-type {\n",
       "        vertical-align: middle;\n",
       "    }\n",
       "\n",
       "    .dataframe tbody tr th {\n",
       "        vertical-align: top;\n",
       "    }\n",
       "\n",
       "    .dataframe thead th {\n",
       "        text-align: right;\n",
       "    }\n",
       "</style>\n",
       "<table border=\"1\" class=\"dataframe\">\n",
       "  <thead>\n",
       "    <tr style=\"text-align: right;\">\n",
       "      <th></th>\n",
       "      <th>title</th>\n",
       "      <th>genre</th>\n",
       "      <th>summary</th>\n",
       "    </tr>\n",
       "  </thead>\n",
       "  <tbody>\n",
       "    <tr>\n",
       "      <th>0</th>\n",
       "      <td>title</td>\n",
       "      <td>genre</td>\n",
       "      <td>summary</td>\n",
       "    </tr>\n",
       "    <tr>\n",
       "      <th>1</th>\n",
       "      <td>Drowned Wednesday</td>\n",
       "      <td>fantasy</td>\n",
       "      <td>Drowned Wednesday is the first Trustee among ...</td>\n",
       "    </tr>\n",
       "    <tr>\n",
       "      <th>2</th>\n",
       "      <td>The Lost Hero</td>\n",
       "      <td>fantasy</td>\n",
       "      <td>As the book opens, Jason awakens on a school ...</td>\n",
       "    </tr>\n",
       "    <tr>\n",
       "      <th>3</th>\n",
       "      <td>The Eyes of the Overworld</td>\n",
       "      <td>fantasy</td>\n",
       "      <td>Cugel is easily persuaded by the merchant Fia...</td>\n",
       "    </tr>\n",
       "    <tr>\n",
       "      <th>4</th>\n",
       "      <td>Magic's Promise</td>\n",
       "      <td>fantasy</td>\n",
       "      <td>The book opens with Herald-Mage Vanyel return...</td>\n",
       "    </tr>\n",
       "    <tr>\n",
       "      <th>...</th>\n",
       "      <td>...</td>\n",
       "      <td>...</td>\n",
       "      <td>...</td>\n",
       "    </tr>\n",
       "    <tr>\n",
       "      <th>4653</th>\n",
       "      <td>Hounded</td>\n",
       "      <td>fantasy</td>\n",
       "      <td>Atticus O’Sullivan, last of the Druids, lives ...</td>\n",
       "    </tr>\n",
       "    <tr>\n",
       "      <th>4654</th>\n",
       "      <td>Charlie and the Chocolate Factory</td>\n",
       "      <td>fantasy</td>\n",
       "      <td>Charlie Bucket's wonderful adventure begins wh...</td>\n",
       "    </tr>\n",
       "    <tr>\n",
       "      <th>4655</th>\n",
       "      <td>Red Rising</td>\n",
       "      <td>fantasy</td>\n",
       "      <td>\"I live for the dream that my children will be...</td>\n",
       "    </tr>\n",
       "    <tr>\n",
       "      <th>4656</th>\n",
       "      <td>Frostbite</td>\n",
       "      <td>fantasy</td>\n",
       "      <td>Rose loves Dimitri, Dimitri might love Tasha, ...</td>\n",
       "    </tr>\n",
       "    <tr>\n",
       "      <th>4657</th>\n",
       "      <td>Radiance</td>\n",
       "      <td>fantasy</td>\n",
       "      <td>The Prince of no value\\nBrishen Khaskem, princ...</td>\n",
       "    </tr>\n",
       "  </tbody>\n",
       "</table>\n",
       "<p>4658 rows × 3 columns</p>\n",
       "</div>"
      ],
      "text/plain": [
       "                                  title    genre  \\\n",
       "0                                 title    genre   \n",
       "1                     Drowned Wednesday  fantasy   \n",
       "2                         The Lost Hero  fantasy   \n",
       "3             The Eyes of the Overworld  fantasy   \n",
       "4                       Magic's Promise  fantasy   \n",
       "...                                 ...      ...   \n",
       "4653                            Hounded  fantasy   \n",
       "4654  Charlie and the Chocolate Factory  fantasy   \n",
       "4655                         Red Rising  fantasy   \n",
       "4656                          Frostbite  fantasy   \n",
       "4657                           Radiance  fantasy   \n",
       "\n",
       "                                                summary  \n",
       "0                                               summary  \n",
       "1      Drowned Wednesday is the first Trustee among ...  \n",
       "2      As the book opens, Jason awakens on a school ...  \n",
       "3      Cugel is easily persuaded by the merchant Fia...  \n",
       "4      The book opens with Herald-Mage Vanyel return...  \n",
       "...                                                 ...  \n",
       "4653  Atticus O’Sullivan, last of the Druids, lives ...  \n",
       "4654  Charlie Bucket's wonderful adventure begins wh...  \n",
       "4655  \"I live for the dream that my children will be...  \n",
       "4656  Rose loves Dimitri, Dimitri might love Tasha, ...  \n",
       "4657  The Prince of no value\\nBrishen Khaskem, princ...  \n",
       "\n",
       "[4658 rows x 3 columns]"
      ]
     },
     "execution_count": 14,
     "metadata": {},
     "output_type": "execute_result"
    }
   ],
   "source": [
    "df"
   ]
  },
  {
   "cell_type": "code",
   "execution_count": 15,
   "metadata": {},
   "outputs": [
    {
     "data": {
      "image/png": "[encoded data removed]",
      "text/plain": [
       "<Figure size 640x480 with 1 Axes>"
      ]
     },
     "metadata": {},
     "output_type": "display_data"
    }
   ],
   "source": [
    "names,counts=np.unique(df.genre, return_counts=True)\n",
    "\n",
    "plt.bar(np.arange(df.genre.nunique()),\n",
    "        height=counts)\n",
    "plt.grid()\n",
    "plt.xticks(np.arange(df.genre.nunique()), names, rotation=70)\n",
    "plt.show()"
   ]
  },
  {
   "cell_type": "code",
   "execution_count": 16,
   "metadata": {},
   "outputs": [
    {
     "name": "stderr",
     "output_type": "stream",
     "text": [
      "<>:3: SyntaxWarning: invalid escape sequence '\\W'\n",
      "<>:3: SyntaxWarning: invalid escape sequence '\\W'\n",
      "/tmp/ipykernel_3166/738898365.py:3: SyntaxWarning: invalid escape sequence '\\W'\n",
      "  for summary in tqdm(df.summary.map(lambda s: re.split('\\W+',s.strip().lower()))):#[\\n ,.;:]\n",
      "100%|█████████████████████████████████████████████████████████| 4658/4658 [00:02<00:00, 1595.66it/s]\n"
     ]
    },
    {
     "data": {
      "text/plain": [
       "(5750, 55715)"
      ]
     },
     "execution_count": 16,
     "metadata": {},
     "output_type": "execute_result"
    }
   ],
   "source": [
    "vocab=set()\n",
    "max_len=0\n",
    "for summary in tqdm(df.summary.map(lambda s: re.split('\\W+',s.strip().lower()))):#[\\n ,.;:]\n",
    "    vocab=vocab.union(set(summary))\n",
    "    max_len=max(max_len, len(summary))\n",
    "max_len, len(vocab)"
   ]
  },
  {
   "cell_type": "markdown",
   "metadata": {},
   "source": [
    "# custom tokenizer"
   ]
  },
  {
   "cell_type": "code",
   "execution_count": 17,
   "metadata": {},
   "outputs": [],
   "source": [
    "def get_training_corpus():\n",
    "    for i in range(0, df.shape[0], 100):\n",
    "        yield df.summary.values[i : i + 100]"
   ]
  },
  {
   "cell_type": "code",
   "execution_count": 18,
   "metadata": {},
   "outputs": [],
   "source": [
    "from tokenizers import (\n",
    "    decoders,\n",
    "    models,\n",
    "    normalizers,\n",
    "    pre_tokenizers,\n",
    "    processors,\n",
    "    trainers,\n",
    "    Tokenizer,\n",
    ")\n",
    "\n",
    "tokenizer = Tokenizer(models.WordPiece(unk_token=\"[UNK]\"))"
   ]
  },
  {
   "cell_type": "code",
   "execution_count": 19,
   "metadata": {},
   "outputs": [],
   "source": [
    "tokenizer.normalizer = normalizers.Sequence(\n",
    "    [normalizers.NFD(), normalizers.Lowercase(), normalizers.StripAccents()]\n",
    ")"
   ]
  },
  {
   "cell_type": "markdown",
   "metadata": {},
   "source": [
    "# gpt2 tokenizer"
   ]
  },
  {
   "cell_type": "code",
   "execution_count": 20,
   "metadata": {},
   "outputs": [],
   "source": [
    "from transformers import GPT2Tokenizer, AutoTokenizer"
   ]
  },
  {
   "cell_type": "code",
   "execution_count": 21,
   "metadata": {},
   "outputs": [],
   "source": [
    "gpt2_tokenizer = GPT2Tokenizer.from_pretrained(\"openai-community/gpt2\")"
   ]
  },
  {
   "cell_type": "code",
   "execution_count": 33,
   "metadata": {},
   "outputs": [
    {
     "name": "stdout",
     "output_type": "stream",
     "text": [
      "torch.Size([4658, 7348])\n",
      "torch.Size([4658, 34])\n"
     ]
    }
   ],
   "source": [
    "gpt2_tokenizer.pad_token = gpt2_tokenizer.eos_token \n",
    "tokenized_summary=gpt2_tokenizer(df.summary.map(lambda x: x.strip().lower()).tolist(),\n",
    "                    return_tensors='pt',\n",
    "                    padding=True)\n",
    "print(tokenized_summary['input_ids'].shape)\n",
    "\n",
    "tokenized_title=gpt2_tokenizer(df.title.map(lambda x: x.strip().lower()).tolist(),\n",
    "                    return_tensors='pt',\n",
    "                    padding=True)\n",
    "print(tokenized_title['input_ids'].shape)"
   ]
  },
  {
   "cell_type": "code",
   "execution_count": 23,
   "metadata": {},
   "outputs": [
    {
     "data": {
      "text/plain": [
       "(4658, 34)"
      ]
     },
     "execution_count": 23,
     "metadata": {},
     "output_type": "execute_result"
    }
   ],
   "source": [
    "tokenized_summary['input_ids'].numpy().shape\n",
    "tokenized_title['input_ids'].numpy().shape"
   ]
  },
  {
   "cell_type": "code",
   "execution_count": 34,
   "metadata": {},
   "outputs": [
    {
     "data": {
      "text/plain": [
       "{'input_ids': tensor([[49736, 50256, 50256,  ..., 50256, 50256, 50256],\n",
       "        [   67,  2053,   276,  ..., 50256, 50256, 50256],\n",
       "        [  292,   262,  1492,  ..., 50256, 50256, 50256],\n",
       "        ...,\n",
       "        [    1,    72,  2107,  ..., 50256, 50256, 50256],\n",
       "        [13698, 10408,  5391,  ..., 50256, 50256, 50256],\n",
       "        [ 1169, 19716,   286,  ..., 50256, 50256, 50256]]), 'attention_mask': tensor([[1, 0, 0,  ..., 0, 0, 0],\n",
       "        [1, 1, 1,  ..., 0, 0, 0],\n",
       "        [1, 1, 1,  ..., 0, 0, 0],\n",
       "        ...,\n",
       "        [1, 1, 1,  ..., 0, 0, 0],\n",
       "        [1, 1, 1,  ..., 0, 0, 0],\n",
       "        [1, 1, 1,  ..., 0, 0, 0]])}"
      ]
     },
     "execution_count": 34,
     "metadata": {},
     "output_type": "execute_result"
    }
   ],
   "source": [
    "tokenized_summary"
   ]
  },
  {
   "cell_type": "code",
   "execution_count": 35,
   "metadata": {},
   "outputs": [
    {
     "data": {
      "text/plain": [
       "{'input_ids': tensor([[ 7839, 50256, 50256,  ..., 50256, 50256, 50256],\n",
       "        [   67,  2053,   276,  ..., 50256, 50256, 50256],\n",
       "        [ 1169,  2626,  4293,  ..., 50256, 50256, 50256],\n",
       "        ...,\n",
       "        [  445,  7396, 50256,  ..., 50256, 50256, 50256],\n",
       "        [   69, 23341, 37018,  ..., 50256, 50256, 50256],\n",
       "        [ 6335,  3610, 50256,  ..., 50256, 50256, 50256]]), 'attention_mask': tensor([[1, 0, 0,  ..., 0, 0, 0],\n",
       "        [1, 1, 1,  ..., 0, 0, 0],\n",
       "        [1, 1, 1,  ..., 0, 0, 0],\n",
       "        ...,\n",
       "        [1, 1, 0,  ..., 0, 0, 0],\n",
       "        [1, 1, 1,  ..., 0, 0, 0],\n",
       "        [1, 1, 0,  ..., 0, 0, 0]])}"
      ]
     },
     "execution_count": 35,
     "metadata": {},
     "output_type": "execute_result"
    }
   ],
   "source": [
    "tokenized_title"
   ]
  },
  {
   "cell_type": "code",
   "execution_count": 36,
   "metadata": {},
   "outputs": [
    {
     "data": {
      "text/plain": [
       "(4658, 1, 7348)"
      ]
     },
     "execution_count": 36,
     "metadata": {},
     "output_type": "execute_result"
    }
   ],
   "source": [
    "tokenized_summary['input_ids'].numpy().reshape(df.shape[0], 1, -1).shape"
   ]
  },
  {
   "cell_type": "code",
   "execution_count": 37,
   "metadata": {},
   "outputs": [],
   "source": [
    "df['input_ids']=[list(x) for x in tokenized_summary['input_ids'].numpy()]\n",
    "df['att_mask']=[list(x) for x in tokenized_summary['attention_mask'].numpy()]\n",
    "df['title_ids'] = [list(x) for x in tokenized_title['input_ids'].numpy()]"
   ]
  },
  {
   "cell_type": "code",
   "execution_count": 38,
   "metadata": {},
   "outputs": [],
   "source": [
    "genre_dict={}\n",
    "for i, g in enumerate(df.genre.unique()):\n",
    "    genre_dict[g]=i"
   ]
  },
  {
   "cell_type": "code",
   "execution_count": 39,
   "metadata": {},
   "outputs": [],
   "source": [
    "df['label']=df.genre.map(lambda x: genre_dict[x])"
   ]
  },
  {
   "cell_type": "code",
   "execution_count": 40,
   "metadata": {},
   "outputs": [],
   "source": [
    "tokens_set=set()\n",
    "for tokens in df.input_ids.values:\n",
    "    tokens_set=tokens_set.union(set(tokens))\n",
    "for tokens in df.title_ids.values:\n",
    "    tokens_set=tokens_set.union(set(tokens))\n",
    "tokens_dict={}\n",
    "for i, t in enumerate(tokens_set):\n",
    "    tokens_dict[t]=i"
   ]
  },
  {
   "cell_type": "code",
   "execution_count": 41,
   "metadata": {},
   "outputs": [],
   "source": [
    "df['mapped_inputs']=df.input_ids.map(lambda x: [tokens_dict[t] for t in x])\n",
    "df['mapped_titles']=df.title_ids.map(lambda x: [tokens_dict[t] for t in x])"
   ]
  },
  {
   "cell_type": "code",
   "execution_count": 42,
   "metadata": {},
   "outputs": [
    {
     "data": {
      "text/html": [
       "<div>\n",
       "<style scoped>\n",
       "    .dataframe tbody tr th:only-of-type {\n",
       "        vertical-align: middle;\n",
       "    }\n",
       "\n",
       "    .dataframe tbody tr th {\n",
       "        vertical-align: top;\n",
       "    }\n",
       "\n",
       "    .dataframe thead th {\n",
       "        text-align: right;\n",
       "    }\n",
       "</style>\n",
       "<table border=\"1\" class=\"dataframe\">\n",
       "  <thead>\n",
       "    <tr style=\"text-align: right;\">\n",
       "      <th></th>\n",
       "      <th>title</th>\n",
       "      <th>genre</th>\n",
       "      <th>summary</th>\n",
       "      <th>input_ids</th>\n",
       "      <th>att_mask</th>\n",
       "      <th>title_ids</th>\n",
       "      <th>label</th>\n",
       "      <th>mapped_inputs</th>\n",
       "      <th>mapped_titles</th>\n",
       "    </tr>\n",
       "  </thead>\n",
       "  <tbody>\n",
       "    <tr>\n",
       "      <th>0</th>\n",
       "      <td>title</td>\n",
       "      <td>genre</td>\n",
       "      <td>summary</td>\n",
       "      <td>[49736, 50256, 50256, 50256, 50256, 50256, 502...</td>\n",
       "      <td>[1, 0, 0, 0, 0, 0, 0, 0, 0, 0, 0, 0, 0, 0, 0, ...</td>\n",
       "      <td>[7839, 50256, 50256, 50256, 50256, 50256, 5025...</td>\n",
       "      <td>0</td>\n",
       "      <td>[26174, 26377, 26377, 26377, 26377, 26377, 263...</td>\n",
       "      <td>[5894, 26377, 26377, 26377, 26377, 26377, 2637...</td>\n",
       "    </tr>\n",
       "    <tr>\n",
       "      <th>1</th>\n",
       "      <td>Drowned Wednesday</td>\n",
       "      <td>fantasy</td>\n",
       "      <td>Drowned Wednesday is the first Trustee among ...</td>\n",
       "      <td>[67, 2053, 276, 29445, 3462, 318, 262, 717, 36...</td>\n",
       "      <td>[1, 1, 1, 1, 1, 1, 1, 1, 1, 1, 1, 1, 1, 1, 1, ...</td>\n",
       "      <td>[67, 2053, 276, 29445, 3462, 50256, 50256, 502...</td>\n",
       "      <td>1</td>\n",
       "      <td>[37, 1722, 165, 17907, 2821, 203, 151, 573, 21...</td>\n",
       "      <td>[37, 1722, 165, 17907, 2821, 26377, 26377, 263...</td>\n",
       "    </tr>\n",
       "    <tr>\n",
       "      <th>2</th>\n",
       "      <td>The Lost Hero</td>\n",
       "      <td>fantasy</td>\n",
       "      <td>As the book opens, Jason awakens on a school ...</td>\n",
       "      <td>[292, 262, 1492, 9808, 11, 474, 888, 3253, 316...</td>\n",
       "      <td>[1, 1, 1, 1, 1, 1, 1, 1, 1, 1, 1, 1, 1, 1, 1, ...</td>\n",
       "      <td>[1169, 2626, 4293, 50256, 50256, 50256, 50256,...</td>\n",
       "      <td>1</td>\n",
       "      <td>[181, 151, 1259, 7207, 11, 341, 732, 2671, 189...</td>\n",
       "      <td>[981, 2176, 3441, 26377, 26377, 26377, 26377, ...</td>\n",
       "    </tr>\n",
       "    <tr>\n",
       "      <th>3</th>\n",
       "      <td>The Eyes of the Overworld</td>\n",
       "      <td>fantasy</td>\n",
       "      <td>Cugel is easily persuaded by the merchant Fia...</td>\n",
       "      <td>[66, 1018, 417, 318, 3538, 25562, 416, 262, 20...</td>\n",
       "      <td>[1, 1, 1, 1, 1, 1, 1, 1, 1, 1, 1, 1, 1, 1, 1, ...</td>\n",
       "      <td>[1169, 2951, 286, 262, 625, 6894, 50256, 50256...</td>\n",
       "      <td>1</td>\n",
       "      <td>[36, 847, 288, 203, 2876, 16053, 287, 151, 135...</td>\n",
       "      <td>[981, 2431, 175, 151, 484, 5261, 26377, 26377,...</td>\n",
       "    </tr>\n",
       "    <tr>\n",
       "      <th>4</th>\n",
       "      <td>Magic's Promise</td>\n",
       "      <td>fantasy</td>\n",
       "      <td>The book opens with Herald-Mage Vanyel return...</td>\n",
       "      <td>[1169, 1492, 9808, 351, 28783, 12, 25561, 410,...</td>\n",
       "      <td>[1, 1, 1, 1, 1, 1, 1, 1, 1, 1, 1, 1, 1, 1, 1, ...</td>\n",
       "      <td>[32707, 338, 6991, 50256, 50256, 50256, 50256,...</td>\n",
       "      <td>1</td>\n",
       "      <td>[981, 1259, 7207, 232, 17595, 12, 16052, 282, ...</td>\n",
       "      <td>[19379, 221, 5325, 26377, 26377, 26377, 26377,...</td>\n",
       "    </tr>\n",
       "    <tr>\n",
       "      <th>...</th>\n",
       "      <td>...</td>\n",
       "      <td>...</td>\n",
       "      <td>...</td>\n",
       "      <td>...</td>\n",
       "      <td>...</td>\n",
       "      <td>...</td>\n",
       "      <td>...</td>\n",
       "      <td>...</td>\n",
       "      <td>...</td>\n",
       "    </tr>\n",
       "    <tr>\n",
       "      <th>4653</th>\n",
       "      <td>Hounded</td>\n",
       "      <td>fantasy</td>\n",
       "      <td>Atticus O’Sullivan, last of the Druids, lives ...</td>\n",
       "      <td>[1078, 24552, 267, 447, 247, 82, 16040, 11, 93...</td>\n",
       "      <td>[1, 1, 1, 1, 1, 1, 1, 1, 1, 1, 1, 1, 1, 1, 1, ...</td>\n",
       "      <td>[71, 6302, 50256, 50256, 50256, 50256, 50256, ...</td>\n",
       "      <td>1</td>\n",
       "      <td>[900, 15557, 156, 317, 136, 52, 10978, 11, 780...</td>\n",
       "      <td>[41, 4842, 26377, 26377, 26377, 26377, 26377, ...</td>\n",
       "    </tr>\n",
       "    <tr>\n",
       "      <th>4654</th>\n",
       "      <td>Charlie and the Chocolate Factory</td>\n",
       "      <td>fantasy</td>\n",
       "      <td>Charlie Bucket's wonderful adventure begins wh...</td>\n",
       "      <td>[354, 7063, 494, 19236, 338, 7932, 8855, 6140,...</td>\n",
       "      <td>[1, 1, 1, 1, 1, 1, 1, 1, 1, 1, 1, 1, 1, 1, 1, ...</td>\n",
       "      <td>[354, 7063, 494, 290, 262, 11311, 8860, 50256,...</td>\n",
       "      <td>1</td>\n",
       "      <td>[235, 5372, 361, 12786, 221, 5953, 6562, 4724,...</td>\n",
       "      <td>[235, 5372, 361, 179, 151, 8159, 6564, 26377, ...</td>\n",
       "    </tr>\n",
       "    <tr>\n",
       "      <th>4655</th>\n",
       "      <td>Red Rising</td>\n",
       "      <td>fantasy</td>\n",
       "      <td>\"I live for the dream that my children will be...</td>\n",
       "      <td>[1, 72, 2107, 329, 262, 4320, 326, 616, 1751, ...</td>\n",
       "      <td>[1, 1, 1, 1, 1, 1, 1, 1, 1, 1, 1, 1, 1, 1, 1, ...</td>\n",
       "      <td>[445, 7396, 50256, 50256, 50256, 50256, 50256,...</td>\n",
       "      <td>1</td>\n",
       "      <td>[1, 42, 1767, 213, 151, 3461, 211, 475, 1482, ...</td>\n",
       "      <td>[315, 5595, 26377, 26377, 26377, 26377, 26377,...</td>\n",
       "    </tr>\n",
       "    <tr>\n",
       "      <th>4656</th>\n",
       "      <td>Frostbite</td>\n",
       "      <td>fantasy</td>\n",
       "      <td>Rose loves Dimitri, Dimitri might love Tasha, ...</td>\n",
       "      <td>[13698, 10408, 5391, 49510, 11, 5391, 49510, 1...</td>\n",
       "      <td>[1, 1, 1, 1, 1, 1, 1, 1, 1, 1, 1, 1, 1, 1, 1, ...</td>\n",
       "      <td>[69, 23341, 37018, 50256, 50256, 50256, 50256,...</td>\n",
       "      <td>1</td>\n",
       "      <td>[9635, 7591, 4236, 26093, 11, 4236, 26093, 105...</td>\n",
       "      <td>[39, 14943, 21227, 26377, 26377, 26377, 26377,...</td>\n",
       "    </tr>\n",
       "    <tr>\n",
       "      <th>4657</th>\n",
       "      <td>Radiance</td>\n",
       "      <td>fantasy</td>\n",
       "      <td>The Prince of no value\\nBrishen Khaskem, princ...</td>\n",
       "      <td>[1169, 19716, 286, 645, 1988, 198, 15311, 831,...</td>\n",
       "      <td>[1, 1, 1, 1, 1, 1, 1, 1, 1, 1, 1, 1, 1, 1, 1, ...</td>\n",
       "      <td>[6335, 3610, 50256, 50256, 50256, 50256, 50256...</td>\n",
       "      <td>1</td>\n",
       "      <td>[981, 13045, 175, 503, 1667, 114, 10565, 681, ...</td>\n",
       "      <td>[4867, 2928, 26377, 26377, 26377, 26377, 26377...</td>\n",
       "    </tr>\n",
       "  </tbody>\n",
       "</table>\n",
       "<p>4658 rows × 9 columns</p>\n",
       "</div>"
      ],
      "text/plain": [
       "                                  title    genre  \\\n",
       "0                                 title    genre   \n",
       "1                     Drowned Wednesday  fantasy   \n",
       "2                         The Lost Hero  fantasy   \n",
       "3             The Eyes of the Overworld  fantasy   \n",
       "4                       Magic's Promise  fantasy   \n",
       "...                                 ...      ...   \n",
       "4653                            Hounded  fantasy   \n",
       "4654  Charlie and the Chocolate Factory  fantasy   \n",
       "4655                         Red Rising  fantasy   \n",
       "4656                          Frostbite  fantasy   \n",
       "4657                           Radiance  fantasy   \n",
       "\n",
       "                                                summary  \\\n",
       "0                                               summary   \n",
       "1      Drowned Wednesday is the first Trustee among ...   \n",
       "2      As the book opens, Jason awakens on a school ...   \n",
       "3      Cugel is easily persuaded by the merchant Fia...   \n",
       "4      The book opens with Herald-Mage Vanyel return...   \n",
       "...                                                 ...   \n",
       "4653  Atticus O’Sullivan, last of the Druids, lives ...   \n",
       "4654  Charlie Bucket's wonderful adventure begins wh...   \n",
       "4655  \"I live for the dream that my children will be...   \n",
       "4656  Rose loves Dimitri, Dimitri might love Tasha, ...   \n",
       "4657  The Prince of no value\\nBrishen Khaskem, princ...   \n",
       "\n",
       "                                              input_ids  \\\n",
       "0     [49736, 50256, 50256, 50256, 50256, 50256, 502...   \n",
       "1     [67, 2053, 276, 29445, 3462, 318, 262, 717, 36...   \n",
       "2     [292, 262, 1492, 9808, 11, 474, 888, 3253, 316...   \n",
       "3     [66, 1018, 417, 318, 3538, 25562, 416, 262, 20...   \n",
       "4     [1169, 1492, 9808, 351, 28783, 12, 25561, 410,...   \n",
       "...                                                 ...   \n",
       "4653  [1078, 24552, 267, 447, 247, 82, 16040, 11, 93...   \n",
       "4654  [354, 7063, 494, 19236, 338, 7932, 8855, 6140,...   \n",
       "4655  [1, 72, 2107, 329, 262, 4320, 326, 616, 1751, ...   \n",
       "4656  [13698, 10408, 5391, 49510, 11, 5391, 49510, 1...   \n",
       "4657  [1169, 19716, 286, 645, 1988, 198, 15311, 831,...   \n",
       "\n",
       "                                               att_mask  \\\n",
       "0     [1, 0, 0, 0, 0, 0, 0, 0, 0, 0, 0, 0, 0, 0, 0, ...   \n",
       "1     [1, 1, 1, 1, 1, 1, 1, 1, 1, 1, 1, 1, 1, 1, 1, ...   \n",
       "2     [1, 1, 1, 1, 1, 1, 1, 1, 1, 1, 1, 1, 1, 1, 1, ...   \n",
       "3     [1, 1, 1, 1, 1, 1, 1, 1, 1, 1, 1, 1, 1, 1, 1, ...   \n",
       "4     [1, 1, 1, 1, 1, 1, 1, 1, 1, 1, 1, 1, 1, 1, 1, ...   \n",
       "...                                                 ...   \n",
       "4653  [1, 1, 1, 1, 1, 1, 1, 1, 1, 1, 1, 1, 1, 1, 1, ...   \n",
       "4654  [1, 1, 1, 1, 1, 1, 1, 1, 1, 1, 1, 1, 1, 1, 1, ...   \n",
       "4655  [1, 1, 1, 1, 1, 1, 1, 1, 1, 1, 1, 1, 1, 1, 1, ...   \n",
       "4656  [1, 1, 1, 1, 1, 1, 1, 1, 1, 1, 1, 1, 1, 1, 1, ...   \n",
       "4657  [1, 1, 1, 1, 1, 1, 1, 1, 1, 1, 1, 1, 1, 1, 1, ...   \n",
       "\n",
       "                                              title_ids  label  \\\n",
       "0     [7839, 50256, 50256, 50256, 50256, 50256, 5025...      0   \n",
       "1     [67, 2053, 276, 29445, 3462, 50256, 50256, 502...      1   \n",
       "2     [1169, 2626, 4293, 50256, 50256, 50256, 50256,...      1   \n",
       "3     [1169, 2951, 286, 262, 625, 6894, 50256, 50256...      1   \n",
       "4     [32707, 338, 6991, 50256, 50256, 50256, 50256,...      1   \n",
       "...                                                 ...    ...   \n",
       "4653  [71, 6302, 50256, 50256, 50256, 50256, 50256, ...      1   \n",
       "4654  [354, 7063, 494, 290, 262, 11311, 8860, 50256,...      1   \n",
       "4655  [445, 7396, 50256, 50256, 50256, 50256, 50256,...      1   \n",
       "4656  [69, 23341, 37018, 50256, 50256, 50256, 50256,...      1   \n",
       "4657  [6335, 3610, 50256, 50256, 50256, 50256, 50256...      1   \n",
       "\n",
       "                                          mapped_inputs  \\\n",
       "0     [26174, 26377, 26377, 26377, 26377, 26377, 263...   \n",
       "1     [37, 1722, 165, 17907, 2821, 203, 151, 573, 21...   \n",
       "2     [181, 151, 1259, 7207, 11, 341, 732, 2671, 189...   \n",
       "3     [36, 847, 288, 203, 2876, 16053, 287, 151, 135...   \n",
       "4     [981, 1259, 7207, 232, 17595, 12, 16052, 282, ...   \n",
       "...                                                 ...   \n",
       "4653  [900, 15557, 156, 317, 136, 52, 10978, 11, 780...   \n",
       "4654  [235, 5372, 361, 12786, 221, 5953, 6562, 4724,...   \n",
       "4655  [1, 42, 1767, 213, 151, 3461, 211, 475, 1482, ...   \n",
       "4656  [9635, 7591, 4236, 26093, 11, 4236, 26093, 105...   \n",
       "4657  [981, 13045, 175, 503, 1667, 114, 10565, 681, ...   \n",
       "\n",
       "                                          mapped_titles  \n",
       "0     [5894, 26377, 26377, 26377, 26377, 26377, 2637...  \n",
       "1     [37, 1722, 165, 17907, 2821, 26377, 26377, 263...  \n",
       "2     [981, 2176, 3441, 26377, 26377, 26377, 26377, ...  \n",
       "3     [981, 2431, 175, 151, 484, 5261, 26377, 26377,...  \n",
       "4     [19379, 221, 5325, 26377, 26377, 26377, 26377,...  \n",
       "...                                                 ...  \n",
       "4653  [41, 4842, 26377, 26377, 26377, 26377, 26377, ...  \n",
       "4654  [235, 5372, 361, 179, 151, 8159, 6564, 26377, ...  \n",
       "4655  [315, 5595, 26377, 26377, 26377, 26377, 26377,...  \n",
       "4656  [39, 14943, 21227, 26377, 26377, 26377, 26377,...  \n",
       "4657  [4867, 2928, 26377, 26377, 26377, 26377, 26377...  \n",
       "\n",
       "[4658 rows x 9 columns]"
      ]
     },
     "execution_count": 42,
     "metadata": {},
     "output_type": "execute_result"
    }
   ],
   "source": [
    "#df.drop(columns='Unnamed: 0', inplace=True)\n",
    "df"
   ]
  },
  {
   "cell_type": "code",
   "execution_count": 43,
   "metadata": {},
   "outputs": [],
   "source": [
    "df.to_parquet('./data/books.par')"
   ]
  },
  {
   "cell_type": "code",
   "execution_count": null,
   "metadata": {},
   "outputs": [],
   "source": []
  }
 ],
 "metadata": {
  "kernelspec": {
   "display_name": "Python 3 (ipykernel)",
   "language": "python",
   "name": "python3"
  },
  "language_info": {
   "codemirror_mode": {
    "name": "ipython",
    "version": 3
   },
   "file_extension": ".py",
   "mimetype": "text/x-python",
   "name": "python",
   "nbconvert_exporter": "python",
   "pygments_lexer": "ipython3",
   "version": "3.12.3"
  }
 },
 "nbformat": 4,
 "nbformat_minor": 4
}
