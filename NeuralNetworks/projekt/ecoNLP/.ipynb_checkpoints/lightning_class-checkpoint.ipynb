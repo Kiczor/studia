{
 "cells": [
  {
   "cell_type": "code",
   "execution_count": 1,
   "metadata": {},
   "outputs": [],
   "source": [
    "import torch\n",
    "import pandas as pd\n",
    "from torch import nn\n",
    "import pytorch_lightning as pl\n",
    "import torch.utils.data as data_utils\n",
    "import numpy as np\n",
    "from os import cpu_count\n",
    "from types import NoneType\n",
    "from torch.nn.utils.rnn import pack_padded_sequence, pad_packed_sequence"
   ]
  },
  {
   "cell_type": "code",
   "execution_count": 2,
   "metadata": {},
   "outputs": [],
   "source": [
    "import wandb\n",
    "from pytorch_lightning.callbacks import EarlyStopping, LearningRateMonitor, ModelCheckpoint, LearningRateFinder\n",
    "from pytorch_lightning.loggers import WandbLogger\n",
    "from gensim.models import Word2Vec\n",
    "from transformers import AutoTokenizer, GPT2ForSequenceClassification, GPT2Model, GPT2LMHeadModel, AutoModelForSequenceClassification"
   ]
  },
  {
   "cell_type": "code",
   "execution_count": 3,
   "metadata": {},
   "outputs": [],
   "source": [
    "torch.set_float32_matmul_precision(\"medium\")"
   ]
  },
  {
   "cell_type": "code",
   "execution_count": 4,
   "metadata": {},
   "outputs": [
    {
     "data": {
      "text/plain": [
       "Index(['title', 'genre', 'summary', 'input_ids', 'att_mask', 'title_ids',\n",
       "       'label', 'mapped_inputs', 'mapped_titles'],\n",
       "      dtype='object')"
      ]
     },
     "execution_count": 4,
     "metadata": {},
     "output_type": "execute_result"
    }
   ],
   "source": [
    "df=pd.read_parquet('./data/books.par')\n",
    "df.columns"
   ]
  },
  {
   "cell_type": "markdown",
   "metadata": {
    "jp-MarkdownHeadingCollapsed": true
   },
   "source": [
    "# tweets dataset"
   ]
  },
  {
   "cell_type": "code",
   "execution_count": 5,
   "metadata": {},
   "outputs": [
    {
     "ename": "FileNotFoundError",
     "evalue": "[Errno 2] No such file or directory: './data/tweets.csv'",
     "output_type": "error",
     "traceback": [
      "\u001b[0;31m---------------------------------------------------------------------------\u001b[0m",
      "\u001b[0;31mFileNotFoundError\u001b[0m                         Traceback (most recent call last)",
      "Cell \u001b[0;32mIn[5], line 1\u001b[0m\n\u001b[0;32m----> 1\u001b[0m df\u001b[38;5;241m=\u001b[39m\u001b[43mpd\u001b[49m\u001b[38;5;241;43m.\u001b[39;49m\u001b[43mread_csv\u001b[49m\u001b[43m(\u001b[49m\u001b[38;5;124;43m'\u001b[39;49m\u001b[38;5;124;43m./data/tweets.csv\u001b[39;49m\u001b[38;5;124;43m'\u001b[39;49m\u001b[43m,\u001b[49m\u001b[43m \u001b[49m\u001b[43mnames\u001b[49m\u001b[38;5;241;43m=\u001b[39;49m\u001b[43m[\u001b[49m\u001b[38;5;124;43m'\u001b[39;49m\u001b[38;5;124;43mindex\u001b[39;49m\u001b[38;5;124;43m'\u001b[39;49m\u001b[43m,\u001b[49m\u001b[38;5;124;43m'\u001b[39;49m\u001b[38;5;124;43mgenre\u001b[39;49m\u001b[38;5;124;43m'\u001b[39;49m\u001b[43m,\u001b[49m\u001b[38;5;124;43m'\u001b[39;49m\u001b[38;5;124;43msummary\u001b[39;49m\u001b[38;5;124;43m'\u001b[39;49m\u001b[43m]\u001b[49m\u001b[43m)\u001b[49m\u001b[38;5;241m.\u001b[39mdrop(columns\u001b[38;5;241m=\u001b[39m\u001b[38;5;124m'\u001b[39m\u001b[38;5;124mindex\u001b[39m\u001b[38;5;124m'\u001b[39m)\n",
      "File \u001b[0;32m~/pythonvenvs/rocmwork/lib/python3.12/site-packages/pandas/io/parsers/readers.py:1026\u001b[0m, in \u001b[0;36mread_csv\u001b[0;34m(filepath_or_buffer, sep, delimiter, header, names, index_col, usecols, dtype, engine, converters, true_values, false_values, skipinitialspace, skiprows, skipfooter, nrows, na_values, keep_default_na, na_filter, verbose, skip_blank_lines, parse_dates, infer_datetime_format, keep_date_col, date_parser, date_format, dayfirst, cache_dates, iterator, chunksize, compression, thousands, decimal, lineterminator, quotechar, quoting, doublequote, escapechar, comment, encoding, encoding_errors, dialect, on_bad_lines, delim_whitespace, low_memory, memory_map, float_precision, storage_options, dtype_backend)\u001b[0m\n\u001b[1;32m   1013\u001b[0m kwds_defaults \u001b[38;5;241m=\u001b[39m _refine_defaults_read(\n\u001b[1;32m   1014\u001b[0m     dialect,\n\u001b[1;32m   1015\u001b[0m     delimiter,\n\u001b[0;32m   (...)\u001b[0m\n\u001b[1;32m   1022\u001b[0m     dtype_backend\u001b[38;5;241m=\u001b[39mdtype_backend,\n\u001b[1;32m   1023\u001b[0m )\n\u001b[1;32m   1024\u001b[0m kwds\u001b[38;5;241m.\u001b[39mupdate(kwds_defaults)\n\u001b[0;32m-> 1026\u001b[0m \u001b[38;5;28;01mreturn\u001b[39;00m \u001b[43m_read\u001b[49m\u001b[43m(\u001b[49m\u001b[43mfilepath_or_buffer\u001b[49m\u001b[43m,\u001b[49m\u001b[43m \u001b[49m\u001b[43mkwds\u001b[49m\u001b[43m)\u001b[49m\n",
      "File \u001b[0;32m~/pythonvenvs/rocmwork/lib/python3.12/site-packages/pandas/io/parsers/readers.py:620\u001b[0m, in \u001b[0;36m_read\u001b[0;34m(filepath_or_buffer, kwds)\u001b[0m\n\u001b[1;32m    617\u001b[0m _validate_names(kwds\u001b[38;5;241m.\u001b[39mget(\u001b[38;5;124m\"\u001b[39m\u001b[38;5;124mnames\u001b[39m\u001b[38;5;124m\"\u001b[39m, \u001b[38;5;28;01mNone\u001b[39;00m))\n\u001b[1;32m    619\u001b[0m \u001b[38;5;66;03m# Create the parser.\u001b[39;00m\n\u001b[0;32m--> 620\u001b[0m parser \u001b[38;5;241m=\u001b[39m \u001b[43mTextFileReader\u001b[49m\u001b[43m(\u001b[49m\u001b[43mfilepath_or_buffer\u001b[49m\u001b[43m,\u001b[49m\u001b[43m \u001b[49m\u001b[38;5;241;43m*\u001b[39;49m\u001b[38;5;241;43m*\u001b[39;49m\u001b[43mkwds\u001b[49m\u001b[43m)\u001b[49m\n\u001b[1;32m    622\u001b[0m \u001b[38;5;28;01mif\u001b[39;00m chunksize \u001b[38;5;129;01mor\u001b[39;00m iterator:\n\u001b[1;32m    623\u001b[0m     \u001b[38;5;28;01mreturn\u001b[39;00m parser\n",
      "File \u001b[0;32m~/pythonvenvs/rocmwork/lib/python3.12/site-packages/pandas/io/parsers/readers.py:1620\u001b[0m, in \u001b[0;36mTextFileReader.__init__\u001b[0;34m(self, f, engine, **kwds)\u001b[0m\n\u001b[1;32m   1617\u001b[0m     \u001b[38;5;28mself\u001b[39m\u001b[38;5;241m.\u001b[39moptions[\u001b[38;5;124m\"\u001b[39m\u001b[38;5;124mhas_index_names\u001b[39m\u001b[38;5;124m\"\u001b[39m] \u001b[38;5;241m=\u001b[39m kwds[\u001b[38;5;124m\"\u001b[39m\u001b[38;5;124mhas_index_names\u001b[39m\u001b[38;5;124m\"\u001b[39m]\n\u001b[1;32m   1619\u001b[0m \u001b[38;5;28mself\u001b[39m\u001b[38;5;241m.\u001b[39mhandles: IOHandles \u001b[38;5;241m|\u001b[39m \u001b[38;5;28;01mNone\u001b[39;00m \u001b[38;5;241m=\u001b[39m \u001b[38;5;28;01mNone\u001b[39;00m\n\u001b[0;32m-> 1620\u001b[0m \u001b[38;5;28mself\u001b[39m\u001b[38;5;241m.\u001b[39m_engine \u001b[38;5;241m=\u001b[39m \u001b[38;5;28;43mself\u001b[39;49m\u001b[38;5;241;43m.\u001b[39;49m\u001b[43m_make_engine\u001b[49m\u001b[43m(\u001b[49m\u001b[43mf\u001b[49m\u001b[43m,\u001b[49m\u001b[43m \u001b[49m\u001b[38;5;28;43mself\u001b[39;49m\u001b[38;5;241;43m.\u001b[39;49m\u001b[43mengine\u001b[49m\u001b[43m)\u001b[49m\n",
      "File \u001b[0;32m~/pythonvenvs/rocmwork/lib/python3.12/site-packages/pandas/io/parsers/readers.py:1880\u001b[0m, in \u001b[0;36mTextFileReader._make_engine\u001b[0;34m(self, f, engine)\u001b[0m\n\u001b[1;32m   1878\u001b[0m     \u001b[38;5;28;01mif\u001b[39;00m \u001b[38;5;124m\"\u001b[39m\u001b[38;5;124mb\u001b[39m\u001b[38;5;124m\"\u001b[39m \u001b[38;5;129;01mnot\u001b[39;00m \u001b[38;5;129;01min\u001b[39;00m mode:\n\u001b[1;32m   1879\u001b[0m         mode \u001b[38;5;241m+\u001b[39m\u001b[38;5;241m=\u001b[39m \u001b[38;5;124m\"\u001b[39m\u001b[38;5;124mb\u001b[39m\u001b[38;5;124m\"\u001b[39m\n\u001b[0;32m-> 1880\u001b[0m \u001b[38;5;28mself\u001b[39m\u001b[38;5;241m.\u001b[39mhandles \u001b[38;5;241m=\u001b[39m \u001b[43mget_handle\u001b[49m\u001b[43m(\u001b[49m\n\u001b[1;32m   1881\u001b[0m \u001b[43m    \u001b[49m\u001b[43mf\u001b[49m\u001b[43m,\u001b[49m\n\u001b[1;32m   1882\u001b[0m \u001b[43m    \u001b[49m\u001b[43mmode\u001b[49m\u001b[43m,\u001b[49m\n\u001b[1;32m   1883\u001b[0m \u001b[43m    \u001b[49m\u001b[43mencoding\u001b[49m\u001b[38;5;241;43m=\u001b[39;49m\u001b[38;5;28;43mself\u001b[39;49m\u001b[38;5;241;43m.\u001b[39;49m\u001b[43moptions\u001b[49m\u001b[38;5;241;43m.\u001b[39;49m\u001b[43mget\u001b[49m\u001b[43m(\u001b[49m\u001b[38;5;124;43m\"\u001b[39;49m\u001b[38;5;124;43mencoding\u001b[39;49m\u001b[38;5;124;43m\"\u001b[39;49m\u001b[43m,\u001b[49m\u001b[43m \u001b[49m\u001b[38;5;28;43;01mNone\u001b[39;49;00m\u001b[43m)\u001b[49m\u001b[43m,\u001b[49m\n\u001b[1;32m   1884\u001b[0m \u001b[43m    \u001b[49m\u001b[43mcompression\u001b[49m\u001b[38;5;241;43m=\u001b[39;49m\u001b[38;5;28;43mself\u001b[39;49m\u001b[38;5;241;43m.\u001b[39;49m\u001b[43moptions\u001b[49m\u001b[38;5;241;43m.\u001b[39;49m\u001b[43mget\u001b[49m\u001b[43m(\u001b[49m\u001b[38;5;124;43m\"\u001b[39;49m\u001b[38;5;124;43mcompression\u001b[39;49m\u001b[38;5;124;43m\"\u001b[39;49m\u001b[43m,\u001b[49m\u001b[43m \u001b[49m\u001b[38;5;28;43;01mNone\u001b[39;49;00m\u001b[43m)\u001b[49m\u001b[43m,\u001b[49m\n\u001b[1;32m   1885\u001b[0m \u001b[43m    \u001b[49m\u001b[43mmemory_map\u001b[49m\u001b[38;5;241;43m=\u001b[39;49m\u001b[38;5;28;43mself\u001b[39;49m\u001b[38;5;241;43m.\u001b[39;49m\u001b[43moptions\u001b[49m\u001b[38;5;241;43m.\u001b[39;49m\u001b[43mget\u001b[49m\u001b[43m(\u001b[49m\u001b[38;5;124;43m\"\u001b[39;49m\u001b[38;5;124;43mmemory_map\u001b[39;49m\u001b[38;5;124;43m\"\u001b[39;49m\u001b[43m,\u001b[49m\u001b[43m \u001b[49m\u001b[38;5;28;43;01mFalse\u001b[39;49;00m\u001b[43m)\u001b[49m\u001b[43m,\u001b[49m\n\u001b[1;32m   1886\u001b[0m \u001b[43m    \u001b[49m\u001b[43mis_text\u001b[49m\u001b[38;5;241;43m=\u001b[39;49m\u001b[43mis_text\u001b[49m\u001b[43m,\u001b[49m\n\u001b[1;32m   1887\u001b[0m \u001b[43m    \u001b[49m\u001b[43merrors\u001b[49m\u001b[38;5;241;43m=\u001b[39;49m\u001b[38;5;28;43mself\u001b[39;49m\u001b[38;5;241;43m.\u001b[39;49m\u001b[43moptions\u001b[49m\u001b[38;5;241;43m.\u001b[39;49m\u001b[43mget\u001b[49m\u001b[43m(\u001b[49m\u001b[38;5;124;43m\"\u001b[39;49m\u001b[38;5;124;43mencoding_errors\u001b[39;49m\u001b[38;5;124;43m\"\u001b[39;49m\u001b[43m,\u001b[49m\u001b[43m \u001b[49m\u001b[38;5;124;43m\"\u001b[39;49m\u001b[38;5;124;43mstrict\u001b[39;49m\u001b[38;5;124;43m\"\u001b[39;49m\u001b[43m)\u001b[49m\u001b[43m,\u001b[49m\n\u001b[1;32m   1888\u001b[0m \u001b[43m    \u001b[49m\u001b[43mstorage_options\u001b[49m\u001b[38;5;241;43m=\u001b[39;49m\u001b[38;5;28;43mself\u001b[39;49m\u001b[38;5;241;43m.\u001b[39;49m\u001b[43moptions\u001b[49m\u001b[38;5;241;43m.\u001b[39;49m\u001b[43mget\u001b[49m\u001b[43m(\u001b[49m\u001b[38;5;124;43m\"\u001b[39;49m\u001b[38;5;124;43mstorage_options\u001b[39;49m\u001b[38;5;124;43m\"\u001b[39;49m\u001b[43m,\u001b[49m\u001b[43m \u001b[49m\u001b[38;5;28;43;01mNone\u001b[39;49;00m\u001b[43m)\u001b[49m\u001b[43m,\u001b[49m\n\u001b[1;32m   1889\u001b[0m \u001b[43m\u001b[49m\u001b[43m)\u001b[49m\n\u001b[1;32m   1890\u001b[0m \u001b[38;5;28;01massert\u001b[39;00m \u001b[38;5;28mself\u001b[39m\u001b[38;5;241m.\u001b[39mhandles \u001b[38;5;129;01mis\u001b[39;00m \u001b[38;5;129;01mnot\u001b[39;00m \u001b[38;5;28;01mNone\u001b[39;00m\n\u001b[1;32m   1891\u001b[0m f \u001b[38;5;241m=\u001b[39m \u001b[38;5;28mself\u001b[39m\u001b[38;5;241m.\u001b[39mhandles\u001b[38;5;241m.\u001b[39mhandle\n",
      "File \u001b[0;32m~/pythonvenvs/rocmwork/lib/python3.12/site-packages/pandas/io/common.py:873\u001b[0m, in \u001b[0;36mget_handle\u001b[0;34m(path_or_buf, mode, encoding, compression, memory_map, is_text, errors, storage_options)\u001b[0m\n\u001b[1;32m    868\u001b[0m \u001b[38;5;28;01melif\u001b[39;00m \u001b[38;5;28misinstance\u001b[39m(handle, \u001b[38;5;28mstr\u001b[39m):\n\u001b[1;32m    869\u001b[0m     \u001b[38;5;66;03m# Check whether the filename is to be opened in binary mode.\u001b[39;00m\n\u001b[1;32m    870\u001b[0m     \u001b[38;5;66;03m# Binary mode does not support 'encoding' and 'newline'.\u001b[39;00m\n\u001b[1;32m    871\u001b[0m     \u001b[38;5;28;01mif\u001b[39;00m ioargs\u001b[38;5;241m.\u001b[39mencoding \u001b[38;5;129;01mand\u001b[39;00m \u001b[38;5;124m\"\u001b[39m\u001b[38;5;124mb\u001b[39m\u001b[38;5;124m\"\u001b[39m \u001b[38;5;129;01mnot\u001b[39;00m \u001b[38;5;129;01min\u001b[39;00m ioargs\u001b[38;5;241m.\u001b[39mmode:\n\u001b[1;32m    872\u001b[0m         \u001b[38;5;66;03m# Encoding\u001b[39;00m\n\u001b[0;32m--> 873\u001b[0m         handle \u001b[38;5;241m=\u001b[39m \u001b[38;5;28;43mopen\u001b[39;49m\u001b[43m(\u001b[49m\n\u001b[1;32m    874\u001b[0m \u001b[43m            \u001b[49m\u001b[43mhandle\u001b[49m\u001b[43m,\u001b[49m\n\u001b[1;32m    875\u001b[0m \u001b[43m            \u001b[49m\u001b[43mioargs\u001b[49m\u001b[38;5;241;43m.\u001b[39;49m\u001b[43mmode\u001b[49m\u001b[43m,\u001b[49m\n\u001b[1;32m    876\u001b[0m \u001b[43m            \u001b[49m\u001b[43mencoding\u001b[49m\u001b[38;5;241;43m=\u001b[39;49m\u001b[43mioargs\u001b[49m\u001b[38;5;241;43m.\u001b[39;49m\u001b[43mencoding\u001b[49m\u001b[43m,\u001b[49m\n\u001b[1;32m    877\u001b[0m \u001b[43m            \u001b[49m\u001b[43merrors\u001b[49m\u001b[38;5;241;43m=\u001b[39;49m\u001b[43merrors\u001b[49m\u001b[43m,\u001b[49m\n\u001b[1;32m    878\u001b[0m \u001b[43m            \u001b[49m\u001b[43mnewline\u001b[49m\u001b[38;5;241;43m=\u001b[39;49m\u001b[38;5;124;43m\"\u001b[39;49m\u001b[38;5;124;43m\"\u001b[39;49m\u001b[43m,\u001b[49m\n\u001b[1;32m    879\u001b[0m \u001b[43m        \u001b[49m\u001b[43m)\u001b[49m\n\u001b[1;32m    880\u001b[0m     \u001b[38;5;28;01melse\u001b[39;00m:\n\u001b[1;32m    881\u001b[0m         \u001b[38;5;66;03m# Binary mode\u001b[39;00m\n\u001b[1;32m    882\u001b[0m         handle \u001b[38;5;241m=\u001b[39m \u001b[38;5;28mopen\u001b[39m(handle, ioargs\u001b[38;5;241m.\u001b[39mmode)\n",
      "\u001b[0;31mFileNotFoundError\u001b[0m: [Errno 2] No such file or directory: './data/tweets.csv'"
     ]
    }
   ],
   "source": [
    "df=pd.read_csv('./data/tweets.csv', names=['index','genre','summary']).drop(columns='index')"
   ]
  },
  {
   "cell_type": "code",
   "execution_count": null,
   "metadata": {},
   "outputs": [],
   "source": [
    "from transformers import GPT2Tokenizer, AutoTokenizer\n",
    "gpt2_tokenizer = GPT2Tokenizer.from_pretrained(\"openai-community/gpt2\")\n",
    "gpt2_tokenizer.pad_token = gpt2_tokenizer.eos_token \n",
    "tokenized_summary=gpt2_tokenizer(df.summary.map(lambda x: x.strip().lower()).tolist(),\n",
    "                    return_tensors='pt',\n",
    "                    padding=True)\n",
    "tokenized_summary['input_ids'].shape"
   ]
  },
  {
   "cell_type": "code",
   "execution_count": null,
   "metadata": {},
   "outputs": [],
   "source": [
    "tokenized_summary['input_ids'][0,0].item()"
   ]
  },
  {
   "cell_type": "code",
   "execution_count": null,
   "metadata": {},
   "outputs": [],
   "source": [
    "tokens_dict={}\n",
    "for i, t in enumerate(tokenized_summary['input_ids'].unique()):\n",
    "    tokens_dict[t.item()]=i"
   ]
  },
  {
   "cell_type": "code",
   "execution_count": null,
   "metadata": {},
   "outputs": [],
   "source": [
    "tokenized_summary['input_ids']=tokenized_summary['input_ids'].apply_(lambda x: tokens_dict[x])"
   ]
  },
  {
   "cell_type": "code",
   "execution_count": null,
   "metadata": {},
   "outputs": [],
   "source": [
    "tokenized_summary['input_ids'][0,0].item()"
   ]
  },
  {
   "cell_type": "code",
   "execution_count": null,
   "metadata": {},
   "outputs": [],
   "source": [
    "tokenized_summary['attention_mask'].sum(axis=1).shape"
   ]
  },
  {
   "cell_type": "code",
   "execution_count": null,
   "metadata": {},
   "outputs": [],
   "source": [
    "df.genre.unique()"
   ]
  },
  {
   "cell_type": "code",
   "execution_count": null,
   "metadata": {},
   "outputs": [],
   "source": [
    "class TweetDataset(data_utils.Dataset):\n",
    "    def __init__(self, tokenized_summary, labels, idxs):\n",
    "        self.input_ids=tokenized_summary['input_ids'][idxs]\n",
    "        self.lengths=tokenized_summary['attention_mask'].sum(axis=1)[idxs]\n",
    "        self.y=torch.tensor(labels, dtype=torch.uint8)[idxs]\n",
    "        self.no_classes=2\n",
    "        self.max_len=self.input_ids.shape[1]\n",
    "\n",
    "    def __len__(self):\n",
    "        return self.y.shape[0]\n",
    "    \n",
    "    def __getitem__(self, indexes):\n",
    "        return self.input_ids[indexes], self.lengths[indexes], self.y[indexes]\n",
    "        "
   ]
  },
  {
   "cell_type": "code",
   "execution_count": null,
   "metadata": {},
   "outputs": [],
   "source": [
    "train_idxs=torch.rand(df.shape[0])>0.8\n",
    "val_idxs=~train_idxs"
   ]
  },
  {
   "cell_type": "code",
   "execution_count": null,
   "metadata": {},
   "outputs": [],
   "source": [
    "train_data=TweetDataset(tokenized_summary, df.genre.values, train_idxs)\n",
    "val_data=TweetDataset(tokenized_summary, df.genre.values, val_idxs)\n",
    "\n",
    "train_dataloader=data_utils.DataLoader(train_data, batch_size=32, num_workers=cpu_count(),\n",
    "                                       shuffle=True, drop_last=True)\n",
    "val_dataloader=data_utils.DataLoader(val_data, batch_size=32, num_workers=cpu_count())"
   ]
  },
  {
   "cell_type": "markdown",
   "metadata": {},
   "source": [
    "# dataset"
   ]
  },
  {
   "cell_type": "code",
   "execution_count": 5,
   "metadata": {},
   "outputs": [],
   "source": [
    "class BookDataset(data_utils.Dataset):\n",
    "    def __init__(self, df: pd.DataFrame):\n",
    "        self.input_ids=torch.tensor(df.mapped_inputs, dtype=torch.int32)\n",
    "        self.title_ids=torch.tensor(df.mapped_titles, dtype=torch.int32)\n",
    "        self.lengths=torch.tensor(df.att_mask.map(sum), dtype=torch.int32)\n",
    "      #  self.att_masks=torch.tensor(df.att_mask, dtype=torch.float32)\n",
    "        self.y=torch.tensor(df.label.values, dtype=torch.uint8)\n",
    "        self.no_classes=df.label.nunique()\n",
    "        self.max_len=self.input_ids.shape[1]\n",
    "\n",
    "    def __len__(self):\n",
    "        return self.y.shape[0]\n",
    "    \n",
    "    def __getitem__(self, indexes):\n",
    "       # batch_max_len= torch.max(self.lengths[indexes])\n",
    "        return self.input_ids[indexes], self.title_ids[indexes], self.lengths[indexes], self.y[indexes]\n",
    "        "
   ]
  },
  {
   "cell_type": "code",
   "execution_count": 6,
   "metadata": {},
   "outputs": [],
   "source": [
    "class DataSampler(data_utils.Sampler):\n",
    "    def __init__(self, dataset, batch_size, shuffle=False, drop_last=False):\n",
    "        self.dataset = dataset\n",
    "        self.batch_size = batch_size\n",
    "        self.shuffle = shuffle\n",
    "        self.drop_last = drop_last\n",
    "\n",
    "    def __len__(self):\n",
    "        return self.dataset.length\n",
    "\n",
    "    def __iter__(self):\n",
    "        order = np.arange(len(self))\n",
    "        if self.shuffle:\n",
    "            np.random.shuffle(order)\n",
    "        if len(self) % self.batch_size:\n",
    "            for i in range(0, len(self) - self.batch_size, self.batch_size):\n",
    "                yield order[i : i + self.batch_size]\n",
    "            if not self.drop_last:\n",
    "                yield order[-(len(self) % self.batch_size) :]\n",
    "        else:\n",
    "            for i in range(0, len(self), self.batch_size):\n",
    "                yield order[i : i + self.batch_size]\n"
   ]
  },
  {
   "cell_type": "code",
   "execution_count": 7,
   "metadata": {},
   "outputs": [],
   "source": [
    "class PackedDataset(data_utils.Dataset):\n",
    "    def __init__(self, df: pd.DataFrame):\n",
    "        self.input_ids=torch.tensor(df.mapped_inputs, dtype=torch.int32)\n",
    "        self.lengths=torch.tensor(df.att_mask.map(sum), dtype=torch.int32)\n",
    "        self.y=torch.tensor(df.label.values, dtype=torch.uint8)\n",
    "        self.no_classes=df.label.nunique()\n",
    "        self.max_len=self.input_ids.shape[1]\n",
    "\n",
    "    def __len__(self):\n",
    "        return self.y.shape[0]\n",
    "    \n",
    "    def __getitem__(self, indexes):\n",
    "       \n",
    "        return pack_padded_sequence(self.input_ids[indexes].view(-1, self.max_len), \n",
    "                                    self.lengths[indexes].view(-1), \n",
    "                                    batch_first=True, enforce_sorted=False), self.y[indexes]\n",
    "        "
   ]
  },
  {
   "cell_type": "code",
   "execution_count": 8,
   "metadata": {},
   "outputs": [],
   "source": [
    "def simple_elementwise_apply(fn, packed_sequence):\n",
    "    \"\"\"applies a pointwise function fn to each element in packed_sequence\"\"\"\n",
    "    return torch.nn.utils.rnn.PackedSequence(fn(packed_sequence.data), packed_sequence.batch_sizes)"
   ]
  },
  {
   "cell_type": "code",
   "execution_count": 9,
   "metadata": {},
   "outputs": [],
   "source": [
    "#pack_padded_sequence(emb(b[0]), b[1], batch_first=True, enforce_sorted=False)"
   ]
  },
  {
   "cell_type": "code",
   "execution_count": 10,
   "metadata": {},
   "outputs": [],
   "source": [
    "#simple_elementwise_apply(emb, val_data[:32][0])"
   ]
  },
  {
   "cell_type": "code",
   "execution_count": 11,
   "metadata": {},
   "outputs": [],
   "source": [
    "df=df.iloc[np.random.permutation(df.shape[0])].reset_index(drop=True)\n",
    "split=int(df.shape[0]*0.9)\n",
    "\n",
    "train_df=df.iloc[:split]\n",
    "val_df=df.iloc[split:].reset_index(drop=True)"
   ]
  },
  {
   "cell_type": "code",
   "execution_count": 12,
   "metadata": {},
   "outputs": [
    {
     "data": {
      "text/plain": [
       "array([0.94927387, 0.00120619, 0.00164234, 0.00207719, 0.00176445,\n",
       "       0.00173542, 0.00103746, 0.01031819, 0.00958862, 0.01031819,\n",
       "       0.01103807])"
      ]
     },
     "execution_count": 12,
     "metadata": {},
     "output_type": "execute_result"
    }
   ],
   "source": [
    "_,label_weights=np.unique(train_df.label, return_counts=True)\n",
    "label_weights=1/label_weights\n",
    "label_weights=label_weights/np.sum(label_weights)\n",
    "label_weights"
   ]
  },
  {
   "cell_type": "code",
   "execution_count": 13,
   "metadata": {},
   "outputs": [
    {
     "name": "stderr",
     "output_type": "stream",
     "text": [
      "/tmp/ipykernel_343411/1745324502.py:3: UserWarning: Creating a tensor from a list of numpy.ndarrays is extremely slow. Please consider converting the list to a single numpy.ndarray with numpy.array() before converting to a tensor. (Triggered internally at ../torch/csrc/utils/tensor_new.cpp:278.)\n",
      "  self.input_ids=torch.tensor(df.mapped_inputs, dtype=torch.int32)\n"
     ]
    }
   ],
   "source": [
    "train_data=BookDataset(train_df)\n",
    "val_data=BookDataset(val_df)\n",
    "\n",
    "train_dataloader=data_utils.DataLoader(train_data, batch_size=32, num_workers=cpu_count(),\n",
    "                                       shuffle=True, drop_last=True)\n",
    "val_dataloader=data_utils.DataLoader(val_data, batch_size=32, num_workers=cpu_count())"
   ]
  },
  {
   "cell_type": "markdown",
   "metadata": {},
   "source": [
    "# pl module"
   ]
  },
  {
   "cell_type": "code",
   "execution_count": 14,
   "metadata": {},
   "outputs": [],
   "source": [
    "class BookGenreClassifier(pl.LightningModule):\n",
    "    def __init__(self, model, lr=1e-2, loss=nn.CrossEntropyLoss(), l2=1e-5, lr_dc_step=3, lr_dc=0.1, **kwargs):\n",
    "        super().__init__()\n",
    "        self.save_hyperparameters(ignore=['model','loss'])\n",
    "        if isinstance(loss.weight, NoneType):\n",
    "            weighted_loss=False\n",
    "        else: weighted_loss=True\n",
    "        self.save_hyperparameters({'name':model.name, \n",
    "                                   'dropout_p':model.dropout_p,\n",
    "                                   'w2v_init':model.w2v_init,\n",
    "                                   'num_layers':model.num_layers,\n",
    "                                   'nonlinearity':model.nonlinearity,\n",
    "                                   'bidirectional':model.bidirectional,\n",
    "                                   'weighted_loss':weighted_loss})\n",
    "        self.lr=lr\n",
    "        self.loss=loss\n",
    "        self.model=model\n",
    "\n",
    "    def forward(self, x):\n",
    "        return self.model(x)\n",
    "\n",
    "    def training_step(self, batch, batch_idx):\n",
    "        x = batch[:-1]\n",
    "        y = batch[-1]\n",
    "        logits=self(x)\n",
    "        loss=self.loss(logits, y)\n",
    "\n",
    "        self.log('train_loss', loss, prog_bar=True)\n",
    "        return loss\n",
    "    \n",
    "    def evaluate(self, batch, mode=None):\n",
    "        x = batch[:-1]\n",
    "        y = batch[-1]\n",
    "        logits=self(x)\n",
    "\n",
    "        loss=self.loss(logits, y)\n",
    "\n",
    "        preds=torch.argmax(logits, axis=1)\n",
    "        acc=torch.sum(preds==y)/y.shape[0]\n",
    "        # TODO add more metrics\n",
    "\n",
    "        if mode:\n",
    "            self.log(mode+'_loss', loss,  prog_bar=True)\n",
    "            self.log(mode+'_acc', 100*acc,  prog_bar=True)\n",
    "\n",
    "    def validation_step(self, batch, *args, **kwargs):\n",
    "        return self.evaluate(batch, \"val\")\n",
    "    def test_step(self, batch, *args, **kwargs):\n",
    "        return self.evaluate(batch, \"test\")\n",
    "    \n",
    "    def configure_optimizers(self):\n",
    "        optimizer = torch.optim.Adam(\n",
    "            self.model.parameters(), lr=self.lr, weight_decay=self.hparams.l2\n",
    "        )\n",
    "        scheduler = torch.optim.lr_scheduler.ReduceLROnPlateau(\n",
    "            optimizer,\n",
    "            patience=self.hparams.lr_dc_step,\n",
    "            factor=self.hparams.lr_dc,\n",
    "            cooldown=1,\n",
    "        )\n",
    "        return {\n",
    "            \"optimizer\": optimizer,\n",
    "            \"lr_scheduler\": {\n",
    "                \"scheduler\": scheduler,\n",
    "                \"monitor\": \"val_acc\",\n",
    "                \"strict\": False,\n",
    "                \"interval\": \"epoch\",\n",
    "                \"frequency\": 1,\n",
    "                \"name\": \"scheduler_lr\",\n",
    "            },\n",
    "        }"
   ]
  },
  {
   "cell_type": "markdown",
   "metadata": {},
   "source": [
    "# different models"
   ]
  },
  {
   "cell_type": "markdown",
   "metadata": {},
   "source": [
    "# global variables"
   ]
  },
  {
   "cell_type": "code",
   "execution_count": 15,
   "metadata": {},
   "outputs": [
    {
     "data": {
      "text/plain": [
       "(tensor([  161,  4739,  2631,  ..., 26377, 26377, 26377], dtype=torch.int32),\n",
       " tensor([16527,  7528, 12815, 26377, 26377, 26377, 26377, 26377, 26377, 26377,\n",
       "         26377, 26377, 26377, 26377, 26377, 26377, 26377, 26377, 26377, 26377,\n",
       "         26377, 26377, 26377, 26377, 26377, 26377, 26377, 26377, 26377, 26377,\n",
       "         26377, 26377, 26377, 26377], dtype=torch.int32),\n",
       " tensor(194, dtype=torch.int32),\n",
       " tensor(6, dtype=torch.uint8))"
      ]
     },
     "execution_count": 15,
     "metadata": {},
     "output_type": "execute_result"
    }
   ],
   "source": [
    "train_data[0]"
   ]
  },
  {
   "cell_type": "code",
   "execution_count": 16,
   "metadata": {},
   "outputs": [],
   "source": [
    "# for tweets\n",
    "#vocab_size=tokenized_summary['input_ids'].max()+1\n",
    "\n",
    "#bookwords = []\n",
    "#for s, a in zip(tokenized_summary['input_ids'], tokenized_summary['attention_mask']):\n",
    "#    bookwords.append([str(i.item()) for i in s[a.to(bool)]]+[str(s[-1].item())])\n",
    "#print(bookwords[:1])\n"
   ]
  },
  {
   "cell_type": "code",
   "execution_count": 17,
   "metadata": {},
   "outputs": [
    {
     "data": {
      "text/plain": [
       "26378"
      ]
     },
     "execution_count": 17,
     "metadata": {},
     "output_type": "execute_result"
    }
   ],
   "source": [
    "df=pd.read_parquet('./data/books.par')\n",
    "tokens_set=set()\n",
    "for tokens in df.mapped_inputs.values:\n",
    "    tokens_set=tokens_set.union(set(tokens))\n",
    "for tokens in df.mapped_titles.values:\n",
    "    tokens_set=tokens_set.union(set(tokens))\n",
    "vocab_size=len(tokens_set)\n",
    "vocab_size"
   ]
  },
  {
   "cell_type": "code",
   "execution_count": 18,
   "metadata": {},
   "outputs": [
    {
     "name": "stdout",
     "output_type": "stream",
     "text": [
      "[['5894', '26377', '26377', '26377', '26377', '26377', '26377', '26377', '26377', '26377', '26377', '26377', '26377', '26377', '26377', '26377', '26377', '26377', '26377', '26377', '26377', '26377', '26377', '26377', '26377', '26377', '26377', '26377', '26377', '26377', '26377', '26377', '26377', '26377'], ['26174', '26377', '26377', '26377', '26377', '26377', '26377', '26377', '26377', '26377', '26377', '26377', '26377', '26377', '26377', '26377', '26377', '26377', '26377', '26377', '26377', '26377', '26377', '26377', '26377', '26377', '26377', '26377', '26377', '26377', '26377', '26377', '26377', '26377', '26377', '26377', '26377', '26377', '26377', '26377', '26377', '26377', '26377', '26377', '26377', '26377', '26377', '26377', '26377', '26377', '26377', '26377', '26377', '26377', '26377', '26377', '26377', '26377', '26377', '26377', '26377', '26377', '26377', '26377', '26377', '26377', '26377', '26377', '26377', '26377', '26377', '26377', '26377', '26377', '26377', '26377', '26377', '26377', '26377', '26377', '26377', '26377', '26377', '26377', '26377', '26377', '26377', '26377', '26377', '26377', '26377', '26377', '26377', '26377', '26377', '26377', '26377', '26377', '26377', '26377', '26377', '26377', '26377', '26377', '26377', '26377', '26377', '26377', '26377', '26377', '26377', '26377', '26377', '26377', '26377', '26377', '26377', '26377', '26377', '26377', '26377', '26377', '26377', '26377', '26377', '26377', '26377', '26377', '26377', '26377', '26377', '26377', '26377', '26377', '26377', '26377', '26377', '26377', '26377', '26377', '26377', '26377', '26377', '26377', '26377', '26377', '26377', '26377', '26377', '26377', '26377', '26377', '26377', '26377', '26377', '26377', '26377', '26377', '26377', '26377', '26377', '26377', '26377', '26377', '26377', '26377', '26377', '26377', '26377', '26377', '26377', '26377', '26377', '26377', '26377', '26377', '26377', '26377', '26377', '26377', '26377', '26377', '26377', '26377', '26377', '26377', '26377', '26377', '26377', '26377', '26377', '26377', '26377', '26377', '26377', '26377', '26377', '26377', '26377', '26377', '26377', '26377', '26377', '26377', '26377', '26377', '26377', '26377', '26377', '26377', '26377', '26377', '26377', '26377', '26377', '26377', '26377', '26377', '26377', '26377', '26377', '26377', '26377', '26377', '26377', '26377', '26377', '26377', '26377', '26377', '26377', '26377', '26377', '26377', '26377', '26377', '26377', '26377', '26377', '26377', '26377', '26377', '26377', '26377', '26377', '26377', '26377', '26377', '26377', '26377', '26377', '26377', '26377', '26377', '26377', '26377', '26377', '26377', '26377', '26377', '26377', '26377', '26377', '26377', '26377', '26377', '26377', '26377', '26377', '26377', '26377', '26377', '26377', '26377', '26377', '26377', '26377', '26377', '26377', '26377', '26377', '26377', '26377', '26377', '26377', '26377', '26377', '26377', '26377', '26377', '26377', '26377', '26377', '26377', '26377', '26377', '26377', '26377', '26377', '26377', '26377', '26377', '26377', '26377', '26377', '26377', '26377', '26377', '26377', '26377', '26377', '26377', '26377', '26377', '26377', '26377', '26377', '26377', '26377', '26377', '26377', '26377', '26377', '26377', '26377', '26377', '26377', '26377', '26377', '26377', '26377', '26377', '26377', '26377', '26377', '26377', '26377', '26377', '26377', '26377', '26377', '26377', '26377', '26377', '26377', '26377', '26377', '26377', '26377', '26377', '26377', '26377', '26377', '26377', '26377', '26377', '26377', '26377', '26377', '26377', '26377', '26377', '26377', '26377', '26377', '26377', '26377', '26377', '26377', '26377', '26377', '26377', '26377', '26377', '26377', '26377', '26377', '26377', '26377', '26377', '26377', '26377', '26377', '26377', '26377', '26377', '26377', '26377', '26377', '26377', '26377', '26377', '26377', '26377', '26377', '26377', '26377', '26377', '26377', '26377', '26377', '26377', '26377', '26377', '26377', '26377', '26377', '26377', '26377', '26377', '26377', '26377', '26377', '26377', '26377', '26377', '26377', '26377', '26377', '26377', '26377', '26377', '26377', '26377', '26377', '26377', '26377', '26377', '26377', '26377', '26377', '26377', '26377', '26377', '26377', '26377', '26377', '26377', '26377', '26377', '26377', '26377', '26377', '26377', '26377', '26377', '26377', '26377', '26377', '26377', '26377', '26377', '26377', '26377', '26377', '26377', '26377', '26377', '26377', '26377', '26377', '26377', '26377', '26377', '26377', '26377', '26377', '26377', '26377', '26377', '26377', '26377', '26377', '26377', '26377', '26377', '26377', '26377', '26377', '26377', '26377', '26377', '26377', '26377', '26377', '26377', '26377', '26377', '26377', '26377', '26377', '26377', '26377', '26377', '26377', '26377', '26377', '26377', '26377', '26377', '26377', '26377', '26377', '26377', '26377', '26377', '26377', '26377', '26377', '26377', '26377', '26377', '26377', '26377', '26377', '26377', '26377', '26377', '26377', '26377', '26377', '26377', '26377', '26377', '26377', '26377', '26377', '26377', '26377', '26377', '26377', '26377', '26377', '26377', '26377', '26377', '26377', '26377', '26377', '26377', '26377', '26377', '26377', '26377', '26377', '26377', '26377', '26377', '26377', '26377', '26377', '26377', '26377', '26377', '26377', '26377', '26377', '26377', '26377', '26377', '26377', '26377', '26377', '26377', '26377', '26377', '26377', '26377', '26377', '26377', '26377', '26377', '26377', '26377', '26377', '26377', '26377', '26377', '26377', '26377', '26377', '26377', '26377', '26377', '26377', '26377', '26377', '26377', '26377', '26377', '26377', '26377', '26377', '26377', '26377', '26377', '26377', '26377', '26377', '26377', '26377', '26377', '26377', '26377', '26377', '26377', '26377', '26377', '26377', '26377', '26377', '26377', '26377', '26377', '26377', '26377', '26377', '26377', '26377', '26377', '26377', '26377', '26377', '26377', '26377', '26377', '26377', '26377', '26377', '26377', '26377', '26377', '26377', '26377', '26377', '26377', '26377', '26377', '26377', '26377', '26377', '26377', '26377', '26377', '26377', '26377', '26377', '26377', '26377', '26377', '26377', '26377', '26377', '26377', '26377', '26377', '26377', '26377', '26377', '26377', '26377', '26377', '26377', '26377', '26377', '26377', '26377', '26377', '26377', '26377', '26377', '26377', '26377', '26377', '26377', '26377', '26377', '26377', '26377', '26377', '26377', '26377', '26377', '26377', '26377', '26377', '26377', '26377', '26377', '26377', '26377', '26377', '26377', '26377', '26377', '26377', '26377', '26377', '26377', '26377', '26377', '26377', '26377', '26377', '26377', '26377', '26377', '26377', '26377', '26377', '26377', '26377', '26377', '26377', '26377', '26377', '26377', '26377', '26377', '26377', '26377', '26377', '26377', '26377', '26377', '26377', '26377', '26377', '26377', '26377', '26377', '26377', '26377', '26377', '26377', '26377', '26377', '26377', '26377', '26377', '26377', '26377', '26377', '26377', '26377', '26377', '26377', '26377', '26377', '26377', '26377', '26377', '26377', '26377', '26377', '26377', '26377', '26377', '26377', '26377', '26377', '26377', '26377', '26377', '26377', '26377', '26377', '26377', '26377', '26377', '26377', '26377', '26377', '26377', '26377', '26377', '26377', '26377', '26377', '26377', '26377', '26377', '26377', '26377', '26377', '26377', '26377', '26377', '26377', '26377', '26377', '26377', '26377', '26377', '26377', '26377', '26377', '26377', '26377', '26377', '26377', '26377', '26377', '26377', '26377', '26377', '26377', '26377', '26377', '26377', '26377', '26377', '26377', '26377', '26377', '26377', '26377', '26377', '26377', '26377', '26377', '26377', '26377', '26377', '26377', '26377', '26377', '26377', '26377', '26377', '26377', '26377', '26377', '26377', '26377', '26377', '26377', '26377', '26377', '26377', '26377', '26377', '26377', '26377', '26377', '26377', '26377', '26377', '26377', '26377', '26377', '26377', '26377', '26377', '26377', '26377', '26377', '26377', '26377', '26377', '26377', '26377', '26377', '26377', '26377', '26377', '26377', '26377', '26377', '26377', '26377', '26377', '26377', '26377', '26377', '26377', '26377', '26377', '26377', '26377', '26377', '26377', '26377', '26377', '26377', '26377', '26377', '26377', '26377', '26377', '26377', '26377', '26377', '26377', '26377', '26377', '26377', '26377', '26377', '26377', '26377', '26377', '26377', '26377', '26377', '26377', '26377', '26377', '26377', '26377', '26377', '26377', '26377', '26377', '26377', '26377', '26377', '26377', '26377', '26377', '26377', '26377', '26377', '26377', '26377', '26377', '26377', '26377', '26377', '26377', '26377', '26377', '26377', '26377', '26377', '26377', '26377', '26377', '26377', '26377', '26377', '26377', '26377', '26377', '26377', '26377', '26377', '26377', '26377', '26377', '26377', '26377', '26377', '26377', '26377', '26377', '26377', '26377', '26377', '26377', '26377', '26377', '26377', '26377', '26377', '26377', '26377', '26377', '26377', '26377', '26377', '26377', '26377', '26377', '26377', '26377', '26377', '26377', '26377', '26377', '26377', '26377', '26377', '26377', '26377', '26377', '26377', '26377', '26377', '26377', '26377', '26377', '26377', '26377', '26377', '26377', '26377', '26377', '26377', '26377', '26377', '26377', '26377', '26377', '26377', '26377', '26377', '26377', '26377', '26377', '26377', '26377', '26377', '26377', '26377', '26377', '26377', '26377', '26377', '26377', '26377', '26377', '26377', '26377', '26377', '26377', '26377', '26377', '26377', '26377', '26377', '26377', '26377', '26377', '26377', '26377', '26377', '26377', '26377', '26377', '26377', '26377', '26377', '26377', '26377', '26377', '26377', '26377', '26377', '26377', '26377', '26377', '26377', '26377', '26377', '26377', '26377', '26377', '26377', '26377', '26377', '26377', '26377', '26377', '26377', '26377', '26377', '26377', '26377', '26377', '26377', '26377', '26377', '26377', '26377', '26377', '26377', '26377', '26377', '26377', '26377', '26377', '26377', '26377', '26377', '26377', '26377', '26377', '26377', '26377', '26377', '26377', '26377', '26377', '26377', '26377', '26377', '26377', '26377', '26377', '26377', '26377', '26377', '26377', '26377', '26377', '26377', '26377', '26377', '26377', '26377', '26377', '26377', '26377', '26377', '26377', '26377', '26377', '26377', '26377', '26377', '26377', '26377', '26377', '26377', '26377', '26377', '26377', '26377', '26377', '26377', '26377', '26377', '26377', '26377', '26377', '26377', '26377', '26377', '26377', '26377', '26377', '26377', '26377', '26377', '26377', '26377', '26377', '26377', '26377', '26377', '26377', '26377', '26377', '26377', '26377', '26377', '26377', '26377', '26377', '26377', '26377', '26377', '26377', '26377', '26377', '26377', '26377', '26377', '26377', '26377', '26377', '26377', '26377', '26377', '26377', '26377', '26377', '26377', '26377', '26377', '26377', '26377', '26377', '26377', '26377', '26377', '26377', '26377', '26377', '26377', '26377', '26377', '26377', '26377', '26377', '26377', '26377', '26377', '26377', '26377', '26377', '26377', '26377', '26377', '26377', '26377', '26377', '26377', '26377', '26377', '26377', '26377', '26377', '26377', '26377', '26377', '26377', '26377', '26377', '26377', '26377', '26377', '26377', '26377', '26377', '26377', '26377', '26377', '26377', '26377', '26377', '26377', '26377', '26377', '26377', '26377', '26377', '26377', '26377', '26377', '26377', '26377', '26377', '26377', '26377', '26377', '26377', '26377', '26377', '26377', '26377', '26377', '26377', '26377', '26377', '26377', '26377', '26377', '26377', '26377', '26377', '26377', '26377', '26377', '26377', '26377', '26377', '26377', '26377', '26377', '26377', '26377', '26377', '26377', '26377', '26377', '26377', '26377', '26377', '26377', '26377', '26377', '26377', '26377', '26377', '26377', '26377', '26377', '26377', '26377', '26377', '26377', '26377', '26377', '26377', '26377', '26377', '26377', '26377', '26377', '26377', '26377', '26377', '26377', '26377', '26377', '26377', '26377', '26377', '26377', '26377', '26377', '26377', '26377', '26377', '26377', '26377', '26377', '26377', '26377', '26377', '26377', '26377', '26377', '26377', '26377', '26377', '26377', '26377', '26377', '26377', '26377', '26377', '26377', '26377', '26377', '26377', '26377', '26377', '26377', '26377', '26377', '26377', '26377', '26377', '26377', '26377', '26377', '26377', '26377', '26377', '26377', '26377', '26377', '26377', '26377', '26377', '26377', '26377', '26377', '26377', '26377', '26377', '26377', '26377', '26377', '26377', '26377', '26377', '26377', '26377', '26377', '26377', '26377', '26377', '26377', '26377', '26377', '26377', '26377', '26377', '26377', '26377', '26377', '26377', '26377', '26377', '26377', '26377', '26377', '26377', '26377', '26377', '26377', '26377', '26377', '26377', '26377', '26377', '26377', '26377', '26377', '26377', '26377', '26377', '26377', '26377', '26377', '26377', '26377', '26377', '26377', '26377', '26377', '26377', '26377', '26377', '26377', '26377', '26377', '26377', '26377', '26377', '26377', '26377', '26377', '26377', '26377', '26377', '26377', '26377', '26377', '26377', '26377', '26377', '26377', '26377', '26377', '26377', '26377', '26377', '26377', '26377', '26377', '26377', '26377', '26377', '26377', '26377', '26377', '26377', '26377', '26377', '26377', '26377', '26377', '26377', '26377', '26377', '26377', '26377', '26377', '26377', '26377', '26377', '26377', '26377', '26377', '26377', '26377', '26377', '26377', '26377', '26377', '26377', '26377', '26377', '26377', '26377', '26377', '26377', '26377', '26377', '26377', '26377', '26377', '26377', '26377', '26377', '26377', '26377', '26377', '26377', '26377', '26377', '26377', '26377', '26377', '26377', '26377', '26377', '26377', '26377', '26377', '26377', '26377', '26377', '26377', '26377', '26377', '26377', '26377', '26377', '26377', '26377', '26377', '26377', '26377', '26377', '26377', '26377', '26377', '26377', '26377', '26377', '26377', '26377', '26377', '26377', '26377', '26377', '26377', '26377', '26377', '26377', '26377', '26377', '26377', '26377', '26377', '26377', '26377', '26377', '26377', '26377', '26377', '26377', '26377', '26377', '26377', '26377', '26377', '26377', '26377', '26377', '26377', '26377', '26377', '26377', '26377', '26377', '26377', '26377', '26377', '26377', '26377', '26377', '26377', '26377', '26377', '26377', '26377', '26377', '26377', '26377', '26377', '26377', '26377', '26377', '26377', '26377', '26377', '26377', '26377', '26377', '26377', '26377', '26377', '26377', '26377', '26377', '26377', '26377', '26377', '26377', '26377', '26377', '26377', '26377', '26377', '26377', '26377', '26377', '26377', '26377', '26377', '26377', '26377', '26377', '26377', '26377', '26377', '26377', '26377', '26377', '26377', '26377', '26377', '26377', '26377', '26377', '26377', '26377', '26377', '26377', '26377', '26377', '26377', '26377', '26377', '26377', '26377', '26377', '26377', '26377', '26377', '26377', '26377', '26377', '26377', '26377', '26377', '26377', '26377', '26377', '26377', '26377', '26377', '26377', '26377', '26377', '26377', '26377', '26377', '26377', '26377', '26377', '26377', '26377', '26377', '26377', '26377', '26377', '26377', '26377', '26377', '26377', '26377', '26377', '26377', '26377', '26377', '26377', '26377', '26377', '26377', '26377', '26377', '26377', '26377', '26377', '26377', '26377', '26377', '26377', '26377', '26377', '26377', '26377', '26377', '26377', '26377', '26377', '26377', '26377', '26377', '26377', '26377', '26377', '26377', '26377', '26377', '26377', '26377', '26377', '26377', '26377', '26377', '26377', '26377', '26377', '26377', '26377', '26377', '26377', '26377', '26377', '26377', '26377', '26377', '26377', '26377', '26377', '26377', '26377', '26377', '26377', '26377', '26377', '26377', '26377', '26377', '26377', '26377', '26377', '26377', '26377', '26377', '26377', '26377', '26377', '26377', '26377', '26377', '26377', '26377', '26377', '26377', '26377', '26377', '26377', '26377', '26377', '26377', '26377', '26377', '26377', '26377', '26377', '26377', '26377', '26377', '26377', '26377', '26377', '26377', '26377', '26377', '26377', '26377', '26377', '26377', '26377', '26377', '26377', '26377', '26377', '26377', '26377', '26377', '26377', '26377', '26377', '26377', '26377', '26377', '26377', '26377', '26377', '26377', '26377', '26377', '26377', '26377', '26377', '26377', '26377', '26377', '26377', '26377', '26377', '26377', '26377', '26377', '26377', '26377', '26377', '26377', '26377', '26377', '26377', '26377', '26377', '26377', '26377', '26377', '26377', '26377', '26377', '26377', '26377', '26377', '26377', '26377', '26377', '26377', '26377', '26377', '26377', '26377', '26377', '26377', '26377', '26377', '26377', '26377', '26377', '26377', '26377', '26377', '26377', '26377', '26377', '26377', '26377', '26377', '26377', '26377', '26377', '26377', '26377', '26377', '26377', '26377', '26377', '26377', '26377', '26377', '26377', '26377', '26377', '26377', '26377', '26377', '26377', '26377', '26377', '26377', '26377', '26377', '26377', '26377', '26377', '26377', '26377', '26377', '26377', '26377', '26377', '26377', '26377', '26377', '26377', '26377', '26377', '26377', '26377', '26377', '26377', '26377', '26377', '26377', '26377', '26377', '26377', '26377', '26377', '26377', '26377', '26377', '26377', '26377', '26377', '26377', '26377', '26377', '26377', '26377', '26377', '26377', '26377', '26377', '26377', '26377', '26377', '26377', '26377', '26377', '26377', '26377', '26377', '26377', '26377', '26377', '26377', '26377', '26377', '26377', '26377', '26377', '26377', '26377', '26377', '26377', '26377', '26377', '26377', '26377', '26377', '26377', '26377', '26377', '26377', '26377', '26377', '26377', '26377', '26377', '26377', '26377', '26377', '26377', '26377', '26377', '26377', '26377', '26377', '26377', '26377', '26377', '26377', '26377', '26377', '26377', '26377', '26377', '26377', '26377', '26377', '26377', '26377', '26377', '26377', '26377', '26377', '26377', '26377', '26377', '26377', '26377', '26377', '26377', '26377', '26377', '26377', '26377', '26377', '26377', '26377', '26377', '26377', '26377', '26377', '26377', '26377', '26377', '26377', '26377', '26377', '26377', '26377', '26377', '26377', '26377', '26377', '26377', '26377', '26377', '26377', '26377', '26377', '26377', '26377', '26377', '26377', '26377', '26377', '26377', '26377', '26377', '26377', '26377', '26377', '26377', '26377', '26377', '26377', '26377', '26377', '26377', '26377', '26377', '26377', '26377', '26377', '26377', '26377', '26377', '26377', '26377', '26377', '26377', '26377', '26377', '26377', '26377', '26377', '26377', '26377', '26377', '26377', '26377', '26377', '26377', '26377', '26377', '26377', '26377', '26377', '26377', '26377', '26377', '26377', '26377', '26377', '26377', '26377', '26377', '26377', '26377', '26377', '26377', '26377', '26377', '26377', '26377', '26377', '26377', '26377', '26377', '26377', '26377', '26377', '26377', '26377', '26377', '26377', '26377', '26377', '26377', '26377', '26377', '26377', '26377', '26377', '26377', '26377', '26377', '26377', '26377', '26377', '26377', '26377', '26377', '26377', '26377', '26377', '26377', '26377', '26377', '26377', '26377', '26377', '26377', '26377', '26377', '26377', '26377', '26377', '26377', '26377', '26377', '26377', '26377', '26377', '26377', '26377', '26377', '26377', '26377', '26377', '26377', '26377', '26377', '26377', '26377', '26377', '26377', '26377', '26377', '26377', '26377', '26377', '26377', '26377', '26377', '26377', '26377', '26377', '26377', '26377', '26377', '26377', '26377', '26377', '26377', '26377', '26377', '26377', '26377', '26377', '26377', '26377', '26377', '26377', '26377', '26377', '26377', '26377', '26377', '26377', '26377', '26377', '26377', '26377', '26377', '26377', '26377', '26377', '26377', '26377', '26377', '26377', '26377', '26377', '26377', '26377', '26377', '26377', '26377', '26377', '26377', '26377', '26377', '26377', '26377', '26377', '26377', '26377', '26377', '26377', '26377', '26377', '26377', '26377', '26377', '26377', '26377', '26377', '26377', '26377', '26377', '26377', '26377', '26377', '26377', '26377', '26377', '26377', '26377', '26377', '26377', '26377', '26377', '26377', '26377', '26377', '26377', '26377', '26377', '26377', '26377', '26377', '26377', '26377', '26377', '26377', '26377', '26377', '26377', '26377', '26377', '26377', '26377', '26377', '26377', '26377', '26377', '26377', '26377', '26377', '26377', '26377', '26377', '26377', '26377', '26377', '26377', '26377', '26377', '26377', '26377', '26377', '26377', '26377', '26377', '26377', '26377', '26377', '26377', '26377', '26377', '26377', '26377', '26377', '26377', '26377', '26377', '26377', '26377', '26377', '26377', '26377', '26377', '26377', '26377', '26377', '26377', '26377', '26377', '26377', '26377', '26377', '26377', '26377', '26377', '26377', '26377', '26377', '26377', '26377', '26377', '26377', '26377', '26377', '26377', '26377', '26377', '26377', '26377', '26377', '26377', '26377', '26377', '26377', '26377', '26377', '26377', '26377', '26377', '26377', '26377', '26377', '26377', '26377', '26377', '26377', '26377', '26377', '26377', '26377', '26377', '26377', '26377', '26377', '26377', '26377', '26377', '26377', '26377', '26377', '26377', '26377', '26377', '26377', '26377', '26377', '26377', '26377', '26377', '26377', '26377', '26377', '26377', '26377', '26377', '26377', '26377', '26377', '26377', '26377', '26377', '26377', '26377', '26377', '26377', '26377', '26377', '26377', '26377', '26377', '26377', '26377', '26377', '26377', '26377', '26377', '26377', '26377', '26377', '26377', '26377', '26377', '26377', '26377', '26377', '26377', '26377', '26377', '26377', '26377', '26377', '26377', '26377', '26377', '26377', '26377', '26377', '26377', '26377', '26377', '26377', '26377', '26377', '26377', '26377', '26377', '26377', '26377', '26377', '26377', '26377', '26377', '26377', '26377', '26377', '26377', '26377', '26377', '26377', '26377', '26377', '26377', '26377', '26377', '26377', '26377', '26377', '26377', '26377', '26377', '26377', '26377', '26377', '26377', '26377', '26377', '26377', '26377', '26377', '26377', '26377', '26377', '26377', '26377', '26377', '26377', '26377', '26377', '26377', '26377', '26377', '26377', '26377', '26377', '26377', '26377', '26377', '26377', '26377', '26377', '26377', '26377', '26377', '26377', '26377', '26377', '26377', '26377', '26377', '26377', '26377', '26377', '26377', '26377', '26377', '26377', '26377', '26377', '26377', '26377', '26377', '26377', '26377', '26377', '26377', '26377', '26377', '26377', '26377', '26377', '26377', '26377', '26377', '26377', '26377', '26377', '26377', '26377', '26377', '26377', '26377', '26377', '26377', '26377', '26377', '26377', '26377', '26377', '26377', '26377', '26377', '26377', '26377', '26377', '26377', '26377', '26377', '26377', '26377', '26377', '26377', '26377', '26377', '26377', '26377', '26377', '26377', '26377', '26377', '26377', '26377', '26377', '26377', '26377', '26377', '26377', '26377', '26377', '26377', '26377', '26377', '26377', '26377', '26377', '26377', '26377', '26377', '26377', '26377', '26377', '26377', '26377', '26377', '26377', '26377', '26377', '26377', '26377', '26377', '26377', '26377', '26377', '26377', '26377', '26377', '26377', '26377', '26377', '26377', '26377', '26377', '26377', '26377', '26377', '26377', '26377', '26377', '26377', '26377', '26377', '26377', '26377', '26377', '26377', '26377', '26377', '26377', '26377', '26377', '26377', '26377', '26377', '26377', '26377', '26377', '26377', '26377', '26377', '26377', '26377', '26377', '26377', '26377', '26377', '26377', '26377', '26377', '26377', '26377', '26377', '26377', '26377', '26377', '26377', '26377', '26377', '26377', '26377', '26377', '26377', '26377', '26377', '26377', '26377', '26377', '26377', '26377', '26377', '26377', '26377', '26377', '26377', '26377', '26377', '26377', '26377', '26377', '26377', '26377', '26377', '26377', '26377', '26377', '26377', '26377', '26377', '26377', '26377', '26377', '26377', '26377', '26377', '26377', '26377', '26377', '26377', '26377', '26377', '26377', '26377', '26377', '26377', '26377', '26377', '26377', '26377', '26377', '26377', '26377', '26377', '26377', '26377', '26377', '26377', '26377', '26377', '26377', '26377', '26377', '26377', '26377', '26377', '26377', '26377', '26377', '26377', '26377', '26377', '26377', '26377', '26377', '26377', '26377', '26377', '26377', '26377', '26377', '26377', '26377', '26377', '26377', '26377', '26377', '26377', '26377', '26377', '26377', '26377', '26377', '26377', '26377', '26377', '26377', '26377', '26377', '26377', '26377', '26377', '26377', '26377', '26377', '26377', '26377', '26377', '26377', '26377', '26377', '26377', '26377', '26377', '26377', '26377', '26377', '26377', '26377', '26377', '26377', '26377', '26377', '26377', '26377', '26377', '26377', '26377', '26377', '26377', '26377', '26377', '26377', '26377', '26377', '26377', '26377', '26377', '26377', '26377', '26377', '26377', '26377', '26377', '26377', '26377', '26377', '26377', '26377', '26377', '26377', '26377', '26377', '26377', '26377', '26377', '26377', '26377', '26377', '26377', '26377', '26377', '26377', '26377', '26377', '26377', '26377', '26377', '26377', '26377', '26377', '26377', '26377', '26377', '26377', '26377', '26377', '26377', '26377', '26377', '26377', '26377', '26377', '26377', '26377', '26377', '26377', '26377', '26377', '26377', '26377', '26377', '26377', '26377', '26377', '26377', '26377', '26377', '26377', '26377', '26377', '26377', '26377', '26377', '26377', '26377', '26377', '26377', '26377', '26377', '26377', '26377', '26377', '26377', '26377', '26377', '26377', '26377', '26377', '26377', '26377', '26377', '26377', '26377', '26377', '26377', '26377', '26377', '26377', '26377', '26377', '26377', '26377', '26377', '26377', '26377', '26377', '26377', '26377', '26377', '26377', '26377', '26377', '26377', '26377', '26377', '26377', '26377', '26377', '26377', '26377', '26377', '26377', '26377', '26377', '26377', '26377', '26377', '26377', '26377', '26377', '26377', '26377', '26377', '26377', '26377', '26377', '26377', '26377', '26377', '26377', '26377', '26377', '26377', '26377', '26377', '26377', '26377', '26377', '26377', '26377', '26377', '26377', '26377', '26377', '26377', '26377', '26377', '26377', '26377', '26377', '26377', '26377', '26377', '26377', '26377', '26377', '26377', '26377', '26377', '26377', '26377', '26377', '26377', '26377', '26377', '26377', '26377', '26377', '26377', '26377', '26377', '26377', '26377', '26377', '26377', '26377', '26377', '26377', '26377', '26377', '26377', '26377', '26377', '26377', '26377', '26377', '26377', '26377', '26377', '26377', '26377', '26377', '26377', '26377', '26377', '26377', '26377', '26377', '26377', '26377', '26377', '26377', '26377', '26377', '26377', '26377', '26377', '26377', '26377', '26377', '26377', '26377', '26377', '26377', '26377', '26377', '26377', '26377', '26377', '26377', '26377', '26377', '26377', '26377', '26377', '26377', '26377', '26377', '26377', '26377', '26377', '26377', '26377', '26377', '26377', '26377', '26377', '26377', '26377', '26377', '26377', '26377', '26377', '26377', '26377', '26377', '26377', '26377', '26377', '26377', '26377', '26377', '26377', '26377', '26377', '26377', '26377', '26377', '26377', '26377', '26377', '26377', '26377', '26377', '26377', '26377', '26377', '26377', '26377', '26377', '26377', '26377', '26377', '26377', '26377', '26377', '26377', '26377', '26377', '26377', '26377', '26377', '26377', '26377', '26377', '26377', '26377', '26377', '26377', '26377', '26377', '26377', '26377', '26377', '26377', '26377', '26377', '26377', '26377', '26377', '26377', '26377', '26377', '26377', '26377', '26377', '26377', '26377', '26377', '26377', '26377', '26377', '26377', '26377', '26377', '26377', '26377', '26377', '26377', '26377', '26377', '26377', '26377', '26377', '26377', '26377', '26377', '26377', '26377', '26377', '26377', '26377', '26377', '26377', '26377', '26377', '26377', '26377', '26377', '26377', '26377', '26377', '26377', '26377', '26377', '26377', '26377', '26377', '26377', '26377', '26377', '26377', '26377', '26377', '26377', '26377', '26377', '26377', '26377', '26377', '26377', '26377', '26377', '26377', '26377', '26377', '26377', '26377', '26377', '26377', '26377', '26377', '26377', '26377', '26377', '26377', '26377', '26377', '26377', '26377', '26377', '26377', '26377', '26377', '26377', '26377', '26377', '26377', '26377', '26377', '26377', '26377', '26377', '26377', '26377', '26377', '26377', '26377', '26377', '26377', '26377', '26377', '26377', '26377', '26377', '26377', '26377', '26377', '26377', '26377', '26377', '26377', '26377', '26377', '26377', '26377', '26377', '26377', '26377', '26377', '26377', '26377', '26377', '26377', '26377', '26377', '26377', '26377', '26377', '26377', '26377', '26377', '26377', '26377', '26377', '26377', '26377', '26377', '26377', '26377', '26377', '26377', '26377', '26377', '26377', '26377', '26377', '26377', '26377', '26377', '26377', '26377', '26377', '26377', '26377', '26377', '26377', '26377', '26377', '26377', '26377', '26377', '26377', '26377', '26377', '26377', '26377', '26377', '26377', '26377', '26377', '26377', '26377', '26377', '26377', '26377', '26377', '26377', '26377', '26377', '26377', '26377', '26377', '26377', '26377', '26377', '26377', '26377', '26377', '26377', '26377', '26377', '26377', '26377', '26377', '26377', '26377', '26377', '26377', '26377', '26377', '26377', '26377', '26377', '26377', '26377', '26377', '26377', '26377', '26377', '26377', '26377', '26377', '26377', '26377', '26377', '26377', '26377', '26377', '26377', '26377', '26377', '26377', '26377', '26377', '26377', '26377', '26377', '26377', '26377', '26377', '26377', '26377', '26377', '26377', '26377', '26377', '26377', '26377', '26377', '26377', '26377', '26377', '26377', '26377', '26377', '26377', '26377', '26377', '26377', '26377', '26377', '26377', '26377', '26377', '26377', '26377', '26377', '26377', '26377', '26377', '26377', '26377', '26377', '26377', '26377', '26377', '26377', '26377', '26377', '26377', '26377', '26377', '26377', '26377', '26377', '26377', '26377', '26377', '26377', '26377', '26377', '26377', '26377', '26377', '26377', '26377', '26377', '26377', '26377', '26377', '26377', '26377', '26377', '26377', '26377', '26377', '26377', '26377', '26377', '26377', '26377', '26377', '26377', '26377', '26377', '26377', '26377', '26377', '26377', '26377', '26377', '26377', '26377', '26377', '26377', '26377', '26377', '26377', '26377', '26377', '26377', '26377', '26377', '26377', '26377', '26377', '26377', '26377', '26377', '26377', '26377', '26377', '26377', '26377', '26377', '26377', '26377', '26377', '26377', '26377', '26377', '26377', '26377', '26377', '26377', '26377', '26377', '26377', '26377', '26377', '26377', '26377', '26377', '26377', '26377', '26377', '26377', '26377', '26377', '26377', '26377', '26377', '26377', '26377', '26377', '26377', '26377', '26377', '26377', '26377', '26377', '26377', '26377', '26377', '26377', '26377', '26377', '26377', '26377', '26377', '26377', '26377', '26377', '26377', '26377', '26377', '26377', '26377', '26377', '26377', '26377', '26377', '26377', '26377', '26377', '26377', '26377', '26377', '26377', '26377', '26377', '26377', '26377', '26377', '26377', '26377', '26377', '26377', '26377', '26377', '26377', '26377', '26377', '26377', '26377', '26377', '26377', '26377', '26377', '26377', '26377', '26377', '26377', '26377', '26377', '26377', '26377', '26377', '26377', '26377', '26377', '26377', '26377', '26377', '26377', '26377', '26377', '26377', '26377', '26377', '26377', '26377', '26377', '26377', '26377', '26377', '26377', '26377', '26377', '26377', '26377', '26377', '26377', '26377', '26377', '26377', '26377', '26377', '26377', '26377', '26377', '26377', '26377', '26377', '26377', '26377', '26377', '26377', '26377', '26377', '26377', '26377', '26377', '26377', '26377', '26377', '26377', '26377', '26377', '26377', '26377', '26377', '26377', '26377', '26377', '26377', '26377', '26377', '26377', '26377', '26377', '26377', '26377', '26377', '26377', '26377', '26377', '26377', '26377', '26377', '26377', '26377', '26377', '26377', '26377', '26377', '26377', '26377', '26377', '26377', '26377', '26377', '26377', '26377', '26377', '26377', '26377', '26377', '26377', '26377', '26377', '26377', '26377', '26377', '26377', '26377', '26377', '26377', '26377', '26377', '26377', '26377', '26377', '26377', '26377', '26377', '26377', '26377', '26377', '26377', '26377', '26377', '26377', '26377', '26377', '26377', '26377', '26377', '26377', '26377', '26377', '26377', '26377', '26377', '26377', '26377', '26377', '26377', '26377', '26377', '26377', '26377', '26377', '26377', '26377', '26377', '26377', '26377', '26377', '26377', '26377', '26377', '26377', '26377', '26377', '26377', '26377', '26377', '26377', '26377', '26377', '26377', '26377', '26377', '26377', '26377', '26377', '26377', '26377', '26377', '26377', '26377', '26377', '26377', '26377', '26377', '26377', '26377', '26377', '26377', '26377', '26377', '26377', '26377', '26377', '26377', '26377', '26377', '26377', '26377', '26377', '26377', '26377', '26377', '26377', '26377', '26377', '26377', '26377', '26377', '26377', '26377', '26377', '26377', '26377', '26377', '26377', '26377', '26377', '26377', '26377', '26377', '26377', '26377', '26377', '26377', '26377', '26377', '26377', '26377', '26377', '26377', '26377', '26377', '26377', '26377', '26377', '26377', '26377', '26377', '26377', '26377', '26377', '26377', '26377', '26377', '26377', '26377', '26377', '26377', '26377', '26377', '26377', '26377', '26377', '26377', '26377', '26377', '26377', '26377', '26377', '26377', '26377', '26377', '26377', '26377', '26377', '26377', '26377', '26377', '26377', '26377', '26377', '26377', '26377', '26377', '26377', '26377', '26377', '26377', '26377', '26377', '26377', '26377', '26377', '26377', '26377', '26377', '26377', '26377', '26377', '26377', '26377', '26377', '26377', '26377', '26377', '26377', '26377', '26377', '26377', '26377', '26377', '26377', '26377', '26377', '26377', '26377', '26377', '26377', '26377', '26377', '26377', '26377', '26377', '26377', '26377', '26377', '26377', '26377', '26377', '26377', '26377', '26377', '26377', '26377', '26377', '26377', '26377', '26377', '26377', '26377', '26377', '26377', '26377', '26377', '26377', '26377', '26377', '26377', '26377', '26377', '26377', '26377', '26377', '26377', '26377', '26377', '26377', '26377', '26377', '26377', '26377', '26377', '26377', '26377', '26377', '26377', '26377', '26377', '26377', '26377', '26377', '26377', '26377', '26377', '26377', '26377', '26377', '26377', '26377', '26377', '26377', '26377', '26377', '26377', '26377', '26377', '26377', '26377', '26377', '26377', '26377', '26377', '26377', '26377', '26377', '26377', '26377', '26377', '26377', '26377', '26377', '26377', '26377', '26377', '26377', '26377', '26377', '26377', '26377', '26377', '26377', '26377', '26377', '26377', '26377', '26377', '26377', '26377', '26377', '26377', '26377', '26377', '26377', '26377', '26377', '26377', '26377', '26377', '26377', '26377', '26377', '26377', '26377', '26377', '26377', '26377', '26377', '26377', '26377', '26377', '26377', '26377', '26377', '26377', '26377', '26377', '26377', '26377', '26377', '26377', '26377', '26377', '26377', '26377', '26377', '26377', '26377', '26377', '26377', '26377', '26377', '26377', '26377', '26377', '26377', '26377', '26377', '26377', '26377', '26377', '26377', '26377', '26377', '26377', '26377', '26377', '26377', '26377', '26377', '26377', '26377', '26377', '26377', '26377', '26377', '26377', '26377', '26377', '26377', '26377', '26377', '26377', '26377', '26377', '26377', '26377', '26377', '26377', '26377', '26377', '26377', '26377', '26377', '26377', '26377', '26377', '26377', '26377', '26377', '26377', '26377', '26377', '26377', '26377', '26377', '26377', '26377', '26377', '26377', '26377', '26377', '26377', '26377', '26377', '26377', '26377', '26377', '26377', '26377', '26377', '26377', '26377', '26377', '26377', '26377', '26377', '26377', '26377', '26377', '26377', '26377', '26377', '26377', '26377', '26377', '26377', '26377', '26377', '26377', '26377', '26377', '26377', '26377', '26377', '26377', '26377', '26377', '26377', '26377', '26377', '26377', '26377', '26377', '26377', '26377', '26377', '26377', '26377', '26377', '26377', '26377', '26377', '26377', '26377', '26377', '26377', '26377', '26377', '26377', '26377', '26377', '26377', '26377', '26377', '26377', '26377', '26377', '26377', '26377', '26377', '26377', '26377', '26377', '26377', '26377', '26377', '26377', '26377', '26377', '26377', '26377', '26377', '26377', '26377', '26377', '26377', '26377', '26377', '26377', '26377', '26377', '26377', '26377', '26377', '26377', '26377', '26377', '26377', '26377', '26377', '26377', '26377', '26377', '26377', '26377', '26377', '26377', '26377', '26377', '26377', '26377', '26377', '26377', '26377', '26377', '26377', '26377', '26377', '26377', '26377', '26377', '26377', '26377', '26377', '26377', '26377', '26377', '26377', '26377', '26377', '26377', '26377', '26377', '26377', '26377', '26377', '26377', '26377', '26377', '26377', '26377', '26377', '26377', '26377', '26377', '26377', '26377', '26377', '26377', '26377', '26377', '26377', '26377', '26377', '26377', '26377', '26377', '26377', '26377', '26377', '26377', '26377', '26377', '26377', '26377', '26377', '26377', '26377', '26377', '26377', '26377', '26377', '26377', '26377', '26377', '26377', '26377', '26377', '26377', '26377', '26377', '26377', '26377', '26377', '26377', '26377', '26377', '26377', '26377', '26377', '26377', '26377', '26377', '26377', '26377', '26377', '26377', '26377', '26377', '26377', '26377', '26377', '26377', '26377', '26377', '26377', '26377', '26377', '26377', '26377', '26377', '26377', '26377', '26377', '26377', '26377', '26377', '26377', '26377', '26377', '26377', '26377', '26377', '26377', '26377', '26377', '26377', '26377', '26377', '26377', '26377', '26377', '26377', '26377', '26377', '26377', '26377', '26377', '26377', '26377', '26377', '26377', '26377', '26377', '26377', '26377', '26377', '26377', '26377', '26377', '26377', '26377', '26377', '26377', '26377', '26377', '26377', '26377', '26377', '26377', '26377', '26377', '26377', '26377', '26377', '26377', '26377', '26377', '26377', '26377', '26377', '26377', '26377', '26377', '26377', '26377', '26377', '26377', '26377', '26377', '26377', '26377', '26377', '26377', '26377', '26377', '26377', '26377', '26377', '26377', '26377', '26377', '26377', '26377', '26377', '26377', '26377', '26377', '26377', '26377', '26377', '26377', '26377', '26377', '26377', '26377', '26377', '26377', '26377', '26377', '26377', '26377', '26377', '26377', '26377', '26377', '26377', '26377', '26377', '26377', '26377', '26377', '26377', '26377', '26377', '26377', '26377', '26377', '26377', '26377', '26377', '26377', '26377', '26377', '26377', '26377', '26377', '26377', '26377', '26377', '26377', '26377', '26377', '26377', '26377', '26377', '26377', '26377', '26377', '26377', '26377', '26377', '26377', '26377', '26377', '26377', '26377', '26377', '26377', '26377', '26377', '26377', '26377', '26377', '26377', '26377', '26377', '26377', '26377', '26377', '26377', '26377', '26377', '26377', '26377', '26377', '26377', '26377', '26377', '26377', '26377', '26377', '26377', '26377', '26377', '26377', '26377', '26377', '26377', '26377', '26377', '26377', '26377', '26377', '26377', '26377', '26377', '26377', '26377', '26377', '26377', '26377', '26377', '26377', '26377', '26377', '26377', '26377', '26377', '26377', '26377', '26377', '26377', '26377', '26377', '26377', '26377', '26377', '26377', '26377', '26377', '26377', '26377', '26377', '26377', '26377', '26377', '26377', '26377', '26377', '26377', '26377', '26377', '26377', '26377', '26377', '26377', '26377', '26377', '26377', '26377', '26377', '26377', '26377', '26377', '26377', '26377', '26377', '26377', '26377', '26377', '26377', '26377', '26377', '26377', '26377', '26377', '26377', '26377', '26377', '26377', '26377', '26377', '26377', '26377', '26377', '26377', '26377', '26377', '26377', '26377', '26377', '26377', '26377', '26377', '26377', '26377', '26377', '26377', '26377', '26377', '26377', '26377', '26377', '26377', '26377', '26377', '26377', '26377', '26377', '26377', '26377', '26377', '26377', '26377', '26377', '26377', '26377', '26377', '26377', '26377', '26377', '26377', '26377', '26377', '26377', '26377', '26377', '26377', '26377', '26377', '26377', '26377', '26377', '26377', '26377', '26377', '26377', '26377', '26377', '26377', '26377', '26377', '26377', '26377', '26377', '26377', '26377', '26377', '26377', '26377', '26377', '26377', '26377', '26377', '26377', '26377', '26377', '26377', '26377', '26377', '26377', '26377', '26377', '26377', '26377', '26377', '26377', '26377', '26377', '26377', '26377', '26377', '26377', '26377', '26377', '26377', '26377', '26377', '26377', '26377', '26377', '26377', '26377', '26377', '26377', '26377', '26377', '26377', '26377', '26377', '26377', '26377', '26377', '26377', '26377', '26377', '26377', '26377', '26377', '26377', '26377', '26377', '26377', '26377', '26377', '26377', '26377', '26377', '26377', '26377', '26377', '26377', '26377', '26377', '26377', '26377', '26377', '26377', '26377', '26377', '26377', '26377', '26377', '26377', '26377', '26377', '26377', '26377', '26377', '26377', '26377', '26377', '26377', '26377', '26377', '26377', '26377', '26377', '26377', '26377', '26377', '26377', '26377', '26377', '26377', '26377', '26377', '26377', '26377', '26377', '26377', '26377', '26377', '26377', '26377', '26377', '26377', '26377', '26377', '26377', '26377', '26377', '26377', '26377', '26377', '26377', '26377', '26377', '26377', '26377', '26377', '26377', '26377', '26377', '26377', '26377', '26377', '26377', '26377', '26377', '26377', '26377', '26377', '26377', '26377', '26377', '26377', '26377', '26377', '26377', '26377', '26377', '26377', '26377', '26377', '26377', '26377', '26377', '26377', '26377', '26377', '26377', '26377', '26377', '26377', '26377', '26377', '26377', '26377', '26377', '26377', '26377', '26377', '26377', '26377', '26377', '26377', '26377', '26377', '26377', '26377', '26377', '26377', '26377', '26377', '26377', '26377', '26377', '26377', '26377', '26377', '26377', '26377', '26377', '26377', '26377', '26377', '26377', '26377', '26377', '26377', '26377', '26377', '26377', '26377', '26377', '26377', '26377', '26377', '26377', '26377', '26377', '26377', '26377', '26377', '26377', '26377', '26377', '26377', '26377', '26377', '26377', '26377', '26377', '26377', '26377', '26377', '26377', '26377', '26377', '26377', '26377', '26377', '26377', '26377', '26377', '26377', '26377', '26377', '26377', '26377', '26377', '26377', '26377', '26377', '26377', '26377', '26377', '26377', '26377', '26377', '26377', '26377', '26377', '26377', '26377', '26377', '26377', '26377', '26377', '26377', '26377', '26377', '26377', '26377', '26377', '26377', '26377', '26377', '26377', '26377', '26377', '26377', '26377', '26377', '26377', '26377', '26377', '26377', '26377', '26377', '26377', '26377', '26377', '26377', '26377', '26377', '26377', '26377', '26377', '26377', '26377', '26377', '26377', '26377', '26377', '26377', '26377', '26377', '26377', '26377', '26377', '26377', '26377', '26377', '26377', '26377', '26377', '26377', '26377', '26377', '26377', '26377', '26377', '26377', '26377', '26377', '26377', '26377', '26377', '26377', '26377', '26377', '26377', '26377', '26377', '26377', '26377', '26377', '26377', '26377', '26377', '26377', '26377', '26377', '26377', '26377', '26377', '26377', '26377', '26377', '26377', '26377', '26377', '26377', '26377', '26377', '26377', '26377', '26377', '26377', '26377', '26377', '26377', '26377', '26377', '26377', '26377', '26377', '26377', '26377', '26377', '26377', '26377', '26377', '26377', '26377', '26377', '26377', '26377', '26377', '26377', '26377', '26377', '26377', '26377', '26377', '26377', '26377', '26377', '26377', '26377', '26377', '26377', '26377', '26377', '26377', '26377', '26377', '26377', '26377', '26377', '26377', '26377', '26377', '26377', '26377', '26377', '26377', '26377', '26377', '26377', '26377', '26377', '26377', '26377', '26377', '26377', '26377', '26377', '26377', '26377', '26377', '26377', '26377', '26377', '26377', '26377', '26377', '26377', '26377', '26377', '26377', '26377', '26377', '26377', '26377', '26377', '26377', '26377', '26377', '26377', '26377', '26377', '26377', '26377', '26377', '26377', '26377', '26377', '26377', '26377', '26377', '26377', '26377', '26377', '26377', '26377', '26377', '26377', '26377', '26377', '26377', '26377', '26377', '26377', '26377', '26377', '26377', '26377', '26377', '26377', '26377', '26377', '26377', '26377', '26377', '26377', '26377', '26377', '26377', '26377', '26377', '26377', '26377', '26377', '26377', '26377', '26377', '26377', '26377', '26377', '26377', '26377', '26377', '26377', '26377', '26377', '26377', '26377', '26377', '26377', '26377', '26377', '26377', '26377', '26377', '26377', '26377', '26377', '26377', '26377', '26377', '26377', '26377', '26377', '26377', '26377', '26377', '26377', '26377', '26377', '26377', '26377', '26377', '26377', '26377', '26377', '26377', '26377', '26377', '26377', '26377', '26377', '26377', '26377', '26377', '26377', '26377', '26377', '26377', '26377', '26377', '26377', '26377', '26377', '26377', '26377', '26377', '26377', '26377', '26377', '26377', '26377', '26377', '26377', '26377', '26377', '26377', '26377', '26377', '26377', '26377', '26377', '26377', '26377', '26377', '26377', '26377', '26377', '26377', '26377', '26377', '26377', '26377', '26377', '26377', '26377', '26377', '26377', '26377', '26377', '26377', '26377', '26377', '26377', '26377', '26377', '26377', '26377', '26377', '26377', '26377', '26377', '26377', '26377', '26377', '26377', '26377', '26377', '26377', '26377', '26377', '26377', '26377', '26377', '26377', '26377', '26377', '26377', '26377', '26377', '26377', '26377', '26377', '26377', '26377', '26377', '26377', '26377', '26377', '26377', '26377', '26377', '26377', '26377', '26377', '26377', '26377', '26377', '26377', '26377', '26377', '26377', '26377', '26377', '26377', '26377', '26377', '26377', '26377', '26377', '26377', '26377', '26377', '26377', '26377', '26377', '26377', '26377', '26377', '26377', '26377', '26377', '26377', '26377', '26377', '26377', '26377', '26377', '26377', '26377', '26377', '26377', '26377', '26377', '26377', '26377', '26377', '26377', '26377', '26377', '26377', '26377', '26377', '26377', '26377', '26377', '26377', '26377', '26377', '26377', '26377', '26377', '26377', '26377', '26377', '26377', '26377', '26377', '26377', '26377', '26377', '26377', '26377', '26377', '26377', '26377', '26377', '26377', '26377', '26377', '26377', '26377', '26377', '26377', '26377', '26377', '26377', '26377', '26377', '26377', '26377', '26377', '26377', '26377', '26377', '26377', '26377', '26377', '26377', '26377', '26377', '26377', '26377', '26377', '26377', '26377', '26377', '26377', '26377', '26377', '26377', '26377', '26377', '26377', '26377', '26377', '26377', '26377', '26377', '26377', '26377', '26377', '26377', '26377', '26377', '26377', '26377', '26377', '26377', '26377', '26377', '26377', '26377', '26377', '26377', '26377', '26377', '26377', '26377', '26377', '26377', '26377', '26377', '26377', '26377', '26377', '26377', '26377', '26377', '26377', '26377', '26377', '26377', '26377', '26377', '26377', '26377', '26377', '26377', '26377', '26377', '26377', '26377', '26377', '26377', '26377', '26377', '26377', '26377', '26377', '26377', '26377', '26377', '26377', '26377', '26377', '26377', '26377', '26377', '26377', '26377', '26377', '26377', '26377', '26377', '26377', '26377', '26377', '26377', '26377', '26377', '26377', '26377', '26377', '26377', '26377', '26377', '26377', '26377', '26377', '26377', '26377', '26377', '26377', '26377', '26377', '26377', '26377', '26377', '26377', '26377', '26377', '26377', '26377', '26377', '26377', '26377', '26377', '26377', '26377', '26377', '26377', '26377', '26377', '26377', '26377', '26377', '26377', '26377', '26377', '26377', '26377', '26377', '26377', '26377', '26377', '26377', '26377', '26377', '26377', '26377', '26377', '26377', '26377', '26377', '26377', '26377', '26377', '26377', '26377', '26377', '26377', '26377', '26377', '26377', '26377', '26377', '26377', '26377', '26377', '26377', '26377', '26377', '26377', '26377', '26377', '26377', '26377', '26377', '26377', '26377', '26377', '26377', '26377', '26377', '26377', '26377', '26377', '26377', '26377', '26377', '26377', '26377', '26377', '26377', '26377', '26377', '26377', '26377', '26377', '26377', '26377', '26377', '26377', '26377', '26377', '26377', '26377', '26377', '26377', '26377', '26377', '26377', '26377', '26377', '26377', '26377', '26377', '26377', '26377', '26377', '26377', '26377', '26377', '26377', '26377', '26377', '26377', '26377', '26377', '26377', '26377', '26377', '26377', '26377', '26377', '26377', '26377', '26377', '26377', '26377', '26377', '26377', '26377', '26377', '26377', '26377', '26377', '26377', '26377', '26377', '26377', '26377', '26377', '26377', '26377', '26377', '26377', '26377', '26377', '26377', '26377', '26377', '26377', '26377', '26377', '26377', '26377', '26377', '26377', '26377', '26377', '26377', '26377', '26377', '26377', '26377', '26377', '26377', '26377', '26377', '26377', '26377', '26377', '26377', '26377', '26377', '26377', '26377', '26377', '26377', '26377', '26377', '26377', '26377', '26377', '26377', '26377', '26377', '26377', '26377', '26377', '26377', '26377', '26377', '26377', '26377', '26377', '26377', '26377', '26377', '26377', '26377', '26377', '26377', '26377', '26377', '26377', '26377', '26377', '26377', '26377', '26377', '26377', '26377', '26377', '26377', '26377', '26377', '26377', '26377', '26377', '26377', '26377', '26377', '26377', '26377', '26377', '26377', '26377', '26377', '26377', '26377', '26377', '26377', '26377', '26377', '26377', '26377', '26377', '26377', '26377', '26377', '26377', '26377', '26377', '26377', '26377', '26377', '26377', '26377', '26377', '26377', '26377', '26377', '26377', '26377', '26377', '26377', '26377', '26377', '26377', '26377', '26377', '26377', '26377', '26377', '26377', '26377', '26377', '26377', '26377', '26377', '26377', '26377', '26377', '26377', '26377', '26377', '26377', '26377', '26377', '26377', '26377', '26377', '26377', '26377', '26377', '26377', '26377', '26377', '26377', '26377', '26377', '26377', '26377', '26377', '26377', '26377', '26377', '26377', '26377', '26377', '26377', '26377', '26377', '26377', '26377', '26377', '26377', '26377', '26377', '26377', '26377', '26377', '26377', '26377', '26377', '26377', '26377', '26377', '26377', '26377', '26377', '26377', '26377', '26377', '26377', '26377', '26377', '26377', '26377', '26377', '26377', '26377', '26377', '26377', '26377', '26377', '26377', '26377', '26377', '26377', '26377', '26377', '26377', '26377', '26377', '26377', '26377', '26377', '26377', '26377', '26377', '26377', '26377', '26377', '26377', '26377', '26377', '26377', '26377', '26377', '26377', '26377', '26377', '26377', '26377', '26377', '26377', '26377', '26377', '26377', '26377', '26377', '26377', '26377', '26377', '26377', '26377', '26377', '26377', '26377', '26377', '26377', '26377', '26377', '26377', '26377', '26377', '26377', '26377', '26377', '26377', '26377', '26377', '26377', '26377', '26377', '26377', '26377', '26377', '26377', '26377', '26377', '26377', '26377', '26377', '26377', '26377', '26377', '26377', '26377', '26377', '26377', '26377', '26377', '26377', '26377', '26377', '26377', '26377', '26377', '26377', '26377', '26377', '26377', '26377', '26377', '26377', '26377', '26377', '26377', '26377', '26377', '26377', '26377', '26377', '26377', '26377', '26377', '26377', '26377', '26377', '26377', '26377', '26377', '26377', '26377', '26377', '26377', '26377', '26377', '26377', '26377', '26377', '26377', '26377', '26377', '26377', '26377', '26377', '26377', '26377', '26377', '26377', '26377', '26377', '26377', '26377', '26377', '26377', '26377', '26377', '26377', '26377', '26377', '26377', '26377', '26377', '26377', '26377', '26377', '26377', '26377', '26377', '26377', '26377', '26377', '26377', '26377', '26377', '26377', '26377', '26377', '26377', '26377', '26377', '26377', '26377', '26377', '26377', '26377', '26377', '26377', '26377', '26377', '26377', '26377', '26377', '26377', '26377', '26377', '26377', '26377', '26377', '26377', '26377', '26377', '26377', '26377', '26377', '26377', '26377', '26377', '26377', '26377', '26377', '26377', '26377', '26377', '26377', '26377', '26377', '26377', '26377', '26377', '26377', '26377', '26377', '26377', '26377', '26377', '26377', '26377', '26377', '26377', '26377', '26377', '26377', '26377', '26377', '26377', '26377', '26377', '26377', '26377', '26377', '26377', '26377', '26377', '26377', '26377', '26377', '26377', '26377', '26377', '26377', '26377', '26377', '26377', '26377', '26377', '26377', '26377', '26377', '26377', '26377', '26377', '26377', '26377', '26377', '26377', '26377', '26377', '26377', '26377', '26377', '26377', '26377', '26377', '26377', '26377', '26377', '26377', '26377', '26377', '26377', '26377', '26377', '26377', '26377', '26377', '26377', '26377', '26377', '26377', '26377', '26377', '26377', '26377', '26377', '26377', '26377', '26377', '26377', '26377', '26377', '26377', '26377', '26377', '26377', '26377', '26377', '26377', '26377', '26377', '26377', '26377', '26377', '26377', '26377', '26377', '26377', '26377', '26377', '26377', '26377', '26377', '26377', '26377', '26377', '26377', '26377', '26377', '26377', '26377', '26377', '26377', '26377', '26377', '26377', '26377', '26377', '26377', '26377', '26377', '26377', '26377', '26377', '26377', '26377', '26377', '26377', '26377', '26377', '26377', '26377', '26377', '26377', '26377', '26377', '26377', '26377', '26377', '26377', '26377', '26377', '26377', '26377', '26377', '26377', '26377', '26377', '26377', '26377', '26377', '26377', '26377', '26377', '26377', '26377', '26377', '26377', '26377', '26377', '26377', '26377', '26377', '26377', '26377', '26377', '26377', '26377', '26377', '26377', '26377', '26377', '26377', '26377', '26377', '26377', '26377', '26377', '26377', '26377', '26377', '26377', '26377', '26377', '26377', '26377', '26377', '26377', '26377', '26377', '26377', '26377', '26377', '26377', '26377', '26377', '26377', '26377', '26377', '26377', '26377', '26377', '26377', '26377', '26377', '26377', '26377', '26377', '26377', '26377', '26377', '26377', '26377', '26377', '26377', '26377', '26377', '26377', '26377', '26377', '26377', '26377', '26377', '26377', '26377', '26377', '26377', '26377', '26377', '26377', '26377', '26377', '26377', '26377', '26377', '26377', '26377', '26377', '26377', '26377', '26377', '26377', '26377', '26377', '26377', '26377', '26377', '26377', '26377', '26377', '26377', '26377', '26377', '26377', '26377', '26377', '26377', '26377', '26377', '26377', '26377', '26377', '26377', '26377', '26377', '26377', '26377', '26377', '26377', '26377', '26377', '26377', '26377', '26377', '26377', '26377', '26377', '26377', '26377', '26377', '26377', '26377', '26377', '26377', '26377', '26377', '26377', '26377', '26377', '26377', '26377', '26377', '26377', '26377', '26377', '26377', '26377', '26377', '26377', '26377', '26377', '26377', '26377', '26377', '26377', '26377', '26377', '26377', '26377', '26377', '26377', '26377', '26377', '26377', '26377', '26377', '26377', '26377', '26377', '26377', '26377', '26377', '26377', '26377', '26377', '26377', '26377', '26377', '26377', '26377', '26377', '26377', '26377', '26377', '26377', '26377', '26377', '26377', '26377', '26377', '26377', '26377', '26377', '26377', '26377', '26377', '26377', '26377', '26377', '26377', '26377', '26377', '26377', '26377', '26377', '26377', '26377', '26377', '26377', '26377', '26377', '26377', '26377', '26377', '26377', '26377', '26377', '26377', '26377', '26377', '26377', '26377', '26377', '26377', '26377', '26377', '26377', '26377', '26377', '26377', '26377', '26377', '26377', '26377', '26377', '26377', '26377', '26377', '26377', '26377', '26377', '26377', '26377', '26377', '26377', '26377', '26377', '26377', '26377', '26377', '26377', '26377', '26377', '26377', '26377', '26377', '26377', '26377', '26377', '26377', '26377', '26377', '26377', '26377', '26377', '26377', '26377', '26377', '26377', '26377', '26377', '26377', '26377', '26377', '26377', '26377', '26377', '26377', '26377', '26377', '26377', '26377', '26377', '26377', '26377', '26377', '26377', '26377', '26377', '26377', '26377', '26377', '26377', '26377', '26377', '26377', '26377', '26377', '26377', '26377', '26377', '26377', '26377', '26377', '26377', '26377', '26377', '26377', '26377', '26377', '26377', '26377', '26377', '26377', '26377', '26377', '26377', '26377', '26377', '26377', '26377', '26377', '26377', '26377', '26377', '26377', '26377', '26377', '26377', '26377', '26377', '26377', '26377', '26377', '26377', '26377', '26377', '26377', '26377', '26377', '26377', '26377', '26377', '26377', '26377', '26377', '26377', '26377', '26377', '26377', '26377', '26377', '26377', '26377', '26377', '26377', '26377', '26377', '26377', '26377', '26377', '26377', '26377', '26377', '26377', '26377', '26377', '26377', '26377', '26377', '26377', '26377', '26377', '26377', '26377', '26377', '26377', '26377', '26377', '26377', '26377', '26377', '26377', '26377', '26377', '26377', '26377', '26377', '26377', '26377', '26377', '26377', '26377', '26377', '26377', '26377', '26377', '26377', '26377', '26377', '26377', '26377', '26377', '26377', '26377', '26377', '26377', '26377', '26377', '26377', '26377', '26377', '26377', '26377', '26377', '26377', '26377', '26377', '26377', '26377', '26377', '26377', '26377', '26377', '26377', '26377', '26377', '26377', '26377', '26377', '26377', '26377', '26377', '26377', '26377', '26377', '26377', '26377', '26377', '26377', '26377', '26377', '26377', '26377', '26377', '26377', '26377', '26377', '26377', '26377', '26377', '26377', '26377', '26377', '26377', '26377', '26377', '26377', '26377', '26377', '26377', '26377', '26377', '26377', '26377', '26377', '26377', '26377', '26377', '26377', '26377', '26377', '26377', '26377', '26377', '26377', '26377', '26377', '26377', '26377', '26377', '26377', '26377', '26377', '26377', '26377', '26377', '26377', '26377', '26377', '26377', '26377', '26377', '26377', '26377', '26377', '26377', '26377', '26377', '26377', '26377', '26377', '26377', '26377', '26377', '26377', '26377', '26377', '26377', '26377', '26377', '26377', '26377', '26377', '26377', '26377', '26377', '26377', '26377', '26377', '26377', '26377', '26377', '26377', '26377', '26377', '26377', '26377', '26377', '26377', '26377', '26377', '26377', '26377', '26377', '26377', '26377', '26377', '26377', '26377', '26377', '26377', '26377', '26377', '26377', '26377', '26377', '26377', '26377', '26377', '26377', '26377', '26377', '26377', '26377', '26377', '26377', '26377', '26377', '26377', '26377', '26377', '26377', '26377', '26377', '26377', '26377', '26377', '26377', '26377', '26377', '26377', '26377', '26377', '26377', '26377', '26377', '26377', '26377', '26377', '26377', '26377', '26377', '26377', '26377', '26377', '26377', '26377', '26377', '26377', '26377', '26377', '26377', '26377', '26377', '26377', '26377', '26377', '26377', '26377', '26377', '26377', '26377', '26377', '26377', '26377', '26377', '26377', '26377', '26377', '26377', '26377', '26377', '26377', '26377', '26377', '26377', '26377', '26377', '26377', '26377', '26377', '26377', '26377', '26377', '26377', '26377', '26377', '26377', '26377', '26377', '26377', '26377', '26377', '26377', '26377', '26377', '26377', '26377', '26377', '26377', '26377', '26377', '26377', '26377', '26377', '26377', '26377', '26377', '26377', '26377', '26377', '26377', '26377', '26377', '26377', '26377', '26377', '26377', '26377', '26377', '26377', '26377', '26377', '26377', '26377', '26377', '26377', '26377', '26377', '26377', '26377', '26377', '26377', '26377', '26377', '26377', '26377', '26377', '26377', '26377', '26377', '26377', '26377', '26377', '26377', '26377', '26377', '26377', '26377', '26377', '26377', '26377', '26377', '26377', '26377', '26377', '26377', '26377', '26377', '26377', '26377', '26377', '26377', '26377', '26377', '26377', '26377', '26377', '26377', '26377', '26377', '26377', '26377', '26377', '26377', '26377', '26377', '26377', '26377', '26377', '26377', '26377', '26377', '26377', '26377', '26377', '26377', '26377', '26377', '26377', '26377', '26377', '26377', '26377', '26377', '26377', '26377', '26377', '26377', '26377', '26377', '26377', '26377', '26377', '26377', '26377', '26377', '26377', '26377', '26377', '26377', '26377', '26377', '26377', '26377', '26377', '26377', '26377', '26377', '26377', '26377', '26377', '26377', '26377', '26377', '26377', '26377', '26377', '26377', '26377', '26377', '26377', '26377', '26377', '26377', '26377', '26377', '26377', '26377', '26377', '26377', '26377', '26377', '26377', '26377', '26377', '26377', '26377', '26377', '26377', '26377', '26377', '26377', '26377', '26377', '26377', '26377', '26377', '26377', '26377', '26377', '26377', '26377', '26377', '26377', '26377', '26377', '26377', '26377', '26377', '26377', '26377', '26377', '26377', '26377', '26377', '26377', '26377', '26377', '26377', '26377', '26377', '26377', '26377', '26377', '26377', '26377', '26377', '26377', '26377', '26377', '26377', '26377', '26377', '26377', '26377', '26377', '26377', '26377', '26377', '26377', '26377', '26377', '26377', '26377', '26377', '26377', '26377', '26377', '26377', '26377', '26377', '26377', '26377', '26377', '26377', '26377', '26377', '26377', '26377', '26377', '26377', '26377', '26377', '26377', '26377', '26377', '26377', '26377', '26377', '26377', '26377', '26377', '26377', '26377', '26377', '26377', '26377', '26377', '26377', '26377', '26377', '26377', '26377', '26377', '26377', '26377', '26377', '26377', '26377', '26377', '26377', '26377', '26377', '26377', '26377', '26377', '26377', '26377', '26377', '26377', '26377', '26377', '26377', '26377', '26377', '26377', '26377', '26377', '26377', '26377', '26377', '26377', '26377', '26377', '26377', '26377', '26377', '26377', '26377', '26377', '26377', '26377', '26377', '26377', '26377', '26377', '26377', '26377', '26377', '26377', '26377', '26377', '26377', '26377', '26377', '26377', '26377', '26377', '26377', '26377', '26377', '26377', '26377', '26377', '26377', '26377', '26377', '26377', '26377', '26377', '26377', '26377', '26377', '26377', '26377', '26377', '26377', '26377', '26377', '26377', '26377', '26377', '26377', '26377', '26377', '26377', '26377', '26377', '26377', '26377', '26377', '26377', '26377', '26377', '26377', '26377', '26377', '26377', '26377', '26377', '26377', '26377', '26377', '26377', '26377', '26377', '26377', '26377', '26377', '26377', '26377', '26377', '26377', '26377', '26377', '26377', '26377', '26377', '26377', '26377', '26377', '26377', '26377', '26377', '26377', '26377', '26377', '26377', '26377', '26377', '26377', '26377', '26377', '26377', '26377', '26377', '26377', '26377', '26377', '26377', '26377', '26377', '26377', '26377', '26377', '26377', '26377', '26377', '26377', '26377', '26377', '26377', '26377', '26377', '26377', '26377', '26377', '26377', '26377', '26377', '26377', '26377', '26377', '26377', '26377', '26377', '26377', '26377', '26377', '26377', '26377', '26377', '26377', '26377', '26377', '26377', '26377', '26377', '26377', '26377', '26377', '26377', '26377', '26377', '26377', '26377', '26377', '26377', '26377', '26377', '26377', '26377', '26377', '26377', '26377', '26377', '26377', '26377', '26377', '26377', '26377', '26377', '26377', '26377', '26377', '26377', '26377', '26377', '26377', '26377', '26377', '26377', '26377', '26377', '26377', '26377', '26377', '26377', '26377', '26377', '26377', '26377', '26377', '26377', '26377', '26377', '26377', '26377', '26377', '26377', '26377', '26377', '26377', '26377', '26377', '26377', '26377', '26377', '26377', '26377', '26377', '26377', '26377', '26377', '26377', '26377', '26377', '26377', '26377', '26377', '26377', '26377', '26377', '26377', '26377', '26377', '26377', '26377', '26377', '26377', '26377', '26377', '26377', '26377', '26377', '26377', '26377', '26377', '26377', '26377', '26377', '26377', '26377', '26377', '26377', '26377', '26377', '26377', '26377', '26377', '26377', '26377', '26377', '26377', '26377', '26377', '26377', '26377', '26377', '26377', '26377', '26377', '26377', '26377', '26377', '26377', '26377', '26377', '26377', '26377', '26377', '26377', '26377', '26377', '26377', '26377', '26377', '26377', '26377', '26377', '26377', '26377', '26377', '26377', '26377', '26377', '26377', '26377', '26377', '26377', '26377', '26377', '26377', '26377', '26377', '26377', '26377', '26377', '26377', '26377', '26377', '26377', '26377', '26377', '26377', '26377', '26377', '26377', '26377', '26377', '26377', '26377', '26377', '26377', '26377', '26377', '26377', '26377', '26377', '26377', '26377', '26377', '26377', '26377', '26377', '26377', '26377', '26377', '26377', '26377', '26377', '26377', '26377', '26377', '26377', '26377', '26377', '26377', '26377', '26377', '26377', '26377', '26377', '26377', '26377', '26377', '26377', '26377', '26377', '26377', '26377', '26377', '26377', '26377', '26377', '26377', '26377', '26377', '26377', '26377', '26377', '26377', '26377', '26377', '26377', '26377', '26377', '26377', '26377', '26377', '26377', '26377', '26377', '26377', '26377', '26377', '26377', '26377', '26377', '26377', '26377', '26377', '26377', '26377', '26377', '26377', '26377', '26377', '26377', '26377', '26377', '26377', '26377', '26377', '26377', '26377', '26377', '26377', '26377', '26377', '26377', '26377', '26377', '26377', '26377', '26377', '26377', '26377', '26377', '26377', '26377', '26377', '26377', '26377', '26377', '26377', '26377', '26377', '26377', '26377', '26377', '26377', '26377', '26377', '26377', '26377', '26377', '26377', '26377', '26377', '26377', '26377', '26377', '26377', '26377'], ['37', '1722', '165', '17907', '2821', '26377', '26377', '26377', '26377', '26377', '26377', '26377', '26377', '26377', '26377', '26377', '26377', '26377', '26377', '26377', '26377', '26377', '26377', '26377', '26377', '26377', '26377', '26377', '26377', '26377', '26377', '26377', '26377', '26377'], ['37', '1722', '165', '17907', '2821', '203', '151', '573', '21175', '1574', '151', '1799', '660', '1291', '375', '203', '204', '469', '8028', '221', '1468', '179', '9083', '151', '348', '173', '196', '14807', '13', '530', '2898', '236', '146', '313', '6591', '5116', '14', '1617', '834', '179', '13755', '293', '1075', '13793', '58', '13', '151', '1259', '4724', '477', '9099', '203', '7336', '469', '8028', '179', '351', '264', '8057', '151', '11544', '211', '18562', '17907', '2821', '1599', '539', '13', '469', '8028', '414', '447', '5229', '173', '3543', '634', '175', '151', '2047', '1490', '173', '333', '1038', '477', '222', '5647', '173', '3077', '145', '2723', '221', '9851', '7698', '13', '4938', '11', '151', '3543', '1775', '3468', '13759', '232', '1404', '236', '151', '590', '264', '12483', '173', '151', '3857', '4253', '175', '151', '1807', '13', '9099', '203', '23726', '1264', '287', '146', '1341', '3274', '232', '3276', '25682', '11', '1592', '236', '151', '5561', '174', '13638', '11', '817', '469', '8028', '3070', '176', '333', '3213', '13', '477', '151', '936', '25671', '1531', '539', '287', '151', '16332', '1217', '151', '1410', '5515', '4458', '7424', '173', '8246', '863', '11', '469', '8028', '203', '1037', '2404', '13', '3367', '11', '146', '21098', '12506', '151', '16203', '1085', '536', '172', '11759', '19120', '221', '9851', '20816', '3085', '539', '13', '236', '2137', '236', '469', '8028', '7207', '223', '11', '333', '849', '203', '5658', '232', '146', '10510', '1895', '7050', '13', '469', '8028', '637', '336', '151', '1895', '849', '11', '287', '407', '11759', '19120', '6556', '11509', '336', '868', '333', '9851', '11', '388', '211', '222', '329', '4574', '466', '1324', '13', '279', '734', '562', '11', '146', '20808', '2211', '3274', '1217', '151', '24147', '5199', '788', '469', '8028', '13', '204', '2553', '11', '469', '8028', '238', '4064', '287', '151', '1212', '175', '469', '274', '8', '203', '4305', '173', '3409', '1194', '162', '235', '11', '151', '573', '11032', '11', '179', '173', '7747', '3073', '366', '240', '207', '13', '377', '5331', '5170', '466', '682', '151', '1376', '175', '13328', '179', '513', '151', '3857', '4253', '11', '662', '351', '264', '1324', '12757', '287', '11759', '19120', '221', '7906', '195', '3274', '11', '151', '298', '1203', '13', '151', '2047', '16760', '204', '151', '24147', '203', '2260', '26', '3492', '3409', '1194', '162', '235', '7161', '170', '5137', '1807', '25171', '11', '1310', '13', '12722', '267', '3919', '11', '173', '1077', '146', '3483', '12049', '173', '6032', '176', '151', '6824', '20564', '13', '12722', '267', '3919', '2973', '211', '469', '8028', '203', '5244', '1029', '211', '24931', '232', '333', '4329', '11', '179', '3920', '3409', '1194', '162', '235', '173', '3008', '539', '25997', '13', '236', '146', '780', '8951', '11', '469', '8028', '2091', '466', '151', '1410', '5515', '221', '936', '25671', '11', '407', '7277', '12722', '267', '3919', '1908', '211', '351', '1073', '508', '4477', '175', '469', '8028', '13', '562', '845', '682', '151', '3483', '12049', '238', '3578', '469', '8028', '221', '863', '678', '151', '3274', '203', '14666', '204', '146', '7637', '13', '477', '469', '8028', '11283', '173', '1839', '502', '2490', '173', '9099', '11', '1310', '13', '12722', '267', '3919', '6647', '333', '25458', '173', '641', '223', '1475', '13', '530', '203', '3669', '173', '196', '10677', '151', '3274', '5561', '174', '13638', '13', '469', '8028', '10645', '3073', '366', '240', '207', '213', '23892', '11', '1324', '173', '5845', '333', '4219', '13', '255', '573', '11', '8345', '3872', '287', '177', '347', '2224', '260', '238', '172', '8028', '221', '13617', '316', '8', '1551', '466', '12102', '175', '299', '11', '342', '351', '3367', '1451', '6958', '13', '146', '990', '1291', '1324', '11', '17907', '2821', '221', '11862', '2278', '469', '8028', '173', '1543', '17907', '2821', '213', '467', '561', '45', '276', '22700', '175', '21983', '13555', '3561', '236', '351', '2605', '11', '17907', '2821', '7435', '2449', '513', '467', '1431', '1092', '173', '1543', '469', '8028', '13', '956', '377', '7311', '11', '17907', '2821', '3920', '469', '8028', '211', '562', '494', '379', '175', '151', '348', '336', '447', '2252', '11', '530', '348', '11480', '151', '1974', '1672', '173', '469', '8028', '13', '469', '8028', '203', '642', '1742', '287', '17907', '2821', '221', '11862', '173', '146', '1091', '1217', '151', '14734', '176', '2462', '175', '333', '1304', '9099', '13', '222', '14749', '211', '9099', '336', '447', '3326', '173', '527', '204', '151', '174', '13638', '11', '342', '203', '3451', '11296', '13', '469', '8028', '1324', '1551', '146', '1463', '232', '151', '3503', '9585', '11', '146', '1220', '175', '12057', '24915', '9585', '2617', '173', '151', '1807', '287', '151', '168', '6901', '11', '173', '841', '539', '173', '11759', '19120', '221', '5872', '318', '11', '407', '351', '1658', '203', '2187', '146', '17549', '829', '4058', '1375', '18562', '17907', '2821', '221', '8205', '13', '204', '151', '3503', '9585', '6', '3274', '11', '469', '8028', '7207', '146', '5316', '293', '1310', '13', '12722', '267', '3919', '11', '407', '11543', '173', '196', '146', '7875', '3483', '1956', '13', '232', '299', '11', '222', '25747', '232', '179', '5199', '788', '1310', '13', '12722', '267', '3919', '13', '222', '642', '2881', '146', '488', '10386', '7438', '1310', '13', '12722', '267', '3919', '2413', '539', '173', '1956', '9099', '13', '146', '3389', '11453', '539', '956', '151', '488', '426', '11', '179', '1324', '10975', '539', '293', '146', '2739', '232', '11759', '19120', '13', '1324', '11', '151', '9585', '1860', '469', '8028', '3439', '377', '15752', '11', '662', '222', '8080', '232', '295', '5568', '5906', '292', '42', '438', '3353', '13', '176', '4817', '173', '295', '5568', '221', '1650', '5688', '1420', '6941', '11', '530', '336', '7127', '146', '383', '246', '45', '3665', '1953', '179', '1500', '1', '22604', '204', '151', '4810', '175', '177', '347', '2224', '260', '13', '547', '477', '351', '264', '503', '1995', '204', '151', '3857', '4253', '11', '342', '595', '223', '11', '702', '530', '10558', '467', '19560', '2353', '175', '3252', '179', '5030', '13', '351', '264', '11', '232', '13443', '709', '6477', '11', '1265', '173', '3077', '151', '8205', '175', '7869', '17907', '2821', '179', '151', '829', '1366', '16879', '13', '471', '11', '469', '8028', '179', '295', '5568', '11', '19144', '236', '9585', '11', '886', '9538', '9435', '11', '2464', '165', '7690', '175', '151', '22279', '13', '631', '281', '2408', '841', '466', '173', '151', '22279', '11', '375', '203', '151', '1974', '494', '175', '151', '348', '13', '351', '264', '17135', '176', '377', '1867', '173', '5090', '287', '11759', '19120', '11', '375', '16270', '211', '940', '175', '466', '348', '1636', '173', '1261', '151', '444', '287', '1457', '175', '395', '4360', '547', '13', '469', '8028', '7424', '333', '573', '1636', '11', '642', '13595', '2639', '11759', '19120', '179', '259', '546', '333', '994', '13', '9099', '11', '375', '203', '11759', '19120', '221', '11679', '11', '642', '11755', '223', '513', '146', '11813', '168', '15538', '5510', '1800', '11', '407', '21307', '223', '13', '2001', '333', '1608', '11', '151', '829', '1366', '4724', '173', '7206', '13', '2389', '151', '24147', '11', '469', '8028', '179', '344', '333', '2044', '238', '3578', '151', '5072', '175', '151', '12338', '3073', '366', '240', '207', '8', '264', '1265', '173', '5090', '13', '7869', '17907', '2821', '25069', '293', '467', '1075', '13793', '58', '11', '642', '7685', '236', '146', '1058', '175', '698', '17894', '287', '151', '829', '1366', '11', '407', '414', '3757', '146', '5965', '173', '1800', '13', '469', '8028', '11', '637', '177', '3705', '175', '151', '3857', '4253', '11', '4237', '52', '3409', '1194', '162', '235', '236', '333', '12997', '179', '12722', '267', '3919', '236', '333', '24842', '13', '1022', '25', '505', '36', '315', '42', '153', '382', '7517', '635', '1478', '183', '25', '12972', '141', '12972', '85', '12972', '135', '18837', '116', '12972', '141', '12972', '126', '12972', '128', '12972', '122', '12972', '79', '12972', '133', '26377', '26377', '26377', '26377', '26377', '26377', '26377', '26377', '26377', '26377', '26377', '26377', '26377', '26377', '26377', '26377', '26377', '26377', '26377', '26377', '26377', '26377', '26377', '26377', '26377', '26377', '26377', '26377', '26377', '26377', '26377', '26377', '26377', '26377', '26377', '26377', '26377', '26377', '26377', '26377', '26377', '26377', '26377', '26377', '26377', '26377', '26377', '26377', '26377', '26377', '26377', '26377', '26377', '26377', '26377', '26377', '26377', '26377', '26377', '26377', '26377', '26377', '26377', '26377', '26377', '26377', '26377', '26377', '26377', '26377', '26377', '26377', '26377', '26377', '26377', '26377', '26377', '26377', '26377', '26377', '26377', '26377', '26377', '26377', '26377', '26377', '26377', '26377', '26377', '26377', '26377', '26377', '26377', '26377', '26377', '26377', '26377', '26377', '26377', '26377', '26377', '26377', '26377', '26377', '26377', '26377', '26377', '26377', '26377', '26377', '26377', '26377', '26377', '26377', '26377', '26377', '26377', '26377', '26377', '26377', '26377', '26377', '26377', '26377', '26377', '26377', '26377', '26377', '26377', '26377', '26377', '26377', '26377', '26377', '26377', '26377', '26377', '26377', '26377', '26377', '26377', '26377', '26377', '26377', '26377', '26377', '26377', '26377', '26377', '26377', '26377', '26377', '26377', '26377', '26377', '26377', '26377', '26377', '26377', '26377', '26377', '26377', '26377', '26377', '26377', '26377', '26377', '26377', '26377', '26377', '26377', '26377', '26377', '26377', '26377', '26377', '26377', '26377', '26377', '26377', '26377', '26377', '26377', '26377', '26377', '26377', '26377', '26377', '26377', '26377', '26377', '26377', '26377', '26377', '26377', '26377', '26377', '26377', '26377', '26377', '26377', '26377', '26377', '26377', '26377', '26377', '26377', '26377', '26377', '26377', '26377', '26377', '26377', '26377', '26377', '26377', '26377', '26377', '26377', '26377', '26377', '26377', '26377', '26377', '26377', '26377', '26377', '26377', '26377', '26377', '26377', '26377', '26377', '26377', '26377', '26377', '26377', '26377', '26377', '26377', '26377', '26377', '26377', '26377', '26377', '26377', '26377', '26377', '26377', '26377', '26377', '26377', '26377', '26377', '26377', '26377', '26377', '26377', '26377', '26377', '26377', '26377', '26377', '26377', '26377', '26377', '26377', '26377', '26377', '26377', '26377', '26377', '26377', '26377', '26377', '26377', '26377', '26377', '26377', '26377', '26377', '26377', '26377', '26377', '26377', '26377', '26377', '26377', '26377', '26377', '26377', '26377', '26377', '26377', '26377', '26377', '26377', '26377', '26377', '26377', '26377', '26377', '26377', '26377', '26377', '26377', '26377', '26377', '26377', '26377', '26377', '26377', '26377', '26377', '26377', '26377', '26377', '26377', '26377', '26377', '26377', '26377', '26377', '26377', '26377', '26377', '26377', '26377', '26377', '26377', '26377', '26377', '26377', '26377', '26377', '26377', '26377', '26377', '26377', '26377', '26377', '26377', '26377', '26377', '26377', '26377', '26377', '26377', '26377', '26377', '26377', '26377', '26377', '26377', '26377', '26377', '26377', '26377', '26377', '26377', '26377', '26377', '26377', '26377', '26377', '26377', '26377', '26377', '26377', '26377', '26377', '26377', '26377', '26377', '26377', '26377', '26377', '26377', '26377', '26377', '26377', '26377', '26377', '26377', '26377', '26377', '26377', '26377', '26377', '26377', '26377', '26377', '26377', '26377', '26377', '26377', '26377', '26377', '26377', '26377', '26377', '26377', '26377', '26377', '26377', '26377', '26377', '26377', '26377', '26377', '26377', '26377', '26377', '26377', '26377', '26377', '26377', '26377', '26377', '26377', '26377', '26377', '26377', '26377', '26377', '26377', '26377', '26377', '26377', '26377', '26377', '26377', '26377', '26377', '26377', '26377', '26377', '26377', '26377', '26377', '26377', '26377', '26377', '26377', '26377', '26377', '26377', '26377', '26377', '26377', '26377', '26377', '26377', '26377', '26377', '26377', '26377', '26377', '26377', '26377', '26377', '26377', '26377', '26377', '26377', '26377', '26377', '26377', '26377', '26377', '26377', '26377', '26377', '26377', '26377', '26377', '26377', '26377', '26377', '26377', '26377', '26377', '26377', '26377', '26377', '26377', '26377', '26377', '26377', '26377', '26377', '26377', '26377', '26377', '26377', '26377', '26377', '26377', '26377', '26377', '26377', '26377', '26377', '26377', '26377', '26377', '26377', '26377', '26377', '26377', '26377', '26377', '26377', '26377', '26377', '26377', '26377', '26377', '26377', '26377', '26377', '26377', '26377', '26377', '26377', '26377', '26377', '26377', '26377', '26377', '26377', '26377', '26377', '26377', '26377', '26377', '26377', '26377', '26377', '26377', '26377', '26377', '26377', '26377', '26377', '26377', '26377', '26377', '26377', '26377', '26377', '26377', '26377', '26377', '26377', '26377', '26377', '26377', '26377', '26377', '26377', '26377', '26377', '26377', '26377', '26377', '26377', '26377', '26377', '26377', '26377', '26377', '26377', '26377', '26377', '26377', '26377', '26377', '26377', '26377', '26377', '26377', '26377', '26377', '26377', '26377', '26377', '26377', '26377', '26377', '26377', '26377', '26377', '26377', '26377', '26377', '26377', '26377', '26377', '26377', '26377', '26377', '26377', '26377', '26377', '26377', '26377', '26377', '26377', '26377', '26377', '26377', '26377', '26377', '26377', '26377', '26377', '26377', '26377', '26377', '26377', '26377', '26377', '26377', '26377', '26377', '26377', '26377', '26377', '26377', '26377', '26377', '26377', '26377', '26377', '26377', '26377', '26377', '26377', '26377', '26377', '26377', '26377', '26377', '26377', '26377', '26377', '26377', '26377', '26377', '26377', '26377', '26377', '26377', '26377', '26377', '26377', '26377', '26377', '26377', '26377', '26377', '26377', '26377', '26377', '26377', '26377', '26377', '26377', '26377', '26377', '26377', '26377', '26377', '26377', '26377', '26377', '26377', '26377', '26377', '26377', '26377', '26377', '26377', '26377', '26377', '26377', '26377', '26377', '26377', '26377', '26377', '26377', '26377', '26377', '26377', '26377', '26377', '26377', '26377', '26377', '26377', '26377', '26377', '26377', '26377', '26377', '26377', '26377', '26377', '26377', '26377', '26377', '26377', '26377', '26377', '26377', '26377', '26377', '26377', '26377', '26377', '26377', '26377', '26377', '26377', '26377', '26377', '26377', '26377', '26377', '26377', '26377', '26377', '26377', '26377', '26377', '26377', '26377', '26377', '26377', '26377', '26377', '26377', '26377', '26377', '26377', '26377', '26377', '26377', '26377', '26377', '26377', '26377', '26377', '26377', '26377', '26377', '26377', '26377', '26377', '26377', '26377', '26377', '26377', '26377', '26377', '26377', '26377', '26377', '26377', '26377', '26377', '26377', '26377', '26377', '26377', '26377', '26377', '26377', '26377', '26377', '26377', '26377', '26377', '26377', '26377', '26377', '26377', '26377', '26377', '26377', '26377', '26377', '26377', '26377', '26377', '26377', '26377', '26377', '26377', '26377', '26377', '26377', '26377', '26377', '26377', '26377', '26377', '26377', '26377', '26377', '26377', '26377', '26377', '26377', '26377', '26377', '26377', '26377', '26377', '26377', '26377', '26377', '26377', '26377', '26377', '26377', '26377', '26377', '26377', '26377', '26377', '26377', '26377', '26377', '26377', '26377', '26377', '26377', '26377', '26377', '26377', '26377', '26377', '26377', '26377', '26377', '26377', '26377', '26377', '26377', '26377', '26377', '26377', '26377', '26377', '26377', '26377', '26377', '26377', '26377', '26377', '26377', '26377', '26377', '26377', '26377', '26377', '26377', '26377', '26377', '26377', '26377', '26377', '26377', '26377', '26377', '26377', '26377', '26377', '26377', '26377', '26377', '26377', '26377', '26377', '26377', '26377', '26377', '26377', '26377', '26377', '26377', '26377', '26377', '26377', '26377', '26377', '26377', '26377', '26377', '26377', '26377', '26377', '26377', '26377', '26377', '26377', '26377', '26377', '26377', '26377', '26377', '26377', '26377', '26377', '26377', '26377', '26377', '26377', '26377', '26377', '26377', '26377', '26377', '26377', '26377', '26377', '26377', '26377', '26377', '26377', '26377', '26377', '26377', '26377', '26377', '26377', '26377', '26377', '26377', '26377', '26377', '26377', '26377', '26377', '26377', '26377', '26377', '26377', '26377', '26377', '26377', '26377', '26377', '26377', '26377', '26377', '26377', '26377', '26377', '26377', '26377', '26377', '26377', '26377', '26377', '26377', '26377', '26377', '26377', '26377', '26377', '26377', '26377', '26377', '26377', '26377', '26377', '26377', '26377', '26377', '26377', '26377', '26377', '26377', '26377', '26377', '26377', '26377', '26377', '26377', '26377', '26377', '26377', '26377', '26377', '26377', '26377', '26377', '26377', '26377', '26377', '26377', '26377', '26377', '26377', '26377', '26377', '26377', '26377', '26377', '26377', '26377', '26377', '26377', '26377', '26377', '26377', '26377', '26377', '26377', '26377', '26377', '26377', '26377', '26377', '26377', '26377', '26377', '26377', '26377', '26377', '26377', '26377', '26377', '26377', '26377', '26377', '26377', '26377', '26377', '26377', '26377', '26377', '26377', '26377', '26377', '26377', '26377', '26377', '26377', '26377', '26377', '26377', '26377', '26377', '26377', '26377', '26377', '26377', '26377', '26377', '26377', '26377', '26377', '26377', '26377', '26377', '26377', '26377', '26377', '26377', '26377', '26377', '26377', '26377', '26377', '26377', '26377', '26377', '26377', '26377', '26377', '26377', '26377', '26377', '26377', '26377', '26377', '26377', '26377', '26377', '26377', '26377', '26377', '26377', '26377', '26377', '26377', '26377', '26377', '26377', '26377', '26377', '26377', '26377', '26377', '26377', '26377', '26377', '26377', '26377', '26377', '26377', '26377', '26377', '26377', '26377', '26377', '26377', '26377', '26377', '26377', '26377', '26377', '26377', '26377', '26377', '26377', '26377', '26377', '26377', '26377', '26377', '26377', '26377', '26377', '26377', '26377', '26377', '26377', '26377', '26377', '26377', '26377', '26377', '26377', '26377', '26377', '26377', '26377', '26377', '26377', '26377', '26377', '26377', '26377', '26377', '26377', '26377', '26377', '26377', '26377', '26377', '26377', '26377', '26377', '26377', '26377', '26377', '26377', '26377', '26377', '26377', '26377', '26377', '26377', '26377', '26377', '26377', '26377', '26377', '26377', '26377', '26377', '26377', '26377', '26377', '26377', '26377', '26377', '26377', '26377', '26377', '26377', '26377', '26377', '26377', '26377', '26377', '26377', '26377', '26377', '26377', '26377', '26377', '26377', '26377', '26377', '26377', '26377', '26377', '26377', '26377', '26377', '26377', '26377', '26377', '26377', '26377', '26377', '26377', '26377', '26377', '26377', '26377', '26377', '26377', '26377', '26377', '26377', '26377', '26377', '26377', '26377', '26377', '26377', '26377', '26377', '26377', '26377', '26377', '26377', '26377', '26377', '26377', '26377', '26377', '26377', '26377', '26377', '26377', '26377', '26377', '26377', '26377', '26377', '26377', '26377', '26377', '26377', '26377', '26377', '26377', '26377', '26377', '26377', '26377', '26377', '26377', '26377', '26377', '26377', '26377', '26377', '26377', '26377', '26377', '26377', '26377', '26377', '26377', '26377', '26377', '26377', '26377', '26377', '26377', '26377', '26377', '26377', '26377', '26377', '26377', '26377', '26377', '26377', '26377', '26377', '26377', '26377', '26377', '26377', '26377', '26377', '26377', '26377', '26377', '26377', '26377', '26377', '26377', '26377', '26377', '26377', '26377', '26377', '26377', '26377', '26377', '26377', '26377', '26377', '26377', '26377', '26377', '26377', '26377', '26377', '26377', '26377', '26377', '26377', '26377', '26377', '26377', '26377', '26377', '26377', '26377', '26377', '26377', '26377', '26377', '26377', '26377', '26377', '26377', '26377', '26377', '26377', '26377', '26377', '26377', '26377', '26377', '26377', '26377', '26377', '26377', '26377', '26377', '26377', '26377', '26377', '26377', '26377', '26377', '26377', '26377', '26377', '26377', '26377', '26377', '26377', '26377', '26377', '26377', '26377', '26377', '26377', '26377', '26377', '26377', '26377', '26377', '26377', '26377', '26377', '26377', '26377', '26377', '26377', '26377', '26377', '26377', '26377', '26377', '26377', '26377', '26377', '26377', '26377', '26377', '26377', '26377', '26377', '26377', '26377', '26377', '26377', '26377', '26377', '26377', '26377', '26377', '26377', '26377', '26377', '26377', '26377', '26377', '26377', '26377', '26377', '26377', '26377', '26377', '26377', '26377', '26377', '26377', '26377', '26377', '26377', '26377', '26377', '26377', '26377', '26377', '26377', '26377', '26377', '26377', '26377', '26377', '26377', '26377', '26377', '26377', '26377', '26377', '26377', '26377', '26377', '26377', '26377', '26377', '26377', '26377', '26377', '26377', '26377', '26377', '26377', '26377', '26377', '26377', '26377', '26377', '26377', '26377', '26377', '26377', '26377', '26377', '26377', '26377', '26377', '26377', '26377', '26377', '26377', '26377', '26377', '26377', '26377', '26377', '26377', '26377', '26377', '26377', '26377', '26377', '26377', '26377', '26377', '26377', '26377', '26377', '26377', '26377', '26377', '26377', '26377', '26377', '26377', '26377', '26377', '26377', '26377', '26377', '26377', '26377', '26377', '26377', '26377', '26377', '26377', '26377', '26377', '26377', '26377', '26377', '26377', '26377', '26377', '26377', '26377', '26377', '26377', '26377', '26377', '26377', '26377', '26377', '26377', '26377', '26377', '26377', '26377', '26377', '26377', '26377', '26377', '26377', '26377', '26377', '26377', '26377', '26377', '26377', '26377', '26377', '26377', '26377', '26377', '26377', '26377', '26377', '26377', '26377', '26377', '26377', '26377', '26377', '26377', '26377', '26377', '26377', '26377', '26377', '26377', '26377', '26377', '26377', '26377', '26377', '26377', '26377', '26377', '26377', '26377', '26377', '26377', '26377', '26377', '26377', '26377', '26377', '26377', '26377', '26377', '26377', '26377', '26377', '26377', '26377', '26377', '26377', '26377', '26377', '26377', '26377', '26377', '26377', '26377', '26377', '26377', '26377', '26377', '26377', '26377', '26377', '26377', '26377', '26377', '26377', '26377', '26377', '26377', '26377', '26377', '26377', '26377', '26377', '26377', '26377', '26377', '26377', '26377', '26377', '26377', '26377', '26377', '26377', '26377', '26377', '26377', '26377', '26377', '26377', '26377', '26377', '26377', '26377', '26377', '26377', '26377', '26377', '26377', '26377', '26377', '26377', '26377', '26377', '26377', '26377', '26377', '26377', '26377', '26377', '26377', '26377', '26377', '26377', '26377', '26377', '26377', '26377', '26377', '26377', '26377', '26377', '26377', '26377', '26377', '26377', '26377', '26377', '26377', '26377', '26377', '26377', '26377', '26377', '26377', '26377', '26377', '26377', '26377', '26377', '26377', '26377', '26377', '26377', '26377', '26377', '26377', '26377', '26377', '26377', '26377', '26377', '26377', '26377', '26377', '26377', '26377', '26377', '26377', '26377', '26377', '26377', '26377', '26377', '26377', '26377', '26377', '26377', '26377', '26377', '26377', '26377', '26377', '26377', '26377', '26377', '26377', '26377', '26377', '26377', '26377', '26377', '26377', '26377', '26377', '26377', '26377', '26377', '26377', '26377', '26377', '26377', '26377', '26377', '26377', '26377', '26377', '26377', '26377', '26377', '26377', '26377', '26377', '26377', '26377', '26377', '26377', '26377', '26377', '26377', '26377', '26377', '26377', '26377', '26377', '26377', '26377', '26377', '26377', '26377', '26377', '26377', '26377', '26377', '26377', '26377', '26377', '26377', '26377', '26377', '26377', '26377', '26377', '26377', '26377', '26377', '26377', '26377', '26377', '26377', '26377', '26377', '26377', '26377', '26377', '26377', '26377', '26377', '26377', '26377', '26377', '26377', '26377', '26377', '26377', '26377', '26377', '26377', '26377', '26377', '26377', '26377', '26377', '26377', '26377', '26377', '26377', '26377', '26377', '26377', '26377', '26377', '26377', '26377', '26377', '26377', '26377', '26377', '26377', '26377', '26377', '26377', '26377', '26377', '26377', '26377', '26377', '26377', '26377', '26377', '26377', '26377', '26377', '26377', '26377', '26377', '26377', '26377', '26377', '26377', '26377', '26377', '26377', '26377', '26377', '26377', '26377', '26377', '26377', '26377', '26377', '26377', '26377', '26377', '26377', '26377', '26377', '26377', '26377', '26377', '26377', '26377', '26377', '26377', '26377', '26377', '26377', '26377', '26377', '26377', '26377', '26377', '26377', '26377', '26377', '26377', '26377', '26377', '26377', '26377', '26377', '26377', '26377', '26377', '26377', '26377', '26377', '26377', '26377', '26377', '26377', '26377', '26377', '26377', '26377', '26377', '26377', '26377', '26377', '26377', '26377', '26377', '26377', '26377', '26377', '26377', '26377', '26377', '26377', '26377', '26377', '26377', '26377', '26377', '26377', '26377', '26377', '26377', '26377', '26377', '26377', '26377', '26377', '26377', '26377', '26377', '26377', '26377', '26377', '26377', '26377', '26377', '26377', '26377', '26377', '26377', '26377', '26377', '26377', '26377', '26377', '26377', '26377', '26377', '26377', '26377', '26377', '26377', '26377', '26377', '26377', '26377', '26377', '26377', '26377', '26377', '26377', '26377', '26377', '26377', '26377', '26377', '26377', '26377', '26377', '26377', '26377', '26377', '26377', '26377', '26377', '26377', '26377', '26377', '26377', '26377', '26377', '26377', '26377', '26377', '26377', '26377', '26377', '26377', '26377', '26377', '26377', '26377', '26377', '26377', '26377', '26377', '26377', '26377', '26377', '26377', '26377', '26377', '26377', '26377', '26377', '26377', '26377', '26377', '26377', '26377', '26377', '26377', '26377', '26377', '26377', '26377', '26377', '26377', '26377', '26377', '26377', '26377', '26377', '26377', '26377', '26377', '26377', '26377', '26377', '26377', '26377', '26377', '26377', '26377', '26377', '26377', '26377', '26377', '26377', '26377', '26377', '26377', '26377', '26377', '26377', '26377', '26377', '26377', '26377', '26377', '26377', '26377', '26377', '26377', '26377', '26377', '26377', '26377', '26377', '26377', '26377', '26377', '26377', '26377', '26377', '26377', '26377', '26377', '26377', '26377', '26377', '26377', '26377', '26377', '26377', '26377', '26377', '26377', '26377', '26377', '26377', '26377', '26377', '26377', '26377', '26377', '26377', '26377', '26377', '26377', '26377', '26377', '26377', '26377', '26377', '26377', '26377', '26377', '26377', '26377', '26377', '26377', '26377', '26377', '26377', '26377', '26377', '26377', '26377', '26377', '26377', '26377', '26377', '26377', '26377', '26377', '26377', '26377', '26377', '26377', '26377', '26377', '26377', '26377', '26377', '26377', '26377', '26377', '26377', '26377', '26377', '26377', '26377', '26377', '26377', '26377', '26377', '26377', '26377', '26377', '26377', '26377', '26377', '26377', '26377', '26377', '26377', '26377', '26377', '26377', '26377', '26377', '26377', '26377', '26377', '26377', '26377', '26377', '26377', '26377', '26377', '26377', '26377', '26377', '26377', '26377', '26377', '26377', '26377', '26377', '26377', '26377', '26377', '26377', '26377', '26377', '26377', '26377', '26377', '26377', '26377', '26377', '26377', '26377', '26377', '26377', '26377', '26377', '26377', '26377', '26377', '26377', '26377', '26377', '26377', '26377', '26377', '26377', '26377', '26377', '26377', '26377', '26377', '26377', '26377', '26377', '26377', '26377', '26377', '26377', '26377', '26377', '26377', '26377', '26377', '26377', '26377', '26377', '26377', '26377', '26377', '26377', '26377', '26377', '26377', '26377', '26377', '26377', '26377', '26377', '26377', '26377', '26377', '26377', '26377', '26377', '26377', '26377', '26377', '26377', '26377', '26377', '26377', '26377', '26377', '26377', '26377', '26377', '26377', '26377', '26377', '26377', '26377', '26377', '26377', '26377', '26377', '26377', '26377', '26377', '26377', '26377', '26377', '26377', '26377', '26377', '26377', '26377', '26377', '26377', '26377', '26377', '26377', '26377', '26377', '26377', '26377', '26377', '26377', '26377', '26377', '26377', '26377', '26377', '26377', '26377', '26377', '26377', '26377', '26377', '26377', '26377', '26377', '26377', '26377', '26377', '26377', '26377', '26377', '26377', '26377', '26377', '26377', '26377', '26377', '26377', '26377', '26377', '26377', '26377', '26377', '26377', '26377', '26377', '26377', '26377', '26377', '26377', '26377', '26377', '26377', '26377', '26377', '26377', '26377', '26377', '26377', '26377', '26377', '26377', '26377', '26377', '26377', '26377', '26377', '26377', '26377', '26377', '26377', '26377', '26377', '26377', '26377', '26377', '26377', '26377', '26377', '26377', '26377', '26377', '26377', '26377', '26377', '26377', '26377', '26377', '26377', '26377', '26377', '26377', '26377', '26377', '26377', '26377', '26377', '26377', '26377', '26377', '26377', '26377', '26377', '26377', '26377', '26377', '26377', '26377', '26377', '26377', '26377', '26377', '26377', '26377', '26377', '26377', '26377', '26377', '26377', '26377', '26377', '26377', '26377', '26377', '26377', '26377', '26377', '26377', '26377', '26377', '26377', '26377', '26377', '26377', '26377', '26377', '26377', '26377', '26377', '26377', '26377', '26377', '26377', '26377', '26377', '26377', '26377', '26377', '26377', '26377', '26377', '26377', '26377', '26377', '26377', '26377', '26377', '26377', '26377', '26377', '26377', '26377', '26377', '26377', '26377', '26377', '26377', '26377', '26377', '26377', '26377', '26377', '26377', '26377', '26377', '26377', '26377', '26377', '26377', '26377', '26377', '26377', '26377', '26377', '26377', '26377', '26377', '26377', '26377', '26377', '26377', '26377', '26377', '26377', '26377', '26377', '26377', '26377', '26377', '26377', '26377', '26377', '26377', '26377', '26377', '26377', '26377', '26377', '26377', '26377', '26377', '26377', '26377', '26377', '26377', '26377', '26377', '26377', '26377', '26377', '26377', '26377', '26377', '26377', '26377', '26377', '26377', '26377', '26377', '26377', '26377', '26377', '26377', '26377', '26377', '26377', '26377', '26377', '26377', '26377', '26377', '26377', '26377', '26377', '26377', '26377', '26377', '26377', '26377', '26377', '26377', '26377', '26377', '26377', '26377', '26377', '26377', '26377', '26377', '26377', '26377', '26377', '26377', '26377', '26377', '26377', '26377', '26377', '26377', '26377', '26377', '26377', '26377', '26377', '26377', '26377', '26377', '26377', '26377', '26377', '26377', '26377', '26377', '26377', '26377', '26377', '26377', '26377', '26377', '26377', '26377', '26377', '26377', '26377', '26377', '26377', '26377', '26377', '26377', '26377', '26377', '26377', '26377', '26377', '26377', '26377', '26377', '26377', '26377', '26377', '26377', '26377', '26377', '26377', '26377', '26377', '26377', '26377', '26377', '26377', '26377', '26377', '26377', '26377', '26377', '26377', '26377', '26377', '26377', '26377', '26377', '26377', '26377', '26377', '26377', '26377', '26377', '26377', '26377', '26377', '26377', '26377', '26377', '26377', '26377', '26377', '26377', '26377', '26377', '26377', '26377', '26377', '26377', '26377', '26377', '26377', '26377', '26377', '26377', '26377', '26377', '26377', '26377', '26377', '26377', '26377', '26377', '26377', '26377', '26377', '26377', '26377', '26377', '26377', '26377', '26377', '26377', '26377', '26377', '26377', '26377', '26377', '26377', '26377', '26377', '26377', '26377', '26377', '26377', '26377', '26377', '26377', '26377', '26377', '26377', '26377', '26377', '26377', '26377', '26377', '26377', '26377', '26377', '26377', '26377', '26377', '26377', '26377', '26377', '26377', '26377', '26377', '26377', '26377', '26377', '26377', '26377', '26377', '26377', '26377', '26377', '26377', '26377', '26377', '26377', '26377', '26377', '26377', '26377', '26377', '26377', '26377', '26377', '26377', '26377', '26377', '26377', '26377', '26377', '26377', '26377', '26377', '26377', '26377', '26377', '26377', '26377', '26377', '26377', '26377', '26377', '26377', '26377', '26377', '26377', '26377', '26377', '26377', '26377', '26377', '26377', '26377', '26377', '26377', '26377', '26377', '26377', '26377', '26377', '26377', '26377', '26377', '26377', '26377', '26377', '26377', '26377', '26377', '26377', '26377', '26377', '26377', '26377', '26377', '26377', '26377', '26377', '26377', '26377', '26377', '26377', '26377', '26377', '26377', '26377', '26377', '26377', '26377', '26377', '26377', '26377', '26377', '26377', '26377', '26377', '26377', '26377', '26377', '26377', '26377', '26377', '26377', '26377', '26377', '26377', '26377', '26377', '26377', '26377', '26377', '26377', '26377', '26377', '26377', '26377', '26377', '26377', '26377', '26377', '26377', '26377', '26377', '26377', '26377', '26377', '26377', '26377', '26377', '26377', '26377', '26377', '26377', '26377', '26377', '26377', '26377', '26377', '26377', '26377', '26377', '26377', '26377', '26377', '26377', '26377', '26377', '26377', '26377', '26377', '26377', '26377', '26377', '26377', '26377', '26377', '26377', '26377', '26377', '26377', '26377', '26377', '26377', '26377', '26377', '26377', '26377', '26377', '26377', '26377', '26377', '26377', '26377', '26377', '26377', '26377', '26377', '26377', '26377', '26377', '26377', '26377', '26377', '26377', '26377', '26377', '26377', '26377', '26377', '26377', '26377', '26377', '26377', '26377', '26377', '26377', '26377', '26377', '26377', '26377', '26377', '26377', '26377', '26377', '26377', '26377', '26377', '26377', '26377', '26377', '26377', '26377', '26377', '26377', '26377', '26377', '26377', '26377', '26377', '26377', '26377', '26377', '26377', '26377', '26377', '26377', '26377', '26377', '26377', '26377', '26377', '26377', '26377', '26377', '26377', '26377', '26377', '26377', '26377', '26377', '26377', '26377', '26377', '26377', '26377', '26377', '26377', '26377', '26377', '26377', '26377', '26377', '26377', '26377', '26377', '26377', '26377', '26377', '26377', '26377', '26377', '26377', '26377', '26377', '26377', '26377', '26377', '26377', '26377', '26377', '26377', '26377', '26377', '26377', '26377', '26377', '26377', '26377', '26377', '26377', '26377', '26377', '26377', '26377', '26377', '26377', '26377', '26377', '26377', '26377', '26377', '26377', '26377', '26377', '26377', '26377', '26377', '26377', '26377', '26377', '26377', '26377', '26377', '26377', '26377', '26377', '26377', '26377', '26377', '26377', '26377', '26377', '26377', '26377', '26377', '26377', '26377', '26377', '26377', '26377', '26377', '26377', '26377', '26377', '26377', '26377', '26377', '26377', '26377', '26377', '26377', '26377', '26377', '26377', '26377', '26377', '26377', '26377', '26377', '26377', '26377', '26377', '26377', '26377', '26377', '26377', '26377', '26377', '26377', '26377', '26377', '26377', '26377', '26377', '26377', '26377', '26377', '26377', '26377', '26377', '26377', '26377', '26377', '26377', '26377', '26377', '26377', '26377', '26377', '26377', '26377', '26377', '26377', '26377', '26377', '26377', '26377', '26377', '26377', '26377', '26377', '26377', '26377', '26377', '26377', '26377', '26377', '26377', '26377', '26377', '26377', '26377', '26377', '26377', '26377', '26377', '26377', '26377', '26377', '26377', '26377', '26377', '26377', '26377', '26377', '26377', '26377', '26377', '26377', '26377', '26377', '26377', '26377', '26377', '26377', '26377', '26377', '26377', '26377', '26377', '26377', '26377', '26377', '26377', '26377', '26377', '26377', '26377', '26377', '26377', '26377', '26377', '26377', '26377', '26377', '26377', '26377', '26377', '26377', '26377', '26377', '26377', '26377', '26377', '26377', '26377', '26377', '26377', '26377', '26377', '26377', '26377', '26377', '26377', '26377', '26377', '26377', '26377', '26377', '26377', '26377', '26377', '26377', '26377', '26377', '26377', '26377', '26377', '26377', '26377', '26377', '26377', '26377', '26377', '26377', '26377', '26377', '26377', '26377', '26377', '26377', '26377', '26377', '26377', '26377', '26377', '26377', '26377', '26377', '26377', '26377', '26377', '26377', '26377', '26377', '26377', '26377', '26377', '26377', '26377', '26377', '26377', '26377', '26377', '26377', '26377', '26377', '26377', '26377', '26377', '26377', '26377', '26377', '26377', '26377', '26377', '26377', '26377', '26377', '26377', '26377', '26377', '26377', '26377', '26377', '26377', '26377', '26377', '26377', '26377', '26377', '26377', '26377', '26377', '26377', '26377', '26377', '26377', '26377', '26377', '26377', '26377', '26377', '26377', '26377', '26377', '26377', '26377', '26377', '26377', '26377', '26377', '26377', '26377', '26377', '26377', '26377', '26377', '26377', '26377', '26377', '26377', '26377', '26377', '26377', '26377', '26377', '26377', '26377', '26377', '26377', '26377', '26377', '26377', '26377', '26377', '26377', '26377', '26377', '26377', '26377', '26377', '26377', '26377', '26377', '26377', '26377', '26377', '26377', '26377', '26377', '26377', '26377', '26377', '26377', '26377', '26377', '26377', '26377', '26377', '26377', '26377', '26377', '26377', '26377', '26377', '26377', '26377', '26377', '26377', '26377', '26377', '26377', '26377', '26377', '26377', '26377', '26377', '26377', '26377', '26377', '26377', '26377', '26377', '26377', '26377', '26377', '26377', '26377', '26377', '26377', '26377', '26377', '26377', '26377', '26377', '26377', '26377', '26377', '26377', '26377', '26377', '26377', '26377', '26377', '26377', '26377', '26377', '26377', '26377', '26377', '26377', '26377', '26377', '26377', '26377', '26377', '26377', '26377', '26377', '26377', '26377', '26377', '26377', '26377', '26377', '26377', '26377', '26377', '26377', '26377', '26377', '26377', '26377', '26377', '26377', '26377', '26377', '26377', '26377', '26377', '26377', '26377', '26377', '26377', '26377', '26377', '26377', '26377', '26377', '26377', '26377', '26377', '26377', '26377', '26377', '26377', '26377', '26377', '26377', '26377', '26377', '26377', '26377', '26377', '26377', '26377', '26377', '26377', '26377', '26377', '26377', '26377', '26377', '26377', '26377', '26377', '26377', '26377', '26377', '26377', '26377', '26377', '26377', '26377', '26377', '26377', '26377', '26377', '26377', '26377', '26377', '26377', '26377', '26377', '26377', '26377', '26377', '26377', '26377', '26377', '26377', '26377', '26377', '26377', '26377', '26377', '26377', '26377', '26377', '26377', '26377', '26377', '26377', '26377', '26377', '26377', '26377', '26377', '26377', '26377', '26377', '26377', '26377', '26377', '26377', '26377', '26377', '26377', '26377', '26377', '26377', '26377', '26377', '26377', '26377', '26377', '26377', '26377', '26377', '26377', '26377', '26377', '26377', '26377', '26377', '26377', '26377', '26377', '26377', '26377', '26377', '26377', '26377', '26377', '26377', '26377', '26377', '26377', '26377', '26377', '26377', '26377', '26377', '26377', '26377', '26377', '26377', '26377', '26377', '26377', '26377', '26377', '26377', '26377', '26377', '26377', '26377', '26377', '26377', '26377', '26377', '26377', '26377', '26377', '26377', '26377', '26377', '26377', '26377', '26377', '26377', '26377', '26377', '26377', '26377', '26377', '26377', '26377', '26377', '26377', '26377', '26377', '26377', '26377', '26377', '26377', '26377', '26377', '26377', '26377', '26377', '26377', '26377', '26377', '26377', '26377', '26377', '26377', '26377', '26377', '26377', '26377', '26377', '26377', '26377', '26377', '26377', '26377', '26377', '26377', '26377', '26377', '26377', '26377', '26377', '26377', '26377', '26377', '26377', '26377', '26377', '26377', '26377', '26377', '26377', '26377', '26377', '26377', '26377', '26377', '26377', '26377', '26377', '26377', '26377', '26377', '26377', '26377', '26377', '26377', '26377', '26377', '26377', '26377', '26377', '26377', '26377', '26377', '26377', '26377', '26377', '26377', '26377', '26377', '26377', '26377', '26377', '26377', '26377', '26377', '26377', '26377', '26377', '26377', '26377', '26377', '26377', '26377', '26377', '26377', '26377', '26377', '26377', '26377', '26377', '26377', '26377', '26377', '26377', '26377', '26377', '26377', '26377', '26377', '26377', '26377', '26377', '26377', '26377', '26377', '26377', '26377', '26377', '26377', '26377', '26377', '26377', '26377', '26377', '26377', '26377', '26377', '26377', '26377', '26377', '26377', '26377', '26377', '26377', '26377', '26377', '26377', '26377', '26377', '26377', '26377', '26377', '26377', '26377', '26377', '26377', '26377', '26377', '26377', '26377', '26377', '26377', '26377', '26377', '26377', '26377', '26377', '26377', '26377', '26377', '26377', '26377', '26377', '26377', '26377', '26377', '26377', '26377', '26377', '26377', '26377', '26377', '26377', '26377', '26377', '26377', '26377', '26377', '26377', '26377', '26377', '26377', '26377', '26377', '26377', '26377', '26377', '26377', '26377', '26377', '26377', '26377', '26377', '26377', '26377', '26377', '26377', '26377', '26377', '26377', '26377', '26377', '26377', '26377', '26377', '26377', '26377', '26377', '26377', '26377', '26377', '26377', '26377', '26377', '26377', '26377', '26377', '26377', '26377', '26377', '26377', '26377', '26377', '26377', '26377', '26377', '26377', '26377', '26377', '26377', '26377', '26377', '26377', '26377', '26377', '26377', '26377', '26377', '26377', '26377', '26377', '26377', '26377', '26377', '26377', '26377', '26377', '26377', '26377', '26377', '26377', '26377', '26377', '26377', '26377', '26377', '26377', '26377', '26377', '26377', '26377', '26377', '26377', '26377', '26377', '26377', '26377', '26377', '26377', '26377', '26377', '26377', '26377', '26377', '26377', '26377', '26377', '26377', '26377', '26377', '26377', '26377', '26377', '26377', '26377', '26377', '26377', '26377', '26377', '26377', '26377', '26377', '26377', '26377', '26377', '26377', '26377', '26377', '26377', '26377', '26377', '26377', '26377', '26377', '26377', '26377', '26377', '26377', '26377', '26377', '26377', '26377', '26377', '26377', '26377', '26377', '26377', '26377', '26377', '26377', '26377', '26377', '26377', '26377', '26377', '26377', '26377', '26377', '26377', '26377', '26377', '26377', '26377', '26377', '26377', '26377', '26377', '26377', '26377', '26377', '26377', '26377', '26377', '26377', '26377', '26377', '26377', '26377', '26377', '26377', '26377', '26377', '26377', '26377', '26377', '26377', '26377', '26377', '26377', '26377', '26377', '26377', '26377', '26377', '26377', '26377', '26377', '26377', '26377', '26377', '26377', '26377', '26377', '26377', '26377', '26377', '26377', '26377', '26377', '26377', '26377', '26377', '26377', '26377', '26377', '26377', '26377', '26377', '26377', '26377', '26377', '26377', '26377', '26377', '26377', '26377', '26377', '26377', '26377', '26377', '26377', '26377', '26377', '26377', '26377', '26377', '26377', '26377', '26377', '26377', '26377', '26377', '26377', '26377', '26377', '26377', '26377', '26377', '26377', '26377', '26377', '26377', '26377', '26377', '26377', '26377', '26377', '26377', '26377', '26377', '26377', '26377', '26377', '26377', '26377', '26377', '26377', '26377', '26377', '26377', '26377', '26377', '26377', '26377', '26377', '26377', '26377', '26377', '26377', '26377', '26377', '26377', '26377', '26377', '26377', '26377', '26377', '26377', '26377', '26377', '26377', '26377', '26377', '26377', '26377', '26377', '26377', '26377', '26377', '26377', '26377', '26377', '26377', '26377', '26377', '26377', '26377', '26377', '26377', '26377', '26377', '26377', '26377', '26377', '26377', '26377', '26377', '26377', '26377', '26377', '26377', '26377', '26377', '26377', '26377', '26377', '26377', '26377', '26377', '26377', '26377', '26377', '26377', '26377', '26377', '26377', '26377', '26377', '26377', '26377', '26377', '26377', '26377', '26377', '26377', '26377', '26377', '26377', '26377', '26377', '26377', '26377', '26377', '26377', '26377', '26377', '26377', '26377', '26377', '26377', '26377', '26377', '26377', '26377', '26377', '26377', '26377', '26377', '26377', '26377', '26377', '26377', '26377', '26377', '26377', '26377', '26377', '26377', '26377', '26377', '26377', '26377', '26377', '26377', '26377', '26377', '26377', '26377', '26377', '26377', '26377', '26377', '26377', '26377', '26377', '26377', '26377', '26377', '26377', '26377', '26377', '26377', '26377', '26377', '26377', '26377', '26377', '26377', '26377', '26377', '26377', '26377', '26377', '26377', '26377', '26377', '26377', '26377', '26377', '26377', '26377', '26377', '26377', '26377', '26377', '26377', '26377', '26377', '26377', '26377', '26377', '26377', '26377', '26377', '26377', '26377', '26377', '26377', '26377', '26377', '26377', '26377', '26377', '26377', '26377', '26377', '26377', '26377', '26377', '26377', '26377', '26377', '26377', '26377', '26377', '26377', '26377', '26377', '26377', '26377', '26377', '26377', '26377', '26377', '26377', '26377', '26377', '26377', '26377', '26377', '26377', '26377', '26377', '26377', '26377', '26377', '26377', '26377', '26377', '26377', '26377', '26377', '26377', '26377', '26377', '26377', '26377', '26377', '26377', '26377', '26377', '26377', '26377', '26377', '26377', '26377', '26377', '26377', '26377', '26377', '26377', '26377', '26377', '26377', '26377', '26377', '26377', '26377', '26377', '26377', '26377', '26377', '26377', '26377', '26377', '26377', '26377', '26377', '26377', '26377', '26377', '26377', '26377', '26377', '26377', '26377', '26377', '26377', '26377', '26377', '26377', '26377', '26377', '26377', '26377', '26377', '26377', '26377', '26377', '26377', '26377', '26377', '26377', '26377', '26377', '26377', '26377', '26377', '26377', '26377', '26377', '26377', '26377', '26377', '26377', '26377', '26377', '26377', '26377', '26377', '26377', '26377', '26377', '26377', '26377', '26377', '26377', '26377', '26377', '26377', '26377', '26377', '26377', '26377', '26377', '26377', '26377', '26377', '26377', '26377', '26377', '26377', '26377', '26377', '26377', '26377', '26377', '26377', '26377', '26377', '26377', '26377', '26377', '26377', '26377', '26377', '26377', '26377', '26377', '26377', '26377', '26377', '26377', '26377', '26377', '26377', '26377', '26377', '26377', '26377', '26377', '26377', '26377', '26377', '26377', '26377', '26377', '26377', '26377', '26377', '26377', '26377', '26377', '26377', '26377', '26377', '26377', '26377', '26377', '26377', '26377', '26377', '26377', '26377', '26377', '26377', '26377', '26377', '26377', '26377', '26377', '26377', '26377', '26377', '26377', '26377', '26377', '26377', '26377', '26377', '26377', '26377', '26377', '26377', '26377', '26377', '26377', '26377', '26377', '26377', '26377', '26377', '26377', '26377', '26377', '26377', '26377', '26377', '26377', '26377', '26377', '26377', '26377', '26377', '26377', '26377', '26377', '26377', '26377', '26377', '26377', '26377', '26377', '26377', '26377', '26377', '26377', '26377', '26377', '26377', '26377', '26377', '26377', '26377', '26377', '26377', '26377', '26377', '26377', '26377', '26377', '26377', '26377', '26377', '26377', '26377', '26377', '26377', '26377', '26377', '26377', '26377', '26377', '26377', '26377', '26377', '26377', '26377', '26377', '26377', '26377', '26377', '26377', '26377', '26377', '26377', '26377', '26377', '26377', '26377', '26377', '26377', '26377', '26377', '26377', '26377', '26377', '26377', '26377', '26377', '26377', '26377', '26377', '26377', '26377', '26377', '26377', '26377', '26377', '26377', '26377', '26377', '26377', '26377', '26377', '26377', '26377', '26377', '26377', '26377', '26377', '26377', '26377', '26377', '26377', '26377', '26377', '26377', '26377', '26377', '26377', '26377', '26377', '26377', '26377', '26377', '26377', '26377', '26377', '26377', '26377', '26377', '26377', '26377', '26377', '26377', '26377', '26377', '26377', '26377', '26377', '26377', '26377', '26377', '26377', '26377', '26377', '26377', '26377', '26377', '26377', '26377', '26377', '26377', '26377', '26377', '26377', '26377', '26377', '26377', '26377', '26377', '26377', '26377', '26377', '26377', '26377', '26377', '26377', '26377', '26377', '26377', '26377', '26377', '26377', '26377', '26377', '26377', '26377', '26377', '26377', '26377', '26377', '26377', '26377', '26377', '26377', '26377', '26377', '26377', '26377', '26377', '26377', '26377', '26377', '26377', '26377', '26377', '26377', '26377', '26377', '26377', '26377', '26377', '26377', '26377', '26377', '26377', '26377', '26377', '26377', '26377', '26377', '26377', '26377', '26377', '26377', '26377', '26377', '26377', '26377', '26377', '26377', '26377', '26377', '26377', '26377', '26377', '26377', '26377', '26377', '26377', '26377', '26377', '26377', '26377', '26377', '26377', '26377', '26377', '26377', '26377', '26377', '26377', '26377', '26377', '26377', '26377', '26377', '26377', '26377', '26377', '26377', '26377', '26377', '26377', '26377', '26377', '26377', '26377', '26377', '26377', '26377', '26377', '26377', '26377', '26377', '26377', '26377', '26377', '26377', '26377', '26377', '26377', '26377', '26377', '26377', '26377', '26377', '26377', '26377', '26377', '26377', '26377', '26377', '26377', '26377', '26377', '26377', '26377', '26377', '26377', '26377', '26377', '26377', '26377', '26377', '26377', '26377', '26377', '26377', '26377', '26377', '26377', '26377', '26377', '26377', '26377', '26377', '26377', '26377', '26377', '26377', '26377', '26377', '26377', '26377', '26377', '26377', '26377', '26377', '26377', '26377', '26377', '26377', '26377', '26377', '26377', '26377', '26377', '26377', '26377', '26377', '26377', '26377', '26377', '26377', '26377', '26377', '26377', '26377', '26377', '26377', '26377', '26377', '26377', '26377', '26377', '26377', '26377', '26377', '26377', '26377', '26377', '26377', '26377', '26377', '26377', '26377', '26377', '26377', '26377', '26377', '26377', '26377', '26377', '26377', '26377', '26377', '26377', '26377', '26377', '26377', '26377', '26377', '26377', '26377', '26377', '26377', '26377', '26377', '26377', '26377', '26377', '26377', '26377', '26377', '26377', '26377', '26377', '26377', '26377', '26377', '26377', '26377', '26377', '26377', '26377', '26377', '26377', '26377', '26377', '26377', '26377', '26377', '26377', '26377', '26377', '26377', '26377', '26377', '26377', '26377', '26377', '26377', '26377', '26377', '26377', '26377', '26377', '26377', '26377', '26377', '26377', '26377', '26377', '26377', '26377', '26377', '26377', '26377', '26377', '26377', '26377', '26377', '26377', '26377', '26377', '26377', '26377', '26377', '26377', '26377', '26377', '26377', '26377', '26377', '26377', '26377', '26377', '26377', '26377', '26377', '26377', '26377', '26377', '26377', '26377', '26377', '26377', '26377', '26377', '26377', '26377', '26377', '26377', '26377', '26377', '26377', '26377', '26377', '26377', '26377', '26377', '26377', '26377', '26377', '26377', '26377', '26377', '26377', '26377', '26377', '26377', '26377', '26377', '26377', '26377', '26377', '26377', '26377', '26377', '26377', '26377', '26377', '26377', '26377', '26377', '26377', '26377', '26377', '26377', '26377', '26377', '26377', '26377', '26377', '26377', '26377', '26377', '26377', '26377', '26377', '26377', '26377', '26377', '26377', '26377', '26377', '26377', '26377', '26377', '26377', '26377', '26377', '26377', '26377', '26377', '26377', '26377', '26377', '26377', '26377', '26377', '26377', '26377', '26377', '26377', '26377', '26377', '26377', '26377', '26377', '26377', '26377', '26377', '26377', '26377', '26377', '26377', '26377', '26377', '26377', '26377', '26377', '26377', '26377', '26377', '26377', '26377', '26377', '26377', '26377', '26377', '26377', '26377', '26377', '26377', '26377', '26377', '26377', '26377', '26377', '26377', '26377', '26377', '26377', '26377', '26377', '26377', '26377', '26377', '26377', '26377', '26377', '26377', '26377', '26377', '26377', '26377', '26377', '26377', '26377', '26377', '26377', '26377', '26377', '26377', '26377', '26377', '26377', '26377', '26377', '26377', '26377', '26377', '26377', '26377', '26377', '26377', '26377', '26377', '26377', '26377', '26377', '26377', '26377', '26377', '26377', '26377', '26377', '26377', '26377', '26377', '26377', '26377', '26377', '26377', '26377', '26377', '26377', '26377', '26377', '26377', '26377', '26377', '26377', '26377', '26377', '26377', '26377', '26377', '26377', '26377', '26377', '26377', '26377', '26377', '26377', '26377', '26377', '26377', '26377', '26377', '26377', '26377', '26377', '26377', '26377', '26377', '26377', '26377', '26377', '26377', '26377', '26377', '26377', '26377', '26377', '26377', '26377', '26377', '26377', '26377', '26377', '26377', '26377', '26377', '26377', '26377', '26377', '26377', '26377', '26377', '26377', '26377', '26377', '26377', '26377', '26377', '26377', '26377', '26377', '26377', '26377', '26377', '26377', '26377', '26377', '26377', '26377', '26377', '26377', '26377', '26377', '26377', '26377', '26377', '26377', '26377', '26377', '26377', '26377', '26377', '26377', '26377', '26377', '26377', '26377', '26377', '26377', '26377', '26377', '26377', '26377', '26377', '26377', '26377', '26377', '26377', '26377', '26377', '26377', '26377', '26377', '26377', '26377', '26377', '26377', '26377', '26377', '26377', '26377', '26377', '26377', '26377', '26377', '26377', '26377', '26377', '26377', '26377', '26377', '26377', '26377', '26377', '26377', '26377', '26377', '26377', '26377', '26377', '26377', '26377', '26377', '26377', '26377', '26377', '26377', '26377', '26377', '26377', '26377', '26377', '26377', '26377', '26377', '26377', '26377', '26377', '26377', '26377', '26377', '26377', '26377', '26377', '26377', '26377', '26377', '26377', '26377', '26377', '26377', '26377', '26377', '26377', '26377', '26377', '26377', '26377', '26377', '26377', '26377', '26377', '26377', '26377', '26377', '26377', '26377', '26377', '26377', '26377', '26377', '26377', '26377', '26377', '26377', '26377', '26377', '26377', '26377', '26377', '26377', '26377', '26377', '26377', '26377', '26377', '26377', '26377', '26377', '26377', '26377', '26377', '26377', '26377', '26377', '26377', '26377', '26377', '26377', '26377', '26377', '26377', '26377', '26377', '26377', '26377', '26377', '26377', '26377', '26377', '26377', '26377', '26377', '26377', '26377', '26377', '26377', '26377', '26377', '26377', '26377', '26377', '26377', '26377', '26377', '26377', '26377', '26377', '26377', '26377', '26377', '26377', '26377', '26377', '26377', '26377', '26377', '26377', '26377', '26377', '26377', '26377', '26377', '26377', '26377', '26377', '26377', '26377', '26377', '26377', '26377', '26377', '26377', '26377', '26377', '26377', '26377', '26377', '26377', '26377', '26377', '26377', '26377', '26377', '26377', '26377', '26377', '26377', '26377', '26377', '26377', '26377', '26377', '26377', '26377', '26377', '26377', '26377', '26377', '26377', '26377', '26377', '26377', '26377', '26377', '26377', '26377', '26377', '26377', '26377', '26377', '26377', '26377', '26377', '26377', '26377', '26377', '26377', '26377', '26377', '26377', '26377', '26377', '26377', '26377', '26377', '26377', '26377', '26377', '26377', '26377', '26377', '26377', '26377', '26377', '26377', '26377', '26377', '26377', '26377', '26377', '26377', '26377', '26377', '26377', '26377', '26377', '26377', '26377', '26377', '26377', '26377', '26377', '26377', '26377', '26377', '26377', '26377', '26377', '26377', '26377', '26377', '26377', '26377', '26377', '26377', '26377', '26377', '26377', '26377', '26377', '26377', '26377', '26377', '26377', '26377', '26377', '26377', '26377', '26377', '26377', '26377', '26377', '26377', '26377', '26377', '26377', '26377', '26377', '26377', '26377', '26377', '26377', '26377', '26377', '26377', '26377', '26377', '26377', '26377', '26377', '26377', '26377', '26377', '26377', '26377', '26377', '26377', '26377', '26377', '26377', '26377', '26377', '26377', '26377', '26377', '26377', '26377', '26377', '26377', '26377', '26377', '26377', '26377', '26377', '26377', '26377', '26377', '26377', '26377', '26377', '26377', '26377', '26377', '26377', '26377', '26377', '26377', '26377', '26377', '26377', '26377', '26377', '26377', '26377', '26377', '26377', '26377', '26377', '26377', '26377', '26377', '26377', '26377', '26377', '26377', '26377', '26377', '26377', '26377', '26377', '26377', '26377', '26377', '26377', '26377', '26377', '26377', '26377', '26377', '26377', '26377', '26377', '26377', '26377', '26377', '26377', '26377', '26377', '26377', '26377', '26377', '26377', '26377', '26377', '26377', '26377', '26377', '26377', '26377', '26377', '26377', '26377', '26377', '26377', '26377', '26377', '26377', '26377', '26377', '26377', '26377', '26377', '26377', '26377', '26377', '26377', '26377', '26377', '26377', '26377', '26377', '26377', '26377', '26377', '26377', '26377', '26377', '26377', '26377', '26377', '26377', '26377', '26377', '26377', '26377', '26377', '26377', '26377', '26377', '26377', '26377', '26377', '26377', '26377', '26377', '26377', '26377', '26377', '26377', '26377', '26377', '26377', '26377', '26377', '26377', '26377', '26377', '26377', '26377', '26377', '26377', '26377', '26377', '26377', '26377', '26377', '26377', '26377', '26377', '26377', '26377', '26377', '26377', '26377', '26377', '26377', '26377', '26377', '26377', '26377', '26377', '26377', '26377', '26377', '26377', '26377', '26377', '26377', '26377', '26377', '26377', '26377', '26377', '26377', '26377', '26377', '26377', '26377', '26377', '26377', '26377', '26377', '26377', '26377', '26377', '26377', '26377', '26377', '26377', '26377', '26377', '26377', '26377', '26377', '26377', '26377', '26377', '26377', '26377', '26377', '26377', '26377', '26377', '26377', '26377', '26377', '26377', '26377', '26377', '26377', '26377', '26377', '26377', '26377', '26377', '26377', '26377', '26377', '26377', '26377', '26377', '26377', '26377', '26377', '26377', '26377', '26377', '26377', '26377', '26377', '26377', '26377', '26377', '26377', '26377', '26377', '26377', '26377', '26377', '26377', '26377', '26377', '26377', '26377', '26377', '26377', '26377', '26377', '26377', '26377', '26377', '26377', '26377', '26377', '26377', '26377', '26377', '26377', '26377', '26377', '26377', '26377', '26377', '26377', '26377', '26377', '26377', '26377', '26377', '26377', '26377', '26377', '26377', '26377', '26377', '26377', '26377', '26377', '26377', '26377', '26377', '26377', '26377', '26377', '26377', '26377', '26377', '26377', '26377', '26377', '26377', '26377', '26377', '26377', '26377', '26377', '26377', '26377', '26377', '26377', '26377', '26377', '26377', '26377', '26377', '26377', '26377', '26377', '26377', '26377', '26377', '26377', '26377', '26377', '26377', '26377', '26377', '26377', '26377', '26377', '26377', '26377', '26377', '26377', '26377', '26377', '26377', '26377', '26377', '26377', '26377', '26377', '26377', '26377', '26377', '26377', '26377', '26377', '26377', '26377', '26377', '26377', '26377', '26377', '26377', '26377', '26377', '26377', '26377', '26377', '26377', '26377', '26377', '26377', '26377', '26377', '26377', '26377', '26377', '26377', '26377', '26377', '26377', '26377', '26377', '26377', '26377', '26377', '26377', '26377', '26377', '26377', '26377', '26377', '26377', '26377', '26377', '26377', '26377', '26377', '26377', '26377', '26377', '26377', '26377', '26377', '26377', '26377', '26377', '26377', '26377', '26377', '26377', '26377', '26377', '26377', '26377', '26377', '26377', '26377', '26377', '26377', '26377', '26377', '26377', '26377', '26377', '26377', '26377', '26377', '26377', '26377', '26377', '26377', '26377', '26377', '26377', '26377', '26377', '26377', '26377', '26377', '26377', '26377', '26377', '26377', '26377', '26377', '26377', '26377', '26377', '26377', '26377', '26377', '26377', '26377', '26377', '26377', '26377', '26377', '26377', '26377', '26377', '26377', '26377', '26377', '26377', '26377', '26377', '26377', '26377', '26377', '26377', '26377', '26377', '26377', '26377', '26377', '26377', '26377', '26377', '26377', '26377', '26377', '26377', '26377', '26377', '26377', '26377', '26377', '26377', '26377', '26377', '26377', '26377', '26377', '26377', '26377', '26377', '26377', '26377', '26377', '26377', '26377', '26377', '26377', '26377', '26377', '26377', '26377', '26377', '26377', '26377', '26377', '26377', '26377', '26377', '26377', '26377', '26377', '26377', '26377', '26377', '26377', '26377', '26377', '26377', '26377', '26377', '26377', '26377', '26377', '26377', '26377', '26377', '26377', '26377', '26377', '26377', '26377', '26377', '26377', '26377', '26377', '26377', '26377', '26377', '26377', '26377', '26377', '26377', '26377', '26377', '26377', '26377', '26377', '26377', '26377', '26377', '26377', '26377', '26377', '26377', '26377', '26377', '26377', '26377', '26377', '26377', '26377', '26377', '26377', '26377', '26377', '26377', '26377', '26377', '26377', '26377', '26377', '26377', '26377', '26377', '26377', '26377', '26377', '26377', '26377', '26377', '26377', '26377', '26377', '26377', '26377', '26377', '26377', '26377', '26377', '26377', '26377', '26377', '26377', '26377', '26377', '26377', '26377', '26377', '26377', '26377', '26377', '26377', '26377', '26377', '26377', '26377', '26377', '26377', '26377', '26377', '26377', '26377', '26377', '26377', '26377', '26377', '26377', '26377', '26377', '26377', '26377', '26377', '26377', '26377', '26377', '26377', '26377', '26377', '26377', '26377', '26377', '26377', '26377', '26377', '26377', '26377', '26377', '26377', '26377', '26377', '26377', '26377', '26377', '26377', '26377', '26377', '26377', '26377', '26377', '26377', '26377', '26377', '26377', '26377', '26377', '26377', '26377', '26377', '26377', '26377', '26377', '26377', '26377', '26377', '26377', '26377', '26377', '26377', '26377', '26377', '26377', '26377', '26377', '26377', '26377', '26377', '26377', '26377', '26377', '26377', '26377', '26377', '26377', '26377', '26377', '26377', '26377', '26377', '26377', '26377', '26377', '26377', '26377', '26377', '26377', '26377', '26377', '26377', '26377', '26377', '26377', '26377', '26377', '26377', '26377', '26377', '26377', '26377', '26377', '26377', '26377', '26377', '26377', '26377', '26377', '26377', '26377', '26377', '26377', '26377', '26377', '26377', '26377', '26377', '26377', '26377', '26377', '26377', '26377', '26377', '26377', '26377', '26377', '26377', '26377', '26377', '26377', '26377', '26377', '26377', '26377', '26377', '26377', '26377', '26377', '26377', '26377', '26377', '26377', '26377', '26377', '26377', '26377', '26377', '26377', '26377', '26377', '26377', '26377', '26377', '26377', '26377', '26377', '26377', '26377', '26377', '26377', '26377', '26377', '26377', '26377', '26377', '26377', '26377', '26377', '26377', '26377', '26377', '26377', '26377', '26377', '26377', '26377', '26377', '26377', '26377', '26377', '26377', '26377', '26377', '26377', '26377', '26377', '26377', '26377', '26377', '26377', '26377', '26377', '26377', '26377', '26377', '26377', '26377', '26377', '26377', '26377', '26377', '26377', '26377', '26377', '26377', '26377', '26377', '26377', '26377', '26377', '26377', '26377', '26377', '26377', '26377', '26377', '26377', '26377', '26377', '26377', '26377', '26377', '26377', '26377', '26377', '26377', '26377', '26377', '26377', '26377', '26377', '26377', '26377', '26377', '26377', '26377', '26377', '26377', '26377', '26377', '26377', '26377', '26377', '26377', '26377', '26377', '26377', '26377', '26377', '26377', '26377', '26377', '26377', '26377', '26377', '26377', '26377', '26377', '26377', '26377', '26377', '26377', '26377', '26377', '26377', '26377', '26377', '26377'], ['981', '2176', '3441', '26377', '26377', '26377', '26377', '26377', '26377', '26377', '26377', '26377', '26377', '26377', '26377', '26377', '26377', '26377', '26377', '26377', '26377', '26377', '26377', '26377', '26377', '26377', '26377', '26377', '26377', '26377', '26377', '26377', '26377', '26377'], ['181', '151', '1259', '7207', '11', '341', '732', '2671', '18900', '204', '146', '1288', '1115', '11', '4569', '173', '2851', '375', '268', '662', '222', '203', '11', '268', '1675', '410', '333', '1363', '13', '222', '203', '4359', '1100', '173', '168', '6901', '174', '17136', '179', '313', '48', '1000', '2423', '59', '11', '375', '714', '539', '287', '1212', '179', '754', '351', '264', '333', '8016', '179', '1066', '1304', '6085', '13', '344', '934', '264', '494', '175', '146', '1179', '1854', '4166', '173', '151', '3586', '23544', '11', '179', '562', '351', '6829', '11', '146', '24467', '177', '12413', '3928', '513', '146', '5620', '42', '238', '8675', '3544', '8', '179', '2799', '151', '13140', '179', '377', '4166', '2889', '11', '3203', '16694', '23276', '13125', '13', '176', '151', '17949', '1598', '11', '341', '732', '15328', '2077', '11', '1172', '1877', '11', '477', '395', '175', '333', '7835', '3928', '513', '146', '6278', '407', '222', '2881', '173', '2739', '151', '4898', '9657', '13', '3203', '13125', '11', '375', '7375', '1877', '173', '196', '146', '2731', '2013', '956', '151', '1598', '11', '203', '1742', '16166', '287', '146', '12710', '3544', '13', '562', '151', '2739', '11', '146', '5561', '963', '4068', '10079', '173', '7327', '151', '13140', '11', '342', '395', '175', '151', '518', '176', '223', '11', '1292', '6940', '11', '203', '6834', '477', '530', '16987', '211', '467', '3821', '9721', '11', '443', '789', '10118', '1316', '11', '203', '279', '471', '236', '530', '2425', '13', '1292', '6940', '11', '4693', '443', '789', '11', '250', '1093', '176', '146', '4481', '293', '151', '14375', '222', '301', '173', '656', '471', '213', '151', '246', '14723', '232', '395', '11716', '1353', '342', '299', '3928', '370', '173', '196', '341', '732', '11', '375', '414', '146', '11716', '5028', '956', '151', '1598', '13', '341', '732', '11', '168', '6901', '11', '267', '313', '48', '264', '1093', '211', '351', '264', '1143', '212', '9187', '179', '264', '1742', '592', '173', '1191', '1730', '12', '12134', '662', '351', '1543', '444', '197', '7532', '1143', '212', '252', '1482', '448', '2003', '13', '471', '11', '313', '48', '203', '3669', '236', '146', '2756', '175', '222', '5703', '270', '260', '11', '168', '6901', '236', '146', '3924', '175', '26204', '10335', '439', '179', '341', '732', '236', '146', '2756', '175', '1659', '17076', '11', '830', '222', '301', '3920', '539', '222', '203', '467', '6510', '13', '341', '732', '1324', '16987', '211', '222', '203', '151', '1127', '3182', '175', '1659', '17076', '221', '1143', '212', '252', '3924', '183', '7174', '8301', '11', '375', '203', '146', '12749', '175', '1048', '18422', '13', '6637', '562', '351', '6829', '11', '151', '934', '264', '1531', '146', '1041', '173', '7327', '222', '301', '11', '375', '336', '447', '5936', '11', '179', '351', '744', '434', '13', '351', '2137', '5380', '211', '377', '4492', '264', '1492', '595', '4810', '293', '197', '24262', '173', '16034', '151', '8503', '13', '956', '377', '1041', '11', '351', '6516', '183', '7174', '179', '151', '13999', '11', '375', '294', '447', '1714', '213', '443', '789', '13', '183', '7174', '179', '341', '732', '10618', '439', '213', '151', '573', '1011', '341', '732', '250', '5936', '255', '151', '2058', '175', '590', '13', '204', '151', '683', '173', '146', '38', '231', '260', '221', '11350', '11', '341', '732', '11', '313', '48', '179', '168', '6901', '1451', '8133', '293', '183', '7174', '11', '375', '7645', '173', '1543', '466', '255', '151', '11806', '1807', '11', '151', '780', '1091', '183', '7174', '414', '1501', '341', '732', '723', '299', '2668', '13', '562', '698', '2484', '23251', '287', '146', '38', '231', '260', '11', '375', '203', '595', '197', '24262', '221', '4810', '11', '151', '13140', '5110', '173', '5090', '4086', '173', '19832', '361', '11', '146', '38', '231', '260', '33', '52', '1650', '6519', '11', '179', '731', '376', '176', '4192', '25062', '3855', '11', '4086', '173', '151', '1058', '175', '146', '3461', '168', '6901', '414', '232', '26204', '10335', '439', '13', '562', '7060', '176', '4192', '25062', '3855', '11', '151', '13140', '7638', '173', '24404', '13', '7958', '12560', '173', '1598', '151', '4750', '415', '4149', '209', '260', '11', '375', '336', '14964', '168', '6901', '221', '2461', '13', '351', '5110', '173', '1261', '151', '4750', '179', '2930', '168', '6901', '221', '2461', '11', '562', '407', '351', '7638', '173', '151', '11806', '1807', '173', '1247', '222', '301', '13', '2908', '151', '7512', '179', '151', '13999', '2930', '222', '301', '11', '151', '4520', '175', '151', '13300', '11', '168', '9461', '2013', '184', '11', '11391', '3172', '179', '17211', '513', '146', '5723', '176', '151', '3617', '13', '341', '732', '221', '3286', '642', '3912', '6012', '11', '179', '222', '12197', '211', '222', '203', '146', '3441', '293', '146', '251', '4091', '8145', '173', '1191', '1730', '12', '12134', '5585', '1243', '4192', '25062', '3855', '11', '179', '203', '151', '2756', '175', '341', '13873', '11', '1659', '17076', '221', '251', '4091', '3841', '13', '222', '15118', '211', '222', '301', '11', '493', '1592', '236', '7898', '48', '11', '336', '10557', '539', '232', '443', '789', '10118', '1316', '11', '375', '348', '196', '255', '151', '251', '4091', '1191', '232', '503', '3286', '175', '333', '1014', '11', '176', '151', '5445', '211', '151', '590', '8382', '424', '4746', '527', '1660', '173', '1598', '151', '13300', '179', '5619', '151', '14375', '197', '24262', '13', '26377', '26377', '26377', '26377', '26377', '26377', '26377', '26377', '26377', '26377', '26377', '26377', '26377', '26377', '26377', '26377', '26377', '26377', '26377', '26377', '26377', '26377', '26377', '26377', '26377', '26377', '26377', '26377', '26377', '26377', '26377', '26377', '26377', '26377', '26377', '26377', '26377', '26377', '26377', '26377', '26377', '26377', '26377', '26377', '26377', '26377', '26377', '26377', '26377', '26377', '26377', '26377', '26377', '26377', '26377', '26377', '26377', '26377', '26377', '26377', '26377', '26377', '26377', '26377', '26377', '26377', '26377', '26377', '26377', '26377', '26377', '26377', '26377', '26377', '26377', '26377', '26377', '26377', '26377', '26377', '26377', '26377', '26377', '26377', '26377', '26377', '26377', '26377', '26377', '26377', '26377', '26377', '26377', '26377', '26377', '26377', '26377', '26377', '26377', '26377', '26377', '26377', '26377', '26377', '26377', '26377', '26377', '26377', '26377', '26377', '26377', '26377', '26377', '26377', '26377', '26377', '26377', '26377', '26377', '26377', '26377', '26377', '26377', '26377', '26377', '26377', '26377', '26377', '26377', '26377', '26377', '26377', '26377', '26377', '26377', '26377', '26377', '26377', '26377', '26377', '26377', '26377', '26377', '26377', '26377', '26377', '26377', '26377', '26377', '26377', '26377', '26377', '26377', '26377', '26377', '26377', '26377', '26377', '26377', '26377', '26377', '26377', '26377', '26377', '26377', '26377', '26377', '26377', '26377', '26377', '26377', '26377', '26377', '26377', '26377', '26377', '26377', '26377', '26377', '26377', '26377', '26377', '26377', '26377', '26377', '26377', '26377', '26377', '26377', '26377', '26377', '26377', '26377', '26377', '26377', '26377', '26377', '26377', '26377', '26377', '26377', '26377', '26377', '26377', '26377', '26377', '26377', '26377', '26377', '26377', '26377', '26377', '26377', '26377', '26377', '26377', '26377', '26377', '26377', '26377', '26377', '26377', '26377', '26377', '26377', '26377', '26377', '26377', '26377', '26377', '26377', '26377', '26377', '26377', '26377', '26377', '26377', '26377', '26377', '26377', '26377', '26377', '26377', '26377', '26377', '26377', '26377', '26377', '26377', '26377', '26377', '26377', '26377', '26377', '26377', '26377', '26377', '26377', '26377', '26377', '26377', '26377', '26377', '26377', '26377', '26377', '26377', '26377', '26377', '26377', '26377', '26377', '26377', '26377', '26377', '26377', '26377', '26377', '26377', '26377', '26377', '26377', '26377', '26377', '26377', '26377', '26377', '26377', '26377', '26377', '26377', '26377', '26377', '26377', '26377', '26377', '26377', '26377', '26377', '26377', '26377', '26377', '26377', '26377', '26377', '26377', '26377', '26377', '26377', '26377', '26377', '26377', '26377', '26377', '26377', '26377', '26377', '26377', '26377', '26377', '26377', '26377', '26377', '26377', '26377', '26377', '26377', '26377', '26377', '26377', '26377', '26377', '26377', '26377', '26377', '26377', '26377', '26377', '26377', '26377', '26377', '26377', '26377', '26377', '26377', '26377', '26377', '26377', '26377', '26377', '26377', '26377', '26377', '26377', '26377', '26377', '26377', '26377', '26377', '26377', '26377', '26377', '26377', '26377', '26377', '26377', '26377', '26377', '26377', '26377', '26377', '26377', '26377', '26377', '26377', '26377', '26377', '26377', '26377', '26377', '26377', '26377', '26377', '26377', '26377', '26377', '26377', '26377', '26377', '26377', '26377', '26377', '26377', '26377', '26377', '26377', '26377', '26377', '26377', '26377', '26377', '26377', '26377', '26377', '26377', '26377', '26377', '26377', '26377', '26377', '26377', '26377', '26377', '26377', '26377', '26377', '26377', '26377', '26377', '26377', '26377', '26377', '26377', '26377', '26377', '26377', '26377', '26377', '26377', '26377', '26377', '26377', '26377', '26377', '26377', '26377', '26377', '26377', '26377', '26377', '26377', '26377', '26377', '26377', '26377', '26377', '26377', '26377', '26377', '26377', '26377', '26377', '26377', '26377', '26377', '26377', '26377', '26377', '26377', '26377', '26377', '26377', '26377', '26377', '26377', '26377', '26377', '26377', '26377', '26377', '26377', '26377', '26377', '26377', '26377', '26377', '26377', '26377', '26377', '26377', '26377', '26377', '26377', '26377', '26377', '26377', '26377', '26377', '26377', '26377', '26377', '26377', '26377', '26377', '26377', '26377', '26377', '26377', '26377', '26377', '26377', '26377', '26377', '26377', '26377', '26377', '26377', '26377', '26377', '26377', '26377', '26377', '26377', '26377', '26377', '26377', '26377', '26377', '26377', '26377', '26377', '26377', '26377', '26377', '26377', '26377', '26377', '26377', '26377', '26377', '26377', '26377', '26377', '26377', '26377', '26377', '26377', '26377', '26377', '26377', '26377', '26377', '26377', '26377', '26377', '26377', '26377', '26377', '26377', '26377', '26377', '26377', '26377', '26377', '26377', '26377', '26377', '26377', '26377', '26377', '26377', '26377', '26377', '26377', '26377', '26377', '26377', '26377', '26377', '26377', '26377', '26377', '26377', '26377', '26377', '26377', '26377', '26377', '26377', '26377', '26377', '26377', '26377', '26377', '26377', '26377', '26377', '26377', '26377', '26377', '26377', '26377', '26377', '26377', '26377', '26377', '26377', '26377', '26377', '26377', '26377', '26377', '26377', '26377', '26377', '26377', '26377', '26377', '26377', '26377', '26377', '26377', '26377', '26377', '26377', '26377', '26377', '26377', '26377', '26377', '26377', '26377', '26377', '26377', '26377', '26377', '26377', '26377', '26377', '26377', '26377', '26377', '26377', '26377', '26377', '26377', '26377', '26377', '26377', '26377', '26377', '26377', '26377', '26377', '26377', '26377', '26377', '26377', '26377', '26377', '26377', '26377', '26377', '26377', '26377', '26377', '26377', '26377', '26377', '26377', '26377', '26377', '26377', '26377', '26377', '26377', '26377', '26377', '26377', '26377', '26377', '26377', '26377', '26377', '26377', '26377', '26377', '26377', '26377', '26377', '26377', '26377', '26377', '26377', '26377', '26377', '26377', '26377', '26377', '26377', '26377', '26377', '26377', '26377', '26377', '26377', '26377', '26377', '26377', '26377', '26377', '26377', '26377', '26377', '26377', '26377', '26377', '26377', '26377', '26377', '26377', '26377', '26377', '26377', '26377', '26377', '26377', '26377', '26377', '26377', '26377', '26377', '26377', '26377', '26377', '26377', '26377', '26377', '26377', '26377', '26377', '26377', '26377', '26377', '26377', '26377', '26377', '26377', '26377', '26377', '26377', '26377', '26377', '26377', '26377', '26377', '26377', '26377', '26377', '26377', '26377', '26377', '26377', '26377', '26377', '26377', '26377', '26377', '26377', '26377', '26377', '26377', '26377', '26377', '26377', '26377', '26377', '26377', '26377', '26377', '26377', '26377', '26377', '26377', '26377', '26377', '26377', '26377', '26377', '26377', '26377', '26377', '26377', '26377', '26377', '26377', '26377', '26377', '26377', '26377', '26377', '26377', '26377', '26377', '26377', '26377', '26377', '26377', '26377', '26377', '26377', '26377', '26377', '26377', '26377', '26377', '26377', '26377', '26377', '26377', '26377', '26377', '26377', '26377', '26377', '26377', '26377', '26377', '26377', '26377', '26377', '26377', '26377', '26377', '26377', '26377', '26377', '26377', '26377', '26377', '26377', '26377', '26377', '26377', '26377', '26377', '26377', '26377', '26377', '26377', '26377', '26377', '26377', '26377', '26377', '26377', '26377', '26377', '26377', '26377', '26377', '26377', '26377', '26377', '26377', '26377', '26377', '26377', '26377', '26377', '26377', '26377', '26377', '26377', '26377', '26377', '26377', '26377', '26377', '26377', '26377', '26377', '26377', '26377', '26377', '26377', '26377', '26377', '26377', '26377', '26377', '26377', '26377', '26377', '26377', '26377', '26377', '26377', '26377', '26377', '26377', '26377', '26377', '26377', '26377', '26377', '26377', '26377', '26377', '26377', '26377', '26377', '26377', '26377', '26377', '26377', '26377', '26377', '26377', '26377', '26377', '26377', '26377', '26377', '26377', '26377', '26377', '26377', '26377', '26377', '26377', '26377', '26377', '26377', '26377', '26377', '26377', '26377', '26377', '26377', '26377', '26377', '26377', '26377', '26377', '26377', '26377', '26377', '26377', '26377', '26377', '26377', '26377', '26377', '26377', '26377', '26377', '26377', '26377', '26377', '26377', '26377', '26377', '26377', '26377', '26377', '26377', '26377', '26377', '26377', '26377', '26377', '26377', '26377', '26377', '26377', '26377', '26377', '26377', '26377', '26377', '26377', '26377', '26377', '26377', '26377', '26377', '26377', '26377', '26377', '26377', '26377', '26377', '26377', '26377', '26377', '26377', '26377', '26377', '26377', '26377', '26377', '26377', '26377', '26377', '26377', '26377', '26377', '26377', '26377', '26377', '26377', '26377', '26377', '26377', '26377', '26377', '26377', '26377', '26377', '26377', '26377', '26377', '26377', '26377', '26377', '26377', '26377', '26377', '26377', '26377', '26377', '26377', '26377', '26377', '26377', '26377', '26377', '26377', '26377', '26377', '26377', '26377', '26377', '26377', '26377', '26377', '26377', '26377', '26377', '26377', '26377', '26377', '26377', '26377', '26377', '26377', '26377', '26377', '26377', '26377', '26377', '26377', '26377', '26377', '26377', '26377', '26377', '26377', '26377', '26377', '26377', '26377', '26377', '26377', '26377', '26377', '26377', '26377', '26377', '26377', '26377', '26377', '26377', '26377', '26377', '26377', '26377', '26377', '26377', '26377', '26377', '26377', '26377', '26377', '26377', '26377', '26377', '26377', '26377', '26377', '26377', '26377', '26377', '26377', '26377', '26377', '26377', '26377', '26377', '26377', '26377', '26377', '26377', '26377', '26377', '26377', '26377', '26377', '26377', '26377', '26377', '26377', '26377', '26377', '26377', '26377', '26377', '26377', '26377', '26377', '26377', '26377', '26377', '26377', '26377', '26377', '26377', '26377', '26377', '26377', '26377', '26377', '26377', '26377', '26377', '26377', '26377', '26377', '26377', '26377', '26377', '26377', '26377', '26377', '26377', '26377', '26377', '26377', '26377', '26377', '26377', '26377', '26377', '26377', '26377', '26377', '26377', '26377', '26377', '26377', '26377', '26377', '26377', '26377', '26377', '26377', '26377', '26377', '26377', '26377', '26377', '26377', '26377', '26377', '26377', '26377', '26377', '26377', '26377', '26377', '26377', '26377', '26377', '26377', '26377', '26377', '26377', '26377', '26377', '26377', '26377', '26377', '26377', '26377', '26377', '26377', '26377', '26377', '26377', '26377', '26377', '26377', '26377', '26377', '26377', '26377', '26377', '26377', '26377', '26377', '26377', '26377', '26377', '26377', '26377', '26377', '26377', '26377', '26377', '26377', '26377', '26377', '26377', '26377', '26377', '26377', '26377', '26377', '26377', '26377', '26377', '26377', '26377', '26377', '26377', '26377', '26377', '26377', '26377', '26377', '26377', '26377', '26377', '26377', '26377', '26377', '26377', '26377', '26377', '26377', '26377', '26377', '26377', '26377', '26377', '26377', '26377', '26377', '26377', '26377', '26377', '26377', '26377', '26377', '26377', '26377', '26377', '26377', '26377', '26377', '26377', '26377', '26377', '26377', '26377', '26377', '26377', '26377', '26377', '26377', '26377', '26377', '26377', '26377', '26377', '26377', '26377', '26377', '26377', '26377', '26377', '26377', '26377', '26377', '26377', '26377', '26377', '26377', '26377', '26377', '26377', '26377', '26377', '26377', '26377', '26377', '26377', '26377', '26377', '26377', '26377', '26377', '26377', '26377', '26377', '26377', '26377', '26377', '26377', '26377', '26377', '26377', '26377', '26377', '26377', '26377', '26377', '26377', '26377', '26377', '26377', '26377', '26377', '26377', '26377', '26377', '26377', '26377', '26377', '26377', '26377', '26377', '26377', '26377', '26377', '26377', '26377', '26377', '26377', '26377', '26377', '26377', '26377', '26377', '26377', '26377', '26377', '26377', '26377', '26377', '26377', '26377', '26377', '26377', '26377', '26377', '26377', '26377', '26377', '26377', '26377', '26377', '26377', '26377', '26377', '26377', '26377', '26377', '26377', '26377', '26377', '26377', '26377', '26377', '26377', '26377', '26377', '26377', '26377', '26377', '26377', '26377', '26377', '26377', '26377', '26377', '26377', '26377', '26377', '26377', '26377', '26377', '26377', '26377', '26377', '26377', '26377', '26377', '26377', '26377', '26377', '26377', '26377', '26377', '26377', '26377', '26377', '26377', '26377', '26377', '26377', '26377', '26377', '26377', '26377', '26377', '26377', '26377', '26377', '26377', '26377', '26377', '26377', '26377', '26377', '26377', '26377', '26377', '26377', '26377', '26377', '26377', '26377', '26377', '26377', '26377', '26377', '26377', '26377', '26377', '26377', '26377', '26377', '26377', '26377', '26377', '26377', '26377', '26377', '26377', '26377', '26377', '26377', '26377', '26377', '26377', '26377', '26377', '26377', '26377', '26377', '26377', '26377', '26377', '26377', '26377', '26377', '26377', '26377', '26377', '26377', '26377', '26377', '26377', '26377', '26377', '26377', '26377', '26377', '26377', '26377', '26377', '26377', '26377', '26377', '26377', '26377', '26377', '26377', '26377', '26377', '26377', '26377', '26377', '26377', '26377', '26377', '26377', '26377', '26377', '26377', '26377', '26377', '26377', '26377', '26377', '26377', '26377', '26377', '26377', '26377', '26377', '26377', '26377', '26377', '26377', '26377', '26377', '26377', '26377', '26377', '26377', '26377', '26377', '26377', '26377', '26377', '26377', '26377', '26377', '26377', '26377', '26377', '26377', '26377', '26377', '26377', '26377', '26377', '26377', '26377', '26377', '26377', '26377', '26377', '26377', '26377', '26377', '26377', '26377', '26377', '26377', '26377', '26377', '26377', '26377', '26377', '26377', '26377', '26377', '26377', '26377', '26377', '26377', '26377', '26377', '26377', '26377', '26377', '26377', '26377', '26377', '26377', '26377', '26377', '26377', '26377', '26377', '26377', '26377', '26377', '26377', '26377', '26377', '26377', '26377', '26377', '26377', '26377', '26377', '26377', '26377', '26377', '26377', '26377', '26377', '26377', '26377', '26377', '26377', '26377', '26377', '26377', '26377', '26377', '26377', '26377', '26377', '26377', '26377', '26377', '26377', '26377', '26377', '26377', '26377', '26377', '26377', '26377', '26377', '26377', '26377', '26377', '26377', '26377', '26377', '26377', '26377', '26377', '26377', '26377', '26377', '26377', '26377', '26377', '26377', '26377', '26377', '26377', '26377', '26377', '26377', '26377', '26377', '26377', '26377', '26377', '26377', '26377', '26377', '26377', '26377', '26377', '26377', '26377', '26377', '26377', '26377', '26377', '26377', '26377', '26377', '26377', '26377', '26377', '26377', '26377', '26377', '26377', '26377', '26377', '26377', '26377', '26377', '26377', '26377', '26377', '26377', '26377', '26377', '26377', '26377', '26377', '26377', '26377', '26377', '26377', '26377', '26377', '26377', '26377', '26377', '26377', '26377', '26377', '26377', '26377', '26377', '26377', '26377', '26377', '26377', '26377', '26377', '26377', '26377', '26377', '26377', '26377', '26377', '26377', '26377', '26377', '26377', '26377', '26377', '26377', '26377', '26377', '26377', '26377', '26377', '26377', '26377', '26377', '26377', '26377', '26377', '26377', '26377', '26377', '26377', '26377', '26377', '26377', '26377', '26377', '26377', '26377', '26377', '26377', '26377', '26377', '26377', '26377', '26377', '26377', '26377', '26377', '26377', '26377', '26377', '26377', '26377', '26377', '26377', '26377', '26377', '26377', '26377', '26377', '26377', '26377', '26377', '26377', '26377', '26377', '26377', '26377', '26377', '26377', '26377', '26377', '26377', '26377', '26377', '26377', '26377', '26377', '26377', '26377', '26377', '26377', '26377', '26377', '26377', '26377', '26377', '26377', '26377', '26377', '26377', '26377', '26377', '26377', '26377', '26377', '26377', '26377', '26377', '26377', '26377', '26377', '26377', '26377', '26377', '26377', '26377', '26377', '26377', '26377', '26377', '26377', '26377', '26377', '26377', '26377', '26377', '26377', '26377', '26377', '26377', '26377', '26377', '26377', '26377', '26377', '26377', '26377', '26377', '26377', '26377', '26377', '26377', '26377', '26377', '26377', '26377', '26377', '26377', '26377', '26377', '26377', '26377', '26377', '26377', '26377', '26377', '26377', '26377', '26377', '26377', '26377', '26377', '26377', '26377', '26377', '26377', '26377', '26377', '26377', '26377', '26377', '26377', '26377', '26377', '26377', '26377', '26377', '26377', '26377', '26377', '26377', '26377', '26377', '26377', '26377', '26377', '26377', '26377', '26377', '26377', '26377', '26377', '26377', '26377', '26377', '26377', '26377', '26377', '26377', '26377', '26377', '26377', '26377', '26377', '26377', '26377', '26377', '26377', '26377', '26377', '26377', '26377', '26377', '26377', '26377', '26377', '26377', '26377', '26377', '26377', '26377', '26377', '26377', '26377', '26377', '26377', '26377', '26377', '26377', '26377', '26377', '26377', '26377', '26377', '26377', '26377', '26377', '26377', '26377', '26377', '26377', '26377', '26377', '26377', '26377', '26377', '26377', '26377', '26377', '26377', '26377', '26377', '26377', '26377', '26377', '26377', '26377', '26377', '26377', '26377', '26377', '26377', '26377', '26377', '26377', '26377', '26377', '26377', '26377', '26377', '26377', '26377', '26377', '26377', '26377', '26377', '26377', '26377', '26377', '26377', '26377', '26377', '26377', '26377', '26377', '26377', '26377', '26377', '26377', '26377', '26377', '26377', '26377', '26377', '26377', '26377', '26377', '26377', '26377', '26377', '26377', '26377', '26377', '26377', '26377', '26377', '26377', '26377', '26377', '26377', '26377', '26377', '26377', '26377', '26377', '26377', '26377', '26377', '26377', '26377', '26377', '26377', '26377', '26377', '26377', '26377', '26377', '26377', '26377', '26377', '26377', '26377', '26377', '26377', '26377', '26377', '26377', '26377', '26377', '26377', '26377', '26377', '26377', '26377', '26377', '26377', '26377', '26377', '26377', '26377', '26377', '26377', '26377', '26377', '26377', '26377', '26377', '26377', '26377', '26377', '26377', '26377', '26377', '26377', '26377', '26377', '26377', '26377', '26377', '26377', '26377', '26377', '26377', '26377', '26377', '26377', '26377', '26377', '26377', '26377', '26377', '26377', '26377', '26377', '26377', '26377', '26377', '26377', '26377', '26377', '26377', '26377', '26377', '26377', '26377', '26377', '26377', '26377', '26377', '26377', '26377', '26377', '26377', '26377', '26377', '26377', '26377', '26377', '26377', '26377', '26377', '26377', '26377', '26377', '26377', '26377', '26377', '26377', '26377', '26377', '26377', '26377', '26377', '26377', '26377', '26377', '26377', '26377', '26377', '26377', '26377', '26377', '26377', '26377', '26377', '26377', '26377', '26377', '26377', '26377', '26377', '26377', '26377', '26377', '26377', '26377', '26377', '26377', '26377', '26377', '26377', '26377', '26377', '26377', '26377', '26377', '26377', '26377', '26377', '26377', '26377', '26377', '26377', '26377', '26377', '26377', '26377', '26377', '26377', '26377', '26377', '26377', '26377', '26377', '26377', '26377', '26377', '26377', '26377', '26377', '26377', '26377', '26377', '26377', '26377', '26377', '26377', '26377', '26377', '26377', '26377', '26377', '26377', '26377', '26377', '26377', '26377', '26377', '26377', '26377', '26377', '26377', '26377', '26377', '26377', '26377', '26377', '26377', '26377', '26377', '26377', '26377', '26377', '26377', '26377', '26377', '26377', '26377', '26377', '26377', '26377', '26377', '26377', '26377', '26377', '26377', '26377', '26377', '26377', '26377', '26377', '26377', '26377', '26377', '26377', '26377', '26377', '26377', '26377', '26377', '26377', '26377', '26377', '26377', '26377', '26377', '26377', '26377', '26377', '26377', '26377', '26377', '26377', '26377', '26377', '26377', '26377', '26377', '26377', '26377', '26377', '26377', '26377', '26377', '26377', '26377', '26377', '26377', '26377', '26377', '26377', '26377', '26377', '26377', '26377', '26377', '26377', '26377', '26377', '26377', '26377', '26377', '26377', '26377', '26377', '26377', '26377', '26377', '26377', '26377', '26377', '26377', '26377', '26377', '26377', '26377', '26377', '26377', '26377', '26377', '26377', '26377', '26377', '26377', '26377', '26377', '26377', '26377', '26377', '26377', '26377', '26377', '26377', '26377', '26377', '26377', '26377', '26377', '26377', '26377', '26377', '26377', '26377', '26377', '26377', '26377', '26377', '26377', '26377', '26377', '26377', '26377', '26377', '26377', '26377', '26377', '26377', '26377', '26377', '26377', '26377', '26377', '26377', '26377', '26377', '26377', '26377', '26377', '26377', '26377', '26377', '26377', '26377', '26377', '26377', '26377', '26377', '26377', '26377', '26377', '26377', '26377', '26377', '26377', '26377', '26377', '26377', '26377', '26377', '26377', '26377', '26377', '26377', '26377', '26377', '26377', '26377', '26377', '26377', '26377', '26377', '26377', '26377', '26377', '26377', '26377', '26377', '26377', '26377', '26377', '26377', '26377', '26377', '26377', '26377', '26377', '26377', '26377', '26377', '26377', '26377', '26377', '26377', '26377', '26377', '26377', '26377', '26377', '26377', '26377', '26377', '26377', '26377', '26377', '26377', '26377', '26377', '26377', '26377', '26377', '26377', '26377', '26377', '26377', '26377', '26377', '26377', '26377', '26377', '26377', '26377', '26377', '26377', '26377', '26377', '26377', '26377', '26377', '26377', '26377', '26377', '26377', '26377', '26377', '26377', '26377', '26377', '26377', '26377', '26377', '26377', '26377', '26377', '26377', '26377', '26377', '26377', '26377', '26377', '26377', '26377', '26377', '26377', '26377', '26377', '26377', '26377', '26377', '26377', '26377', '26377', '26377', '26377', '26377', '26377', '26377', '26377', '26377', '26377', '26377', '26377', '26377', '26377', '26377', '26377', '26377', '26377', '26377', '26377', '26377', '26377', '26377', '26377', '26377', '26377', '26377', '26377', '26377', '26377', '26377', '26377', '26377', '26377', '26377', '26377', '26377', '26377', '26377', '26377', '26377', '26377', '26377', '26377', '26377', '26377', '26377', '26377', '26377', '26377', '26377', '26377', '26377', '26377', '26377', '26377', '26377', '26377', '26377', '26377', '26377', '26377', '26377', '26377', '26377', '26377', '26377', '26377', '26377', '26377', '26377', '26377', '26377', '26377', '26377', '26377', '26377', '26377', '26377', '26377', '26377', '26377', '26377', '26377', '26377', '26377', '26377', '26377', '26377', '26377', '26377', '26377', '26377', '26377', '26377', '26377', '26377', '26377', '26377', '26377', '26377', '26377', '26377', '26377', '26377', '26377', '26377', '26377', '26377', '26377', '26377', '26377', '26377', '26377', '26377', '26377', '26377', '26377', '26377', '26377', '26377', '26377', '26377', '26377', '26377', '26377', '26377', '26377', '26377', '26377', '26377', '26377', '26377', '26377', '26377', '26377', '26377', '26377', '26377', '26377', '26377', '26377', '26377', '26377', '26377', '26377', '26377', '26377', '26377', '26377', '26377', '26377', '26377', '26377', '26377', '26377', '26377', '26377', '26377', '26377', '26377', '26377', '26377', '26377', '26377', '26377', '26377', '26377', '26377', '26377', '26377', '26377', '26377', '26377', '26377', '26377', '26377', '26377', '26377', '26377', '26377', '26377', '26377', '26377', '26377', '26377', '26377', '26377', '26377', '26377', '26377', '26377', '26377', '26377', '26377', '26377', '26377', '26377', '26377', '26377', '26377', '26377', '26377', '26377', '26377', '26377', '26377', '26377', '26377', '26377', '26377', '26377', '26377', '26377', '26377', '26377', '26377', '26377', '26377', '26377', '26377', '26377', '26377', '26377', '26377', '26377', '26377', '26377', '26377', '26377', '26377', '26377', '26377', '26377', '26377', '26377', '26377', '26377', '26377', '26377', '26377', '26377', '26377', '26377', '26377', '26377', '26377', '26377', '26377', '26377', '26377', '26377', '26377', '26377', '26377', '26377', '26377', '26377', '26377', '26377', '26377', '26377', '26377', '26377', '26377', '26377', '26377', '26377', '26377', '26377', '26377', '26377', '26377', '26377', '26377', '26377', '26377', '26377', '26377', '26377', '26377', '26377', '26377', '26377', '26377', '26377', '26377', '26377', '26377', '26377', '26377', '26377', '26377', '26377', '26377', '26377', '26377', '26377', '26377', '26377', '26377', '26377', '26377', '26377', '26377', '26377', '26377', '26377', '26377', '26377', '26377', '26377', '26377', '26377', '26377', '26377', '26377', '26377', '26377', '26377', '26377', '26377', '26377', '26377', '26377', '26377', '26377', '26377', '26377', '26377', '26377', '26377', '26377', '26377', '26377', '26377', '26377', '26377', '26377', '26377', '26377', '26377', '26377', '26377', '26377', '26377', '26377', '26377', '26377', '26377', '26377', '26377', '26377', '26377', '26377', '26377', '26377', '26377', '26377', '26377', '26377', '26377', '26377', '26377', '26377', '26377', '26377', '26377', '26377', '26377', '26377', '26377', '26377', '26377', '26377', '26377', '26377', '26377', '26377', '26377', '26377', '26377', '26377', '26377', '26377', '26377', '26377', '26377', '26377', '26377', '26377', '26377', '26377', '26377', '26377', '26377', '26377', '26377', '26377', '26377', '26377', '26377', '26377', '26377', '26377', '26377', '26377', '26377', '26377', '26377', '26377', '26377', '26377', '26377', '26377', '26377', '26377', '26377', '26377', '26377', '26377', '26377', '26377', '26377', '26377', '26377', '26377', '26377', '26377', '26377', '26377', '26377', '26377', '26377', '26377', '26377', '26377', '26377', '26377', '26377', '26377', '26377', '26377', '26377', '26377', '26377', '26377', '26377', '26377', '26377', '26377', '26377', '26377', '26377', '26377', '26377', '26377', '26377', '26377', '26377', '26377', '26377', '26377', '26377', '26377', '26377', '26377', '26377', '26377', '26377', '26377', '26377', '26377', '26377', '26377', '26377', '26377', '26377', '26377', '26377', '26377', '26377', '26377', '26377', '26377', '26377', '26377', '26377', '26377', '26377', '26377', '26377', '26377', '26377', '26377', '26377', '26377', '26377', '26377', '26377', '26377', '26377', '26377', '26377', '26377', '26377', '26377', '26377', '26377', '26377', '26377', '26377', '26377', '26377', '26377', '26377', '26377', '26377', '26377', '26377', '26377', '26377', '26377', '26377', '26377', '26377', '26377', '26377', '26377', '26377', '26377', '26377', '26377', '26377', '26377', '26377', '26377', '26377', '26377', '26377', '26377', '26377', '26377', '26377', '26377', '26377', '26377', '26377', '26377', '26377', '26377', '26377', '26377', '26377', '26377', '26377', '26377', '26377', '26377', '26377', '26377', '26377', '26377', '26377', '26377', '26377', '26377', '26377', '26377', '26377', '26377', '26377', '26377', '26377', '26377', '26377', '26377', '26377', '26377', '26377', '26377', '26377', '26377', '26377', '26377', '26377', '26377', '26377', '26377', '26377', '26377', '26377', '26377', '26377', '26377', '26377', '26377', '26377', '26377', '26377', '26377', '26377', '26377', '26377', '26377', '26377', '26377', '26377', '26377', '26377', '26377', '26377', '26377', '26377', '26377', '26377', '26377', '26377', '26377', '26377', '26377', '26377', '26377', '26377', '26377', '26377', '26377', '26377', '26377', '26377', '26377', '26377', '26377', '26377', '26377', '26377', '26377', '26377', '26377', '26377', '26377', '26377', '26377', '26377', '26377', '26377', '26377', '26377', '26377', '26377', '26377', '26377', '26377', '26377', '26377', '26377', '26377', '26377', '26377', '26377', '26377', '26377', '26377', '26377', '26377', '26377', '26377', '26377', '26377', '26377', '26377', '26377', '26377', '26377', '26377', '26377', '26377', '26377', '26377', '26377', '26377', '26377', '26377', '26377', '26377', '26377', '26377', '26377', '26377', '26377', '26377', '26377', '26377', '26377', '26377', '26377', '26377', '26377', '26377', '26377', '26377', '26377', '26377', '26377', '26377', '26377', '26377', '26377', '26377', '26377', '26377', '26377', '26377', '26377', '26377', '26377', '26377', '26377', '26377', '26377', '26377', '26377', '26377', '26377', '26377', '26377', '26377', '26377', '26377', '26377', '26377', '26377', '26377', '26377', '26377', '26377', '26377', '26377', '26377', '26377', '26377', '26377', '26377', '26377', '26377', '26377', '26377', '26377', '26377', '26377', '26377', '26377', '26377', '26377', '26377', '26377', '26377', '26377', '26377', '26377', '26377', '26377', '26377', '26377', '26377', '26377', '26377', '26377', '26377', '26377', '26377', '26377', '26377', '26377', '26377', '26377', '26377', '26377', '26377', '26377', '26377', '26377', '26377', '26377', '26377', '26377', '26377', '26377', '26377', '26377', '26377', '26377', '26377', '26377', '26377', '26377', '26377', '26377', '26377', '26377', '26377', '26377', '26377', '26377', '26377', '26377', '26377', '26377', '26377', '26377', '26377', '26377', '26377', '26377', '26377', '26377', '26377', '26377', '26377', '26377', '26377', '26377', '26377', '26377', '26377', '26377', '26377', '26377', '26377', '26377', '26377', '26377', '26377', '26377', '26377', '26377', '26377', '26377', '26377', '26377', '26377', '26377', '26377', '26377', '26377', '26377', '26377', '26377', '26377', '26377', '26377', '26377', '26377', '26377', '26377', '26377', '26377', '26377', '26377', '26377', '26377', '26377', '26377', '26377', '26377', '26377', '26377', '26377', '26377', '26377', '26377', '26377', '26377', '26377', '26377', '26377', '26377', '26377', '26377', '26377', '26377', '26377', '26377', '26377', '26377', '26377', '26377', '26377', '26377', '26377', '26377', '26377', '26377', '26377', '26377', '26377', '26377', '26377', '26377', '26377', '26377', '26377', '26377', '26377', '26377', '26377', '26377', '26377', '26377', '26377', '26377', '26377', '26377', '26377', '26377', '26377', '26377', '26377', '26377', '26377', '26377', '26377', '26377', '26377', '26377', '26377', '26377', '26377', '26377', '26377', '26377', '26377', '26377', '26377', '26377', '26377', '26377', '26377', '26377', '26377', '26377', '26377', '26377', '26377', '26377', '26377', '26377', '26377', '26377', '26377', '26377', '26377', '26377', '26377', '26377', '26377', '26377', '26377', '26377', '26377', '26377', '26377', '26377', '26377', '26377', '26377', '26377', '26377', '26377', '26377', '26377', '26377', '26377', '26377', '26377', '26377', '26377', '26377', '26377', '26377', '26377', '26377', '26377', '26377', '26377', '26377', '26377', '26377', '26377', '26377', '26377', '26377', '26377', '26377', '26377', '26377', '26377', '26377', '26377', '26377', '26377', '26377', '26377', '26377', '26377', '26377', '26377', '26377', '26377', '26377', '26377', '26377', '26377', '26377', '26377', '26377', '26377', '26377', '26377', '26377', '26377', '26377', '26377', '26377', '26377', '26377', '26377', '26377', '26377', '26377', '26377', '26377', '26377', '26377', '26377', '26377', '26377', '26377', '26377', '26377', '26377', '26377', '26377', '26377', '26377', '26377', '26377', '26377', '26377', '26377', '26377', '26377', '26377', '26377', '26377', '26377', '26377', '26377', '26377', '26377', '26377', '26377', '26377', '26377', '26377', '26377', '26377', '26377', '26377', '26377', '26377', '26377', '26377', '26377', '26377', '26377', '26377', '26377', '26377', '26377', '26377', '26377', '26377', '26377', '26377', '26377', '26377', '26377', '26377', '26377', '26377', '26377', '26377', '26377', '26377', '26377', '26377', '26377', '26377', '26377', '26377', '26377', '26377', '26377', '26377', '26377', '26377', '26377', '26377', '26377', '26377', '26377', '26377', '26377', '26377', '26377', '26377', '26377', '26377', '26377', '26377', '26377', '26377', '26377', '26377', '26377', '26377', '26377', '26377', '26377', '26377', '26377', '26377', '26377', '26377', '26377', '26377', '26377', '26377', '26377', '26377', '26377', '26377', '26377', '26377', '26377', '26377', '26377', '26377', '26377', '26377', '26377', '26377', '26377', '26377', '26377', '26377', '26377', '26377', '26377', '26377', '26377', '26377', '26377', '26377', '26377', '26377', '26377', '26377', '26377', '26377', '26377', '26377', '26377', '26377', '26377', '26377', '26377', '26377', '26377', '26377', '26377', '26377', '26377', '26377', '26377', '26377', '26377', '26377', '26377', '26377', '26377', '26377', '26377', '26377', '26377', '26377', '26377', '26377', '26377', '26377', '26377', '26377', '26377', '26377', '26377', '26377', '26377', '26377', '26377', '26377', '26377', '26377', '26377', '26377', '26377', '26377', '26377', '26377', '26377', '26377', '26377', '26377', '26377', '26377', '26377', '26377', '26377', '26377', '26377', '26377', '26377', '26377', '26377', '26377', '26377', '26377', '26377', '26377', '26377', '26377', '26377', '26377', '26377', '26377', '26377', '26377', '26377', '26377', '26377', '26377', '26377', '26377', '26377', '26377', '26377', '26377', '26377', '26377', '26377', '26377', '26377', '26377', '26377', '26377', '26377', '26377', '26377', '26377', '26377', '26377', '26377', '26377', '26377', '26377', '26377', '26377', '26377', '26377', '26377', '26377', '26377', '26377', '26377', '26377', '26377', '26377', '26377', '26377', '26377', '26377', '26377', '26377', '26377', '26377', '26377', '26377', '26377', '26377', '26377', '26377', '26377', '26377', '26377', '26377', '26377', '26377', '26377', '26377', '26377', '26377', '26377', '26377', '26377', '26377', '26377', '26377', '26377', '26377', '26377', '26377', '26377', '26377', '26377', '26377', '26377', '26377', '26377', '26377', '26377', '26377', '26377', '26377', '26377', '26377', '26377', '26377', '26377', '26377', '26377', '26377', '26377', '26377', '26377', '26377', '26377', '26377', '26377', '26377', '26377', '26377', '26377', '26377', '26377', '26377', '26377', '26377', '26377', '26377', '26377', '26377', '26377', '26377', '26377', '26377', '26377', '26377', '26377', '26377', '26377', '26377', '26377', '26377', '26377', '26377', '26377', '26377', '26377', '26377', '26377', '26377', '26377', '26377', '26377', '26377', '26377', '26377', '26377', '26377', '26377', '26377', '26377', '26377', '26377', '26377', '26377', '26377', '26377', '26377', '26377', '26377', '26377', '26377', '26377', '26377', '26377', '26377', '26377', '26377', '26377', '26377', '26377', '26377', '26377', '26377', '26377', '26377', '26377', '26377', '26377', '26377', '26377', '26377', '26377', '26377', '26377', '26377', '26377', '26377', '26377', '26377', '26377', '26377', '26377', '26377', '26377', '26377', '26377', '26377', '26377', '26377', '26377', '26377', '26377', '26377', '26377', '26377', '26377', '26377', '26377', '26377', '26377', '26377', '26377', '26377', '26377', '26377', '26377', '26377', '26377', '26377', '26377', '26377', '26377', '26377', '26377', '26377', '26377', '26377', '26377', '26377', '26377', '26377', '26377', '26377', '26377', '26377', '26377', '26377', '26377', '26377', '26377', '26377', '26377', '26377', '26377', '26377', '26377', '26377', '26377', '26377', '26377', '26377', '26377', '26377', '26377', '26377', '26377', '26377', '26377', '26377', '26377', '26377', '26377', '26377', '26377', '26377', '26377', '26377', '26377', '26377', '26377', '26377', '26377', '26377', '26377', '26377', '26377', '26377', '26377', '26377', '26377', '26377', '26377', '26377', '26377', '26377', '26377', '26377', '26377', '26377', '26377', '26377', '26377', '26377', '26377', '26377', '26377', '26377', '26377', '26377', '26377', '26377', '26377', '26377', '26377', '26377', '26377', '26377', '26377', '26377', '26377', '26377', '26377', '26377', '26377', '26377', '26377', '26377', '26377', '26377', '26377', '26377', '26377', '26377', '26377', '26377', '26377', '26377', '26377', '26377', '26377', '26377', '26377', '26377', '26377', '26377', '26377', '26377', '26377', '26377', '26377', '26377', '26377', '26377', '26377', '26377', '26377', '26377', '26377', '26377', '26377', '26377', '26377', '26377', '26377', '26377', '26377', '26377', '26377', '26377', '26377', '26377', '26377', '26377', '26377', '26377', '26377', '26377', '26377', '26377', '26377', '26377', '26377', '26377', '26377', '26377', '26377', '26377', '26377', '26377', '26377', '26377', '26377', '26377', '26377', '26377', '26377', '26377', '26377', '26377', '26377', '26377', '26377', '26377', '26377', '26377', '26377', '26377', '26377', '26377', '26377', '26377', '26377', '26377', '26377', '26377', '26377', '26377', '26377', '26377', '26377', '26377', '26377', '26377', '26377', '26377', '26377', '26377', '26377', '26377', '26377', '26377', '26377', '26377', '26377', '26377', '26377', '26377', '26377', '26377', '26377', '26377', '26377', '26377', '26377', '26377', '26377', '26377', '26377', '26377', '26377', '26377', '26377', '26377', '26377', '26377', '26377', '26377', '26377', '26377', '26377', '26377', '26377', '26377', '26377', '26377', '26377', '26377', '26377', '26377', '26377', '26377', '26377', '26377', '26377', '26377', '26377', '26377', '26377', '26377', '26377', '26377', '26377', '26377', '26377', '26377', '26377', '26377', '26377', '26377', '26377', '26377', '26377', '26377', '26377', '26377', '26377', '26377', '26377', '26377', '26377', '26377', '26377', '26377', '26377', '26377', '26377', '26377', '26377', '26377', '26377', '26377', '26377', '26377', '26377', '26377', '26377', '26377', '26377', '26377', '26377', '26377', '26377', '26377', '26377', '26377', '26377', '26377', '26377', '26377', '26377', '26377', '26377', '26377', '26377', '26377', '26377', '26377', '26377', '26377', '26377', '26377', '26377', '26377', '26377', '26377', '26377', '26377', '26377', '26377', '26377', '26377', '26377', '26377', '26377', '26377', '26377', '26377', '26377', '26377', '26377', '26377', '26377', '26377', '26377', '26377', '26377', '26377', '26377', '26377', '26377', '26377', '26377', '26377', '26377', '26377', '26377', '26377', '26377', '26377', '26377', '26377', '26377', '26377', '26377', '26377', '26377', '26377', '26377', '26377', '26377', '26377', '26377', '26377', '26377', '26377', '26377', '26377', '26377', '26377', '26377', '26377', '26377', '26377', '26377', '26377', '26377', '26377', '26377', '26377', '26377', '26377', '26377', '26377', '26377', '26377', '26377', '26377', '26377', '26377', '26377', '26377', '26377', '26377', '26377', '26377', '26377', '26377', '26377', '26377', '26377', '26377', '26377', '26377', '26377', '26377', '26377', '26377', '26377', '26377', '26377', '26377', '26377', '26377', '26377', '26377', '26377', '26377', '26377', '26377', '26377', '26377', '26377', '26377', '26377', '26377', '26377', '26377', '26377', '26377', '26377', '26377', '26377', '26377', '26377', '26377', '26377', '26377', '26377', '26377', '26377', '26377', '26377', '26377', '26377', '26377', '26377', '26377', '26377', '26377', '26377', '26377', '26377', '26377', '26377', '26377', '26377', '26377', '26377', '26377', '26377', '26377', '26377', '26377', '26377', '26377', '26377', '26377', '26377', '26377', '26377', '26377', '26377', '26377', '26377', '26377', '26377', '26377', '26377', '26377', '26377', '26377', '26377', '26377', '26377', '26377', '26377', '26377', '26377', '26377', '26377', '26377', '26377', '26377', '26377', '26377', '26377', '26377', '26377', '26377', '26377', '26377', '26377', '26377', '26377', '26377', '26377', '26377', '26377', '26377', '26377', '26377', '26377', '26377', '26377', '26377', '26377', '26377', '26377', '26377', '26377', '26377', '26377', '26377', '26377', '26377', '26377', '26377', '26377', '26377', '26377', '26377', '26377', '26377', '26377', '26377', '26377', '26377', '26377', '26377', '26377', '26377', '26377', '26377', '26377', '26377', '26377', '26377', '26377', '26377', '26377', '26377', '26377', '26377', '26377', '26377', '26377', '26377', '26377', '26377', '26377', '26377', '26377', '26377', '26377', '26377', '26377', '26377', '26377', '26377', '26377', '26377', '26377', '26377', '26377', '26377', '26377', '26377', '26377', '26377', '26377', '26377', '26377', '26377', '26377', '26377', '26377', '26377', '26377', '26377', '26377', '26377', '26377', '26377', '26377', '26377', '26377', '26377', '26377', '26377', '26377', '26377', '26377', '26377', '26377', '26377', '26377', '26377', '26377', '26377', '26377', '26377', '26377', '26377', '26377', '26377', '26377', '26377', '26377', '26377', '26377', '26377', '26377', '26377', '26377', '26377', '26377', '26377', '26377', '26377', '26377', '26377', '26377', '26377', '26377', '26377', '26377', '26377', '26377', '26377', '26377', '26377', '26377', '26377', '26377', '26377', '26377', '26377', '26377', '26377', '26377', '26377', '26377', '26377', '26377', '26377', '26377', '26377', '26377', '26377', '26377', '26377', '26377', '26377', '26377', '26377', '26377', '26377', '26377', '26377', '26377', '26377', '26377', '26377', '26377', '26377', '26377', '26377', '26377', '26377', '26377', '26377', '26377', '26377', '26377', '26377', '26377', '26377', '26377', '26377', '26377', '26377', '26377', '26377', '26377', '26377', '26377', '26377', '26377', '26377', '26377', '26377', '26377', '26377', '26377', '26377', '26377', '26377', '26377', '26377', '26377', '26377', '26377', '26377', '26377', '26377', '26377', '26377', '26377', '26377', '26377', '26377', '26377', '26377', '26377', '26377', '26377', '26377', '26377', '26377', '26377', '26377', '26377', '26377', '26377', '26377', '26377', '26377', '26377', '26377', '26377', '26377', '26377', '26377', '26377', '26377', '26377', '26377', '26377', '26377', '26377', '26377', '26377', '26377', '26377', '26377', '26377', '26377', '26377', '26377', '26377', '26377', '26377', '26377', '26377', '26377', '26377', '26377', '26377', '26377', '26377', '26377', '26377', '26377', '26377', '26377', '26377', '26377', '26377', '26377', '26377', '26377', '26377', '26377', '26377', '26377', '26377', '26377', '26377', '26377', '26377', '26377', '26377', '26377', '26377', '26377', '26377', '26377', '26377', '26377', '26377', '26377', '26377', '26377', '26377', '26377', '26377', '26377', '26377', '26377', '26377', '26377', '26377', '26377', '26377', '26377', '26377', '26377', '26377', '26377', '26377', '26377', '26377', '26377', '26377', '26377', '26377', '26377', '26377', '26377', '26377', '26377', '26377', '26377', '26377', '26377', '26377', '26377', '26377', '26377', '26377', '26377', '26377', '26377', '26377', '26377', '26377', '26377', '26377', '26377', '26377', '26377', '26377', '26377', '26377', '26377', '26377', '26377', '26377', '26377', '26377', '26377', '26377', '26377', '26377', '26377', '26377', '26377', '26377', '26377', '26377', '26377', '26377', '26377', '26377', '26377', '26377', '26377', '26377', '26377', '26377', '26377', '26377', '26377', '26377', '26377', '26377', '26377', '26377', '26377', '26377', '26377', '26377', '26377', '26377', '26377', '26377', '26377', '26377', '26377', '26377', '26377', '26377', '26377', '26377', '26377', '26377', '26377', '26377', '26377', '26377', '26377', '26377', '26377', '26377', '26377', '26377', '26377', '26377', '26377', '26377', '26377', '26377', '26377', '26377', '26377', '26377', '26377', '26377', '26377', '26377', '26377', '26377', '26377', '26377', '26377', '26377', '26377', '26377', '26377', '26377', '26377', '26377', '26377', '26377', '26377', '26377', '26377', '26377', '26377', '26377', '26377', '26377', '26377', '26377', '26377', '26377', '26377', '26377', '26377', '26377', '26377', '26377', '26377', '26377', '26377', '26377', '26377', '26377', '26377', '26377', '26377', '26377', '26377', '26377', '26377', '26377', '26377', '26377', '26377', '26377', '26377', '26377', '26377', '26377', '26377', '26377', '26377', '26377', '26377', '26377', '26377', '26377', '26377', '26377', '26377', '26377', '26377', '26377', '26377', '26377', '26377', '26377', '26377', '26377', '26377', '26377', '26377', '26377', '26377', '26377', '26377', '26377', '26377', '26377', '26377', '26377', '26377', '26377', '26377', '26377', '26377', '26377', '26377', '26377', '26377', '26377', '26377', '26377', '26377', '26377', '26377', '26377', '26377', '26377', '26377', '26377', '26377', '26377', '26377', '26377', '26377', '26377', '26377', '26377', '26377', '26377', '26377', '26377', '26377', '26377', '26377', '26377', '26377', '26377', '26377', '26377', '26377', '26377', '26377', '26377', '26377', '26377', '26377', '26377', '26377', '26377', '26377', '26377', '26377', '26377', '26377', '26377', '26377', '26377', '26377', '26377', '26377', '26377', '26377', '26377', '26377', '26377', '26377', '26377', '26377', '26377', '26377', '26377', '26377', '26377', '26377', '26377', '26377', '26377', '26377', '26377', '26377', '26377', '26377', '26377', '26377', '26377', '26377', '26377', '26377', '26377', '26377', '26377', '26377', '26377', '26377', '26377', '26377', '26377', '26377', '26377', '26377', '26377', '26377', '26377', '26377', '26377', '26377', '26377', '26377', '26377', '26377', '26377', '26377', '26377', '26377', '26377', '26377', '26377', '26377', '26377', '26377', '26377', '26377', '26377', '26377', '26377', '26377', '26377', '26377', '26377', '26377', '26377', '26377', '26377', '26377', '26377', '26377', '26377', '26377', '26377', '26377', '26377', '26377', '26377', '26377', '26377', '26377', '26377', '26377', '26377', '26377', '26377', '26377', '26377', '26377', '26377', '26377', '26377', '26377', '26377', '26377', '26377', '26377', '26377', '26377', '26377', '26377', '26377', '26377', '26377', '26377', '26377', '26377', '26377', '26377', '26377', '26377', '26377', '26377', '26377', '26377', '26377', '26377', '26377', '26377', '26377', '26377', '26377', '26377', '26377', '26377', '26377', '26377', '26377', '26377', '26377', '26377', '26377', '26377', '26377', '26377', '26377', '26377', '26377', '26377', '26377', '26377', '26377', '26377', '26377', '26377', '26377', '26377', '26377', '26377', '26377', '26377', '26377', '26377', '26377', '26377', '26377', '26377', '26377', '26377', '26377', '26377', '26377', '26377', '26377', '26377', '26377', '26377', '26377', '26377', '26377', '26377', '26377', '26377', '26377', '26377', '26377', '26377', '26377', '26377', '26377', '26377', '26377', '26377', '26377', '26377', '26377', '26377', '26377', '26377', '26377', '26377', '26377', '26377', '26377', '26377', '26377', '26377', '26377', '26377', '26377', '26377', '26377', '26377', '26377', '26377', '26377', '26377', '26377', '26377', '26377', '26377', '26377', '26377', '26377', '26377', '26377', '26377', '26377', '26377', '26377', '26377', '26377', '26377', '26377', '26377', '26377', '26377', '26377', '26377', '26377', '26377', '26377', '26377', '26377', '26377', '26377', '26377', '26377', '26377', '26377', '26377', '26377', '26377', '26377', '26377', '26377', '26377', '26377', '26377', '26377', '26377', '26377', '26377', '26377', '26377', '26377', '26377', '26377', '26377', '26377', '26377', '26377', '26377', '26377', '26377', '26377', '26377', '26377', '26377', '26377', '26377', '26377', '26377', '26377', '26377', '26377', '26377', '26377', '26377', '26377', '26377', '26377', '26377', '26377', '26377', '26377', '26377', '26377', '26377', '26377', '26377', '26377', '26377', '26377', '26377', '26377', '26377', '26377', '26377', '26377', '26377', '26377', '26377', '26377', '26377', '26377', '26377', '26377', '26377', '26377', '26377', '26377', '26377', '26377', '26377', '26377', '26377', '26377', '26377', '26377', '26377', '26377', '26377', '26377', '26377', '26377', '26377', '26377', '26377', '26377', '26377', '26377', '26377', '26377', '26377', '26377', '26377', '26377', '26377', '26377', '26377', '26377', '26377', '26377', '26377', '26377', '26377', '26377', '26377', '26377', '26377', '26377', '26377', '26377', '26377', '26377', '26377', '26377', '26377', '26377', '26377', '26377', '26377', '26377', '26377', '26377', '26377', '26377', '26377', '26377', '26377', '26377', '26377', '26377', '26377', '26377', '26377', '26377', '26377', '26377', '26377', '26377', '26377', '26377', '26377', '26377', '26377', '26377', '26377', '26377', '26377', '26377', '26377', '26377', '26377', '26377', '26377', '26377', '26377', '26377', '26377', '26377', '26377', '26377', '26377', '26377', '26377', '26377', '26377', '26377', '26377', '26377', '26377', '26377', '26377', '26377', '26377', '26377', '26377', '26377', '26377', '26377', '26377', '26377', '26377', '26377', '26377', '26377', '26377', '26377', '26377', '26377', '26377', '26377', '26377', '26377', '26377', '26377', '26377', '26377', '26377', '26377', '26377', '26377', '26377', '26377', '26377', '26377', '26377', '26377', '26377', '26377', '26377', '26377', '26377', '26377', '26377', '26377', '26377', '26377', '26377', '26377', '26377', '26377', '26377', '26377', '26377', '26377', '26377', '26377', '26377', '26377', '26377', '26377', '26377', '26377', '26377', '26377', '26377', '26377', '26377', '26377', '26377', '26377', '26377', '26377', '26377', '26377', '26377', '26377', '26377', '26377', '26377', '26377', '26377', '26377', '26377', '26377', '26377', '26377', '26377', '26377', '26377', '26377', '26377', '26377', '26377', '26377', '26377', '26377', '26377', '26377', '26377', '26377', '26377', '26377', '26377', '26377', '26377', '26377', '26377', '26377', '26377', '26377', '26377', '26377', '26377', '26377', '26377', '26377', '26377', '26377', '26377', '26377', '26377', '26377', '26377', '26377', '26377', '26377', '26377', '26377', '26377', '26377', '26377', '26377', '26377', '26377', '26377', '26377', '26377', '26377', '26377', '26377', '26377', '26377', '26377', '26377', '26377', '26377', '26377', '26377', '26377', '26377', '26377', '26377', '26377', '26377', '26377', '26377', '26377', '26377', '26377', '26377', '26377', '26377', '26377', '26377', '26377', '26377', '26377', '26377', '26377', '26377', '26377', '26377', '26377', '26377', '26377', '26377', '26377', '26377', '26377', '26377', '26377', '26377', '26377', '26377', '26377', '26377', '26377', '26377', '26377', '26377', '26377', '26377', '26377', '26377', '26377', '26377', '26377', '26377', '26377', '26377', '26377', '26377', '26377', '26377', '26377', '26377', '26377', '26377', '26377', '26377', '26377', '26377', '26377', '26377', '26377', '26377', '26377', '26377', '26377', '26377', '26377', '26377', '26377', '26377', '26377', '26377', '26377', '26377', '26377', '26377', '26377', '26377', '26377', '26377', '26377', '26377', '26377', '26377', '26377', '26377', '26377', '26377', '26377', '26377', '26377', '26377', '26377', '26377', '26377', '26377', '26377', '26377', '26377', '26377', '26377', '26377', '26377', '26377', '26377', '26377', '26377', '26377', '26377', '26377', '26377', '26377', '26377', '26377', '26377', '26377', '26377', '26377', '26377', '26377', '26377', '26377', '26377', '26377', '26377', '26377', '26377', '26377', '26377', '26377', '26377', '26377', '26377', '26377', '26377', '26377', '26377', '26377', '26377', '26377', '26377', '26377', '26377', '26377', '26377', '26377', '26377', '26377', '26377', '26377', '26377', '26377', '26377', '26377', '26377', '26377', '26377', '26377', '26377', '26377', '26377', '26377', '26377', '26377', '26377', '26377', '26377', '26377', '26377', '26377', '26377', '26377', '26377', '26377', '26377', '26377', '26377', '26377', '26377', '26377', '26377', '26377', '26377', '26377', '26377', '26377', '26377', '26377', '26377', '26377', '26377', '26377', '26377', '26377', '26377', '26377', '26377', '26377', '26377', '26377', '26377', '26377', '26377', '26377', '26377', '26377', '26377', '26377', '26377', '26377', '26377', '26377', '26377', '26377', '26377', '26377', '26377', '26377', '26377', '26377', '26377', '26377', '26377', '26377', '26377', '26377', '26377', '26377', '26377', '26377', '26377', '26377', '26377', '26377', '26377', '26377', '26377', '26377', '26377', '26377', '26377', '26377', '26377', '26377', '26377', '26377', '26377', '26377', '26377', '26377', '26377', '26377', '26377', '26377', '26377', '26377', '26377', '26377', '26377', '26377', '26377', '26377', '26377', '26377', '26377', '26377', '26377', '26377', '26377', '26377', '26377', '26377', '26377', '26377', '26377', '26377', '26377', '26377', '26377', '26377', '26377', '26377', '26377', '26377', '26377', '26377', '26377', '26377', '26377', '26377', '26377', '26377', '26377', '26377', '26377', '26377', '26377', '26377', '26377', '26377', '26377', '26377', '26377', '26377', '26377', '26377', '26377', '26377', '26377', '26377', '26377', '26377', '26377', '26377', '26377', '26377', '26377', '26377', '26377', '26377', '26377', '26377', '26377', '26377', '26377', '26377', '26377', '26377', '26377', '26377', '26377', '26377', '26377', '26377', '26377', '26377', '26377', '26377', '26377', '26377', '26377', '26377', '26377', '26377', '26377', '26377', '26377', '26377', '26377', '26377', '26377', '26377', '26377', '26377', '26377', '26377', '26377', '26377', '26377', '26377', '26377', '26377', '26377', '26377', '26377', '26377', '26377', '26377', '26377', '26377', '26377', '26377', '26377', '26377', '26377', '26377', '26377', '26377', '26377', '26377', '26377', '26377', '26377', '26377', '26377', '26377', '26377', '26377', '26377', '26377', '26377', '26377', '26377', '26377', '26377', '26377', '26377', '26377', '26377', '26377', '26377', '26377', '26377', '26377', '26377', '26377', '26377', '26377', '26377', '26377', '26377', '26377', '26377', '26377', '26377', '26377', '26377', '26377', '26377', '26377', '26377', '26377', '26377', '26377', '26377', '26377', '26377', '26377', '26377', '26377', '26377', '26377', '26377', '26377', '26377', '26377', '26377', '26377', '26377', '26377', '26377', '26377', '26377', '26377', '26377', '26377', '26377', '26377', '26377', '26377', '26377', '26377', '26377', '26377', '26377', '26377', '26377', '26377', '26377', '26377', '26377', '26377', '26377', '26377', '26377', '26377', '26377', '26377', '26377', '26377', '26377', '26377', '26377', '26377', '26377', '26377', '26377', '26377', '26377', '26377', '26377', '26377', '26377', '26377', '26377', '26377', '26377', '26377', '26377', '26377', '26377', '26377', '26377', '26377', '26377', '26377', '26377', '26377', '26377', '26377', '26377', '26377', '26377', '26377', '26377', '26377', '26377', '26377', '26377', '26377', '26377', '26377', '26377', '26377', '26377', '26377', '26377', '26377', '26377', '26377', '26377', '26377', '26377', '26377', '26377', '26377', '26377', '26377', '26377', '26377', '26377', '26377', '26377', '26377', '26377', '26377', '26377', '26377', '26377', '26377', '26377', '26377', '26377', '26377', '26377', '26377', '26377', '26377', '26377', '26377', '26377', '26377', '26377', '26377', '26377', '26377', '26377', '26377', '26377', '26377', '26377', '26377', '26377', '26377', '26377', '26377', '26377', '26377', '26377', '26377', '26377', '26377', '26377', '26377', '26377', '26377', '26377', '26377', '26377', '26377', '26377', '26377', '26377', '26377', '26377', '26377', '26377', '26377', '26377', '26377', '26377', '26377', '26377', '26377', '26377', '26377', '26377', '26377', '26377', '26377', '26377', '26377', '26377', '26377', '26377', '26377', '26377', '26377', '26377', '26377', '26377', '26377', '26377', '26377', '26377', '26377', '26377', '26377', '26377', '26377', '26377', '26377', '26377', '26377', '26377', '26377', '26377', '26377', '26377', '26377', '26377', '26377', '26377', '26377', '26377', '26377', '26377', '26377', '26377', '26377', '26377', '26377', '26377', '26377', '26377', '26377', '26377', '26377', '26377', '26377', '26377', '26377', '26377', '26377', '26377', '26377', '26377', '26377', '26377', '26377', '26377', '26377', '26377', '26377', '26377', '26377', '26377', '26377', '26377', '26377', '26377', '26377', '26377', '26377', '26377', '26377', '26377', '26377', '26377', '26377', '26377', '26377', '26377', '26377', '26377', '26377', '26377', '26377', '26377', '26377', '26377', '26377', '26377', '26377', '26377', '26377', '26377', '26377', '26377', '26377', '26377', '26377', '26377', '26377', '26377', '26377', '26377', '26377', '26377', '26377', '26377', '26377', '26377', '26377', '26377', '26377', '26377', '26377', '26377', '26377', '26377', '26377', '26377', '26377', '26377', '26377', '26377', '26377', '26377', '26377', '26377', '26377', '26377', '26377', '26377', '26377', '26377', '26377', '26377', '26377', '26377', '26377', '26377', '26377', '26377', '26377', '26377', '26377', '26377', '26377', '26377', '26377', '26377', '26377', '26377', '26377', '26377', '26377', '26377', '26377', '26377', '26377', '26377', '26377', '26377', '26377', '26377', '26377', '26377', '26377', '26377', '26377', '26377', '26377', '26377', '26377', '26377', '26377', '26377', '26377', '26377', '26377', '26377', '26377', '26377', '26377', '26377', '26377', '26377', '26377', '26377', '26377', '26377', '26377', '26377', '26377', '26377', '26377', '26377', '26377', '26377', '26377', '26377', '26377', '26377', '26377', '26377', '26377', '26377', '26377', '26377', '26377', '26377', '26377', '26377', '26377', '26377', '26377', '26377', '26377', '26377', '26377', '26377', '26377', '26377', '26377', '26377', '26377', '26377', '26377', '26377', '26377', '26377', '26377', '26377', '26377', '26377', '26377', '26377', '26377', '26377', '26377', '26377', '26377', '26377', '26377', '26377', '26377', '26377', '26377', '26377', '26377', '26377', '26377', '26377', '26377', '26377', '26377', '26377', '26377', '26377', '26377', '26377', '26377', '26377', '26377', '26377', '26377', '26377', '26377', '26377', '26377', '26377', '26377', '26377', '26377', '26377', '26377', '26377', '26377', '26377', '26377', '26377', '26377', '26377', '26377', '26377', '26377', '26377', '26377', '26377', '26377', '26377', '26377', '26377', '26377', '26377', '26377', '26377', '26377', '26377', '26377', '26377', '26377', '26377', '26377', '26377', '26377', '26377', '26377', '26377', '26377', '26377', '26377', '26377', '26377', '26377', '26377', '26377', '26377', '26377', '26377', '26377', '26377', '26377', '26377', '26377', '26377', '26377', '26377', '26377', '26377', '26377', '26377', '26377', '26377', '26377', '26377', '26377', '26377', '26377', '26377', '26377', '26377', '26377', '26377', '26377', '26377', '26377', '26377', '26377', '26377', '26377', '26377', '26377', '26377', '26377', '26377', '26377', '26377', '26377', '26377', '26377', '26377', '26377', '26377', '26377', '26377', '26377', '26377', '26377', '26377', '26377', '26377', '26377', '26377', '26377', '26377', '26377', '26377', '26377', '26377', '26377', '26377', '26377', '26377', '26377', '26377', '26377', '26377', '26377', '26377', '26377', '26377', '26377', '26377', '26377', '26377', '26377', '26377', '26377', '26377', '26377', '26377', '26377', '26377', '26377', '26377', '26377']]\n"
     ]
    }
   ],
   "source": [
    "bookwords = []\n",
    "#for s in df.summary:\n",
    "#    bookwords.append(list(tokenize(s, lowercase=True)))\n",
    "for i in range(len(df)):\n",
    "    bookwords.append([str(x) for x in df.mapped_titles[i]])\n",
    "    bookwords.append([str(x) for x in df.mapped_inputs[i]])\n",
    "    \n",
    "print(bookwords[:6])"
   ]
  },
  {
   "cell_type": "code",
   "execution_count": 19,
   "metadata": {},
   "outputs": [],
   "source": [
    "del df\n",
    "del train_df\n",
    "del val_df"
   ]
  },
  {
   "cell_type": "markdown",
   "metadata": {},
   "source": [
    "# w2v"
   ]
  },
  {
   "cell_type": "code",
   "execution_count": 20,
   "metadata": {},
   "outputs": [],
   "source": [
    "class Word2VecSimple(nn.Module):\n",
    "    def __init__(self, hid_dim, out_dim, vocab_size, dropout_p=0.5):\n",
    "        super().__init__()\n",
    "        self.name='Word2VecSimplewithtitles'\n",
    "        self.dropout_p=dropout_p\n",
    "        self.nonlinearity='none'\n",
    "        self.w2v_init=True\n",
    "        self.num_layers=0\n",
    "        self.bidirectional=False\n",
    "        self.bimult=1+self.bidirectional\n",
    "\n",
    "        w2vmodel = Word2Vec(bookwords, vector_size=hid_dim, min_count=0)\n",
    "        self.emb = nn.Embedding(vocab_size, hid_dim, padding_idx=-1)\n",
    "\n",
    "        emb_lst = []\n",
    "        for v in range(vocab_size):\n",
    "            emb_lst.append(w2vmodel.wv[str(v)])\n",
    "        \n",
    "        emb_mat = np.array(emb_lst)\n",
    "        self.emb.load_state_dict({'weight': torch.from_numpy(emb_mat)})\n",
    "        self.out_layer=nn.Linear(3*hid_dim, out_dim)\n",
    "        #self.out_layer = nn.Sequential( nn.Linear(3*hid_dim, hid_dim), nn.Dropout(self.dropout_p), nn.Linear(hid_dim, out_dim) )\n",
    "        #self.out_layer=nn.Sequential(nn.Dropout(p=dropout_p),\n",
    "        #                             nn.Linear(5*hid_dim, hid_dim),\n",
    "        #                             nn.Tanh(),\n",
    "        #                             nn.Dropout(p=0.2),\n",
    "        #                             nn.Linear(hid_dim, out_dim)\n",
    "        #                             )\n",
    "\n",
    "    def forward(self, x):\n",
    "        inputs, titles, lengths = x\n",
    "\n",
    "        w2v_output = self.emb(inputs)\n",
    "        w2v_titles = self.emb(titles)\n",
    "        avg_output = w2v_output.mean(dim=1)\n",
    "        #max_output = torch.max(w2v_output, dim=1)[0]\n",
    "        #min_output = torch.min(w2v_output, dim=1)[0]\n",
    "        median_output = torch.median(w2v_output, dim=1)[0]\n",
    "        avg_title = w2v_titles.mean(dim=1)\n",
    "        #avg_output = torch.stack([w2v_output[i, :lengths[i]].mean(dim=0) for i in range(lengths.shape[0])])\n",
    "        #print(f\"w2v_output:{w2v_output.shape}\")\n",
    "        #print(f\"w2v_output:{w2v_output}\")\n",
    "        #print(f\"w2v_titles:{w2v_titles.shape}\")\n",
    "        #print(f\"avg_output:{avg_output.shape}\")\n",
    "        #print(f\"avg_output:{avg_output}\")\n",
    "        #print(f\"avg_title:{avg_title.shape}\")\n",
    "        return self.out_layer(torch.cat((avg_output, avg_title, median_output), dim=1))\n",
    "        #return self.out_layer( 0.9 * avg_output + 0.1 * avg_title )\n",
    "        #return self.out_layer( avg_output )"
   ]
  },
  {
   "cell_type": "code",
   "execution_count": 21,
   "metadata": {},
   "outputs": [],
   "source": [
    "w2v_simple_model = BookGenreClassifier(Word2VecSimple(128, 10, vocab_size=vocab_size, dropout_p=0.5), \n",
    "                             loss=nn.CrossEntropyLoss(),#weight=torch.tensor(label_weights, dtype=torch.float32)),\n",
    "                             lr_dc=0.1,\n",
    "                             lr_dc_step=4,\n",
    "                             )"
   ]
  },
  {
   "cell_type": "code",
   "execution_count": 22,
   "metadata": {},
   "outputs": [
    {
     "name": "stderr",
     "output_type": "stream",
     "text": [
      "GPU available: True (cuda), used: True\n",
      "TPU available: False, using: 0 TPU cores\n",
      "HPU available: False, using: 0 HPUs\n"
     ]
    }
   ],
   "source": [
    "wandb_logger = WandbLogger(\n",
    "        project=\"ecoNLP\", entity=\"kpuchalskixiv\", log_model=False\n",
    "    )\n",
    "\n",
    "trainer=pl.Trainer(max_epochs=50,\n",
    "                   callbacks=[\n",
    "            EarlyStopping(\n",
    "                monitor=\"val_acc\", patience=10, mode=\"max\", check_finite=True, check_on_train_epoch_end=False\n",
    "            ),\n",
    "            LearningRateMonitor(),\n",
    "            ModelCheckpoint(monitor=\"val_acc\", mode=\"max\"),\n",
    "         #   LearningRateFinder(min_lr=1e-4, num_training_steps=1000)\n",
    "            ],\n",
    "            logger=wandb_logger,\n",
    "        )"
   ]
  },
  {
   "cell_type": "code",
   "execution_count": 23,
   "metadata": {},
   "outputs": [
    {
     "name": "stderr",
     "output_type": "stream",
     "text": [
      "\u001b[34m\u001b[1mwandb\u001b[0m: Currently logged in as: \u001b[33mszymonkot1\u001b[0m. Use \u001b[1m`wandb login --relogin`\u001b[0m to force relogin\n"
     ]
    },
    {
     "data": {
      "text/html": [
       "wandb version 0.17.1 is available!  To upgrade, please run:\n",
       " $ pip install wandb --upgrade"
      ],
      "text/plain": [
       "<IPython.core.display.HTML object>"
      ]
     },
     "metadata": {},
     "output_type": "display_data"
    },
    {
     "data": {
      "text/html": [
       "Tracking run with wandb version 0.17.0"
      ],
      "text/plain": [
       "<IPython.core.display.HTML object>"
      ]
     },
     "metadata": {},
     "output_type": "display_data"
    },
    {
     "data": {
      "text/html": [
       "Run data is saved locally in <code>./wandb/run-20240617_135426-b7zrnpk9</code>"
      ],
      "text/plain": [
       "<IPython.core.display.HTML object>"
      ]
     },
     "metadata": {},
     "output_type": "display_data"
    },
    {
     "data": {
      "text/html": [
       "Syncing run <strong><a href='https://wandb.ai/kpuchalskixiv/ecoNLP/runs/b7zrnpk9' target=\"_blank\">visionary-darkness-131</a></strong> to <a href='https://wandb.ai/kpuchalskixiv/ecoNLP' target=\"_blank\">Weights & Biases</a> (<a href='https://wandb.me/run' target=\"_blank\">docs</a>)<br/>"
      ],
      "text/plain": [
       "<IPython.core.display.HTML object>"
      ]
     },
     "metadata": {},
     "output_type": "display_data"
    },
    {
     "data": {
      "text/html": [
       " View project at <a href='https://wandb.ai/kpuchalskixiv/ecoNLP' target=\"_blank\">https://wandb.ai/kpuchalskixiv/ecoNLP</a>"
      ],
      "text/plain": [
       "<IPython.core.display.HTML object>"
      ]
     },
     "metadata": {},
     "output_type": "display_data"
    },
    {
     "data": {
      "text/html": [
       " View run at <a href='https://wandb.ai/kpuchalskixiv/ecoNLP/runs/b7zrnpk9' target=\"_blank\">https://wandb.ai/kpuchalskixiv/ecoNLP/runs/b7zrnpk9</a>"
      ],
      "text/plain": [
       "<IPython.core.display.HTML object>"
      ]
     },
     "metadata": {},
     "output_type": "display_data"
    },
    {
     "name": "stderr",
     "output_type": "stream",
     "text": [
      "LOCAL_RANK: 0 - CUDA_VISIBLE_DEVICES: [0]\n",
      "\n",
      "  | Name  | Type             | Params | Mode \n",
      "---------------------------------------------------\n",
      "0 | loss  | CrossEntropyLoss | 0      | train\n",
      "1 | model | Word2VecSimple   | 3.4 M  | train\n",
      "---------------------------------------------------\n",
      "3.4 M     Trainable params\n",
      "0         Non-trainable params\n",
      "3.4 M     Total params\n",
      "13.521    Total estimated model params size (MB)\n"
     ]
    },
    {
     "data": {
      "application/vnd.jupyter.widget-view+json": {
       "model_id": "",
       "version_major": 2,
       "version_minor": 0
      },
      "text/plain": [
       "Sanity Checking: |                                                            | 0/? [00:00<?, ?it/s]"
      ]
     },
     "metadata": {},
     "output_type": "display_data"
    },
    {
     "data": {
      "application/vnd.jupyter.widget-view+json": {
       "model_id": "2cd3f43cd9ce4ad680f98707e1aa486d",
       "version_major": 2,
       "version_minor": 0
      },
      "text/plain": [
       "Training: |                                                                   | 0/? [00:00<?, ?it/s]"
      ]
     },
     "metadata": {},
     "output_type": "display_data"
    },
    {
     "data": {
      "application/vnd.jupyter.widget-view+json": {
       "model_id": "",
       "version_major": 2,
       "version_minor": 0
      },
      "text/plain": [
       "Validation: |                                                                 | 0/? [00:00<?, ?it/s]"
      ]
     },
     "metadata": {},
     "output_type": "display_data"
    },
    {
     "data": {
      "application/vnd.jupyter.widget-view+json": {
       "model_id": "",
       "version_major": 2,
       "version_minor": 0
      },
      "text/plain": [
       "Validation: |                                                                 | 0/? [00:00<?, ?it/s]"
      ]
     },
     "metadata": {},
     "output_type": "display_data"
    },
    {
     "data": {
      "application/vnd.jupyter.widget-view+json": {
       "model_id": "",
       "version_major": 2,
       "version_minor": 0
      },
      "text/plain": [
       "Validation: |                                                                 | 0/? [00:00<?, ?it/s]"
      ]
     },
     "metadata": {},
     "output_type": "display_data"
    },
    {
     "data": {
      "application/vnd.jupyter.widget-view+json": {
       "model_id": "",
       "version_major": 2,
       "version_minor": 0
      },
      "text/plain": [
       "Validation: |                                                                 | 0/? [00:00<?, ?it/s]"
      ]
     },
     "metadata": {},
     "output_type": "display_data"
    },
    {
     "data": {
      "application/vnd.jupyter.widget-view+json": {
       "model_id": "",
       "version_major": 2,
       "version_minor": 0
      },
      "text/plain": [
       "Validation: |                                                                 | 0/? [00:00<?, ?it/s]"
      ]
     },
     "metadata": {},
     "output_type": "display_data"
    },
    {
     "data": {
      "application/vnd.jupyter.widget-view+json": {
       "model_id": "",
       "version_major": 2,
       "version_minor": 0
      },
      "text/plain": [
       "Validation: |                                                                 | 0/? [00:00<?, ?it/s]"
      ]
     },
     "metadata": {},
     "output_type": "display_data"
    },
    {
     "data": {
      "application/vnd.jupyter.widget-view+json": {
       "model_id": "",
       "version_major": 2,
       "version_minor": 0
      },
      "text/plain": [
       "Validation: |                                                                 | 0/? [00:00<?, ?it/s]"
      ]
     },
     "metadata": {},
     "output_type": "display_data"
    },
    {
     "data": {
      "application/vnd.jupyter.widget-view+json": {
       "model_id": "",
       "version_major": 2,
       "version_minor": 0
      },
      "text/plain": [
       "Validation: |                                                                 | 0/? [00:00<?, ?it/s]"
      ]
     },
     "metadata": {},
     "output_type": "display_data"
    },
    {
     "data": {
      "application/vnd.jupyter.widget-view+json": {
       "model_id": "",
       "version_major": 2,
       "version_minor": 0
      },
      "text/plain": [
       "Validation: |                                                                 | 0/? [00:00<?, ?it/s]"
      ]
     },
     "metadata": {},
     "output_type": "display_data"
    },
    {
     "data": {
      "application/vnd.jupyter.widget-view+json": {
       "model_id": "",
       "version_major": 2,
       "version_minor": 0
      },
      "text/plain": [
       "Validation: |                                                                 | 0/? [00:00<?, ?it/s]"
      ]
     },
     "metadata": {},
     "output_type": "display_data"
    },
    {
     "data": {
      "application/vnd.jupyter.widget-view+json": {
       "model_id": "",
       "version_major": 2,
       "version_minor": 0
      },
      "text/plain": [
       "Validation: |                                                                 | 0/? [00:00<?, ?it/s]"
      ]
     },
     "metadata": {},
     "output_type": "display_data"
    },
    {
     "data": {
      "application/vnd.jupyter.widget-view+json": {
       "model_id": "",
       "version_major": 2,
       "version_minor": 0
      },
      "text/plain": [
       "Validation: |                                                                 | 0/? [00:00<?, ?it/s]"
      ]
     },
     "metadata": {},
     "output_type": "display_data"
    },
    {
     "data": {
      "application/vnd.jupyter.widget-view+json": {
       "model_id": "",
       "version_major": 2,
       "version_minor": 0
      },
      "text/plain": [
       "Validation: |                                                                 | 0/? [00:00<?, ?it/s]"
      ]
     },
     "metadata": {},
     "output_type": "display_data"
    },
    {
     "data": {
      "application/vnd.jupyter.widget-view+json": {
       "model_id": "",
       "version_major": 2,
       "version_minor": 0
      },
      "text/plain": [
       "Validation: |                                                                 | 0/? [00:00<?, ?it/s]"
      ]
     },
     "metadata": {},
     "output_type": "display_data"
    },
    {
     "data": {
      "application/vnd.jupyter.widget-view+json": {
       "model_id": "",
       "version_major": 2,
       "version_minor": 0
      },
      "text/plain": [
       "VBox(children=(Label(value='0.003 MB of 0.003 MB uploaded\\r'), FloatProgress(value=1.0, max=1.0)))"
      ]
     },
     "metadata": {},
     "output_type": "display_data"
    },
    {
     "data": {
      "text/html": [
       "<style>\n",
       "    table.wandb td:nth-child(1) { padding: 0 10px; text-align: left ; width: auto;} td:nth-child(2) {text-align: left ; width: 100%}\n",
       "    .wandb-row { display: flex; flex-direction: row; flex-wrap: wrap; justify-content: flex-start; width: 100% }\n",
       "    .wandb-col { display: flex; flex-direction: column; flex-basis: 100%; flex: 1; padding: 10px; }\n",
       "    </style>\n",
       "<div class=\"wandb-row\"><div class=\"wandb-col\"><h3>Run history:</h3><br/><table class=\"wandb\"><tr><td>epoch</td><td>▁▁▁▂▂▂▂▂▃▃▃▃▃▃▃▄▄▄▄▄▅▅▅▅▅▅▆▆▆▆▆▆▇▇▇▇▇▇██</td></tr><tr><td>scheduler_lr</td><td>██████▂▂▂▂▂▂▁▁</td></tr><tr><td>train_loss</td><td>▇▇█▆▇▆▆▅▅▆▄▅▅▃▃▃▄▃▃▂▁▂▃▂▂▁▄▃▂▂▃▁▃▁▂▂</td></tr><tr><td>trainer/global_step</td><td>▁▁▁▂▂▂▂▂▂▃▃▃▃▃▃▄▄▄▄▄▅▅▅▅▅▅▆▆▆▆▆▇▇▇▇▇▇▇██</td></tr><tr><td>val_acc</td><td>▁▅▆█▇▆▆▅▅▆▅▅▅▅</td></tr><tr><td>val_loss</td><td>█▆▃▁▁▂▃▃▃▃▄▄▄▄</td></tr></table><br/></div><div class=\"wandb-col\"><h3>Run summary:</h3><br/><table class=\"wandb\"><tr><td>epoch</td><td>13</td></tr><tr><td>scheduler_lr</td><td>0.0001</td></tr><tr><td>train_loss</td><td>0.87498</td></tr><tr><td>trainer/global_step</td><td>1833</td></tr><tr><td>val_acc</td><td>30.25751</td></tr><tr><td>val_loss</td><td>1.8997</td></tr></table><br/></div></div>"
      ],
      "text/plain": [
       "<IPython.core.display.HTML object>"
      ]
     },
     "metadata": {},
     "output_type": "display_data"
    },
    {
     "data": {
      "text/html": [
       " View run <strong style=\"color:#cdcd00\">visionary-darkness-131</strong> at: <a href='https://wandb.ai/kpuchalskixiv/ecoNLP/runs/b7zrnpk9' target=\"_blank\">https://wandb.ai/kpuchalskixiv/ecoNLP/runs/b7zrnpk9</a><br/> View project at: <a href='https://wandb.ai/kpuchalskixiv/ecoNLP' target=\"_blank\">https://wandb.ai/kpuchalskixiv/ecoNLP</a><br/>Synced 5 W&B file(s), 0 media file(s), 0 artifact file(s) and 0 other file(s)"
      ],
      "text/plain": [
       "<IPython.core.display.HTML object>"
      ]
     },
     "metadata": {},
     "output_type": "display_data"
    },
    {
     "data": {
      "text/html": [
       "Find logs at: <code>./wandb/run-20240617_135426-b7zrnpk9/logs</code>"
      ],
      "text/plain": [
       "<IPython.core.display.HTML object>"
      ]
     },
     "metadata": {},
     "output_type": "display_data"
    }
   ],
   "source": [
    "trainer.fit(w2v_simple_model, train_dataloader, val_dataloader)\n",
    "wandb.finish()"
   ]
  },
  {
   "cell_type": "markdown",
   "metadata": {},
   "source": [
    "# RNN"
   ]
  },
  {
   "cell_type": "code",
   "execution_count": 45,
   "metadata": {},
   "outputs": [],
   "source": [
    "class SimpleRNN(nn.Module):\n",
    "    def __init__(self, hid_dim, out_dim, vocab_size, dropout_p=0, nonlinearity='tanh', w2v_init=False):\n",
    "        super().__init__()\n",
    "        self.name='SimpleRNN'\n",
    "        self.dropout_p=dropout_p\n",
    "        self.nonlinearity=nonlinearity\n",
    "        self.w2v_init=w2v_init\n",
    "        # last token states 'end of string' and is repeated multiple time at the end of an input\n",
    "        # therefore set its embedding to 0 with padding_idx=-1\n",
    "        self.emb=nn.Embedding(vocab_size, hid_dim, padding_idx=-1) \n",
    "        if w2v_init:\n",
    "            w2vmodel = Word2Vec(bookwords, vector_size=hid_dim, min_count=0)\n",
    "            emb_lst = []\n",
    "            for v in range(vocab_size):\n",
    "                emb_lst.append(w2vmodel.wv[str(v)])\n",
    "            emb_mat = np.array(emb_lst)\n",
    "            self.emb.load_state_dict({'weight': torch.from_numpy(emb_mat)})\n",
    "            \n",
    "        self.model=nn.RNN(input_size=hid_dim, \n",
    "                          hidden_size=hid_dim, \n",
    "                          batch_first=True, \n",
    "                          dropout=dropout_p,\n",
    "                         # bidirectional=True,\n",
    "                          nonlinearity=nonlinearity)\n",
    "        self.out_layer= nn.Linear(hid_dim, out_dim)\n",
    "        #nn.Sequential(nn.Dropout(p=dropout_p),\n",
    "         #                            nn.Linear(hid_dim, hid_dim),\n",
    "          #                           nn.LeakyReLU(),\n",
    "           #                          nn.Dropout(p=0.2),\n",
    "            #                         nn.Linear(hid_dim, out_dim)\n",
    "             #                        )\n",
    "\n",
    "    def forward(self, x):\n",
    "        inputs, att_mask=x\n",
    "        rnn_input=self.emb(inputs)\n",
    "        h0 = torch.randn(1, rnn_input.shape[0], rnn_input.shape[-1], device=rnn_input.device)\n",
    "        hstates, hn = self.model(rnn_input, h0)\n",
    "       # print(h_states.shape)\n",
    "        hn[0]=torch.stack([hstates[e, int(i)-1] for e,i in enumerate(att_mask.sum(axis=1))])\n",
    "        hn=hn.view(inputs.shape[0], -1)\n",
    "        #use last hidden state as sequence representation\n",
    "     #   hn=hn.squeeze()\n",
    "        return self.out_layer(hn)"
   ]
  },
  {
   "cell_type": "code",
   "execution_count": 46,
   "metadata": {},
   "outputs": [
    {
     "name": "stderr",
     "output_type": "stream",
     "text": [
      "/home/kacper/anaconda3/envs/gpu_torch/lib/python3.12/site-packages/torch/nn/modules/rnn.py:83: UserWarning: dropout option adds dropout after all but last recurrent layer, so non-zero dropout expects num_layers greater than 1, but got dropout=0.5 and num_layers=1\n",
      "  warnings.warn(\"dropout option adds dropout after all but last \"\n"
     ]
    }
   ],
   "source": [
    "rnn_model=BookGenreClassifier(SimpleRNN(32, 10, vocab_size=vocab_size,\n",
    "                                        nonlinearity='tanh',\n",
    "                                        dropout_p=0.5,\n",
    "                                        w2v_init=True,\n",
    "                                        ), \n",
    "                             loss=nn.CrossEntropyLoss(),#weight=torch.tensor(label_weights, dtype=torch.float32),\n",
    "                             lr=1e-3,\n",
    "                             lr_dc=0.5,\n",
    "                             lr_dc_step=4,\n",
    "                             )"
   ]
  },
  {
   "cell_type": "code",
   "execution_count": 47,
   "metadata": {},
   "outputs": [],
   "source": [
    "wandb_logger = WandbLogger(\n",
    "        project=\"ecoNLP\", entity=\"kpuchalskixiv\", log_model=True\n",
    "    )"
   ]
  },
  {
   "cell_type": "code",
   "execution_count": 48,
   "metadata": {},
   "outputs": [
    {
     "name": "stderr",
     "output_type": "stream",
     "text": [
      "GPU available: True (cuda), used: True\n",
      "TPU available: False, using: 0 TPU cores\n",
      "IPU available: False, using: 0 IPUs\n",
      "HPU available: False, using: 0 HPUs\n"
     ]
    }
   ],
   "source": [
    "trainer=pl.Trainer(max_epochs=20,\n",
    "                   callbacks=[\n",
    "            EarlyStopping(\n",
    "                monitor=\"val_acc\", patience=10, mode=\"max\", check_finite=True, check_on_train_epoch_end=False\n",
    "            ),\n",
    "            LearningRateMonitor(),\n",
    "            ModelCheckpoint(monitor=\"val_acc\", mode=\"max\"),\n",
    "         #   LearningRateFinder(min_lr=1e-4, num_training_steps=1000)\n",
    "            ],\n",
    "            logger=wandb_logger,\n",
    "        )"
   ]
  },
  {
   "cell_type": "code",
   "execution_count": 49,
   "metadata": {},
   "outputs": [
    {
     "data": {
      "text/html": [
       "wandb version 0.17.1 is available!  To upgrade, please run:\n",
       " $ pip install wandb --upgrade"
      ],
      "text/plain": [
       "<IPython.core.display.HTML object>"
      ]
     },
     "metadata": {},
     "output_type": "display_data"
    },
    {
     "data": {
      "text/html": [
       "Tracking run with wandb version 0.16.3"
      ],
      "text/plain": [
       "<IPython.core.display.HTML object>"
      ]
     },
     "metadata": {},
     "output_type": "display_data"
    },
    {
     "data": {
      "text/html": [
       "Run data is saved locally in <code>./wandb/run-20240616_192615-ggibuo4k</code>"
      ],
      "text/plain": [
       "<IPython.core.display.HTML object>"
      ]
     },
     "metadata": {},
     "output_type": "display_data"
    },
    {
     "data": {
      "text/html": [
       "Syncing run <strong><a href='https://wandb.ai/kpuchalskixiv/ecoNLP/runs/ggibuo4k' target=\"_blank\">different-frog-47</a></strong> to <a href='https://wandb.ai/kpuchalskixiv/ecoNLP' target=\"_blank\">Weights & Biases</a> (<a href='https://wandb.me/run' target=\"_blank\">docs</a>)<br/>"
      ],
      "text/plain": [
       "<IPython.core.display.HTML object>"
      ]
     },
     "metadata": {},
     "output_type": "display_data"
    },
    {
     "data": {
      "text/html": [
       " View project at <a href='https://wandb.ai/kpuchalskixiv/ecoNLP' target=\"_blank\">https://wandb.ai/kpuchalskixiv/ecoNLP</a>"
      ],
      "text/plain": [
       "<IPython.core.display.HTML object>"
      ]
     },
     "metadata": {},
     "output_type": "display_data"
    },
    {
     "data": {
      "text/html": [
       " View run at <a href='https://wandb.ai/kpuchalskixiv/ecoNLP/runs/ggibuo4k' target=\"_blank\">https://wandb.ai/kpuchalskixiv/ecoNLP/runs/ggibuo4k</a>"
      ],
      "text/plain": [
       "<IPython.core.display.HTML object>"
      ]
     },
     "metadata": {},
     "output_type": "display_data"
    },
    {
     "name": "stderr",
     "output_type": "stream",
     "text": [
      "LOCAL_RANK: 0 - CUDA_VISIBLE_DEVICES: [0]\n",
      "\n",
      "  | Name  | Type             | Params\n",
      "-------------------------------------------\n",
      "0 | loss  | CrossEntropyLoss | 0     \n",
      "1 | model | SimpleRNN        | 1.2 M \n",
      "-------------------------------------------\n",
      "1.2 M     Trainable params\n",
      "0         Non-trainable params\n",
      "1.2 M     Total params\n",
      "4.660     Total estimated model params size (MB)\n"
     ]
    },
    {
     "name": "stdout",
     "output_type": "stream",
     "text": [
      "Epoch 19: 100%|██████████| 130/130 [00:05<00:00, 22.49it/s, v_num=uo4k, train_loss=0.897, val_loss=2.350, val_acc=25.30]"
     ]
    },
    {
     "name": "stderr",
     "output_type": "stream",
     "text": [
      "`Trainer.fit` stopped: `max_epochs=20` reached.\n"
     ]
    },
    {
     "name": "stdout",
     "output_type": "stream",
     "text": [
      "Epoch 19: 100%|██████████| 130/130 [00:05<00:00, 22.48it/s, v_num=uo4k, train_loss=0.897, val_loss=2.350, val_acc=25.30]\n"
     ]
    },
    {
     "name": "stderr",
     "output_type": "stream",
     "text": [
      "wandb: WARNING Source type is set to 'repo' but some required information is missing from the environment. A job will not be created from this run. See https://docs.wandb.ai/guides/launch/create-job\n"
     ]
    },
    {
     "data": {
      "text/html": [
       "<style>\n",
       "    table.wandb td:nth-child(1) { padding: 0 10px; text-align: left ; width: auto;} td:nth-child(2) {text-align: left ; width: 100%}\n",
       "    .wandb-row { display: flex; flex-direction: row; flex-wrap: wrap; justify-content: flex-start; width: 100% }\n",
       "    .wandb-col { display: flex; flex-direction: column; flex-basis: 100%; flex: 1; padding: 10px; }\n",
       "    </style>\n",
       "<div class=\"wandb-row\"><div class=\"wandb-col\"><h3>Run history:</h3><br/><table class=\"wandb\"><tr><td>epoch</td><td>▁▁▁▁▂▂▂▂▂▂▃▃▃▃▄▄▄▄▄▄▅▅▅▅▅▅▆▆▆▆▇▇▇▇▇▇████</td></tr><tr><td>scheduler_lr</td><td>████████████▃▃▃▃▃▃▁▁</td></tr><tr><td>train_loss</td><td>█▇▇█▇█▇▇▇▇▆▇▆▆▆▇▆▆▅▅▃▅▄▄▄▃▃▃▃▄▄▂▃▂▁▁▂▂▂▂</td></tr><tr><td>trainer/global_step</td><td>▁▁▁▂▂▂▂▂▂▃▃▃▃▃▃▄▄▄▄▄▅▅▅▅▅▆▆▆▆▆▆▇▇▇▇▇▇███</td></tr><tr><td>val_acc</td><td>▁▃▄▁▃▄▅▅▆▆▄▆▅▆█▇▆▄▆▄</td></tr><tr><td>val_loss</td><td>▂▁▁▁▁▁▁▁▁▂▃▃▄▅▆▆▇▇██</td></tr></table><br/></div><div class=\"wandb-col\"><h3>Run summary:</h3><br/><table class=\"wandb\"><tr><td>epoch</td><td>19</td></tr><tr><td>scheduler_lr</td><td>0.00025</td></tr><tr><td>train_loss</td><td>0.89707</td></tr><tr><td>trainer/global_step</td><td>2599</td></tr><tr><td>val_acc</td><td>25.32189</td></tr><tr><td>val_loss</td><td>2.35457</td></tr></table><br/></div></div>"
      ],
      "text/plain": [
       "<IPython.core.display.HTML object>"
      ]
     },
     "metadata": {},
     "output_type": "display_data"
    },
    {
     "data": {
      "text/html": [
       " View run <strong style=\"color:#cdcd00\">different-frog-47</strong> at: <a href='https://wandb.ai/kpuchalskixiv/ecoNLP/runs/ggibuo4k' target=\"_blank\">https://wandb.ai/kpuchalskixiv/ecoNLP/runs/ggibuo4k</a><br/>Synced 6 W&B file(s), 0 media file(s), 1 artifact file(s) and 0 other file(s)"
      ],
      "text/plain": [
       "<IPython.core.display.HTML object>"
      ]
     },
     "metadata": {},
     "output_type": "display_data"
    },
    {
     "data": {
      "text/html": [
       "Find logs at: <code>./wandb/run-20240616_192615-ggibuo4k/logs</code>"
      ],
      "text/plain": [
       "<IPython.core.display.HTML object>"
      ]
     },
     "metadata": {},
     "output_type": "display_data"
    }
   ],
   "source": [
    "trainer.fit(rnn_model, train_dataloader, val_dataloader)\n",
    "wandb.finish()"
   ]
  },
  {
   "cell_type": "code",
   "execution_count": 24,
   "metadata": {},
   "outputs": [
    {
     "name": "stderr",
     "output_type": "stream",
     "text": [
      "wandb: WARNING Source type is set to 'repo' but some required information is missing from the environment. A job will not be created from this run. See https://docs.wandb.ai/guides/launch/create-job\n"
     ]
    },
    {
     "data": {
      "text/html": [
       "<style>\n",
       "    table.wandb td:nth-child(1) { padding: 0 10px; text-align: left ; width: auto;} td:nth-child(2) {text-align: left ; width: 100%}\n",
       "    .wandb-row { display: flex; flex-direction: row; flex-wrap: wrap; justify-content: flex-start; width: 100% }\n",
       "    .wandb-col { display: flex; flex-direction: column; flex-basis: 100%; flex: 1; padding: 10px; }\n",
       "    </style>\n",
       "<div class=\"wandb-row\"><div class=\"wandb-col\"><h3>Run history:</h3><br/><table class=\"wandb\"><tr><td>epoch</td><td>▁▁▁▂▂▂▃▃▃▄▄▄▅▅▆▆▆▁▁▂▂▂▃▃▃▃▄▄▅▅▅▆▆▆▆▇▇███</td></tr><tr><td>scheduler_lr</td><td>███████▄▄▄▄▄▄▂▂▂▂▂▂▂▂▂▂▂▁▁▁▁▁▁▁</td></tr><tr><td>train_loss</td><td>█▇▇███▇▇▆▆▆▆▆▅▅▄▅█▇███▇▆▅▇▄▄▃▄▃▂▂▂▂▂▁▁▂▁</td></tr><tr><td>trainer/global_step</td><td>▁▁▂▂▂▂▃▃▃▄▄▄▅▅▅▆▆▁▁▂▂▂▂▃▃▄▄▄▄▅▅▅▆▆▆▇▇▇██</td></tr><tr><td>val_acc</td><td>▂▄▄▂▃▃▁▂▃▄▃▄▃▂▆▄▄▆▇▆█▅▆▆▄▅▅▄▄▃▃</td></tr><tr><td>val_loss</td><td>▁▁▁▁▁▁▂▂▂▃▃▃▄▁▁▁▁▁▁▁▂▃▄▄▅▆▆▆▇▇█</td></tr></table><br/></div><div class=\"wandb-col\"><h3>Run summary:</h3><br/><table class=\"wandb\"><tr><td>epoch</td><td>17</td></tr><tr><td>scheduler_lr</td><td>0.00025</td></tr><tr><td>train_loss</td><td>0.14059</td></tr><tr><td>trainer/global_step</td><td>2339</td></tr><tr><td>val_acc</td><td>22.103</td></tr><tr><td>val_loss</td><td>4.35297</td></tr></table><br/></div></div>"
      ],
      "text/plain": [
       "<IPython.core.display.HTML object>"
      ]
     },
     "metadata": {},
     "output_type": "display_data"
    },
    {
     "data": {
      "text/html": [
       " View run <strong style=\"color:#cdcd00\">divine-frost-41</strong> at: <a href='https://wandb.ai/kpuchalskixiv/ecoNLP/runs/1tthcp5y' target=\"_blank\">https://wandb.ai/kpuchalskixiv/ecoNLP/runs/1tthcp5y</a><br/>Synced 6 W&B file(s), 0 media file(s), 2 artifact file(s) and 0 other file(s)"
      ],
      "text/plain": [
       "<IPython.core.display.HTML object>"
      ]
     },
     "metadata": {},
     "output_type": "display_data"
    },
    {
     "data": {
      "text/html": [
       "Find logs at: <code>./wandb/run-20240616_190118-1tthcp5y/logs</code>"
      ],
      "text/plain": [
       "<IPython.core.display.HTML object>"
      ]
     },
     "metadata": {},
     "output_type": "display_data"
    }
   ],
   "source": [
    "wandb.finish()"
   ]
  },
  {
   "cell_type": "markdown",
   "metadata": {},
   "source": [
    "# LSTM"
   ]
  },
  {
   "cell_type": "code",
   "execution_count": 80,
   "metadata": {},
   "outputs": [],
   "source": [
    "class SimpleLSTM(nn.Module):\n",
    "    def __init__(self, hid_dim, out_dim, vocab_size, dropout_p=0, nonlinearity='none', w2v_init=False, num_layers=1, bidirectional=False):\n",
    "        super().__init__()\n",
    "        self.name='SimpleLSTM'\n",
    "        self.dropout_p=dropout_p\n",
    "        self.nonlinearity=nonlinearity\n",
    "        self.w2v_init=w2v_init\n",
    "        self.num_layers=num_layers\n",
    "        self.bidirectional=bidirectional\n",
    "        self.bimult=1+bidirectional\n",
    "        # last token states 'end of string' and is repeated multiple time at the end of an input\n",
    "        # therefore set its embedding to 0 with padding_idx=-1\n",
    "        self.emb=nn.Embedding(vocab_size, hid_dim, padding_idx=-1) \n",
    "        if w2v_init:\n",
    "            w2vmodel = Word2Vec(bookwords, vector_size=hid_dim, min_count=0)\n",
    "            emb_lst = []\n",
    "            for v in range(vocab_size):\n",
    "                emb_lst.append(w2vmodel.wv[str(v)])\n",
    "            emb_mat = np.array(emb_lst)\n",
    "            self.emb.load_state_dict({'weight': torch.from_numpy(emb_mat)})\n",
    "\n",
    "        self.model=nn.LSTM(input_size=hid_dim, \n",
    "                           hidden_size=hid_dim, \n",
    "                           batch_first=True, \n",
    "                           dropout=dropout_p, \n",
    "                           num_layers=num_layers,\n",
    "                           bidirectional=bidirectional)\n",
    "      #  self.out_layer=nn.Linear(self.bimult*num_layers*hid_dim, out_dim)\n",
    "        self.out_layer=nn.Sequential(nn.Dropout(p=dropout_p),\n",
    "                                     nn.Linear(self.bimult*num_layers*hid_dim+hid_dim, hid_dim),\n",
    "                                     nn.Tanh(),\n",
    "                                     nn.Dropout(p=0.2),\n",
    "                                     nn.Linear(hid_dim, out_dim)\n",
    "                                     )\n",
    "\n",
    "    def forward(self, x):\n",
    "        inputs, lengths=x\n",
    "        rnn_input=self.emb(inputs)\n",
    "\n",
    "     #   avg_emb = torch.stack([rnn_input[i, :lengths[i]].mean(dim=0) for i in range(lengths.shape[0])])\n",
    "\n",
    "        h0 = torch.randn(self.bimult*self.num_layers, rnn_input.shape[0], rnn_input.shape[-1], device=rnn_input.device)\n",
    "        c0 = torch.randn(self.bimult*self.num_layers, rnn_input.shape[0], rnn_input.shape[-1], device=rnn_input.device)\n",
    "\n",
    "        rnn_input=pack_padded_sequence(rnn_input,lengths.to('cpu').to(int), batch_first=True, enforce_sorted=False)\n",
    "        hstates, (hn, _) = self.model(rnn_input, (h0, c0))\n",
    "        padded_hstates, lengths=[x.to(inputs.device) for x in pad_packed_sequence(hstates, batch_first=True)]\n",
    "        hstates_avg=padded_hstates.sum(dim=1).div(lengths.float().unsqueeze(dim=1))\n",
    "        #return hstates\n",
    "       # print(h_states.shape)\n",
    "    #    hn[0]=torch.stack([hstates[e, int(i)-1] for e,i in enumerate(lengths)])\n",
    "        hn=hn.view(inputs.shape[0], -1)\n",
    "       # hn=hn.squeeze()\n",
    "       #return self.out_layer(hn)\n",
    "        return self.out_layer(torch.concat([hstates_avg, hn], dim=1))"
   ]
  },
  {
   "cell_type": "code",
   "execution_count": 83,
   "metadata": {},
   "outputs": [
    {
     "name": "stderr",
     "output_type": "stream",
     "text": [
      "/home/kacper/anaconda3/envs/gpu_torch/lib/python3.12/site-packages/torch/nn/modules/rnn.py:83: UserWarning: dropout option adds dropout after all but last recurrent layer, so non-zero dropout expects num_layers greater than 1, but got dropout=0.5 and num_layers=1\n",
      "  warnings.warn(\"dropout option adds dropout after all but last \"\n"
     ]
    }
   ],
   "source": [
    "lstm_model=BookGenreClassifier(SimpleLSTM(256, 10, vocab_size=vocab_size,\n",
    "                                       # nonlinearity='tanh',\n",
    "                                        dropout_p=0.5,\n",
    "                                        w2v_init=True,\n",
    "                                        num_layers=1,\n",
    "                                        ), \n",
    "                             loss=nn.CrossEntropyLoss(),#weight=torch.tensor(label_weights, dtype=torch.float32)),\n",
    "                             lr=1e-4,\n",
    "                             lr_dc=0.5,\n",
    "                             lr_dc_step=4,\n",
    "                             )"
   ]
  },
  {
   "cell_type": "code",
   "execution_count": 84,
   "metadata": {},
   "outputs": [],
   "source": [
    "wandb_logger = WandbLogger(\n",
    "        project=\"ecoNLP\", entity=\"kpuchalskixiv\", log_model=False\n",
    "    )"
   ]
  },
  {
   "cell_type": "code",
   "execution_count": 85,
   "metadata": {},
   "outputs": [
    {
     "name": "stderr",
     "output_type": "stream",
     "text": [
      "GPU available: True (cuda), used: True\n",
      "TPU available: False, using: 0 TPU cores\n",
      "IPU available: False, using: 0 IPUs\n",
      "HPU available: False, using: 0 HPUs\n"
     ]
    }
   ],
   "source": [
    "trainer=pl.Trainer(max_epochs=50,\n",
    "                   callbacks=[\n",
    "            EarlyStopping(\n",
    "                monitor=\"val_acc\", patience=10, mode=\"max\", check_finite=True, check_on_train_epoch_end=False\n",
    "            ),\n",
    "            LearningRateMonitor(),\n",
    "            ModelCheckpoint(monitor=\"val_acc\", mode=\"max\"),\n",
    "          #  LearningRateFinder(num_training_steps=1000)\n",
    "            ],\n",
    "            logger=wandb_logger,\n",
    "        )"
   ]
  },
  {
   "cell_type": "code",
   "execution_count": 86,
   "metadata": {},
   "outputs": [
    {
     "data": {
      "text/html": [
       "wandb version 0.17.1 is available!  To upgrade, please run:\n",
       " $ pip install wandb --upgrade"
      ],
      "text/plain": [
       "<IPython.core.display.HTML object>"
      ]
     },
     "metadata": {},
     "output_type": "display_data"
    },
    {
     "data": {
      "text/html": [
       "Tracking run with wandb version 0.16.3"
      ],
      "text/plain": [
       "<IPython.core.display.HTML object>"
      ]
     },
     "metadata": {},
     "output_type": "display_data"
    },
    {
     "data": {
      "text/html": [
       "Run data is saved locally in <code>./wandb/run-20240617_010734-2pgkq94r</code>"
      ],
      "text/plain": [
       "<IPython.core.display.HTML object>"
      ]
     },
     "metadata": {},
     "output_type": "display_data"
    },
    {
     "data": {
      "text/html": [
       "Syncing run <strong><a href='https://wandb.ai/kpuchalskixiv/ecoNLP/runs/2pgkq94r' target=\"_blank\">ethereal-oath-86</a></strong> to <a href='https://wandb.ai/kpuchalskixiv/ecoNLP' target=\"_blank\">Weights & Biases</a> (<a href='https://wandb.me/run' target=\"_blank\">docs</a>)<br/>"
      ],
      "text/plain": [
       "<IPython.core.display.HTML object>"
      ]
     },
     "metadata": {},
     "output_type": "display_data"
    },
    {
     "data": {
      "text/html": [
       " View project at <a href='https://wandb.ai/kpuchalskixiv/ecoNLP' target=\"_blank\">https://wandb.ai/kpuchalskixiv/ecoNLP</a>"
      ],
      "text/plain": [
       "<IPython.core.display.HTML object>"
      ]
     },
     "metadata": {},
     "output_type": "display_data"
    },
    {
     "data": {
      "text/html": [
       " View run at <a href='https://wandb.ai/kpuchalskixiv/ecoNLP/runs/2pgkq94r' target=\"_blank\">https://wandb.ai/kpuchalskixiv/ecoNLP/runs/2pgkq94r</a>"
      ],
      "text/plain": [
       "<IPython.core.display.HTML object>"
      ]
     },
     "metadata": {},
     "output_type": "display_data"
    },
    {
     "name": "stderr",
     "output_type": "stream",
     "text": [
      "LOCAL_RANK: 0 - CUDA_VISIBLE_DEVICES: [0]\n",
      "\n",
      "  | Name  | Type             | Params\n",
      "-------------------------------------------\n",
      "0 | loss  | CrossEntropyLoss | 0     \n",
      "1 | model | SimpleLSTM       | 7.4 M \n",
      "-------------------------------------------\n",
      "7.4 M     Trainable params\n",
      "0         Non-trainable params\n",
      "7.4 M     Total params\n",
      "29.578    Total estimated model params size (MB)\n"
     ]
    },
    {
     "name": "stdout",
     "output_type": "stream",
     "text": [
      "Epoch 25: 100%|██████████| 130/130 [00:18<00:00,  7.01it/s, v_num=q94r, train_loss=1.290, val_loss=1.470, val_acc=43.80]\n"
     ]
    },
    {
     "name": "stderr",
     "output_type": "stream",
     "text": [
      "wandb: WARNING Source type is set to 'repo' but some required information is missing from the environment. A job will not be created from this run. See https://docs.wandb.ai/guides/launch/create-job\n"
     ]
    },
    {
     "data": {
      "text/html": [
       "<style>\n",
       "    table.wandb td:nth-child(1) { padding: 0 10px; text-align: left ; width: auto;} td:nth-child(2) {text-align: left ; width: 100%}\n",
       "    .wandb-row { display: flex; flex-direction: row; flex-wrap: wrap; justify-content: flex-start; width: 100% }\n",
       "    .wandb-col { display: flex; flex-direction: column; flex-basis: 100%; flex: 1; padding: 10px; }\n",
       "    </style>\n",
       "<div class=\"wandb-row\"><div class=\"wandb-col\"><h3>Run history:</h3><br/><table class=\"wandb\"><tr><td>epoch</td><td>▁▁▁▂▂▂▂▂▂▃▃▃▃▃▄▄▄▄▄▄▅▅▅▅▅▅▆▆▆▆▆▇▇▇▇▇▇███</td></tr><tr><td>scheduler_lr</td><td>██████▄▄▄▄▄▄▂▂▂▂▂▂▁▁▁▁▁▁▁▁</td></tr><tr><td>train_loss</td><td>█▇▇▇▇▅▇█▄▅▇▃▃▅▃▄▅▄▆▂▂▄▅▃▆▃▄▁▃▃▁▄▂▄▄▃▁▃▃▃</td></tr><tr><td>trainer/global_step</td><td>▁▁▁▂▂▂▂▂▂▃▃▃▃▃▃▄▄▄▄▄▅▅▅▅▅▅▆▆▆▆▆▆▇▇▇▇▇███</td></tr><tr><td>val_acc</td><td>▁▃▄▄▅▅▆▆▆▇▇▆▆▇██▇▇▇▇▇▇████</td></tr><tr><td>val_loss</td><td>█▇▅▅▄▃▃▃▂▂▂▁▂▂▂▁▁▂▁▂▁▁▁▁▁▁</td></tr></table><br/></div><div class=\"wandb-col\"><h3>Run summary:</h3><br/><table class=\"wandb\"><tr><td>epoch</td><td>25</td></tr><tr><td>scheduler_lr</td><td>1e-05</td></tr><tr><td>train_loss</td><td>1.28331</td></tr><tr><td>trainer/global_step</td><td>3379</td></tr><tr><td>val_acc</td><td>43.77682</td></tr><tr><td>val_loss</td><td>1.47321</td></tr></table><br/></div></div>"
      ],
      "text/plain": [
       "<IPython.core.display.HTML object>"
      ]
     },
     "metadata": {},
     "output_type": "display_data"
    },
    {
     "data": {
      "text/html": [
       " View run <strong style=\"color:#cdcd00\">ethereal-oath-86</strong> at: <a href='https://wandb.ai/kpuchalskixiv/ecoNLP/runs/2pgkq94r' target=\"_blank\">https://wandb.ai/kpuchalskixiv/ecoNLP/runs/2pgkq94r</a><br/>Synced 6 W&B file(s), 0 media file(s), 0 artifact file(s) and 0 other file(s)"
      ],
      "text/plain": [
       "<IPython.core.display.HTML object>"
      ]
     },
     "metadata": {},
     "output_type": "display_data"
    },
    {
     "data": {
      "text/html": [
       "Find logs at: <code>./wandb/run-20240617_010734-2pgkq94r/logs</code>"
      ],
      "text/plain": [
       "<IPython.core.display.HTML object>"
      ]
     },
     "metadata": {},
     "output_type": "display_data"
    }
   ],
   "source": [
    "trainer.fit(lstm_model, train_dataloader, val_dataloader)\n",
    "wandb.finish()"
   ]
  },
  {
   "cell_type": "code",
   "execution_count": 50,
   "metadata": {},
   "outputs": [
    {
     "name": "stderr",
     "output_type": "stream",
     "text": [
      "wandb: WARNING Source type is set to 'repo' but some required information is missing from the environment. A job will not be created from this run. See https://docs.wandb.ai/guides/launch/create-job\n"
     ]
    },
    {
     "data": {
      "text/html": [
       " View run <strong style=\"color:#cdcd00\">deep-jazz-60</strong> at: <a href='https://wandb.ai/kpuchalskixiv/ecoNLP/runs/8jy266yv' target=\"_blank\">https://wandb.ai/kpuchalskixiv/ecoNLP/runs/8jy266yv</a><br/>Synced 6 W&B file(s), 0 media file(s), 0 artifact file(s) and 0 other file(s)"
      ],
      "text/plain": [
       "<IPython.core.display.HTML object>"
      ]
     },
     "metadata": {},
     "output_type": "display_data"
    },
    {
     "data": {
      "text/html": [
       "Find logs at: <code>./wandb/run-20240616_212924-8jy266yv/logs</code>"
      ],
      "text/plain": [
       "<IPython.core.display.HTML object>"
      ]
     },
     "metadata": {},
     "output_type": "display_data"
    }
   ],
   "source": [
    "wandb.finish()"
   ]
  },
  {
   "cell_type": "markdown",
   "metadata": {},
   "source": [
    "# Simple Transformer"
   ]
  },
  {
   "cell_type": "code",
   "execution_count": 17,
   "metadata": {},
   "outputs": [],
   "source": [
    "class TransformerModel(nn.Module):\n",
    "    def __init__(self, hid_dim, out_dim, vocab_size, dropout_p=0, nonlinearity='none', w2v_init=False, num_layers=1, bidirectional=False,\n",
    "                 nheads=8,):\n",
    "        super().__init__()\n",
    "        self.name='SimpleTransformer'\n",
    "        self.dropout_p=dropout_p\n",
    "        self.nonlinearity=nonlinearity\n",
    "        self.w2v_init=w2v_init\n",
    "        self.num_layers=num_layers\n",
    "        self.bidirectional=bidirectional\n",
    "        self.nheads=nheads\n",
    "        # last token states 'end of string' and is repeated multiple time at the end of an input\n",
    "        # therefore set its embedding to 0 with padding_idx=-1\n",
    "        self.emb=nn.Embedding(vocab_size, hid_dim, padding_idx=-1) \n",
    "        if w2v_init:\n",
    "            w2vmodel = Word2Vec(bookwords, vector_size=hid_dim, min_count=0)\n",
    "            emb_lst = []\n",
    "            for v in range(vocab_size):\n",
    "                emb_lst.append(w2vmodel.wv[str(v)])\n",
    "            emb_mat = np.array(emb_lst)\n",
    "            self.emb.load_state_dict({'weight': torch.from_numpy(emb_mat)})\n",
    "\n",
    "        t_layer= nn.TransformerEncoderLayer(d_model=hid_dim, nhead=nheads, batch_first=True, dropout=dropout_p)\n",
    "        self.model= nn.TransformerEncoder(t_layer, num_layers=num_layers)\n",
    "      #  self.out_layer=nn.Linear(self.bimult*num_layers*hid_dim, out_dim)\n",
    "        self.out_layer=nn.Sequential(nn.Dropout(p=dropout_p),\n",
    "                                     nn.Linear(hid_dim+hid_dim, hid_dim),\n",
    "                                     nn.Tanh(),\n",
    "                                     nn.Dropout(p=0.2),\n",
    "                                     nn.Linear(hid_dim, out_dim)\n",
    "                                     )\n",
    "        \n",
    "    def forward(self, x):\n",
    "        inputs, lengths=x\n",
    "        max_len=min(512, torch.max(lengths))\n",
    "        t_input=self.emb(inputs[:, :max_len])\n",
    "\n",
    "        hstates=self.model(t_input)\n",
    "        hstates_avg=hstates.sum(dim=1).div(lengths.float().unsqueeze(dim=1))\n",
    "        hn=hstates[:,-1]\n",
    "\n",
    "        return self.out_layer(torch.concat([hstates_avg, hn], dim=1))"
   ]
  },
  {
   "cell_type": "code",
   "execution_count": 18,
   "metadata": {},
   "outputs": [],
   "source": [
    "lstm_model=BookGenreClassifier(TransformerModel(256, 10, vocab_size=vocab_size,\n",
    "                                       # nonlinearity='tanh',\n",
    "                                        dropout_p=0.5,\n",
    "                                        w2v_init=True,\n",
    "                                        num_layers=2,\n",
    "                                        ), \n",
    "                             loss=nn.CrossEntropyLoss(),#weight=torch.tensor(label_weights, dtype=torch.float32)),\n",
    "                             lr=1e-4,\n",
    "                             lr_dc=0.5,\n",
    "                             lr_dc_step=4,\n",
    "                             )"
   ]
  },
  {
   "cell_type": "code",
   "execution_count": 19,
   "metadata": {},
   "outputs": [],
   "source": [
    "wandb_logger = WandbLogger(\n",
    "        project=\"ecoNLP\", entity=\"kpuchalskixiv\", log_model=False\n",
    "    )"
   ]
  },
  {
   "cell_type": "code",
   "execution_count": 20,
   "metadata": {},
   "outputs": [
    {
     "name": "stderr",
     "output_type": "stream",
     "text": [
      "GPU available: True (cuda), used: True\n",
      "TPU available: False, using: 0 TPU cores\n",
      "IPU available: False, using: 0 IPUs\n",
      "HPU available: False, using: 0 HPUs\n"
     ]
    }
   ],
   "source": [
    "trainer=pl.Trainer(max_epochs=50,\n",
    "                   callbacks=[\n",
    "            EarlyStopping(\n",
    "                monitor=\"val_acc\", patience=10, mode=\"max\", check_finite=True, check_on_train_epoch_end=False\n",
    "            ),\n",
    "            LearningRateMonitor(),\n",
    "            ModelCheckpoint(monitor=\"val_acc\", mode=\"max\"),\n",
    "          #  LearningRateFinder(num_training_steps=1000)\n",
    "            ],\n",
    "            logger=wandb_logger,\n",
    "        )"
   ]
  },
  {
   "cell_type": "code",
   "execution_count": 21,
   "metadata": {},
   "outputs": [
    {
     "name": "stderr",
     "output_type": "stream",
     "text": [
      "Failed to detect the name of this notebook, you can set it manually with the WANDB_NOTEBOOK_NAME environment variable to enable code saving.\n",
      "\u001b[34m\u001b[1mwandb\u001b[0m: Currently logged in as: \u001b[33mkpuchalskixiv\u001b[0m. Use \u001b[1m`wandb login --relogin`\u001b[0m to force relogin\n"
     ]
    },
    {
     "data": {
      "text/html": [
       "wandb version 0.17.1 is available!  To upgrade, please run:\n",
       " $ pip install wandb --upgrade"
      ],
      "text/plain": [
       "<IPython.core.display.HTML object>"
      ]
     },
     "metadata": {},
     "output_type": "display_data"
    },
    {
     "data": {
      "text/html": [
       "Tracking run with wandb version 0.16.3"
      ],
      "text/plain": [
       "<IPython.core.display.HTML object>"
      ]
     },
     "metadata": {},
     "output_type": "display_data"
    },
    {
     "data": {
      "text/html": [
       "Run data is saved locally in <code>./wandb/run-20240617_013412-20vphev7</code>"
      ],
      "text/plain": [
       "<IPython.core.display.HTML object>"
      ]
     },
     "metadata": {},
     "output_type": "display_data"
    },
    {
     "data": {
      "text/html": [
       "Syncing run <strong><a href='https://wandb.ai/kpuchalskixiv/ecoNLP/runs/20vphev7' target=\"_blank\">chocolate-paper-88</a></strong> to <a href='https://wandb.ai/kpuchalskixiv/ecoNLP' target=\"_blank\">Weights & Biases</a> (<a href='https://wandb.me/run' target=\"_blank\">docs</a>)<br/>"
      ],
      "text/plain": [
       "<IPython.core.display.HTML object>"
      ]
     },
     "metadata": {},
     "output_type": "display_data"
    },
    {
     "data": {
      "text/html": [
       " View project at <a href='https://wandb.ai/kpuchalskixiv/ecoNLP' target=\"_blank\">https://wandb.ai/kpuchalskixiv/ecoNLP</a>"
      ],
      "text/plain": [
       "<IPython.core.display.HTML object>"
      ]
     },
     "metadata": {},
     "output_type": "display_data"
    },
    {
     "data": {
      "text/html": [
       " View run at <a href='https://wandb.ai/kpuchalskixiv/ecoNLP/runs/20vphev7' target=\"_blank\">https://wandb.ai/kpuchalskixiv/ecoNLP/runs/20vphev7</a>"
      ],
      "text/plain": [
       "<IPython.core.display.HTML object>"
      ]
     },
     "metadata": {},
     "output_type": "display_data"
    },
    {
     "name": "stderr",
     "output_type": "stream",
     "text": [
      "LOCAL_RANK: 0 - CUDA_VISIBLE_DEVICES: [0]\n",
      "\n",
      "  | Name  | Type             | Params\n",
      "-------------------------------------------\n",
      "0 | loss  | CrossEntropyLoss | 0     \n",
      "1 | model | TransformerModel | 9.5 M \n",
      "-------------------------------------------\n",
      "9.5 M     Trainable params\n",
      "0         Non-trainable params\n",
      "9.5 M     Total params\n",
      "37.994    Total estimated model params size (MB)\n"
     ]
    },
    {
     "name": "stdout",
     "output_type": "stream",
     "text": [
      "Epoch 4:  30%|███       | 39/130 [00:04<00:10,  8.72it/s, v_num=hev7, train_loss=1.510, val_loss=1.760, val_acc=31.50] "
     ]
    }
   ],
   "source": [
    "trainer.fit(lstm_model, train_dataloader, val_dataloader)\n",
    "wandb.finish()"
   ]
  }
 ],
 "metadata": {
  "kernelspec": {
   "display_name": "Python 3 (ipykernel)",
   "language": "python",
   "name": "python3"
  },
  "language_info": {
   "codemirror_mode": {
    "name": "ipython",
    "version": 3
   },
   "file_extension": ".py",
   "mimetype": "text/x-python",
   "name": "python",
   "nbconvert_exporter": "python",
   "pygments_lexer": "ipython3",
   "version": "3.12.3"
  }
 },
 "nbformat": 4,
 "nbformat_minor": 4
}
